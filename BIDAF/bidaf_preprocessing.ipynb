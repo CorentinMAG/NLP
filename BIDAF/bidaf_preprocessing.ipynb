{
  "nbformat": 4,
  "nbformat_minor": 0,
  "metadata": {
    "colab": {
      "name": "bidaf_preprocessing.ipynb",
      "provenance": [],
      "collapsed_sections": [],
      "mount_file_id": "1q6JJXsQvZONqiS4NEslvgYcg-tXfMUcf",
      "authorship_tag": "ABX9TyNsHQpQwqVWqbY6932LTBPj",
      "include_colab_link": true
    },
    "kernelspec": {
      "name": "python3",
      "display_name": "Python 3"
    }
  },
  "cells": [
    {
      "cell_type": "markdown",
      "metadata": {
        "id": "view-in-github",
        "colab_type": "text"
      },
      "source": [
        "<a href=\"https://colab.research.google.com/github/CorentinMAG/NLP/blob/main/BIDAF/bidaf_preprocessing.ipynb\" target=\"_parent\"><img src=\"https://colab.research.google.com/assets/colab-badge.svg\" alt=\"Open In Colab\"/></a>"
      ]
    },
    {
      "cell_type": "markdown",
      "metadata": {
        "id": "VrXpyz2vZhs1"
      },
      "source": [
        "In order to run this notebook, the first things you should do are :\r\n",
        "* pip install pandas numpy tensorflow nltk gensim sklearn\r\n",
        "* modify the `SQUAD_PATH` variable (path to squad file)\r\n",
        "* modify all others paths (where to save datasets, tokenizers...)\r\n",
        "\r\n"
      ]
    },
    {
      "cell_type": "code",
      "metadata": {
        "colab": {
          "base_uri": "https://localhost:8080/"
        },
        "id": "hETK3Axg43yB",
        "outputId": "69633036-dab6-483e-a66e-b21745b0bbd1"
      },
      "source": [
        "import json\r\n",
        "import os\r\n",
        "import pandas as pd\r\n",
        "import numpy as np\r\n",
        "import tensorflow as tf\r\n",
        "import nltk\r\n",
        "from nltk import word_tokenize\r\n",
        "nltk.download('punkt')\r\n",
        "import gensim.downloader as gloader\r\n",
        "from sklearn.model_selection import train_test_split\r\n",
        "import re\r\n",
        "import pickle\r\n",
        "import tensorflow as tf"
      ],
      "execution_count": 1,
      "outputs": [
        {
          "output_type": "stream",
          "text": [
            "[nltk_data] Downloading package punkt to /root/nltk_data...\n",
            "[nltk_data]   Unzipping tokenizers/punkt.zip.\n"
          ],
          "name": "stdout"
        }
      ]
    },
    {
      "cell_type": "code",
      "metadata": {
        "id": "VqLS5R574tdD"
      },
      "source": [
        "EMBEDDING_SIZE = 300\r\n",
        "SQUAD_PATH = os.path.join(os.getcwd(), 'drive/MyDrive/NLP/BIDAF/utils/data/training_set.json')\r\n",
        "\r\n",
        "def load_dataset(path, record_path = ['data', 'paragraphs', 'qas', 'answers'], verbose = True, with_answer = True):\r\n",
        "\r\n",
        "  \"\"\"\r\n",
        "  parse the SQUAD dataset into a dataframe\r\n",
        "  \"\"\"\r\n",
        "\r\n",
        "  if verbose:\r\n",
        "      print(\"Reading the json file\")\r\n",
        "  # if the file encoding is not UTF8 an exception should be raised    \r\n",
        "  file = json.loads(open(path).read())\r\n",
        "\r\n",
        "  if verbose:\r\n",
        "      print(\"[INFO] processing...\")\r\n",
        "\r\n",
        "  # parsing different level's in the json file\r\n",
        "  if with_answer:\r\n",
        "    js = pd.json_normalize(file , record_path )\r\n",
        "  m = pd.json_normalize(file, record_path[:-1] )\r\n",
        "  r = pd.json_normalize(file, record_path[:-2])\r\n",
        "  title = pd.json_normalize(file['data'], record_path = ['paragraphs'], meta = 'title')\r\n",
        "  t = pd.json_normalize(file, record_path[0])\r\n",
        "\r\n",
        "  #combining it into single dataframe\r\n",
        "  contexts = np.repeat(r['context'].values, r['qas'].str.len())\r\n",
        "  m['context'] = contexts\r\n",
        "  m['title'] = np.repeat(title['title'].values, r['qas'].str.len())\r\n",
        "  m['c_id'] = m['context'].factorize()[0]\r\n",
        "  m = m.drop(['answers'], axis = 1)\r\n",
        "\r\n",
        "  if with_answer:\r\n",
        "    main = js.merge(m, left_index = True, right_index = True)\r\n",
        "  else:\r\n",
        "    main = m\r\n",
        "  if verbose:\r\n",
        "      print(f\"[INFO] there are {main.shape[0]} questions with single answer\")\r\n",
        "      print(f\"[INFO] there are {main.groupby('c_id').sum().shape[0]} different contexts\")\r\n",
        "      print(f\"[INFO] there are {len(t)} unrelated subjects\")\r\n",
        "      print(\"[INFO] Done\")\r\n",
        "  return main\r\n",
        "\r\n",
        "def download_glove_model(embedding_dimension = 50):\r\n",
        "\r\n",
        "  \"\"\"\r\n",
        "  download glove model\r\n",
        "  \"\"\"\r\n",
        "\r\n",
        "  download_path = \"glove-wiki-gigaword-{}\".format(embedding_dimension)\r\n",
        "  try:\r\n",
        "    print('[INFO] downloading glove {}'.format(embedding_dimension))\r\n",
        "    emb_model = gloader.load(download_path)\r\n",
        "    print('[INFO] done !')\r\n",
        "  except ValueError as e:\r\n",
        "      print(\"Glove: 50, 100, 200, 300\")\r\n",
        "      raise e\r\n",
        "  return emb_model"
      ],
      "execution_count": 2,
      "outputs": []
    },
    {
      "cell_type": "code",
      "metadata": {
        "colab": {
          "base_uri": "https://localhost:8080/"
        },
        "id": "2virMOF85A8W",
        "outputId": "0b56ed21-c3a9-43b2-d471-35a6405b5390"
      },
      "source": [
        "squad_dataset = load_dataset(SQUAD_PATH)"
      ],
      "execution_count": 3,
      "outputs": [
        {
          "output_type": "stream",
          "text": [
            "Reading the json file\n",
            "[INFO] processing...\n",
            "[INFO] there are 87599 questions with single answer\n",
            "[INFO] there are 18891 different contexts\n",
            "[INFO] there are 442 unrelated subjects\n",
            "[INFO] Done\n"
          ],
          "name": "stdout"
        }
      ]
    },
    {
      "cell_type": "code",
      "metadata": {
        "colab": {
          "base_uri": "https://localhost:8080/",
          "height": 293
        },
        "id": "lzHPUWA45dzO",
        "outputId": "8e73a3f3-36d5-49b9-fd17-1356072813eb"
      },
      "source": [
        "squad_dataset.head()"
      ],
      "execution_count": 4,
      "outputs": [
        {
          "output_type": "execute_result",
          "data": {
            "text/html": [
              "<div>\n",
              "<style scoped>\n",
              "    .dataframe tbody tr th:only-of-type {\n",
              "        vertical-align: middle;\n",
              "    }\n",
              "\n",
              "    .dataframe tbody tr th {\n",
              "        vertical-align: top;\n",
              "    }\n",
              "\n",
              "    .dataframe thead th {\n",
              "        text-align: right;\n",
              "    }\n",
              "</style>\n",
              "<table border=\"1\" class=\"dataframe\">\n",
              "  <thead>\n",
              "    <tr style=\"text-align: right;\">\n",
              "      <th></th>\n",
              "      <th>answer_start</th>\n",
              "      <th>text</th>\n",
              "      <th>question</th>\n",
              "      <th>id</th>\n",
              "      <th>context</th>\n",
              "      <th>title</th>\n",
              "      <th>c_id</th>\n",
              "    </tr>\n",
              "  </thead>\n",
              "  <tbody>\n",
              "    <tr>\n",
              "      <th>0</th>\n",
              "      <td>515</td>\n",
              "      <td>Saint Bernadette Soubirous</td>\n",
              "      <td>To whom did the Virgin Mary allegedly appear i...</td>\n",
              "      <td>5733be284776f41900661182</td>\n",
              "      <td>Architecturally, the school has a Catholic cha...</td>\n",
              "      <td>University_of_Notre_Dame</td>\n",
              "      <td>0</td>\n",
              "    </tr>\n",
              "    <tr>\n",
              "      <th>1</th>\n",
              "      <td>188</td>\n",
              "      <td>a copper statue of Christ</td>\n",
              "      <td>What is in front of the Notre Dame Main Building?</td>\n",
              "      <td>5733be284776f4190066117f</td>\n",
              "      <td>Architecturally, the school has a Catholic cha...</td>\n",
              "      <td>University_of_Notre_Dame</td>\n",
              "      <td>0</td>\n",
              "    </tr>\n",
              "    <tr>\n",
              "      <th>2</th>\n",
              "      <td>279</td>\n",
              "      <td>the Main Building</td>\n",
              "      <td>The Basilica of the Sacred heart at Notre Dame...</td>\n",
              "      <td>5733be284776f41900661180</td>\n",
              "      <td>Architecturally, the school has a Catholic cha...</td>\n",
              "      <td>University_of_Notre_Dame</td>\n",
              "      <td>0</td>\n",
              "    </tr>\n",
              "    <tr>\n",
              "      <th>3</th>\n",
              "      <td>381</td>\n",
              "      <td>a Marian place of prayer and reflection</td>\n",
              "      <td>What is the Grotto at Notre Dame?</td>\n",
              "      <td>5733be284776f41900661181</td>\n",
              "      <td>Architecturally, the school has a Catholic cha...</td>\n",
              "      <td>University_of_Notre_Dame</td>\n",
              "      <td>0</td>\n",
              "    </tr>\n",
              "    <tr>\n",
              "      <th>4</th>\n",
              "      <td>92</td>\n",
              "      <td>a golden statue of the Virgin Mary</td>\n",
              "      <td>What sits on top of the Main Building at Notre...</td>\n",
              "      <td>5733be284776f4190066117e</td>\n",
              "      <td>Architecturally, the school has a Catholic cha...</td>\n",
              "      <td>University_of_Notre_Dame</td>\n",
              "      <td>0</td>\n",
              "    </tr>\n",
              "  </tbody>\n",
              "</table>\n",
              "</div>"
            ],
            "text/plain": [
              "   answer_start  ... c_id\n",
              "0           515  ...    0\n",
              "1           188  ...    0\n",
              "2           279  ...    0\n",
              "3           381  ...    0\n",
              "4            92  ...    0\n",
              "\n",
              "[5 rows x 7 columns]"
            ]
          },
          "metadata": {
            "tags": []
          },
          "execution_count": 4
        }
      ]
    },
    {
      "cell_type": "code",
      "metadata": {
        "id": "oCWKKV2RAhML"
      },
      "source": [
        "SAMPLES = squad_dataset.shape[0]\r\n",
        "\r\n",
        "def preprocess_sentence(text):\r\n",
        "\r\n",
        "  \"\"\"\r\n",
        "  lowercase and strip the given text\r\n",
        "  \"\"\"\r\n",
        "\r\n",
        "  text = text.lower()\r\n",
        "  text = text.strip()\r\n",
        "  return text\r\n",
        "\r\n",
        "def clean_dataset(dataset, with_answer = True):\r\n",
        "\r\n",
        "  \"\"\"\r\n",
        "  preprocess the dataset\r\n",
        "  \"\"\"\r\n",
        "\r\n",
        "  _dataset = dataset.copy()\r\n",
        "\r\n",
        "  cleaned_questions = _dataset['question'].apply(preprocess_sentence)\r\n",
        "\r\n",
        "  # we process only different contexts and then we duplicate them\r\n",
        "  unique_context = pd.Series(_dataset['context'].unique())\r\n",
        "  count_c = _dataset.groupby('c_id').size()\r\n",
        "  cleaned_contexts = unique_context.apply(preprocess_sentence)\r\n",
        "\r\n",
        "  _dataset['question'] = cleaned_questions\r\n",
        "\r\n",
        "  if with_answer:\r\n",
        "    cleaned_texts = _dataset['text'].apply(preprocess_sentence)\r\n",
        "    _dataset['text'] = cleaned_texts\r\n",
        "  _dataset['context'] = pd.Series(np.repeat(cleaned_contexts, count_c).tolist())\r\n",
        "\r\n",
        "  return _dataset"
      ],
      "execution_count": 5,
      "outputs": []
    },
    {
      "cell_type": "code",
      "metadata": {
        "id": "HSVZ45xxqqqz"
      },
      "source": [
        "squad_dataset = clean_dataset(squad_dataset)"
      ],
      "execution_count": 6,
      "outputs": []
    },
    {
      "cell_type": "code",
      "metadata": {
        "id": "Rq8B58osDLvX"
      },
      "source": [
        "def get_tokenizer(dataset, glove_model = None):\r\n",
        "\r\n",
        "  \"\"\"\r\n",
        "  create the word and char tokenizers and feed them \r\n",
        "  on the given dataset and the glove vocabulary\r\n",
        "  \"\"\"\r\n",
        "\r\n",
        "  tokenizer = tf.keras.preprocessing.text.Tokenizer(oov_token = 'UNK', filters = '')\r\n",
        "\r\n",
        "  # we will only keep the 200 - 1 most frequent characters (otherwise oom issue)\r\n",
        "  # others tokens are replaced by UNK token \r\n",
        "  # we keep 199 most frequent tokens and indice 1 is UNK token (so we keep 198 tokens)\r\n",
        "  char_tokenizer = tf.keras.preprocessing.text.Tokenizer(char_level = True, filters = '', oov_token = 'UNK', num_words = 200)\r\n",
        "\r\n",
        "  if glove_model == None:\r\n",
        "    glove_model = download_glove_model(EMBEDDING_SIZE)\r\n",
        "\r\n",
        "  tokenized_questions = dataset['question'].apply(word_tokenize).to_list()\r\n",
        "\r\n",
        "  contexts = pd.Series(dataset['context'].unique())\r\n",
        "  tokenized_contexts = contexts.apply(word_tokenize).to_list()\r\n",
        "\r\n",
        "  sequences = glove_model.index2entity + tokenized_questions + tokenized_contexts\r\n",
        "\r\n",
        "  del glove_model # we  don't need anymore the glove model\r\n",
        "\r\n",
        "  tokenizer.fit_on_texts(sequences)\r\n",
        "  char_tokenizer.fit_on_texts(dataset['question'].to_list() + contexts.to_list())\r\n",
        "\r\n",
        "  return tokenizer, char_tokenizer\r\n",
        "\r\n",
        "\r\n",
        "def update_tokenizer(dataset, tokenizer, char_tokenizer):\r\n",
        "\r\n",
        "  \"\"\"\r\n",
        "  update the existing word/char vocabulary on a new dataset\r\n",
        "  \"\"\"\r\n",
        "\r\n",
        "  tokenized_questions = dataset['question'].apply(word_tokenize).to_list()\r\n",
        "\r\n",
        "  contexts = pd.Series(dataset['context'].unique())\r\n",
        "  tokenized_contexts = contexts.apply(word_tokenize).to_list()\r\n",
        "\r\n",
        "  sequences = tokenized_questions + tokenized_contexts\r\n",
        "  tokenizer.fit_on_texts(sequences)\r\n",
        "\r\n",
        "  char_tokenizer.fit_on_texts(dataset['question'].to_list() + contexts.to_list())\r\n",
        "\r\n",
        "def get_start_end(row):\r\n",
        "\r\n",
        "  \"\"\"\r\n",
        "  get the start and end span for each sample,\r\n",
        "  if the span cannot be found return -1\r\n",
        "  \"\"\"\r\n",
        "\r\n",
        "  context = row['context']\r\n",
        "  answer = row['text']\r\n",
        "  tok_answer = word_tokenize(answer)\r\n",
        "\r\n",
        "  _start = context.find(answer)\r\n",
        "\r\n",
        "  if _start == -1:\r\n",
        "    # the answer is not in the context\r\n",
        "    # maybe due to a typo\r\n",
        "    row['start'] = -1\r\n",
        "    row['end'] = -1\r\n",
        "    return row\r\n",
        "\r\n",
        "  lc = context[:_start]\r\n",
        "  lc = word_tokenize(lc)\r\n",
        "\r\n",
        "  start = len(lc)\r\n",
        "  end = start + len(tok_answer)\r\n",
        "\r\n",
        "  row['start'] = start\r\n",
        "  row['end'] = end\r\n",
        "\r\n",
        "  return row\r\n",
        "\r\n",
        "def tokenize(dataset, tokenizer, char_tokenizer):\r\n",
        "\r\n",
        "  \"\"\"\r\n",
        "  tokenize the given dataset\r\n",
        "  \"\"\"\r\n",
        "\r\n",
        "  _dataset = dataset.copy()\r\n",
        "\r\n",
        "  tokenized_questions = _dataset['question'].apply(word_tokenize).to_list()\r\n",
        "  tokenized_contexts = _dataset['context'].apply(word_tokenize).to_list()\r\n",
        "\r\n",
        "  t_q = tokenizer.texts_to_sequences(tokenized_questions)\r\n",
        "  t_c = tokenizer.texts_to_sequences(tokenized_contexts)\r\n",
        "\r\n",
        "  c_q = []\r\n",
        "  c_c = []\r\n",
        "\r\n",
        "  for question, context in zip(tokenized_questions, tokenized_contexts):\r\n",
        "    _q = char_tokenizer.texts_to_sequences(question)\r\n",
        "    _c = char_tokenizer.texts_to_sequences(context)\r\n",
        "    c_q.append(_q)\r\n",
        "    c_c.append(_c)\r\n",
        "\r\n",
        "  _dataset['tokenized_question'] = t_q\r\n",
        "  _dataset['tokenized_context'] = t_c\r\n",
        "\r\n",
        "  _dataset['char_tokenized_question'] = c_q\r\n",
        "  _dataset['char_tokenized_context'] = c_c\r\n",
        "\r\n",
        "  return _dataset\r\n",
        "\r\n",
        "def split(dataset, test_size = 0.2, random_state = 42):\r\n",
        "\r\n",
        "  \"\"\"\r\n",
        "  split the dataset in two part: the training and the validation\r\n",
        "  \"\"\"\r\n",
        "\r\n",
        "  # random_state for deterministic state\r\n",
        "  tr, vl = train_test_split(dataset, test_size = test_size, random_state = random_state)\r\n",
        "  tr.reset_index(drop = True, inplace = True)\r\n",
        "  vl.reset_index(drop = True, inplace = True)\r\n",
        "\r\n",
        "  return tr,vl\r\n",
        "\r\n",
        "def df_to_json(df, path, with_answer = True):\r\n",
        "\r\n",
        "  \"\"\"\r\n",
        "  parse the given dataframe into the SQUAD json format and\r\n",
        "  save it\r\n",
        "  \"\"\"\r\n",
        "  \r\n",
        "  data = []\r\n",
        "\r\n",
        "  for title, articles in df.groupby('title'):\r\n",
        "    chapter = {'title': title}\r\n",
        "    paragraphs = []\r\n",
        "    for context, contents in articles.groupby('context'):\r\n",
        "      paragraph = {'context': context}\r\n",
        "      qas = []\r\n",
        "      for i, content in contents.iterrows():\r\n",
        "        if with_answer:\r\n",
        "          qa = {'answers': [{'answer_start': content['answer_start'], 'text': content['text']}], 'question': content['question'], 'id': content['id']}\r\n",
        "        else:\r\n",
        "          qa = {'question': content['question'], 'id': content['id']}\r\n",
        "        qas.append(qa)\r\n",
        "      paragraph.update({'qas': qas})\r\n",
        "      paragraphs.append(paragraph)\r\n",
        "    chapter.update({'paragraphs': paragraphs})\r\n",
        "    data.append(chapter)\r\n",
        "  raw_data = {'data': data}\r\n",
        "\r\n",
        "  with open(path, 'w') as handle:\r\n",
        "    json.dump(raw_data, handle)\r\n",
        "\r\n",
        "  print(f'dataset saved in {path}')"
      ],
      "execution_count": 7,
      "outputs": []
    },
    {
      "cell_type": "code",
      "metadata": {
        "id": "M8pXuOXlpLsx"
      },
      "source": [
        "tr_df, vl_df = split(squad_dataset)"
      ],
      "execution_count": 8,
      "outputs": []
    },
    {
      "cell_type": "code",
      "metadata": {
        "colab": {
          "base_uri": "https://localhost:8080/"
        },
        "id": "BGk_DpS3RS32",
        "outputId": "122cb393-201a-4fd4-eafb-6b182c059f05"
      },
      "source": [
        "tr_df.shape[0],vl_df.shape[0]"
      ],
      "execution_count": 9,
      "outputs": [
        {
          "output_type": "execute_result",
          "data": {
            "text/plain": [
              "(70079, 17520)"
            ]
          },
          "metadata": {
            "tags": []
          },
          "execution_count": 9
        }
      ]
    },
    {
      "cell_type": "markdown",
      "metadata": {
        "id": "v0VbHyp4YSUx"
      },
      "source": [
        "Our vocabulary is based on the Glove vocabulary, and we add terms from the training set"
      ]
    },
    {
      "cell_type": "code",
      "metadata": {
        "colab": {
          "base_uri": "https://localhost:8080/"
        },
        "id": "8hY8Z7HQFKjo",
        "outputId": "297e4500-f300-4936-bd47-8114c680f668"
      },
      "source": [
        "tokenizer, char_tokenizer = get_tokenizer(tr_df)"
      ],
      "execution_count": 10,
      "outputs": [
        {
          "output_type": "stream",
          "text": [
            "[INFO] downloading glove 300\n",
            "[==================================================] 100.0% 376.1/376.1MB downloaded\n",
            "[INFO] done !\n"
          ],
          "name": "stdout"
        }
      ]
    },
    {
      "cell_type": "code",
      "metadata": {
        "colab": {
          "base_uri": "https://localhost:8080/"
        },
        "id": "ILsFqw2bKf5L",
        "outputId": "2e5d6440-a3c9-4a2b-a468-236872ac7e8d"
      },
      "source": [
        "print(len(tokenizer.word_index))\r\n",
        "len(char_tokenizer.word_index)"
      ],
      "execution_count": 11,
      "outputs": [
        {
          "output_type": "stream",
          "text": [
            "429064\n"
          ],
          "name": "stdout"
        },
        {
          "output_type": "execute_result",
          "data": {
            "text/plain": [
              "1263"
            ]
          },
          "metadata": {
            "tags": []
          },
          "execution_count": 11
        }
      ]
    },
    {
      "cell_type": "markdown",
      "metadata": {
        "id": "wWoZPgxdYbkz"
      },
      "source": [
        "We then update our vocabulary with terms from the validation set"
      ]
    },
    {
      "cell_type": "code",
      "metadata": {
        "id": "Xzv_ZS3Zqifn"
      },
      "source": [
        "update_tokenizer(vl_df, tokenizer, char_tokenizer)"
      ],
      "execution_count": 12,
      "outputs": []
    },
    {
      "cell_type": "code",
      "metadata": {
        "colab": {
          "base_uri": "https://localhost:8080/"
        },
        "id": "gLwNWJsorIae",
        "outputId": "f2d46ba1-39d9-4014-82b6-72f3e989de7d"
      },
      "source": [
        "print(len(tokenizer.word_index))\r\n",
        "len(char_tokenizer.word_index)"
      ],
      "execution_count": 13,
      "outputs": [
        {
          "output_type": "stream",
          "text": [
            "429758\n"
          ],
          "name": "stdout"
        },
        {
          "output_type": "execute_result",
          "data": {
            "text/plain": [
              "1265"
            ]
          },
          "metadata": {
            "tags": []
          },
          "execution_count": 13
        }
      ]
    },
    {
      "cell_type": "code",
      "metadata": {
        "id": "fM8oYX_SHkni"
      },
      "source": [
        "# take a while\r\n",
        "tr_df = tr_df.apply(get_start_end, axis = 1)\r\n",
        "vl_df = vl_df.apply(get_start_end, axis = 1)"
      ],
      "execution_count": 14,
      "outputs": []
    },
    {
      "cell_type": "markdown",
      "metadata": {
        "id": "ox1J7Z8YhVcv"
      },
      "source": [
        "we get rid of samples where the answer doesn't match the context (maybe there is a typo in the answer or the context).  \r\n",
        "To avoid to discard many samples, we could lemmatize / stem the text.   \r\n",
        "Obviously, lemmatization is a better choice for our task, but if we want a really accurate lemmatization processing, we need to do POS tagging."
      ]
    },
    {
      "cell_type": "code",
      "metadata": {
        "colab": {
          "base_uri": "https://localhost:8080/"
        },
        "id": "8eTsENy6jU-t",
        "outputId": "78f1e933-1aaa-40cb-e8ac-31f3e135556a"
      },
      "source": [
        "tr_df[tr_df['start'] == -1].shape[0], vl_df[vl_df['start'] == -1].shape[0]"
      ],
      "execution_count": 15,
      "outputs": [
        {
          "output_type": "execute_result",
          "data": {
            "text/plain": [
              "(69, 15)"
            ]
          },
          "metadata": {
            "tags": []
          },
          "execution_count": 15
        }
      ]
    },
    {
      "cell_type": "code",
      "metadata": {
        "colab": {
          "base_uri": "https://localhost:8080/",
          "height": 788
        },
        "id": "RfAls7CF683U",
        "outputId": "83de30be-66bc-49e3-aec0-45edf99e85c7"
      },
      "source": [
        "tr_df[tr_df['start'] == -1]"
      ],
      "execution_count": 16,
      "outputs": [
        {
          "output_type": "execute_result",
          "data": {
            "text/html": [
              "<div>\n",
              "<style scoped>\n",
              "    .dataframe tbody tr th:only-of-type {\n",
              "        vertical-align: middle;\n",
              "    }\n",
              "\n",
              "    .dataframe tbody tr th {\n",
              "        vertical-align: top;\n",
              "    }\n",
              "\n",
              "    .dataframe thead th {\n",
              "        text-align: right;\n",
              "    }\n",
              "</style>\n",
              "<table border=\"1\" class=\"dataframe\">\n",
              "  <thead>\n",
              "    <tr style=\"text-align: right;\">\n",
              "      <th></th>\n",
              "      <th>answer_start</th>\n",
              "      <th>text</th>\n",
              "      <th>question</th>\n",
              "      <th>id</th>\n",
              "      <th>context</th>\n",
              "      <th>title</th>\n",
              "      <th>c_id</th>\n",
              "      <th>start</th>\n",
              "      <th>end</th>\n",
              "    </tr>\n",
              "  </thead>\n",
              "  <tbody>\n",
              "    <tr>\n",
              "      <th>87</th>\n",
              "      <td>92</td>\n",
              "      <td>march 14, 2013</td>\n",
              "      <td>on what date was the 2013 human development re...</td>\n",
              "      <td>56de31984396321400ee2672</td>\n",
              "      <td>some countries were not included for various r...</td>\n",
              "      <td>Human_Development_Index</td>\n",
              "      <td>2185</td>\n",
              "      <td>-1</td>\n",
              "      <td>-1</td>\n",
              "    </tr>\n",
              "    <tr>\n",
              "      <th>3133</th>\n",
              "      <td>0</td>\n",
              "      <td>catalan sociolinguistics</td>\n",
              "      <td>what field studies the placement of catalan in...</td>\n",
              "      <td>56e17f5de3433e1400422f8c</td>\n",
              "      <td>in central catalan, unstressed vowels reduce t...</td>\n",
              "      <td>Catalan_language</td>\n",
              "      <td>3470</td>\n",
              "      <td>-1</td>\n",
              "      <td>-1</td>\n",
              "    </tr>\n",
              "    <tr>\n",
              "      <th>3983</th>\n",
              "      <td>168</td>\n",
              "      <td>the valencian academy of language</td>\n",
              "      <td>what is the official regulating body of  valen...</td>\n",
              "      <td>56e1b97fcd28a01900c67ad8</td>\n",
              "      <td>valencian is classified as a western dialect, ...</td>\n",
              "      <td>Catalan_language</td>\n",
              "      <td>3488</td>\n",
              "      <td>-1</td>\n",
              "      <td>-1</td>\n",
              "    </tr>\n",
              "    <tr>\n",
              "      <th>6198</th>\n",
              "      <td>103</td>\n",
              "      <td>catalan</td>\n",
              "      <td>what language is the regulator meant to standa...</td>\n",
              "      <td>56e1b4decd28a01900c67a91</td>\n",
              "      <td>in alghero, the iec has adapted its standard t...</td>\n",
              "      <td>Catalan_language</td>\n",
              "      <td>3486</td>\n",
              "      <td>-1</td>\n",
              "      <td>-1</td>\n",
              "    </tr>\n",
              "    <tr>\n",
              "      <th>6994</th>\n",
              "      <td>94</td>\n",
              "      <td>western catalonia</td>\n",
              "      <td>where are the provinces of lleida and tarragona?</td>\n",
              "      <td>56e1b738cd28a01900c67aae</td>\n",
              "      <td>in 2011, the aragonese government passed a dec...</td>\n",
              "      <td>Catalan_language</td>\n",
              "      <td>3487</td>\n",
              "      <td>-1</td>\n",
              "      <td>-1</td>\n",
              "    </tr>\n",
              "    <tr>\n",
              "      <th>...</th>\n",
              "      <td>...</td>\n",
              "      <td>...</td>\n",
              "      <td>...</td>\n",
              "      <td>...</td>\n",
              "      <td>...</td>\n",
              "      <td>...</td>\n",
              "      <td>...</td>\n",
              "      <td>...</td>\n",
              "      <td>...</td>\n",
              "    </tr>\n",
              "    <tr>\n",
              "      <th>66889</th>\n",
              "      <td>113</td>\n",
              "      <td>some individual caribbean islands in the west ...</td>\n",
              "      <td>what did great britain gain in the west indies...</td>\n",
              "      <td>572e8003c246551400ce425f</td>\n",
              "      <td>many middle and small powers in europe, unlike...</td>\n",
              "      <td>Seven_Years%27_War</td>\n",
              "      <td>15282</td>\n",
              "      <td>-1</td>\n",
              "      <td>-1</td>\n",
              "    </tr>\n",
              "    <tr>\n",
              "      <th>66972</th>\n",
              "      <td>446</td>\n",
              "      <td>reminiscent of the more famous and compact str...</td>\n",
              "      <td>what is the precedent for the \"second hundred ...</td>\n",
              "      <td>572e81f2cb0c0d14000f1206</td>\n",
              "      <td>the war was successful for great britain, whic...</td>\n",
              "      <td>Seven_Years%27_War</td>\n",
              "      <td>15283</td>\n",
              "      <td>-1</td>\n",
              "      <td>-1</td>\n",
              "    </tr>\n",
              "    <tr>\n",
              "      <th>67376</th>\n",
              "      <td>434</td>\n",
              "      <td>sicily, and savoy, although sided with franco-...</td>\n",
              "      <td>who would sicily and savoy normally align with?</td>\n",
              "      <td>572e8578c246551400ce42bd</td>\n",
              "      <td>realizing that war was imminent, prussia preem...</td>\n",
              "      <td>Seven_Years%27_War</td>\n",
              "      <td>15281</td>\n",
              "      <td>-1</td>\n",
              "      <td>-1</td>\n",
              "    </tr>\n",
              "    <tr>\n",
              "      <th>69867</th>\n",
              "      <td>56</td>\n",
              "      <td>uniformity</td>\n",
              "      <td>what do the dialects of catalan feature?</td>\n",
              "      <td>56e180f5e3433e1400422f96</td>\n",
              "      <td>catalan sociolinguistics studies the situation...</td>\n",
              "      <td>Catalan_language</td>\n",
              "      <td>3471</td>\n",
              "      <td>-1</td>\n",
              "      <td>-1</td>\n",
              "    </tr>\n",
              "    <tr>\n",
              "      <th>69923</th>\n",
              "      <td>331</td>\n",
              "      <td>other languages in contact</td>\n",
              "      <td>what outside affects does this study include?</td>\n",
              "      <td>56e17f5de3433e1400422f90</td>\n",
              "      <td>in central catalan, unstressed vowels reduce t...</td>\n",
              "      <td>Catalan_language</td>\n",
              "      <td>3470</td>\n",
              "      <td>-1</td>\n",
              "      <td>-1</td>\n",
              "    </tr>\n",
              "  </tbody>\n",
              "</table>\n",
              "<p>69 rows × 9 columns</p>\n",
              "</div>"
            ],
            "text/plain": [
              "       answer_start  ... end\n",
              "87               92  ...  -1\n",
              "3133              0  ...  -1\n",
              "3983            168  ...  -1\n",
              "6198            103  ...  -1\n",
              "6994             94  ...  -1\n",
              "...             ...  ...  ..\n",
              "66889           113  ...  -1\n",
              "66972           446  ...  -1\n",
              "67376           434  ...  -1\n",
              "69867            56  ...  -1\n",
              "69923           331  ...  -1\n",
              "\n",
              "[69 rows x 9 columns]"
            ]
          },
          "metadata": {
            "tags": []
          },
          "execution_count": 16
        }
      ]
    },
    {
      "cell_type": "code",
      "metadata": {
        "colab": {
          "base_uri": "https://localhost:8080/",
          "height": 1000
        },
        "id": "o7uz1Odj7fAS",
        "outputId": "f52c2fee-e36b-4b2e-85c4-88c0602fbeb4"
      },
      "source": [
        "vl_df[vl_df['start'] == -1]"
      ],
      "execution_count": 17,
      "outputs": [
        {
          "output_type": "execute_result",
          "data": {
            "text/html": [
              "<div>\n",
              "<style scoped>\n",
              "    .dataframe tbody tr th:only-of-type {\n",
              "        vertical-align: middle;\n",
              "    }\n",
              "\n",
              "    .dataframe tbody tr th {\n",
              "        vertical-align: top;\n",
              "    }\n",
              "\n",
              "    .dataframe thead th {\n",
              "        text-align: right;\n",
              "    }\n",
              "</style>\n",
              "<table border=\"1\" class=\"dataframe\">\n",
              "  <thead>\n",
              "    <tr style=\"text-align: right;\">\n",
              "      <th></th>\n",
              "      <th>answer_start</th>\n",
              "      <th>text</th>\n",
              "      <th>question</th>\n",
              "      <th>id</th>\n",
              "      <th>context</th>\n",
              "      <th>title</th>\n",
              "      <th>c_id</th>\n",
              "      <th>start</th>\n",
              "      <th>end</th>\n",
              "    </tr>\n",
              "  </thead>\n",
              "  <tbody>\n",
              "    <tr>\n",
              "      <th>171</th>\n",
              "      <td>166</td>\n",
              "      <td>barcelona province</td>\n",
              "      <td>in what densely populated area is it spoken?</td>\n",
              "      <td>56e18a90e3433e1400422fac</td>\n",
              "      <td>western catalan comprises the two dialects of ...</td>\n",
              "      <td>Catalan_language</td>\n",
              "      <td>3474</td>\n",
              "      <td>-1</td>\n",
              "      <td>-1</td>\n",
              "    </tr>\n",
              "    <tr>\n",
              "      <th>1536</th>\n",
              "      <td>3</td>\n",
              "      <td>the balearic islands</td>\n",
              "      <td>where is iec's standard used?</td>\n",
              "      <td>56e1a3cbe3433e1400423066</td>\n",
              "      <td>standard catalan, virtually accepted by all sp...</td>\n",
              "      <td>Catalan_language</td>\n",
              "      <td>3484</td>\n",
              "      <td>-1</td>\n",
              "      <td>-1</td>\n",
              "    </tr>\n",
              "    <tr>\n",
              "      <th>3007</th>\n",
              "      <td>162</td>\n",
              "      <td>merged</td>\n",
              "      <td>what have a and e done in eastern dialects?</td>\n",
              "      <td>56e18710cd28a01900c679b9</td>\n",
              "      <td>the dialects of the catalan language feature a...</td>\n",
              "      <td>Catalan_language</td>\n",
              "      <td>3472</td>\n",
              "      <td>-1</td>\n",
              "      <td>-1</td>\n",
              "    </tr>\n",
              "    <tr>\n",
              "      <th>4925</th>\n",
              "      <td>114</td>\n",
              "      <td>la franja</td>\n",
              "      <td>where is the catalan speaking part of aragon?</td>\n",
              "      <td>56e1b4decd28a01900c67a8e</td>\n",
              "      <td>in alghero, the iec has adapted its standard t...</td>\n",
              "      <td>Catalan_language</td>\n",
              "      <td>3486</td>\n",
              "      <td>-1</td>\n",
              "      <td>-1</td>\n",
              "    </tr>\n",
              "    <tr>\n",
              "      <th>5782</th>\n",
              "      <td>69</td>\n",
              "      <td>seven</td>\n",
              "      <td>how many stressed phonemes are there in catalan?</td>\n",
              "      <td>56e18bfbe3433e1400422fb5</td>\n",
              "      <td>central catalan is considered the standard pro...</td>\n",
              "      <td>Catalan_language</td>\n",
              "      <td>3468</td>\n",
              "      <td>-1</td>\n",
              "      <td>-1</td>\n",
              "    </tr>\n",
              "    <tr>\n",
              "      <th>5897</th>\n",
              "      <td>118</td>\n",
              "      <td>treatment of unstressed a and e</td>\n",
              "      <td>what is the major difference between the two b...</td>\n",
              "      <td>56e18710cd28a01900c679b7</td>\n",
              "      <td>the dialects of the catalan language feature a...</td>\n",
              "      <td>Catalan_language</td>\n",
              "      <td>3472</td>\n",
              "      <td>-1</td>\n",
              "      <td>-1</td>\n",
              "    </tr>\n",
              "    <tr>\n",
              "      <th>5937</th>\n",
              "      <td>50</td>\n",
              "      <td>vulgar latin</td>\n",
              "      <td>what is the vowel system of catalan?</td>\n",
              "      <td>56e18bfbe3433e1400422fb4</td>\n",
              "      <td>western catalan comprises the two dialects of ...</td>\n",
              "      <td>Catalan_language</td>\n",
              "      <td>3468</td>\n",
              "      <td>-1</td>\n",
              "      <td>-1</td>\n",
              "    </tr>\n",
              "    <tr>\n",
              "      <th>6561</th>\n",
              "      <td>3</td>\n",
              "      <td>alghero</td>\n",
              "      <td>where has the iec adapted its standard to the ...</td>\n",
              "      <td>56e1b264e3433e14004230a6</td>\n",
              "      <td>the most notable difference between both stand...</td>\n",
              "      <td>Catalan_language</td>\n",
              "      <td>3485</td>\n",
              "      <td>-1</td>\n",
              "      <td>-1</td>\n",
              "    </tr>\n",
              "    <tr>\n",
              "      <th>7378</th>\n",
              "      <td>246</td>\n",
              "      <td>to later conflicts like the napoleonic wars</td>\n",
              "      <td>what was a later conflict that some considered...</td>\n",
              "      <td>572e81f2cb0c0d14000f1207</td>\n",
              "      <td>the war was successful for great britain, whic...</td>\n",
              "      <td>Seven_Years%27_War</td>\n",
              "      <td>15283</td>\n",
              "      <td>-1</td>\n",
              "      <td>-1</td>\n",
              "    </tr>\n",
              "    <tr>\n",
              "      <th>11252</th>\n",
              "      <td>176</td>\n",
              "      <td>section pronunciation</td>\n",
              "      <td>where do you find dialectic vowel reductions?</td>\n",
              "      <td>56e17b08cd28a01900c679af</td>\n",
              "      <td>catalan has inherited the typical vowel system...</td>\n",
              "      <td>Catalan_language</td>\n",
              "      <td>3469</td>\n",
              "      <td>-1</td>\n",
              "      <td>-1</td>\n",
              "    </tr>\n",
              "    <tr>\n",
              "      <th>11511</th>\n",
              "      <td>72</td>\n",
              "      <td>the average level</td>\n",
              "      <td>does the ihdi measure the \"average\" or the \"po...</td>\n",
              "      <td>56de31f34396321400ee2680</td>\n",
              "      <td>the 2013 human development report by the unite...</td>\n",
              "      <td>Human_Development_Index</td>\n",
              "      <td>2182</td>\n",
              "      <td>-1</td>\n",
              "      <td>-1</td>\n",
              "    </tr>\n",
              "    <tr>\n",
              "      <th>12438</th>\n",
              "      <td>110</td>\n",
              "      <td>four</td>\n",
              "      <td>how many dialects are in the eastern group?</td>\n",
              "      <td>56e188e4cd28a01900c679c0</td>\n",
              "      <td>the dialects of the catalan language feature a...</td>\n",
              "      <td>Catalan_language</td>\n",
              "      <td>3473</td>\n",
              "      <td>-1</td>\n",
              "      <td>-1</td>\n",
              "    </tr>\n",
              "    <tr>\n",
              "      <th>16218</th>\n",
              "      <td>96</td>\n",
              "      <td>other romance languages</td>\n",
              "      <td>in comparison to what are the dialects uniform?</td>\n",
              "      <td>56e180f5e3433e1400422f97</td>\n",
              "      <td>catalan sociolinguistics studies the situation...</td>\n",
              "      <td>Catalan_language</td>\n",
              "      <td>3471</td>\n",
              "      <td>-1</td>\n",
              "      <td>-1</td>\n",
              "    </tr>\n",
              "    <tr>\n",
              "      <th>16474</th>\n",
              "      <td>190</td>\n",
              "      <td>catalan and valencian</td>\n",
              "      <td>what forms are mutually intelligible?</td>\n",
              "      <td>56e1b738cd28a01900c67aaf</td>\n",
              "      <td>in 2011, the aragonese government passed a dec...</td>\n",
              "      <td>Catalan_language</td>\n",
              "      <td>3487</td>\n",
              "      <td>-1</td>\n",
              "      <td>-1</td>\n",
              "    </tr>\n",
              "    <tr>\n",
              "      <th>17282</th>\n",
              "      <td>131</td>\n",
              "      <td>western romance</td>\n",
              "      <td>where is this system common?</td>\n",
              "      <td>56e18bfbe3433e1400422fb6</td>\n",
              "      <td>central catalan is considered the standard pro...</td>\n",
              "      <td>Catalan_language</td>\n",
              "      <td>3468</td>\n",
              "      <td>-1</td>\n",
              "      <td>-1</td>\n",
              "    </tr>\n",
              "  </tbody>\n",
              "</table>\n",
              "</div>"
            ],
            "text/plain": [
              "       answer_start                                         text  ... start end\n",
              "171             166                           barcelona province  ...    -1  -1\n",
              "1536              3                         the balearic islands  ...    -1  -1\n",
              "3007            162                                       merged  ...    -1  -1\n",
              "4925            114                                    la franja  ...    -1  -1\n",
              "5782             69                                        seven  ...    -1  -1\n",
              "5897            118              treatment of unstressed a and e  ...    -1  -1\n",
              "5937             50                                 vulgar latin  ...    -1  -1\n",
              "6561              3                                      alghero  ...    -1  -1\n",
              "7378            246  to later conflicts like the napoleonic wars  ...    -1  -1\n",
              "11252           176                        section pronunciation  ...    -1  -1\n",
              "11511            72                            the average level  ...    -1  -1\n",
              "12438           110                                         four  ...    -1  -1\n",
              "16218            96                      other romance languages  ...    -1  -1\n",
              "16474           190                        catalan and valencian  ...    -1  -1\n",
              "17282           131                              western romance  ...    -1  -1\n",
              "\n",
              "[15 rows x 9 columns]"
            ]
          },
          "metadata": {
            "tags": []
          },
          "execution_count": 17
        }
      ]
    },
    {
      "cell_type": "code",
      "metadata": {
        "id": "pZ3CXWdL8CNk"
      },
      "source": [
        "# we get rid of samples where the answer doesn't match the context\r\n",
        "tr_df = tr_df[tr_df['start'] != -1]\r\n",
        "vl_df = vl_df[vl_df['start'] != -1]"
      ],
      "execution_count": 18,
      "outputs": []
    },
    {
      "cell_type": "code",
      "metadata": {
        "id": "M_KJeyPxVZG6"
      },
      "source": [
        "tr_df = tokenize(tr_df, tokenizer, char_tokenizer)\r\n",
        "vl_df = tokenize(vl_df, tokenizer, char_tokenizer)"
      ],
      "execution_count": 19,
      "outputs": []
    },
    {
      "cell_type": "code",
      "metadata": {
        "colab": {
          "base_uri": "https://localhost:8080/",
          "height": 538
        },
        "id": "VJd7p05zjg0e",
        "outputId": "01358dfa-e67a-40fb-dd96-57af7067ccfe"
      },
      "source": [
        "tr_df.head()"
      ],
      "execution_count": 20,
      "outputs": [
        {
          "output_type": "execute_result",
          "data": {
            "text/html": [
              "<div>\n",
              "<style scoped>\n",
              "    .dataframe tbody tr th:only-of-type {\n",
              "        vertical-align: middle;\n",
              "    }\n",
              "\n",
              "    .dataframe tbody tr th {\n",
              "        vertical-align: top;\n",
              "    }\n",
              "\n",
              "    .dataframe thead th {\n",
              "        text-align: right;\n",
              "    }\n",
              "</style>\n",
              "<table border=\"1\" class=\"dataframe\">\n",
              "  <thead>\n",
              "    <tr style=\"text-align: right;\">\n",
              "      <th></th>\n",
              "      <th>answer_start</th>\n",
              "      <th>text</th>\n",
              "      <th>question</th>\n",
              "      <th>id</th>\n",
              "      <th>context</th>\n",
              "      <th>title</th>\n",
              "      <th>c_id</th>\n",
              "      <th>start</th>\n",
              "      <th>end</th>\n",
              "      <th>tokenized_question</th>\n",
              "      <th>tokenized_context</th>\n",
              "      <th>char_tokenized_question</th>\n",
              "      <th>char_tokenized_context</th>\n",
              "    </tr>\n",
              "  </thead>\n",
              "  <tbody>\n",
              "    <tr>\n",
              "      <th>0</th>\n",
              "      <td>154</td>\n",
              "      <td>phillies</td>\n",
              "      <td>what team had dallas green managed in 1980?</td>\n",
              "      <td>572667e6708984140094c4f9</td>\n",
              "      <td>after over a dozen more subpar seasons, in 198...</td>\n",
              "      <td>Chicago_Cubs</td>\n",
              "      <td>8880</td>\n",
              "      <td>29</td>\n",
              "      <td>30</td>\n",
              "      <td>[11, 309, 49, 11808, 646, 2132, 6, 2627, 9]</td>\n",
              "      <td>[61, 83, 10, 6737, 62, 70020, 1740, 3, 6, 3372...</td>\n",
              "      <td>[[20, 11, 5, 4], [4, 3, 5, 16], [11, 5, 13], [...</td>\n",
              "      <td>[[5, 17, 4, 3, 10], [8, 24, 3, 10], [5], [13, ...</td>\n",
              "    </tr>\n",
              "    <tr>\n",
              "      <th>1</th>\n",
              "      <td>156</td>\n",
              "      <td>rudy giuliani</td>\n",
              "      <td>which candidate withdrew from the presidential...</td>\n",
              "      <td>56dec2483277331400b4d712</td>\n",
              "      <td>schwarzenegger's endorsement in the republican...</td>\n",
              "      <td>Arnold_Schwarzenegger</td>\n",
              "      <td>2311</td>\n",
              "      <td>23</td>\n",
              "      <td>25</td>\n",
              "      <td>[27, 2789, 4161, 23, 2, 1534, 698, 6, 417, 4, ...</td>\n",
              "      <td>[1084, 19, 9106, 6, 2, 1467, 477, 4, 2, 420, 1...</td>\n",
              "      <td>[[20, 11, 6, 14, 11], [14, 5, 7, 13, 6, 13, 5,...</td>\n",
              "      <td>[[9, 14, 11, 20, 5, 10, 39, 3, 7, 3, 19, 19, 3...</td>\n",
              "    </tr>\n",
              "    <tr>\n",
              "      <th>2</th>\n",
              "      <td>224</td>\n",
              "      <td>wild ones outside the area</td>\n",
              "      <td>captive animals can distinguish co-inhabitats ...</td>\n",
              "      <td>5726e5995951b619008f81bb</td>\n",
              "      <td>it has been observed that well-fed predator an...</td>\n",
              "      <td>Predation</td>\n",
              "      <td>9822</td>\n",
              "      <td>38</td>\n",
              "      <td>43</td>\n",
              "      <td>[11888, 727, 65, 3733, 419169, 23, 11, 48, 136...</td>\n",
              "      <td>[30, 40, 59, 2316, 20, 63225, 4421, 727, 6, 10...</td>\n",
              "      <td>[[14, 5, 18, 4, 6, 24, 3], [5, 7, 6, 16, 5, 12...</td>\n",
              "      <td>[[6, 4], [11, 5, 9], [22, 3, 3, 7], [8, 22, 9,...</td>\n",
              "    </tr>\n",
              "    <tr>\n",
              "      <th>3</th>\n",
              "      <td>919</td>\n",
              "      <td>the battle of trafalgar</td>\n",
              "      <td>the results of which battle allowed the britis...</td>\n",
              "      <td>5726486f708984140094c157</td>\n",
              "      <td>after returning from egypt, napoleon engineere...</td>\n",
              "      <td>Napoleon</td>\n",
              "      <td>8418</td>\n",
              "      <td>158</td>\n",
              "      <td>162</td>\n",
              "      <td>[2, 1324, 4, 27, 326, 495, 2, 132, 8, 6280, 15...</td>\n",
              "      <td>[61, 3986, 23, 598, 3, 545, 9789, 10, 2313, 6,...</td>\n",
              "      <td>[[4, 11, 3], [10, 3, 9, 15, 12, 4, 9], [8, 17]...</td>\n",
              "      <td>[[5, 17, 4, 3, 10], [10, 3, 4, 15, 10, 7, 6, 7...</td>\n",
              "    </tr>\n",
              "    <tr>\n",
              "      <th>4</th>\n",
              "      <td>382</td>\n",
              "      <td>hanged</td>\n",
              "      <td>how was vesey executed in 1822?</td>\n",
              "      <td>5730299db2c2fd14005689a7</td>\n",
              "      <td>by 1820, charleston's population had grown to ...</td>\n",
              "      <td>Charleston,_South_Carolina</td>\n",
              "      <td>15719</td>\n",
              "      <td>74</td>\n",
              "      <td>75</td>\n",
              "      <td>[44, 13, 25121, 2181, 6, 10202, 9]</td>\n",
              "      <td>[18, 9015, 3, 1909, 19, 104, 49, 2555, 8, 2106...</td>\n",
              "      <td>[[11, 8, 20], [20, 5, 9], [24, 3, 9, 3, 21], [...</td>\n",
              "      <td>[[22, 21], [28, 40, 31, 29], [23], [14, 11, 5,...</td>\n",
              "    </tr>\n",
              "  </tbody>\n",
              "</table>\n",
              "</div>"
            ],
            "text/plain": [
              "   answer_start  ...                             char_tokenized_context\n",
              "0           154  ...  [[5, 17, 4, 3, 10], [8, 24, 3, 10], [5], [13, ...\n",
              "1           156  ...  [[9, 14, 11, 20, 5, 10, 39, 3, 7, 3, 19, 19, 3...\n",
              "2           224  ...  [[6, 4], [11, 5, 9], [22, 3, 3, 7], [8, 22, 9,...\n",
              "3           919  ...  [[5, 17, 4, 3, 10], [10, 3, 4, 15, 10, 7, 6, 7...\n",
              "4           382  ...  [[22, 21], [28, 40, 31, 29], [23], [14, 11, 5,...\n",
              "\n",
              "[5 rows x 13 columns]"
            ]
          },
          "metadata": {
            "tags": []
          },
          "execution_count": 20
        }
      ]
    },
    {
      "cell_type": "markdown",
      "metadata": {
        "id": "HRlxHm3xwnFn"
      },
      "source": [
        "We display some useful stats in order to define the padding size (at the word and character level, for both question and context)"
      ]
    },
    {
      "cell_type": "code",
      "metadata": {
        "colab": {
          "base_uri": "https://localhost:8080/"
        },
        "id": "2kw5Pk4c6I3S",
        "outputId": "a23e40e6-e3ad-40bb-c85f-5a148682731f"
      },
      "source": [
        "print(tr_df['tokenized_question'].str.len().describe())\r\n",
        "vl_df['tokenized_question'].str.len().describe()"
      ],
      "execution_count": 21,
      "outputs": [
        {
          "output_type": "stream",
          "text": [
            "count    70010.000000\n",
            "mean        11.275532\n",
            "std          3.715821\n",
            "min          1.000000\n",
            "25%          9.000000\n",
            "50%         11.000000\n",
            "75%         13.000000\n",
            "max         60.000000\n",
            "Name: tokenized_question, dtype: float64\n"
          ],
          "name": "stdout"
        },
        {
          "output_type": "execute_result",
          "data": {
            "text/plain": [
              "count    17505.000000\n",
              "mean        11.335504\n",
              "std          3.754207\n",
              "min          1.000000\n",
              "25%          9.000000\n",
              "50%         11.000000\n",
              "75%         13.000000\n",
              "max         38.000000\n",
              "Name: tokenized_question, dtype: float64"
            ]
          },
          "metadata": {
            "tags": []
          },
          "execution_count": 21
        }
      ]
    },
    {
      "cell_type": "code",
      "metadata": {
        "colab": {
          "base_uri": "https://localhost:8080/"
        },
        "id": "Dk5TG_Yy9crW",
        "outputId": "efcd4cb1-91bf-45a6-b138-393818e5bf69"
      },
      "source": [
        "print(tr_df['tokenized_question'].str.len().quantile(0.99))\r\n",
        "vl_df['tokenized_question'].str.len().quantile(0.99)"
      ],
      "execution_count": 22,
      "outputs": [
        {
          "output_type": "stream",
          "text": [
            "22.0\n"
          ],
          "name": "stdout"
        },
        {
          "output_type": "execute_result",
          "data": {
            "text/plain": [
              "23.0"
            ]
          },
          "metadata": {
            "tags": []
          },
          "execution_count": 22
        }
      ]
    },
    {
      "cell_type": "code",
      "metadata": {
        "colab": {
          "base_uri": "https://localhost:8080/"
        },
        "id": "bsKYKsgR6-UK",
        "outputId": "dbd47356-269a-441f-9036-6bf86b8b6c39"
      },
      "source": [
        "print(tr_df['tokenized_context'].str.len().describe())\r\n",
        "vl_df['tokenized_context'].str.len().describe()"
      ],
      "execution_count": 23,
      "outputs": [
        {
          "output_type": "stream",
          "text": [
            "count    70010.000000\n",
            "mean       137.824439\n",
            "std         56.941382\n",
            "min         22.000000\n",
            "25%        102.000000\n",
            "50%        127.000000\n",
            "75%        164.000000\n",
            "max        766.000000\n",
            "Name: tokenized_context, dtype: float64\n"
          ],
          "name": "stdout"
        },
        {
          "output_type": "execute_result",
          "data": {
            "text/plain": [
              "count    17505.000000\n",
              "mean       137.211083\n",
              "std         55.912622\n",
              "min         22.000000\n",
              "25%        102.000000\n",
              "50%        126.000000\n",
              "75%        163.000000\n",
              "max        766.000000\n",
              "Name: tokenized_context, dtype: float64"
            ]
          },
          "metadata": {
            "tags": []
          },
          "execution_count": 23
        }
      ]
    },
    {
      "cell_type": "code",
      "metadata": {
        "colab": {
          "base_uri": "https://localhost:8080/"
        },
        "id": "Cyp5MUtj9woq",
        "outputId": "eef2a8e5-2e4d-4e84-bb69-2783a8a3d48f"
      },
      "source": [
        "print(tr_df['tokenized_context'].str.len().quantile(0.99))\r\n",
        "vl_df['tokenized_context'].str.len().quantile(0.99)"
      ],
      "execution_count": 24,
      "outputs": [
        {
          "output_type": "stream",
          "text": [
            "324.0\n"
          ],
          "name": "stdout"
        },
        {
          "output_type": "execute_result",
          "data": {
            "text/plain": [
              "324.0"
            ]
          },
          "metadata": {
            "tags": []
          },
          "execution_count": 24
        }
      ]
    },
    {
      "cell_type": "code",
      "metadata": {
        "id": "fE3J6xJZ7Sqe"
      },
      "source": [
        "def len_words(dataset):\r\n",
        "\r\n",
        "  \"\"\"\r\n",
        "  return the word's length\r\n",
        "  \"\"\"\r\n",
        "\r\n",
        "  count_q = []\r\n",
        "  count_c = []\r\n",
        "\r\n",
        "  for idx, row in dataset.iterrows():\r\n",
        "    for w in row['char_tokenized_question']:\r\n",
        "      l = len(w)\r\n",
        "      count_q.append(l)\r\n",
        "      \r\n",
        "    for w in row['char_tokenized_context']:\r\n",
        "      m = len(w)\r\n",
        "      count_c.append(m)\r\n",
        "  \r\n",
        "  return pd.Series(count_q), pd.Series(count_c)\r\n",
        "\r\n",
        "t_q,t_c = len_words(tr_df)\r\n",
        "v_q,v_c = len_words(vl_df)"
      ],
      "execution_count": 25,
      "outputs": []
    },
    {
      "cell_type": "code",
      "metadata": {
        "colab": {
          "base_uri": "https://localhost:8080/"
        },
        "id": "i8R_-bUv9HGQ",
        "outputId": "c3e22a74-5074-4397-c1a0-60c4d308b5e8"
      },
      "source": [
        "print(t_q.describe())\r\n",
        "t_c.describe()"
      ],
      "execution_count": 26,
      "outputs": [
        {
          "output_type": "stream",
          "text": [
            "count    789400.000000\n",
            "mean          4.447926\n",
            "std           2.677579\n",
            "min           1.000000\n",
            "25%           2.000000\n",
            "50%           4.000000\n",
            "75%           6.000000\n",
            "max          30.000000\n",
            "dtype: float64\n"
          ],
          "name": "stdout"
        },
        {
          "output_type": "execute_result",
          "data": {
            "text/plain": [
              "count    9.649089e+06\n",
              "mean     4.626070e+00\n",
              "std      2.969605e+00\n",
              "min      1.000000e+00\n",
              "25%      2.000000e+00\n",
              "50%      4.000000e+00\n",
              "75%      7.000000e+00\n",
              "max      3.700000e+01\n",
              "dtype: float64"
            ]
          },
          "metadata": {
            "tags": []
          },
          "execution_count": 26
        }
      ]
    },
    {
      "cell_type": "code",
      "metadata": {
        "colab": {
          "base_uri": "https://localhost:8080/"
        },
        "id": "R64fJS7DxkuN",
        "outputId": "7befc878-6d60-4f4b-c430-8e18886553bb"
      },
      "source": [
        "print(v_q.describe())\r\n",
        "v_c.describe()"
      ],
      "execution_count": 27,
      "outputs": [
        {
          "output_type": "stream",
          "text": [
            "count    198428.000000\n",
            "mean          4.453232\n",
            "std           2.686696\n",
            "min           1.000000\n",
            "25%           2.000000\n",
            "50%           4.000000\n",
            "75%           6.000000\n",
            "max          24.000000\n",
            "dtype: float64\n"
          ],
          "name": "stdout"
        },
        {
          "output_type": "execute_result",
          "data": {
            "text/plain": [
              "count    2.401880e+06\n",
              "mean     4.629710e+00\n",
              "std      2.972670e+00\n",
              "min      1.000000e+00\n",
              "25%      2.000000e+00\n",
              "50%      4.000000e+00\n",
              "75%      7.000000e+00\n",
              "max      3.700000e+01\n",
              "dtype: float64"
            ]
          },
          "metadata": {
            "tags": []
          },
          "execution_count": 27
        }
      ]
    },
    {
      "cell_type": "code",
      "metadata": {
        "colab": {
          "base_uri": "https://localhost:8080/"
        },
        "id": "5wxf3tS7xylx",
        "outputId": "68377538-335d-4806-c282-809973798bdc"
      },
      "source": [
        "print(t_q.quantile(0.99))\r\n",
        "t_c.quantile(0.99)"
      ],
      "execution_count": 28,
      "outputs": [
        {
          "output_type": "stream",
          "text": [
            "12.0\n"
          ],
          "name": "stdout"
        },
        {
          "output_type": "execute_result",
          "data": {
            "text/plain": [
              "13.0"
            ]
          },
          "metadata": {
            "tags": []
          },
          "execution_count": 28
        }
      ]
    },
    {
      "cell_type": "code",
      "metadata": {
        "colab": {
          "base_uri": "https://localhost:8080/"
        },
        "id": "x6F-O0qjx4Gu",
        "outputId": "dc942fdd-1a72-499d-bbcf-8f3aa1fa6812"
      },
      "source": [
        "print(v_q.quantile(0.99))\r\n",
        "v_c.quantile(0.99)"
      ],
      "execution_count": 29,
      "outputs": [
        {
          "output_type": "stream",
          "text": [
            "12.0\n"
          ],
          "name": "stdout"
        },
        {
          "output_type": "execute_result",
          "data": {
            "text/plain": [
              "13.0"
            ]
          },
          "metadata": {
            "tags": []
          },
          "execution_count": 29
        }
      ]
    },
    {
      "cell_type": "markdown",
      "metadata": {
        "id": "LC1K9nYs9ht2"
      },
      "source": [
        "There are obviously some outliers. We are compeled to get rid of some samples because of memory issues.\r\n",
        "\r\n",
        "We will get rid of contexts that have more than 400 words and questions that have more than 25 words.\r\n",
        "\r\n",
        "We will set the length of a word to 15 characters\r\n",
        "\r\n",
        "**EDIT :** These numbers are huge but we won't get out of memory errors if we build a sequence generator. If you don't want to use the sequence generator, you should reduce these numbers.\r\n",
        "\r\n",
        "**EDIT :** Now that we use a sequence generator, we could define `*_MAXLEN` variables according to the stats provided by the training set"
      ]
    },
    {
      "cell_type": "code",
      "metadata": {
        "id": "3WiAI_oA_3lY"
      },
      "source": [
        "QUESTION_MAXLEN = 25\r\n",
        "CONTEXT_MAXLEN = 400\r\n",
        "WORD_MAXLEN = 15\r\n",
        "BATCH_SIZE = 10"
      ],
      "execution_count": 30,
      "outputs": []
    },
    {
      "cell_type": "code",
      "metadata": {
        "colab": {
          "base_uri": "https://localhost:8080/"
        },
        "id": "5fZMoWqTL2Wz",
        "outputId": "1c8efeed-e93f-4b38-b064-4bb45e141303"
      },
      "source": [
        "tr_df.shape, vl_df.shape"
      ],
      "execution_count": 31,
      "outputs": [
        {
          "output_type": "execute_result",
          "data": {
            "text/plain": [
              "((70010, 13), (17505, 13))"
            ]
          },
          "metadata": {
            "tags": []
          },
          "execution_count": 31
        }
      ]
    },
    {
      "cell_type": "code",
      "metadata": {
        "id": "ibILzhoh-Mf8"
      },
      "source": [
        "tr_df = tr_df[(tr_df['tokenized_question'].str.len() <= QUESTION_MAXLEN) & (tr_df['tokenized_context'].str.len() <= CONTEXT_MAXLEN) & (tr_df['start'] <= CONTEXT_MAXLEN) & (tr_df['end'] <= CONTEXT_MAXLEN) ].reset_index(drop = True)\r\n",
        "vl_df = vl_df[(vl_df['tokenized_question'].str.len() <= QUESTION_MAXLEN) & (vl_df['tokenized_context'].str.len() <= CONTEXT_MAXLEN) & (vl_df['start'] <= CONTEXT_MAXLEN) & (vl_df['end'] <= CONTEXT_MAXLEN) ].reset_index(drop = True)"
      ],
      "execution_count": 32,
      "outputs": []
    },
    {
      "cell_type": "code",
      "metadata": {
        "colab": {
          "base_uri": "https://localhost:8080/"
        },
        "id": "qQTuvAo7oGcA",
        "outputId": "14e2a449-352d-4a08-93ea-547035fe8961"
      },
      "source": [
        "tr_df.shape[0], vl_df.shape[0]"
      ],
      "execution_count": 33,
      "outputs": [
        {
          "output_type": "execute_result",
          "data": {
            "text/plain": [
              "(69606, 17413)"
            ]
          },
          "metadata": {
            "tags": []
          },
          "execution_count": 33
        }
      ]
    },
    {
      "cell_type": "code",
      "metadata": {
        "colab": {
          "base_uri": "https://localhost:8080/"
        },
        "id": "93mWQxFLG3z9",
        "outputId": "6d3b8641-0c65-49b8-bf82-1aa28b8b3ac1"
      },
      "source": [
        " print(f' we get rid of : {SAMPLES - (tr_df.shape[0] + vl_df.shape[0])} samples')"
      ],
      "execution_count": 34,
      "outputs": [
        {
          "output_type": "stream",
          "text": [
            " we get rid of : 580 samples\n"
          ],
          "name": "stdout"
        }
      ]
    },
    {
      "cell_type": "code",
      "metadata": {
        "colab": {
          "base_uri": "https://localhost:8080/"
        },
        "id": "4lFv9wpDfDOj",
        "outputId": "ed0b4139-02d7-4f7f-f2b9-9ac2c9654289"
      },
      "source": [
        "# save datasets in json format\r\n",
        "path_to_train_set = os.path.join(os.getcwd(), 'drive/MyDrive/NLP/BIDAF/utils/data/train_set.json')\r\n",
        "df_to_json(tr_df, path_to_train_set)\r\n",
        "\r\n",
        "path_to_valid_set = os.path.join(os.getcwd(), 'drive/MyDrive/NLP/BIDAF/utils/data/valid_set.json')\r\n",
        "df_to_json(vl_df, path_to_valid_set)"
      ],
      "execution_count": 35,
      "outputs": [
        {
          "output_type": "stream",
          "text": [
            "dataset saved in /content/drive/MyDrive/NLP/BIDAF/utils/data/train_set.json\n",
            "dataset saved in /content/drive/MyDrive/NLP/BIDAF/utils/data/valid_set.json\n"
          ],
          "name": "stdout"
        }
      ]
    },
    {
      "cell_type": "code",
      "metadata": {
        "id": "Owvocjs5JCPa"
      },
      "source": [
        "# we save both tokenizers\r\n",
        "tokenizers_folder = os.path.join(os.getcwd(), 'drive/MyDrive/NLP/BIDAF/utils', 'tokenizers')\r\n",
        "if not os.path.exists(tokenizers_folder):\r\n",
        "  os.makedirs(tokenizers_folder)\r\n",
        "\r\n",
        "path_word_tokenizer = os.path.join(tokenizers_folder, 'word_tokenizer.pkl')\r\n",
        "with open(path_word_tokenizer, 'wb') as handle:\r\n",
        "    pickle.dump(tokenizer, handle, protocol = pickle.HIGHEST_PROTOCOL)\r\n",
        "\r\n",
        "path_char_tokenizer = os.path.join(tokenizers_folder, 'char_tokenizer.pkl')\r\n",
        "with open(path_char_tokenizer, 'wb') as handle:\r\n",
        "    pickle.dump(char_tokenizer, handle, protocol = pickle.HIGHEST_PROTOCOL)"
      ],
      "execution_count": 36,
      "outputs": []
    },
    {
      "cell_type": "markdown",
      "metadata": {
        "id": "XX5aJeXaqnZh"
      },
      "source": [
        "We create the iterator. The iterator allows us to work with much bigger data, because it is loaded into memory only when we need them"
      ]
    },
    {
      "cell_type": "code",
      "metadata": {
        "id": "TMEr6c_hiv6Q"
      },
      "source": [
        "# utils/datasets/dataset.py\r\n",
        "class SQUAD_dataset(tf.keras.utils.Sequence):\r\n",
        "\r\n",
        "  \"\"\"\r\n",
        "  utility class to create a working dataset that\r\n",
        "  can be given to a neural network\r\n",
        "  \"\"\"\r\n",
        "\r\n",
        "  def __init__(self, data, question_maxlen, context_maxlen, word_maxlen, batch_size, with_answer = True):\r\n",
        "    self.QUESTION_MAXLEN = question_maxlen\r\n",
        "    self.CONTEXT_MAXLEN = context_maxlen\r\n",
        "    self.WORD_MAXLEN = word_maxlen\r\n",
        "    self.batch_size = batch_size\r\n",
        "    self.with_answer = with_answer\r\n",
        "    self.__get_batches(data)\r\n",
        "\r\n",
        "  def __len__(self):\r\n",
        "    return len(self.batches)\r\n",
        "\r\n",
        "  def __get_batches(self, data):\r\n",
        "    batches = [data[i:i+self.batch_size] for i in range(0, len(data), self.batch_size)]\r\n",
        "    self.batches = batches\r\n",
        "\r\n",
        "  def __repr__(self):\r\n",
        "    template = '''SQUAD_dataset : questions : ({0}, {1}), contexts : ({0}, {2}), char_questions : ({0}, {1}, {3}), char_contexts : ({0}, {2}, {3}), id : ({0}, 1)'''.format(self.batch_size, self.QUESTION_MAXLEN, self.CONTEXT_MAXLEN, self.WORD_MAXLEN)\r\n",
        "    return template\r\n",
        "\r\n",
        "  @classmethod\r\n",
        "  def from_file(cls, path):\r\n",
        "    path = os.path.join(os.getcwd(), path)\r\n",
        "    with open(path, 'rb') as handle:\r\n",
        "      dataset = pickle.load(handle)\r\n",
        "    return dataset\r\n",
        "\r\n",
        "  def to_pickle(self, path):\r\n",
        "    path = os.path.join(os.getcwd(), path)\r\n",
        "    folder = os.path.dirname(path)\r\n",
        "\r\n",
        "    if not os.path.exists(folder):\r\n",
        "      os.makedirs(folder)\r\n",
        "\r\n",
        "    with open(path, 'wb') as handle:\r\n",
        "      pickle.dump(self, handle, protocol = pickle.HIGHEST_PROTOCOL)\r\n",
        "\r\n",
        "  def __getitem__(self, idx):\r\n",
        "    batch = self.batches[idx].reset_index(drop = True)\r\n",
        "\r\n",
        "    id = np.asarray(batch['id'])\r\n",
        "\r\n",
        "    # questions and contexts words padding\r\n",
        "    q_w = tf.keras.preprocessing.sequence.pad_sequences(batch['tokenized_question'], padding = 'post', maxlen = self.QUESTION_MAXLEN)\r\n",
        "    c_w = tf.keras.preprocessing.sequence.pad_sequences(batch['tokenized_context'], padding = 'post', maxlen = self.CONTEXT_MAXLEN)\r\n",
        "\r\n",
        "    # question_char padding\r\n",
        "    q_c = np.zeros((q_w.shape[0], self.QUESTION_MAXLEN, self.WORD_MAXLEN), dtype = np.int32)\r\n",
        "\r\n",
        "    for i, value in batch['char_tokenized_question'].iteritems():\r\n",
        "      v = tf.keras.preprocessing.sequence.pad_sequences(value, padding = 'post', maxlen = self.WORD_MAXLEN, truncating = 'post')\r\n",
        "      to_add = self.QUESTION_MAXLEN - v.shape[0]\r\n",
        "      add = np.zeros((to_add, self.WORD_MAXLEN))\r\n",
        "      arr = np.vstack([v,add])\r\n",
        "      q_c[i] = arr\r\n",
        "\r\n",
        "    # context_char padding\r\n",
        "    c_c = np.zeros((q_w.shape[0], self.CONTEXT_MAXLEN, self.WORD_MAXLEN), dtype = np.int32)\r\n",
        "\r\n",
        "    for i, value in batch['char_tokenized_context'].iteritems():\r\n",
        "      v = tf.keras.preprocessing.sequence.pad_sequences(value, padding = 'post', maxlen = self.WORD_MAXLEN, truncating = 'post')\r\n",
        "      to_add = self.CONTEXT_MAXLEN - v.shape[0]\r\n",
        "      add = np.zeros((to_add, self.WORD_MAXLEN))\r\n",
        "      arr = np.vstack([v,add])\r\n",
        "      c_c[i] = arr\r\n",
        "\r\n",
        "    # one hot encode start and end\r\n",
        "    if self.with_answer:\r\n",
        "      y_start = tf.keras.utils.to_categorical(batch['start'].values, self.CONTEXT_MAXLEN)\r\n",
        "      y_end = tf.keras.utils.to_categorical(batch['end'].values, self.CONTEXT_MAXLEN)\r\n",
        "\r\n",
        "      # (inputs), (outputs), (id)\r\n",
        "      return (q_w, c_w, q_c, c_c), (y_start, y_end), (id,)\r\n",
        "    return (q_c, c_w, q_c, c_c), (id,)"
      ],
      "execution_count": 37,
      "outputs": []
    },
    {
      "cell_type": "code",
      "metadata": {
        "id": "rGTS5gSunCRa"
      },
      "source": [
        "tr_data = SQUAD_dataset(tr_df, batch_size = BATCH_SIZE, question_maxlen = QUESTION_MAXLEN, context_maxlen = CONTEXT_MAXLEN, word_maxlen = WORD_MAXLEN)\r\n",
        "vl_data = SQUAD_dataset(vl_df, batch_size = BATCH_SIZE, question_maxlen = QUESTION_MAXLEN, context_maxlen = CONTEXT_MAXLEN, word_maxlen = WORD_MAXLEN)"
      ],
      "execution_count": 38,
      "outputs": []
    },
    {
      "cell_type": "code",
      "metadata": {
        "colab": {
          "base_uri": "https://localhost:8080/"
        },
        "id": "9VciOKiQtyAx",
        "outputId": "78e41535-bfcf-4f37-c55c-008fcbcb76e2"
      },
      "source": [
        "# number of batches\r\n",
        "print(len(tr_data))\r\n",
        "len(vl_data)"
      ],
      "execution_count": 39,
      "outputs": [
        {
          "output_type": "stream",
          "text": [
            "6961\n"
          ],
          "name": "stdout"
        },
        {
          "output_type": "execute_result",
          "data": {
            "text/plain": [
              "1742"
            ]
          },
          "metadata": {
            "tags": []
          },
          "execution_count": 39
        }
      ]
    },
    {
      "cell_type": "code",
      "metadata": {
        "colab": {
          "base_uri": "https://localhost:8080/"
        },
        "id": "1GtQIVC9zZ5g",
        "outputId": "11a991ff-250f-476c-e144-9de367c12482"
      },
      "source": [
        "tr_data"
      ],
      "execution_count": 40,
      "outputs": [
        {
          "output_type": "execute_result",
          "data": {
            "text/plain": [
              "SQUAD_dataset : questions : (10, 25), contexts : (10, 400), char_questions : (10, 25, 15), char_contexts : (10, 400, 15), id : (10, 1)"
            ]
          },
          "metadata": {
            "tags": []
          },
          "execution_count": 40
        }
      ]
    },
    {
      "cell_type": "code",
      "metadata": {
        "id": "etbiAh9h1-Fg"
      },
      "source": [
        "tr_data.to_pickle('drive/MyDrive/NLP/BIDAF/utils/datasets/train_dataset.pkl')\r\n",
        "vl_data.to_pickle('drive/MyDrive/NLP/BIDAF/utils/datasets/valid_dataset.pkl')"
      ],
      "execution_count": 41,
      "outputs": []
    },
    {
      "cell_type": "markdown",
      "metadata": {
        "id": "QSo5-GcJQe18"
      },
      "source": [
        "Now that the preprocessing is over we can preprocess a (mock) unseen dataset. It is basically the same that the one we have seen just before, but it does not contain the start and end span (text and answer_start fields)"
      ]
    },
    {
      "cell_type": "code",
      "metadata": {
        "colab": {
          "base_uri": "https://localhost:8080/"
        },
        "id": "W8eli84fbubp",
        "outputId": "01f8d755-5f6a-4a8f-8641-19caf072ef2c"
      },
      "source": [
        "# with_answer = False to parse a dataset with no answer\r\n",
        "unseen_dataset = load_dataset(SQUAD_PATH, with_answer = False)"
      ],
      "execution_count": 42,
      "outputs": [
        {
          "output_type": "stream",
          "text": [
            "Reading the json file\n",
            "[INFO] processing...\n",
            "[INFO] there are 87599 questions with single answer\n",
            "[INFO] there are 18891 different contexts\n",
            "[INFO] there are 442 unrelated subjects\n",
            "[INFO] Done\n"
          ],
          "name": "stdout"
        }
      ]
    },
    {
      "cell_type": "code",
      "metadata": {
        "id": "au8aZNFfde5I"
      },
      "source": [
        "s = unseen_dataset.shape[0]"
      ],
      "execution_count": 43,
      "outputs": []
    },
    {
      "cell_type": "code",
      "metadata": {
        "colab": {
          "base_uri": "https://localhost:8080/"
        },
        "id": "McWg6RJy-NOl",
        "outputId": "428c45c3-e90e-4d07-e499-8c05d68961c9"
      },
      "source": [
        "unseen_dataset = clean_dataset(unseen_dataset, with_answer = False)\r\n",
        "unseen_dataset = tokenize(unseen_dataset, tokenizer, char_tokenizer)\r\n",
        "unseen_dataset = unseen_dataset[(unseen_dataset['tokenized_question'].str.len() <= QUESTION_MAXLEN) & (unseen_dataset['tokenized_context'].str.len() <= CONTEXT_MAXLEN)].reset_index(drop = True)\r\n",
        "print(f' we get rid of : {s - (unseen_dataset.shape[0])} samples')"
      ],
      "execution_count": 44,
      "outputs": [
        {
          "output_type": "stream",
          "text": [
            " we get rid of : 496 samples\n"
          ],
          "name": "stdout"
        }
      ]
    },
    {
      "cell_type": "code",
      "metadata": {
        "colab": {
          "base_uri": "https://localhost:8080/"
        },
        "id": "2oPFVcMAAIb-",
        "outputId": "e8ddb325-d2ff-4c16-8aeb-82b3bc57a435"
      },
      "source": [
        "unseen_path = os.path.join(os.getcwd(), 'drive/MyDrive/NLP/BIDAF/utils/data/unseen_set.json')\r\n",
        "df_to_json(unseen_dataset, unseen_path, with_answer = False)"
      ],
      "execution_count": 45,
      "outputs": [
        {
          "output_type": "stream",
          "text": [
            "dataset saved in /content/drive/MyDrive/NLP/BIDAF/utils/data/unseen_set.json\n"
          ],
          "name": "stdout"
        }
      ]
    },
    {
      "cell_type": "code",
      "metadata": {
        "id": "YYsbL8bs_ZFf"
      },
      "source": [
        "unseen_data = SQUAD_dataset(unseen_dataset, batch_size = BATCH_SIZE, question_maxlen = QUESTION_MAXLEN, context_maxlen = CONTEXT_MAXLEN, word_maxlen = WORD_MAXLEN, with_answer = False)"
      ],
      "execution_count": 46,
      "outputs": []
    },
    {
      "cell_type": "code",
      "metadata": {
        "colab": {
          "base_uri": "https://localhost:8080/"
        },
        "id": "koM-e00x_wsM",
        "outputId": "840f4327-399a-4f3a-9553-884f20d6dab6"
      },
      "source": [
        "unseen_data"
      ],
      "execution_count": 47,
      "outputs": [
        {
          "output_type": "execute_result",
          "data": {
            "text/plain": [
              "SQUAD_dataset : questions : (10, 25), contexts : (10, 400), char_questions : (10, 25, 15), char_contexts : (10, 400, 15), id : (10, 1)"
            ]
          },
          "metadata": {
            "tags": []
          },
          "execution_count": 47
        }
      ]
    },
    {
      "cell_type": "code",
      "metadata": {
        "id": "DOWz8V-2_yze"
      },
      "source": [
        "unseen_data.to_pickle('drive/MyDrive/NLP/BIDAF/utils/datasets/unseen_dataset.pkl')"
      ],
      "execution_count": 48,
      "outputs": []
    }
  ]
}