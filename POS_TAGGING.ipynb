{
  "nbformat": 4,
  "nbformat_minor": 0,
  "metadata": {
    "colab": {
      "name": "POS_TAGGING.ipynb",
      "provenance": [],
      "collapsed_sections": [],
      "authorship_tag": "ABX9TyMEFXXhBdUAdL4WrX0rtaNL",
      "include_colab_link": true
    },
    "kernelspec": {
      "display_name": "Python 3",
      "name": "python3"
    }
  },
  "cells": [
    {
      "cell_type": "markdown",
      "metadata": {
        "id": "view-in-github",
        "colab_type": "text"
      },
      "source": [
        "<a href=\"https://colab.research.google.com/github/CorentinMAG/NLP/blob/main/POS_TAGGING.ipynb\" target=\"_parent\"><img src=\"https://colab.research.google.com/assets/colab-badge.svg\" alt=\"Open In Colab\"/></a>"
      ]
    },
    {
      "cell_type": "code",
      "metadata": {
        "id": "v55u57eEyuve"
      },
      "source": [
        "URL = \"https://raw.githubusercontent.com/nltk/nltk_data/gh-pages/packages/corpora/dependency_treebank.zip\""
      ],
      "execution_count": 1,
      "outputs": []
    },
    {
      "cell_type": "markdown",
      "metadata": {
        "id": "aM-YdkAHyzQV"
      },
      "source": [
        "# Assignment 3 : Sequence labelling with RNNs\n",
        "In this assignement we will ask you to perform POS tagging.\n",
        "\n",
        "You are asked to follow these steps:\n",
        "*   Download the corpora and split it in training and test sets, structuring a dataframe.\n",
        "*   Embed the words using GloVe embeddings\n",
        "*   Create a baseline model, using a simple neural architecture\n",
        "*   Experiment doing small modifications to the model\n",
        "*   Evaluate your best model\n",
        "*   Analyze the errors of your model\n",
        "\n",
        "**Corpora**:\n",
        "Ignore the numeric value in the third column, use only the words/symbols and its label.\n",
        "https://raw.githubusercontent.com/nltk/nltk_data/gh-pages/packages/corpora/dependency_treebank.zip \n",
        "\n",
        "**Splits**: documents 1-100 are the train set, 101-150 validation set, 151-199 test set.\n",
        "\n",
        "**Baseline**: two layers architecture: a Bidirectional LSTM and a Dense/Fully-Connected layer on top.\n",
        "\n",
        "**Modifications**: experiment using a GRU instead of the LSTM, adding an additional LSTM layer, and using a CRF in addition to the LSTM. Each of this change must be done by itself (don't mix these modifications).\n",
        "\n",
        "**Training and Experiments**: all the experiments must involve only the training and validation sets.\n",
        "\n",
        "**Evaluation**: in the end, only the best model of your choice must be evaluated on the test set. The main metric must be F1-Macro computed between the various part of speech (without considering punctuation classes).\n",
        "\n",
        "**Error Analysis** (optional) : analyze the errors done by your model, try to understand which may be the causes and think about how to improve it.\n",
        "\n",
        "**Report**: You are asked to deliver a small report of about 4-5 lines in the .txt file that sums up your findings."
      ]
    },
    {
      "cell_type": "code",
      "metadata": {
        "id": "oEGeac3Zy1nZ"
      },
      "source": [
        "# usefuls import\n",
        "import pandas as pd\n",
        "import numpy as np\n",
        "import os\n",
        "from urllib import request\n",
        "from zipfile import ZipFile\n",
        "import shutil\n",
        "import re\n",
        "import gensim\n",
        "import gensim.downloader as gloader\n",
        "from keras.models import Sequential\n",
        "from keras.layers import Dense, Embedding, LSTM, GRU, Bidirectional,TimeDistributed, Dropout\n",
        "from keras.models import Model\n",
        "import matplotlib.pyplot as plt\n",
        "from copy import deepcopy\n",
        "import tensorflow as tf\n",
        "from sklearn.metrics import f1_score"
      ],
      "execution_count": 2,
      "outputs": []
    },
    {
      "cell_type": "markdown",
      "metadata": {
        "id": "4dajR6ZzzNQS"
      },
      "source": [
        "# Download the dataset"
      ]
    },
    {
      "cell_type": "code",
      "metadata": {
        "id": "Zm-EiwD3zPds"
      },
      "source": [
        "def download(url,folder=None):\n",
        "    _curr = '/content/'\n",
        "    \n",
        "    if folder is None:\n",
        "        _folder = os.path.join(_curr,\"Datasets\")\n",
        "    else:\n",
        "        _folder = os.path.join(_curr,folder)\n",
        "    \n",
        "    if not os.path.exists(_folder):\n",
        "        os.makedirs(_folder)\n",
        "    \n",
        "    _download = os.path.join(_folder,\"dataset.zip\")\n",
        "        \n",
        "    if not os.path.exists(_download):\n",
        "        print('Downloading dataset...')\n",
        "        request.urlretrieve(url,_download)\n",
        "        with ZipFile(_download) as f:\n",
        "            f.extractall(_folder)\n",
        "    _dataset = os.path.join(_folder,\"dependency_treebank\")\n",
        "    print('Done !')\n",
        "    return _dataset\n",
        "\n",
        "def split_files(corpora,train_length,test_length,validation_length):\n",
        "    _folder = corpora\n",
        "    if len(os.listdir(_folder)) != 3:\n",
        "        train_folder = os.path.join(_folder,\"train\")\n",
        "        test_folder = os.path.join(_folder,\"test\")\n",
        "        validation_folder = os.path.join(_folder,\"validation\")\n",
        "        os.makedirs(train_folder)\n",
        "        os.makedirs(test_folder)\n",
        "        os.makedirs(validation_folder)\n",
        "        for f in os.listdir(_folder):\n",
        "            file_path = os.path.join(_folder,f)\n",
        "            if os.path.isfile(file_path):\n",
        "                number = int(f.split('.')[0].split('_')[1])\n",
        "                if train_length[0] <= number <= train_length[1]:\n",
        "                    shutil.move(file_path,train_folder)\n",
        "                if test_length[0] <= number <= test_length[1]:\n",
        "                    shutil.move(file_path,test_folder)\n",
        "                if validation_length[0] <= number <= validation_length[1]:\n",
        "                    shutil.move(file_path,validation_folder)"
      ],
      "execution_count": 3,
      "outputs": []
    },
    {
      "cell_type": "code",
      "metadata": {
        "colab": {
          "base_uri": "https://localhost:8080/"
        },
        "id": "PlheDORGzZ2k",
        "outputId": "e76c9c49-7aff-4ce1-9b0d-65c9b1a28d1c"
      },
      "source": [
        "# we download the corpora\n",
        "path = download(URL)"
      ],
      "execution_count": 4,
      "outputs": [
        {
          "output_type": "stream",
          "text": [
            "Downloading dataset...\n",
            "Done !\n"
          ],
          "name": "stdout"
        }
      ]
    },
    {
      "cell_type": "markdown",
      "metadata": {
        "id": "M6LdJqIHzmzD"
      },
      "source": [
        "Now we have all files in the same folder, we will create a train/valid and test folder "
      ]
    },
    {
      "cell_type": "code",
      "metadata": {
        "id": "yb5bLFNgzyp8"
      },
      "source": [
        "split_files(path,[1,100],[151,199],[101,150])"
      ],
      "execution_count": 5,
      "outputs": []
    },
    {
      "cell_type": "code",
      "metadata": {
        "colab": {
          "base_uri": "https://localhost:8080/"
        },
        "id": "WvqWfAGrz_sp",
        "outputId": "a943d92e-347f-456e-d1c9-1b8e4c4b83fd"
      },
      "source": [
        "sorted(os.listdir(path))"
      ],
      "execution_count": 6,
      "outputs": [
        {
          "output_type": "execute_result",
          "data": {
            "text/plain": [
              "['test', 'train', 'validation']"
            ]
          },
          "metadata": {
            "tags": []
          },
          "execution_count": 6
        }
      ]
    },
    {
      "cell_type": "code",
      "metadata": {
        "id": "TFZBfiNu0CH4"
      },
      "source": [
        "test_path,train_path,validation_path = [os.path.join(path,x) for x in os.listdir(path)]"
      ],
      "execution_count": 7,
      "outputs": []
    },
    {
      "cell_type": "markdown",
      "metadata": {
        "id": "MqrA3_GQ0FHS"
      },
      "source": [
        "Now that we have a better architecture, we can load the data"
      ]
    },
    {
      "cell_type": "markdown",
      "metadata": {
        "id": "8LZ93fUl0OkK"
      },
      "source": [
        "# Load data\n",
        "\n",
        "Well now we need to load the data. We will create 3 dataframes for the training/validation and test set.\n",
        "\n",
        "* Each row in a dataframe represents a file\n",
        "\n",
        "A dataframe contains 3 columns:\n",
        "* 1st : sequence of words in the file\n",
        "* 2nd : the sequence of tag\n",
        "* 3rd : the id of the file"
      ]
    },
    {
      "cell_type": "code",
      "metadata": {
        "id": "iZ0qcVCN0PCa"
      },
      "source": [
        "def create_dataframe(path):\n",
        "    _df = pd.DataFrame(columns=['w_sequence','t_sequence','f_id'])\n",
        "    i = 0\n",
        "    for file in os.listdir(path):\n",
        "        _file = os.path.join(path,file)\n",
        "        f_id = re.findall('\\d+',file)[0]\n",
        "        w_seq = []\n",
        "        t_seq = []\n",
        "        with open(_file) as f:\n",
        "            for row in f:\n",
        "                if row == '\\n':continue\n",
        "                w = row.split('\\t')[0]\n",
        "                t = row.split('\\t')[1]\n",
        "                w_seq.append(w)\n",
        "                t_seq.append(t)\n",
        "        _df.loc[-1] = [w_seq, t_seq,f_id]\n",
        "        _df.index = _df.index + 1  \n",
        "        _df = _df.sort_index()\n",
        "    return _df"
      ],
      "execution_count": 8,
      "outputs": []
    },
    {
      "cell_type": "code",
      "metadata": {
        "id": "6W5wk8sh1Wcr"
      },
      "source": [
        "tr_df = create_dataframe(train_path)\n",
        "valid_df = create_dataframe(validation_path)\n",
        "ts_df = create_dataframe(test_path)"
      ],
      "execution_count": 9,
      "outputs": []
    },
    {
      "cell_type": "code",
      "metadata": {
        "colab": {
          "base_uri": "https://localhost:8080/",
          "height": 202
        },
        "id": "DgmX6oAV1YXI",
        "outputId": "31f0c801-cca3-4bb3-b5e0-1f711ab9a066"
      },
      "source": [
        "tr_df.head()"
      ],
      "execution_count": 10,
      "outputs": [
        {
          "output_type": "execute_result",
          "data": {
            "text/html": [
              "<div>\n",
              "<style scoped>\n",
              "    .dataframe tbody tr th:only-of-type {\n",
              "        vertical-align: middle;\n",
              "    }\n",
              "\n",
              "    .dataframe tbody tr th {\n",
              "        vertical-align: top;\n",
              "    }\n",
              "\n",
              "    .dataframe thead th {\n",
              "        text-align: right;\n",
              "    }\n",
              "</style>\n",
              "<table border=\"1\" class=\"dataframe\">\n",
              "  <thead>\n",
              "    <tr style=\"text-align: right;\">\n",
              "      <th></th>\n",
              "      <th>w_sequence</th>\n",
              "      <th>t_sequence</th>\n",
              "      <th>f_id</th>\n",
              "    </tr>\n",
              "  </thead>\n",
              "  <tbody>\n",
              "    <tr>\n",
              "      <th>0</th>\n",
              "      <td>[PAPERS, :, Backe, Group, Inc., agreed, to, ac...</td>\n",
              "      <td>[NNS, :, NNP, NNP, NNP, VBD, TO, VB, NNP, NNP,...</td>\n",
              "      <td>0052</td>\n",
              "    </tr>\n",
              "    <tr>\n",
              "      <th>1</th>\n",
              "      <td>[Italian, chemical, giant, Montedison, S.p.A.,...</td>\n",
              "      <td>[JJ, NN, NN, NNP, NNP, ,, IN, PRP$, NNP, NNP, ...</td>\n",
              "      <td>0032</td>\n",
              "    </tr>\n",
              "    <tr>\n",
              "      <th>2</th>\n",
              "      <td>[The, U.S., and, Soviet, Union, are, holding, ...</td>\n",
              "      <td>[DT, NNP, CC, NNP, NNP, VBP, VBG, JJ, NNS, IN,...</td>\n",
              "      <td>0035</td>\n",
              "    </tr>\n",
              "    <tr>\n",
              "      <th>3</th>\n",
              "      <td>[Newsweek, ,, trying, to, keep, pace, with, ri...</td>\n",
              "      <td>[NNP, ,, VBG, TO, VB, NN, IN, JJ, NNP, NN, ,, ...</td>\n",
              "      <td>0012</td>\n",
              "    </tr>\n",
              "    <tr>\n",
              "      <th>4</th>\n",
              "      <td>[The, Treasury, said, it, plans, to, sell, $, ...</td>\n",
              "      <td>[DT, NNP, VBD, PRP, VBZ, TO, VB, $, CD, CD, IN...</td>\n",
              "      <td>0075</td>\n",
              "    </tr>\n",
              "  </tbody>\n",
              "</table>\n",
              "</div>"
            ],
            "text/plain": [
              "                                          w_sequence  ...  f_id\n",
              "0  [PAPERS, :, Backe, Group, Inc., agreed, to, ac...  ...  0052\n",
              "1  [Italian, chemical, giant, Montedison, S.p.A.,...  ...  0032\n",
              "2  [The, U.S., and, Soviet, Union, are, holding, ...  ...  0035\n",
              "3  [Newsweek, ,, trying, to, keep, pace, with, ri...  ...  0012\n",
              "4  [The, Treasury, said, it, plans, to, sell, $, ...  ...  0075\n",
              "\n",
              "[5 rows x 3 columns]"
            ]
          },
          "metadata": {
            "tags": []
          },
          "execution_count": 10
        }
      ]
    },
    {
      "cell_type": "code",
      "metadata": {
        "colab": {
          "base_uri": "https://localhost:8080/"
        },
        "id": "QDN65ekp1aZz",
        "outputId": "cc3acbe3-0b8a-43c7-fb6d-3dbb10d786cb"
      },
      "source": [
        "print(f\" the training set contains {tr_df.shape[0]} files \")"
      ],
      "execution_count": 11,
      "outputs": [
        {
          "output_type": "stream",
          "text": [
            " the training set contains 100 files \n"
          ],
          "name": "stdout"
        }
      ]
    },
    {
      "cell_type": "markdown",
      "metadata": {
        "id": "JyhMjJsV1mXy"
      },
      "source": [
        "# Data Visualization\n",
        "\n",
        "In this step, we will try to know a bit more about our data"
      ]
    },
    {
      "cell_type": "markdown",
      "metadata": {
        "id": "DKOWWKyO1sfr"
      },
      "source": [
        "## Training dataset"
      ]
    },
    {
      "cell_type": "code",
      "metadata": {
        "colab": {
          "base_uri": "https://localhost:8080/",
          "height": 301
        },
        "id": "RLgL917D1qNv",
        "outputId": "60300966-802c-4aac-d147-e56d6d4c0ef6"
      },
      "source": [
        "all_t = pd.Series([x for _list in tr_df['t_sequence'] for x in _list])\n",
        "all_t.value_counts().plot.bar()"
      ],
      "execution_count": 12,
      "outputs": [
        {
          "output_type": "execute_result",
          "data": {
            "text/plain": [
              "<matplotlib.axes._subplots.AxesSubplot at 0x7f7e72f0f668>"
            ]
          },
          "metadata": {
            "tags": []
          },
          "execution_count": 12
        },
        {
          "output_type": "display_data",
          "data": {
            "image/png": "[encoded data removed]",
            "text/plain": [
              "<Figure size 432x288 with 1 Axes>"
            ]
          },
          "metadata": {
            "tags": [],
            "needs_background": "light"
          }
        }
      ]
    },
    {
      "cell_type": "code",
      "metadata": {
        "colab": {
          "base_uri": "https://localhost:8080/"
        },
        "id": "gu-eNMpd1xZY",
        "outputId": "257c1411-61d5-4955-c1a3-1d365ac7c134"
      },
      "source": [
        "print(\"the most represented tokens in the training set :\\n\")\n",
        "all_t.value_counts()[:5]"
      ],
      "execution_count": 13,
      "outputs": [
        {
          "output_type": "stream",
          "text": [
            "the most represented tokens in the training set :\n",
            "\n"
          ],
          "name": "stdout"
        },
        {
          "output_type": "execute_result",
          "data": {
            "text/plain": [
              "NN     6270\n",
              "NNP    5202\n",
              "IN     4952\n",
              "DT     4076\n",
              "NNS    3004\n",
              "dtype: int64"
            ]
          },
          "metadata": {
            "tags": []
          },
          "execution_count": 13
        }
      ]
    },
    {
      "cell_type": "markdown",
      "metadata": {
        "id": "l0fGivxk10Mg"
      },
      "source": [
        "Below we can see all the POS tokens available."
      ]
    },
    {
      "cell_type": "code",
      "metadata": {
        "colab": {
          "base_uri": "https://localhost:8080/"
        },
        "id": "-oNs8ng010o2",
        "outputId": "2c74240d-9c9a-4fa9-cb00-d7288564be89"
      },
      "source": [
        "pd.unique(all_t)"
      ],
      "execution_count": 14,
      "outputs": [
        {
          "output_type": "execute_result",
          "data": {
            "text/plain": [
              "array(['NNS', ':', 'NNP', 'VBD', 'TO', 'VB', ',', 'WDT', 'VBZ', 'CD',\n",
              "       'NN', 'CC', 'JJ', 'IN', '$', '.', 'RB', 'VBN', 'DT', 'PRP$', 'VBG',\n",
              "       'NNPS', 'POS', 'VBP', 'PRP', 'MD', '``', \"''\", 'JJR', 'WP', 'RP',\n",
              "       'JJS', '-LRB-', '-RRB-', 'RBR', 'RBS', 'WP$', 'WRB', 'EX', 'PDT',\n",
              "       'LS', 'UH', '#', 'SYM', 'FW'], dtype=object)"
            ]
          },
          "metadata": {
            "tags": []
          },
          "execution_count": 14
        }
      ]
    },
    {
      "cell_type": "code",
      "metadata": {
        "colab": {
          "base_uri": "https://localhost:8080/"
        },
        "id": "oi2LLGeX131C",
        "outputId": "dedbb0f1-367a-4690-dd34-aa36023cb0a2"
      },
      "source": [
        "print(f\" we have : {len(pd.unique(all_t))} differents tokens in the training set\")"
      ],
      "execution_count": 15,
      "outputs": [
        {
          "output_type": "stream",
          "text": [
            " we have : 45 differents tokens in the training set\n"
          ],
          "name": "stdout"
        }
      ]
    },
    {
      "cell_type": "code",
      "metadata": {
        "colab": {
          "base_uri": "https://localhost:8080/"
        },
        "id": "ULilk9uR15yA",
        "outputId": "0d23baa9-d901-4c25-f691-0a43d1df5bc0"
      },
      "source": [
        "all_w = pd.Series([x for _list in tr_df['w_sequence'] for x in _list])\n",
        "print(f\" there are {len(all_w)} words in the training dataset \")"
      ],
      "execution_count": 16,
      "outputs": [
        {
          "output_type": "stream",
          "text": [
            " there are 47356 words in the training dataset \n"
          ],
          "name": "stdout"
        }
      ]
    },
    {
      "cell_type": "code",
      "metadata": {
        "colab": {
          "base_uri": "https://localhost:8080/",
          "height": 291
        },
        "id": "ZbiPisWw2BgH",
        "outputId": "2c778ddd-d5a6-4309-e0c9-f7b2680434b0"
      },
      "source": [
        "all_w.value_counts()[:10].plot.bar()"
      ],
      "execution_count": 17,
      "outputs": [
        {
          "output_type": "execute_result",
          "data": {
            "text/plain": [
              "<matplotlib.axes._subplots.AxesSubplot at 0x7f7e72d3ef60>"
            ]
          },
          "metadata": {
            "tags": []
          },
          "execution_count": 17
        },
        {
          "output_type": "display_data",
          "data": {
            "image/png": "[encoded data removed]",
            "text/plain": [
              "<Figure size 432x288 with 1 Axes>"
            ]
          },
          "metadata": {
            "tags": [],
            "needs_background": "light"
          }
        }
      ]
    },
    {
      "cell_type": "markdown",
      "metadata": {
        "id": "RjJkqXgp2Hvp"
      },
      "source": [
        "Above we have the most representated words in the training dataset.\n",
        "We can see that punctuation mark (, and .) are highly represented as well as common english stopwords."
      ]
    },
    {
      "cell_type": "markdown",
      "metadata": {
        "id": "udYvSsAB2JzE"
      },
      "source": [
        "## Validation dataset"
      ]
    },
    {
      "cell_type": "code",
      "metadata": {
        "colab": {
          "base_uri": "https://localhost:8080/",
          "height": 301
        },
        "id": "TJ7I2O2k2LZp",
        "outputId": "59a270de-7108-4302-b0a9-46f0fb17dcc6"
      },
      "source": [
        "allv_t = pd.Series([x for _list in valid_df['t_sequence'] for x in _list])\n",
        "allv_t.value_counts().plot.bar()"
      ],
      "execution_count": 18,
      "outputs": [
        {
          "output_type": "execute_result",
          "data": {
            "text/plain": [
              "<matplotlib.axes._subplots.AxesSubplot at 0x7f7e7287eb00>"
            ]
          },
          "metadata": {
            "tags": []
          },
          "execution_count": 18
        },
        {
          "output_type": "display_data",
          "data": {
            "image/png": "[encoded data removed]",
            "text/plain": [
              "<Figure size 432x288 with 1 Axes>"
            ]
          },
          "metadata": {
            "tags": [],
            "needs_background": "light"
          }
        }
      ]
    },
    {
      "cell_type": "code",
      "metadata": {
        "colab": {
          "base_uri": "https://localhost:8080/"
        },
        "id": "9UtoKL1O2O2K",
        "outputId": "59bed7a1-e898-4caa-c402-d4e850b469ae"
      },
      "source": [
        "print(f\" we have : {len(pd.unique(all_t))} differents tokens in the validation dataset\")"
      ],
      "execution_count": 19,
      "outputs": [
        {
          "output_type": "stream",
          "text": [
            " we have : 45 differents tokens in the validation dataset\n"
          ],
          "name": "stdout"
        }
      ]
    },
    {
      "cell_type": "code",
      "metadata": {
        "colab": {
          "base_uri": "https://localhost:8080/"
        },
        "id": "03ffhYwJ2Q8V",
        "outputId": "e26a9f94-2955-4947-85aa-190ff6c44d4a"
      },
      "source": [
        "all_lw = pd.Series([x for _list in valid_df['w_sequence'] for x in _list])\n",
        "print(f\"there are {len(all_lw)} words in the validation dataset\")"
      ],
      "execution_count": 20,
      "outputs": [
        {
          "output_type": "stream",
          "text": [
            "there are 31183 words in the validation dataset\n"
          ],
          "name": "stdout"
        }
      ]
    },
    {
      "cell_type": "markdown",
      "metadata": {
        "id": "4Y-v_flQ2ige"
      },
      "source": [
        "## Test dataset"
      ]
    },
    {
      "cell_type": "code",
      "metadata": {
        "colab": {
          "base_uri": "https://localhost:8080/"
        },
        "id": "e2djIaen2jqv",
        "outputId": "babe73af-2b42-42bf-dcd2-e6ecbbeae11a"
      },
      "source": [
        "all_tt = pd.Series([x for _list in ts_df['t_sequence'] for x in _list])\n",
        "print(f\" we have : {len(pd.unique(all_tt))} differents tokens in the test dataset\")"
      ],
      "execution_count": 21,
      "outputs": [
        {
          "output_type": "stream",
          "text": [
            " we have : 40 differents tokens in the test dataset\n"
          ],
          "name": "stdout"
        }
      ]
    },
    {
      "cell_type": "code",
      "metadata": {
        "colab": {
          "base_uri": "https://localhost:8080/"
        },
        "id": "VAnnHqo92mYO",
        "outputId": "c81604b0-0f68-474c-a902-5574dbaee677"
      },
      "source": [
        "print(f\" there are {len(all_tt)} words in the test dataset\")"
      ],
      "execution_count": 22,
      "outputs": [
        {
          "output_type": "stream",
          "text": [
            " there are 15545 words in the test dataset\n"
          ],
          "name": "stdout"
        }
      ]
    },
    {
      "cell_type": "markdown",
      "metadata": {
        "id": "4XbLhVx13EsD"
      },
      "source": [
        "**The distribution of words and tokens is quite the same in all datasets**"
      ]
    },
    {
      "cell_type": "code",
      "metadata": {
        "colab": {
          "base_uri": "https://localhost:8080/",
          "height": 297
        },
        "id": "P66qwdf03LDM",
        "outputId": "1a8d4b7f-42ed-4cb4-ed37-07e690db2e42"
      },
      "source": [
        "pd.Series({\"train\":len(all_w),\"valid\":len(allv_t),\"test\":len(all_tt)}).plot.bar()"
      ],
      "execution_count": 23,
      "outputs": [
        {
          "output_type": "execute_result",
          "data": {
            "text/plain": [
              "<matplotlib.axes._subplots.AxesSubplot at 0x7f7e72724828>"
            ]
          },
          "metadata": {
            "tags": []
          },
          "execution_count": 23
        },
        {
          "output_type": "display_data",
          "data": {
            "image/png": "[encoded data removed]",
            "text/plain": [
              "<Figure size 432x288 with 1 Axes>"
            ]
          },
          "metadata": {
            "tags": [],
            "needs_background": "light"
          }
        }
      ]
    },
    {
      "cell_type": "markdown",
      "metadata": {
        "id": "7jW8RYpl4Cc6"
      },
      "source": [
        "Above we can see the number of words in each dataset\n",
        "\n",
        "Now that we have all our data, we will need to preprocess them.\n",
        "\n",
        "Indeed, we will feed a neural network which can only compute numbers. So, we will need to embed our words (it's the most efficient way to represent words) and map these vectors to integer. "
      ]
    },
    {
      "cell_type": "markdown",
      "metadata": {
        "id": "OQYlEPdD6BXk"
      },
      "source": [
        "# Preprocessing\n",
        "\n",
        "The preprocessing part can be split in severals steps:\n",
        "* download a pre-trained embedding model called Glove\n",
        "* create a vocabulary from the Glove model\n",
        "* compute embedding for out of vocabulary words of the training dataset\n",
        "* update the vocabulary\n",
        "* repeat the last 2 steps for the validation and test dataset\n",
        "\n",
        "It's not very rigorous, in a real world case scenario, we will train the model before each vocabulary update. But will do as is for sake of simplicity."
      ]
    },
    {
      "cell_type": "markdown",
      "metadata": {
        "id": "rkk7N3QE87yP"
      },
      "source": [
        "## Download Glove embedding model"
      ]
    },
    {
      "cell_type": "code",
      "metadata": {
        "id": "nLtyw5xX8jxO"
      },
      "source": [
        "EMBEDDING_SIZE = 300"
      ],
      "execution_count": 24,
      "outputs": []
    },
    {
      "cell_type": "code",
      "metadata": {
        "id": "E5voSfrO7r5H"
      },
      "source": [
        "def download_glove_embedding(embedding_dimension=50):\n",
        "  download_path = \"glove-wiki-gigaword-{}\".format(embedding_dimension)\n",
        "  try:\n",
        "    emb_model = gloader.load(download_path)\n",
        "  except ValueError as e:\n",
        "      print(\"Glove: 50, 100, 200, 300\")\n",
        "      raise e\n",
        "  return emb_model"
      ],
      "execution_count": 25,
      "outputs": []
    },
    {
      "cell_type": "code",
      "metadata": {
        "colab": {
          "base_uri": "https://localhost:8080/"
        },
        "id": "RgmFcdgV8nM8",
        "outputId": "ad08ae7c-2f73-4e16-a867-e67ed2ee4626"
      },
      "source": [
        "glove_model = download_glove_embedding(EMBEDDING_SIZE)"
      ],
      "execution_count": 26,
      "outputs": [
        {
          "output_type": "stream",
          "text": [
            "[==================================================] 100.0% 376.1/376.1MB downloaded\n"
          ],
          "name": "stdout"
        }
      ]
    },
    {
      "cell_type": "code",
      "metadata": {
        "colab": {
          "base_uri": "https://localhost:8080/"
        },
        "id": "Sm-E3SKy-N-o",
        "outputId": "8b9b485f-dad7-47a4-c4f7-ef322d1bc416"
      },
      "source": [
        "print(f\"size of the vocab of the pre-trained model : {len(glove_model.vocab)}\")"
      ],
      "execution_count": 27,
      "outputs": [
        {
          "output_type": "stream",
          "text": [
            "size of the vocab of the pre-trained model : 400000\n"
          ],
          "name": "stdout"
        }
      ]
    },
    {
      "cell_type": "markdown",
      "metadata": {
        "id": "noL-Q3O59wfe"
      },
      "source": [
        "## Create a vocabulary from the Glove model\n",
        "\n",
        "Now that we have a pre-trained model with 400 000 words we can use this model as our bare vocabulary and adding afterwards out of vocabulary words.  \n",
        "We have also to add a PAD token."
      ]
    },
    {
      "cell_type": "code",
      "metadata": {
        "id": "vNIGmzDSAU-2"
      },
      "source": [
        "vocab = deepcopy(glove_model.vocab)"
      ],
      "execution_count": 28,
      "outputs": []
    },
    {
      "cell_type": "code",
      "metadata": {
        "id": "lAOaLuaU-z0b"
      },
      "source": [
        "def update_vocab(vocab,new_vocab):\n",
        "  vocab.update(new_vocab)"
      ],
      "execution_count": 29,
      "outputs": []
    },
    {
      "cell_type": "code",
      "metadata": {
        "id": "RSr2l8MIAhCR"
      },
      "source": [
        "def compute_oov_embedding(vocabulary,df):\n",
        "  oov = {}\n",
        "  vocab = pd.Series([x for _list in df['w_sequence'] for x in _list])\n",
        "  vocab = vocab.drop_duplicates()\n",
        "  vocab = vocab.to_list()\n",
        "  for w in vocab:\n",
        "    if w not in vocabulary:\n",
        "      oov[w] = np.random.randn(1,EMBEDDING_SIZE) # we handle oov words by computing a random embedding\n",
        "  return oov"
      ],
      "execution_count": 30,
      "outputs": []
    },
    {
      "cell_type": "code",
      "metadata": {
        "id": "8-zY6piUBzPy"
      },
      "source": [
        "training_oov = compute_oov_embedding(vocab,tr_df) # we compute embedding for oov in the training dataset\n",
        "update_vocab(vocab,training_oov) # we update the vocabulary with new embeddings\n",
        "validation_oov = compute_oov_embedding(vocab,valid_df)\n",
        "update_vocab(vocab,validation_oov)\n",
        "testing_oov = compute_oov_embedding(vocab,ts_df)\n",
        "update_vocab(vocab,testing_oov)"
      ],
      "execution_count": 31,
      "outputs": []
    },
    {
      "cell_type": "code",
      "metadata": {
        "colab": {
          "base_uri": "https://localhost:8080/"
        },
        "id": "cXzwc6_8Cnx-",
        "outputId": "c168791f-31f4-49cb-e397-ddbc7ccafada"
      },
      "source": [
        "print(f\" size of the final vocabulary : {len(vocab)}\")"
      ],
      "execution_count": 32,
      "outputs": [
        {
          "output_type": "stream",
          "text": [
            " size of the final vocabulary : 403745\n"
          ],
          "name": "stdout"
        }
      ]
    },
    {
      "cell_type": "markdown",
      "metadata": {
        "id": "hXa5VCJWCy8l"
      },
      "source": [
        "Now that we have all words in the vocabulary we need a way to retrieve them by their index "
      ]
    },
    {
      "cell_type": "code",
      "metadata": {
        "id": "nqmKls1gDDLA"
      },
      "source": [
        "def adapt_vocab(vocab):\n",
        "  word_list = [\"PAD\"] # we add the PAD token\n",
        "  for w in vocab:\n",
        "    word_list.append(w)\n",
        "  idx_to_word = pd.Series(word_list,index = [i for i in range(len(word_list))])\n",
        "  idx_to_word = idx_to_word.to_dict()\n",
        "  word_to_idx = pd.Series(data = [x for x in range(len(idx_to_word))],index=word_list).to_dict()\n",
        "  return word_list,idx_to_word,word_to_idx"
      ],
      "execution_count": 33,
      "outputs": []
    },
    {
      "cell_type": "code",
      "metadata": {
        "id": "5Jxc-Z8ODeQr"
      },
      "source": [
        "word_list,idx_to_word,word_to_idx = adapt_vocab(vocab)"
      ],
      "execution_count": 34,
      "outputs": []
    },
    {
      "cell_type": "markdown",
      "metadata": {
        "id": "bvhxa6xSEr6d"
      },
      "source": [
        "We can now map our word with their embedding in the embedding matrix"
      ]
    },
    {
      "cell_type": "markdown",
      "metadata": {
        "id": "pbCX1TOAPQ8r"
      },
      "source": [
        "## Embedding matrix"
      ]
    },
    {
      "cell_type": "code",
      "metadata": {
        "id": "AtzuvL3vEy0W"
      },
      "source": [
        "def create_embedding_matrix(model,vocab,word_list,idx_to_word,word_to_idx):\n",
        "  v = len(word_list)\n",
        "  embedding_matrix = np.zeros((v,EMBEDDING_SIZE))\n",
        "  for w,i in word_to_idx.items():\n",
        "    if w == 'PAD': \n",
        "      embedding_matrix[i] = np.zeros((1,EMBEDDING_SIZE))\n",
        "    elif w in model.vocab:\n",
        "      embedding_matrix[i] = model.get_vector(w)\n",
        "    else:\n",
        "      embedding_matrix[i] = vocab[w]\n",
        "  return embedding_matrix"
      ],
      "execution_count": 35,
      "outputs": []
    },
    {
      "cell_type": "code",
      "metadata": {
        "id": "TquVKcVbGZcq"
      },
      "source": [
        "embedding_matrix = create_embedding_matrix(glove_model,vocab,word_list,idx_to_word,word_to_idx)"
      ],
      "execution_count": 36,
      "outputs": []
    },
    {
      "cell_type": "code",
      "metadata": {
        "colab": {
          "base_uri": "https://localhost:8080/"
        },
        "id": "GAzXQofXPIhg",
        "outputId": "fe3e0db2-f093-4206-9a0d-3e2aa53aad8e"
      },
      "source": [
        "embedding_matrix.shape"
      ],
      "execution_count": 37,
      "outputs": [
        {
          "output_type": "execute_result",
          "data": {
            "text/plain": [
              "(403746, 300)"
            ]
          },
          "metadata": {
            "tags": []
          },
          "execution_count": 37
        }
      ]
    },
    {
      "cell_type": "markdown",
      "metadata": {
        "id": "OczLRXi7PTzq"
      },
      "source": [
        "## Word Tokenization\n",
        "\n",
        "We will map each word with the corresponding index"
      ]
    },
    {
      "cell_type": "code",
      "metadata": {
        "id": "O39813LGPWoj"
      },
      "source": [
        "def tokenization(seq,word_to_idx):\n",
        "    return np.array([word_to_idx[x] for x in seq])"
      ],
      "execution_count": 38,
      "outputs": []
    },
    {
      "cell_type": "code",
      "metadata": {
        "id": "uODrqj_9PoBB"
      },
      "source": [
        "# we encode the training set\n",
        "tr_df['w_encoded'] = tr_df['w_sequence'].apply(lambda x:tokenization(x,word_to_idx))\n",
        "\n",
        "# and we do the same for the validation set\n",
        "valid_df['w_encoded'] = valid_df['w_sequence'].apply(lambda x:tokenization(x,word_to_idx))\n",
        "\n",
        "# and for the test dataset\n",
        "ts_df['w_encoded'] = ts_df['w_sequence'].apply(lambda x:tokenization(x,word_to_idx))"
      ],
      "execution_count": 39,
      "outputs": []
    },
    {
      "cell_type": "code",
      "metadata": {
        "colab": {
          "base_uri": "https://localhost:8080/",
          "height": 202
        },
        "id": "71vf0MlgPvAK",
        "outputId": "f19527a6-44d1-4459-b841-b50f3caab2bd"
      },
      "source": [
        "tr_df.head()"
      ],
      "execution_count": 40,
      "outputs": [
        {
          "output_type": "execute_result",
          "data": {
            "text/html": [
              "<div>\n",
              "<style scoped>\n",
              "    .dataframe tbody tr th:only-of-type {\n",
              "        vertical-align: middle;\n",
              "    }\n",
              "\n",
              "    .dataframe tbody tr th {\n",
              "        vertical-align: top;\n",
              "    }\n",
              "\n",
              "    .dataframe thead th {\n",
              "        text-align: right;\n",
              "    }\n",
              "</style>\n",
              "<table border=\"1\" class=\"dataframe\">\n",
              "  <thead>\n",
              "    <tr style=\"text-align: right;\">\n",
              "      <th></th>\n",
              "      <th>w_sequence</th>\n",
              "      <th>t_sequence</th>\n",
              "      <th>f_id</th>\n",
              "      <th>w_encoded</th>\n",
              "    </tr>\n",
              "  </thead>\n",
              "  <tbody>\n",
              "    <tr>\n",
              "      <th>0</th>\n",
              "      <td>[PAPERS, :, Backe, Group, Inc., agreed, to, ac...</td>\n",
              "      <td>[NNS, :, NNP, NNP, NNP, VBD, TO, VB, NNP, NNP,...</td>\n",
              "      <td>0052</td>\n",
              "      <td>[400001, 46, 400002, 400003, 400004, 738, 5, 5...</td>\n",
              "    </tr>\n",
              "    <tr>\n",
              "      <th>1</th>\n",
              "      <td>[Italian, chemical, giant, Montedison, S.p.A.,...</td>\n",
              "      <td>[JJ, NN, NN, NNP, NNP, ,, IN, PRP$, NNP, NNP, ...</td>\n",
              "      <td>0032</td>\n",
              "      <td>[400019, 2292, 1753, 400020, 400021, 2, 132, 4...</td>\n",
              "    </tr>\n",
              "    <tr>\n",
              "      <th>2</th>\n",
              "      <td>[The, U.S., and, Soviet, Union, are, holding, ...</td>\n",
              "      <td>[DT, NNP, CC, NNP, NNP, VBP, VBG, JJ, NNS, IN,...</td>\n",
              "      <td>0035</td>\n",
              "      <td>[400027, 400032, 6, 400033, 400034, 33, 1384, ...</td>\n",
              "    </tr>\n",
              "    <tr>\n",
              "      <th>3</th>\n",
              "      <td>[Newsweek, ,, trying, to, keep, pace, with, ri...</td>\n",
              "      <td>[NNP, ,, VBG, TO, VB, NN, IN, JJ, NNP, NN, ,, ...</td>\n",
              "      <td>0012</td>\n",
              "      <td>[400069, 2, 596, 5, 579, 2409, 18, 1746, 40007...</td>\n",
              "    </tr>\n",
              "    <tr>\n",
              "      <th>4</th>\n",
              "      <td>[The, Treasury, said, it, plans, to, sell, $, ...</td>\n",
              "      <td>[DT, NNP, VBD, PRP, VBZ, TO, VB, $, CD, CD, IN...</td>\n",
              "      <td>0075</td>\n",
              "      <td>[400027, 400103, 17, 21, 560, 5, 1244, 81, 408...</td>\n",
              "    </tr>\n",
              "  </tbody>\n",
              "</table>\n",
              "</div>"
            ],
            "text/plain": [
              "                                          w_sequence  ...                                          w_encoded\n",
              "0  [PAPERS, :, Backe, Group, Inc., agreed, to, ac...  ...  [400001, 46, 400002, 400003, 400004, 738, 5, 5...\n",
              "1  [Italian, chemical, giant, Montedison, S.p.A.,...  ...  [400019, 2292, 1753, 400020, 400021, 2, 132, 4...\n",
              "2  [The, U.S., and, Soviet, Union, are, holding, ...  ...  [400027, 400032, 6, 400033, 400034, 33, 1384, ...\n",
              "3  [Newsweek, ,, trying, to, keep, pace, with, ri...  ...  [400069, 2, 596, 5, 579, 2409, 18, 1746, 40007...\n",
              "4  [The, Treasury, said, it, plans, to, sell, $, ...  ...  [400027, 400103, 17, 21, 560, 5, 1244, 81, 408...\n",
              "\n",
              "[5 rows x 4 columns]"
            ]
          },
          "metadata": {
            "tags": []
          },
          "execution_count": 40
        }
      ]
    },
    {
      "cell_type": "markdown",
      "metadata": {
        "id": "MX6VeOhXP3v-"
      },
      "source": [
        "We also need to tokenize POS tokens, we know that we have 45 differents tokens."
      ]
    },
    {
      "cell_type": "code",
      "metadata": {
        "id": "F3YMypmxP7S4"
      },
      "source": [
        "def adapt_token(df):\n",
        "  token = pd.Series([x for _list in df['t_sequence'] for x in _list])\n",
        "  token = token.drop_duplicates()\n",
        "  token_list =[\"PAD\"]+ token.to_list() #we add the PAD token\n",
        "  idx_to_token = pd.Series(token_list,index=[i for i in range(len(token_list))])\n",
        "  idx_to_token = idx_to_token.to_dict()\n",
        "  token_to_idx = pd.Series(data = [x for x in range(len(idx_to_token))],index=token_list).to_dict()\n",
        "  return token_list,idx_to_token,token_to_idx"
      ],
      "execution_count": 41,
      "outputs": []
    },
    {
      "cell_type": "code",
      "metadata": {
        "colab": {
          "base_uri": "https://localhost:8080/"
        },
        "id": "mFAiZs0HQ4X5",
        "outputId": "acf8967b-303b-4a2f-e543-3af712f02852"
      },
      "source": [
        "token_list,idx_to_token,token_to_idx = adapt_token(tr_df)\n",
        "len(token_list)"
      ],
      "execution_count": 42,
      "outputs": [
        {
          "output_type": "execute_result",
          "data": {
            "text/plain": [
              "46"
            ]
          },
          "metadata": {
            "tags": []
          },
          "execution_count": 42
        }
      ]
    },
    {
      "cell_type": "code",
      "metadata": {
        "id": "n8J38CCCRKEl"
      },
      "source": [
        "# we encode the training set\n",
        "tr_df['t_encoded'] = tr_df['t_sequence'].apply(lambda x:tokenization(x,token_to_idx))\n",
        "\n",
        "# and we do the same for the validation set\n",
        "valid_df['t_encoded'] = valid_df['t_sequence'].apply(lambda x:tokenization(x,token_to_idx))\n",
        "\n",
        "# and for the test dataset\n",
        "ts_df['t_encoded'] = ts_df['t_sequence'].apply(lambda x:tokenization(x,token_to_idx))"
      ],
      "execution_count": 43,
      "outputs": []
    },
    {
      "cell_type": "code",
      "metadata": {
        "colab": {
          "base_uri": "https://localhost:8080/",
          "height": 289
        },
        "id": "UZRG_uxjRQRV",
        "outputId": "05d9a6ab-ebf2-45d0-d23c-ca3fd07b495e"
      },
      "source": [
        "tr_df.head()"
      ],
      "execution_count": 44,
      "outputs": [
        {
          "output_type": "execute_result",
          "data": {
            "text/html": [
              "<div>\n",
              "<style scoped>\n",
              "    .dataframe tbody tr th:only-of-type {\n",
              "        vertical-align: middle;\n",
              "    }\n",
              "\n",
              "    .dataframe tbody tr th {\n",
              "        vertical-align: top;\n",
              "    }\n",
              "\n",
              "    .dataframe thead th {\n",
              "        text-align: right;\n",
              "    }\n",
              "</style>\n",
              "<table border=\"1\" class=\"dataframe\">\n",
              "  <thead>\n",
              "    <tr style=\"text-align: right;\">\n",
              "      <th></th>\n",
              "      <th>w_sequence</th>\n",
              "      <th>t_sequence</th>\n",
              "      <th>f_id</th>\n",
              "      <th>w_encoded</th>\n",
              "      <th>t_encoded</th>\n",
              "    </tr>\n",
              "  </thead>\n",
              "  <tbody>\n",
              "    <tr>\n",
              "      <th>0</th>\n",
              "      <td>[PAPERS, :, Backe, Group, Inc., agreed, to, ac...</td>\n",
              "      <td>[NNS, :, NNP, NNP, NNP, VBD, TO, VB, NNP, NNP,...</td>\n",
              "      <td>0052</td>\n",
              "      <td>[400001, 46, 400002, 400003, 400004, 738, 5, 5...</td>\n",
              "      <td>[1, 2, 3, 3, 3, 4, 5, 6, 3, 3, 3, 7, 8, 9, 10,...</td>\n",
              "    </tr>\n",
              "    <tr>\n",
              "      <th>1</th>\n",
              "      <td>[Italian, chemical, giant, Montedison, S.p.A.,...</td>\n",
              "      <td>[JJ, NN, NN, NNP, NNP, ,, IN, PRP$, NNP, NNP, ...</td>\n",
              "      <td>0032</td>\n",
              "      <td>[400019, 2292, 1753, 400020, 400021, 2, 132, 4...</td>\n",
              "      <td>[13, 11, 11, 3, 3, 7, 14, 20, 3, 3, 3, 13, 11,...</td>\n",
              "    </tr>\n",
              "    <tr>\n",
              "      <th>2</th>\n",
              "      <td>[The, U.S., and, Soviet, Union, are, holding, ...</td>\n",
              "      <td>[DT, NNP, CC, NNP, NNP, VBP, VBG, JJ, NNS, IN,...</td>\n",
              "      <td>0035</td>\n",
              "      <td>[400027, 400032, 6, 400033, 400034, 33, 1384, ...</td>\n",
              "      <td>[19, 3, 12, 3, 3, 24, 21, 13, 1, 14, 13, 11, 1...</td>\n",
              "    </tr>\n",
              "    <tr>\n",
              "      <th>3</th>\n",
              "      <td>[Newsweek, ,, trying, to, keep, pace, with, ri...</td>\n",
              "      <td>[NNP, ,, VBG, TO, VB, NN, IN, JJ, NNP, NN, ,, ...</td>\n",
              "      <td>0012</td>\n",
              "      <td>[400069, 2, 596, 5, 579, 2409, 18, 1746, 40007...</td>\n",
              "      <td>[3, 7, 21, 5, 6, 11, 14, 13, 3, 11, 7, 4, 13, ...</td>\n",
              "    </tr>\n",
              "    <tr>\n",
              "      <th>4</th>\n",
              "      <td>[The, Treasury, said, it, plans, to, sell, $, ...</td>\n",
              "      <td>[DT, NNP, VBD, PRP, VBZ, TO, VB, $, CD, CD, IN...</td>\n",
              "      <td>0075</td>\n",
              "      <td>[400027, 400103, 17, 21, 560, 5, 1244, 81, 408...</td>\n",
              "      <td>[19, 3, 4, 25, 9, 5, 6, 15, 10, 10, 14, 1, 12,...</td>\n",
              "    </tr>\n",
              "  </tbody>\n",
              "</table>\n",
              "</div>"
            ],
            "text/plain": [
              "                                          w_sequence  ...                                          t_encoded\n",
              "0  [PAPERS, :, Backe, Group, Inc., agreed, to, ac...  ...  [1, 2, 3, 3, 3, 4, 5, 6, 3, 3, 3, 7, 8, 9, 10,...\n",
              "1  [Italian, chemical, giant, Montedison, S.p.A.,...  ...  [13, 11, 11, 3, 3, 7, 14, 20, 3, 3, 3, 13, 11,...\n",
              "2  [The, U.S., and, Soviet, Union, are, holding, ...  ...  [19, 3, 12, 3, 3, 24, 21, 13, 1, 14, 13, 11, 1...\n",
              "3  [Newsweek, ,, trying, to, keep, pace, with, ri...  ...  [3, 7, 21, 5, 6, 11, 14, 13, 3, 11, 7, 4, 13, ...\n",
              "4  [The, Treasury, said, it, plans, to, sell, $, ...  ...  [19, 3, 4, 25, 9, 5, 6, 15, 10, 10, 14, 1, 12,...\n",
              "\n",
              "[5 rows x 5 columns]"
            ]
          },
          "metadata": {
            "tags": []
          },
          "execution_count": 44
        }
      ]
    },
    {
      "cell_type": "code",
      "metadata": {
        "colab": {
          "base_uri": "https://localhost:8080/"
        },
        "id": "iz1b8pffSt9b",
        "outputId": "29b26418-32c7-4695-dc0a-7a0078543fd4"
      },
      "source": [
        "print(\"second sequence : \\n\")\n",
        "print(' '.join(tr_df.iloc[1]['w_sequence']))\n",
        "print()\n",
        "print(\"same but encoded : \\n\")\n",
        "print(tr_df.iloc[1]['w_encoded'])"
      ],
      "execution_count": 45,
      "outputs": [
        {
          "output_type": "stream",
          "text": [
            "second sequence : \n",
            "\n",
            "Italian chemical giant Montedison S.p.A. , through its Montedison Acquisition N.V. indirect unit , began its $ 37-a-share tender offer for all the common shares outstanding of Erbamont N.V. , a maker of pharmaceuticals incorporated in the Netherlands . The offer , advertised in today 's editions of The Wall Street Journal , is scheduled to expire at the end of November . Montedison currently owns about 72 % of Erbamont 's common shares outstanding . The offer is being launched pursuant to a previously announced agreement between the companies .\n",
            "\n",
            "same but encoded : \n",
            "\n",
            "[400019   2292   1753 400020 400021      2    132     48 400020 400022\n",
            " 400023  10432   1208      2    310     48     81 400024   7383    902\n",
            "     11     65      1    862    545   3536      4 400025 400023      2\n",
            "      8   2738      4  12109   5173      7      1 400026      3 400027\n",
            "    902      2  13635      7    374     10   7022      4 400027 400028\n",
            " 400029 400030      2     15   1040      5  10873     23      1    157\n",
            "      4 400031      3 400020    840   3442     60   4292    263      4\n",
            " 400025     10    862    545   3536      3 400027    902     15    135\n",
            "   1170  29137      5      8   1429    458    548    119      1    338\n",
            "      3]\n"
          ],
          "name": "stdout"
        }
      ]
    },
    {
      "cell_type": "markdown",
      "metadata": {
        "id": "6NRnsj8sRxWZ"
      },
      "source": [
        "## Padding\n",
        "\n",
        "A neural network require to have input that have the same shape and size. In order to do so, we have to pad/truncate sequences to a fixe length.\n",
        "However, it is not mandatory, we can operate on sequences of different length, but it is convenient to have a fixe length.\n",
        "\n",
        "First of all, we look for the longest sequence in each dataset to find the correct length all sentences should have."
      ]
    },
    {
      "cell_type": "code",
      "metadata": {
        "colab": {
          "base_uri": "https://localhost:8080/"
        },
        "id": "TjUb3umdR7R1",
        "outputId": "75c94c2c-36c5-465a-d2a0-73d087c4a2c2"
      },
      "source": [
        "len_tr = tr_df['w_sequence'].apply(pd.Series).shape[1]\n",
        "len_vl = valid_df['w_sequence'].apply(pd.Series).shape[1]\n",
        "len_ts = ts_df['w_sequence'].apply(pd.Series).shape[1]\n",
        "print(f\"longest sequence of the training set : {len_tr}\")\n",
        "print(f\"longest sequence of the validation set : {len_vl}\")\n",
        "print(f\"longest sequence of the test set : {len_ts}\")"
      ],
      "execution_count": 46,
      "outputs": [
        {
          "output_type": "stream",
          "text": [
            "longest sequence of the training set : 2900\n",
            "longest sequence of the validation set : 4534\n",
            "longest sequence of the test set : 1492\n"
          ],
          "name": "stdout"
        }
      ]
    },
    {
      "cell_type": "markdown",
      "metadata": {
        "id": "KWUIe1untzeE"
      },
      "source": [
        "We will set padding to 1000, because it is a fair compromise between the training/validation dataset.\n",
        "\n"
      ]
    },
    {
      "cell_type": "code",
      "metadata": {
        "id": "iYtTSyvlSOW4"
      },
      "source": [
        "# define some usefuls global variables\n",
        "MAX_SEQ_LENGTH = 1000\n",
        "VOCABULARY_SIZE = len(word_to_idx) # vocab size \n",
        "NB_TOKENS  = len(token_list)  # token "
      ],
      "execution_count": 47,
      "outputs": []
    },
    {
      "cell_type": "code",
      "metadata": {
        "id": "KwZvVD7FScL2"
      },
      "source": [
        "def add_padding(seq,pad_token,pad_length,isw=True):\n",
        "    if seq.shape[0] < pad_length:\n",
        "        while seq.shape[0] < pad_length:\n",
        "            seq = np.append(seq,pad_token)\n",
        "        return seq if isw else np.expand_dims(seq,axis=0)\n",
        "    elif seq.shape[0] > pad_length:\n",
        "        while seq.shape[0] > pad_length:\n",
        "            seq = np.delete(seq,-1)\n",
        "        return seq if isw else np.expand_dims(seq,axis=0)\n",
        "    else:\n",
        "        return seq if isw else np.expand_dims(seq,axis=0)"
      ],
      "execution_count": 48,
      "outputs": []
    },
    {
      "cell_type": "code",
      "metadata": {
        "id": "oCDrj6vJSf3d"
      },
      "source": [
        "# we add_padding to the encoded sequences of the training set\n",
        "tr_df['w_encoded'] = tr_df['w_encoded'].apply(lambda x:add_padding(x,0,MAX_SEQ_LENGTH,False))\n",
        "tr_df['t_encoded'] = tr_df['t_encoded'].apply(lambda x:add_padding(x,0,MAX_SEQ_LENGTH))\n",
        "\n",
        "# and we do the same for the validation set\n",
        "valid_df['w_encoded'] = valid_df['w_encoded'].apply(lambda x:add_padding(x,0,MAX_SEQ_LENGTH,False))\n",
        "valid_df['t_encoded'] = valid_df['t_encoded'].apply(lambda x:add_padding(x,0,MAX_SEQ_LENGTH))\n",
        "\n",
        "# and for the test set\n",
        "ts_df['w_encoded'] = ts_df['w_encoded'].apply(lambda x:add_padding(x,0,MAX_SEQ_LENGTH,False))\n",
        "ts_df['t_encoded'] = ts_df['t_encoded'].apply(lambda x:add_padding(x,0,MAX_SEQ_LENGTH))"
      ],
      "execution_count": 49,
      "outputs": []
    },
    {
      "cell_type": "code",
      "metadata": {
        "colab": {
          "base_uri": "https://localhost:8080/",
          "height": 289
        },
        "id": "1wRzNbnzSmS0",
        "outputId": "8741b0b0-0efe-4277-8398-98f08fa84bd4"
      },
      "source": [
        "tr_df.head()"
      ],
      "execution_count": 50,
      "outputs": [
        {
          "output_type": "execute_result",
          "data": {
            "text/html": [
              "<div>\n",
              "<style scoped>\n",
              "    .dataframe tbody tr th:only-of-type {\n",
              "        vertical-align: middle;\n",
              "    }\n",
              "\n",
              "    .dataframe tbody tr th {\n",
              "        vertical-align: top;\n",
              "    }\n",
              "\n",
              "    .dataframe thead th {\n",
              "        text-align: right;\n",
              "    }\n",
              "</style>\n",
              "<table border=\"1\" class=\"dataframe\">\n",
              "  <thead>\n",
              "    <tr style=\"text-align: right;\">\n",
              "      <th></th>\n",
              "      <th>w_sequence</th>\n",
              "      <th>t_sequence</th>\n",
              "      <th>f_id</th>\n",
              "      <th>w_encoded</th>\n",
              "      <th>t_encoded</th>\n",
              "    </tr>\n",
              "  </thead>\n",
              "  <tbody>\n",
              "    <tr>\n",
              "      <th>0</th>\n",
              "      <td>[PAPERS, :, Backe, Group, Inc., agreed, to, ac...</td>\n",
              "      <td>[NNS, :, NNP, NNP, NNP, VBD, TO, VB, NNP, NNP,...</td>\n",
              "      <td>0052</td>\n",
              "      <td>[[400001, 46, 400002, 400003, 400004, 738, 5, ...</td>\n",
              "      <td>[1, 2, 3, 3, 3, 4, 5, 6, 3, 3, 3, 7, 8, 9, 10,...</td>\n",
              "    </tr>\n",
              "    <tr>\n",
              "      <th>1</th>\n",
              "      <td>[Italian, chemical, giant, Montedison, S.p.A.,...</td>\n",
              "      <td>[JJ, NN, NN, NNP, NNP, ,, IN, PRP$, NNP, NNP, ...</td>\n",
              "      <td>0032</td>\n",
              "      <td>[[400019, 2292, 1753, 400020, 400021, 2, 132, ...</td>\n",
              "      <td>[13, 11, 11, 3, 3, 7, 14, 20, 3, 3, 3, 13, 11,...</td>\n",
              "    </tr>\n",
              "    <tr>\n",
              "      <th>2</th>\n",
              "      <td>[The, U.S., and, Soviet, Union, are, holding, ...</td>\n",
              "      <td>[DT, NNP, CC, NNP, NNP, VBP, VBG, JJ, NNS, IN,...</td>\n",
              "      <td>0035</td>\n",
              "      <td>[[400027, 400032, 6, 400033, 400034, 33, 1384,...</td>\n",
              "      <td>[19, 3, 12, 3, 3, 24, 21, 13, 1, 14, 13, 11, 1...</td>\n",
              "    </tr>\n",
              "    <tr>\n",
              "      <th>3</th>\n",
              "      <td>[Newsweek, ,, trying, to, keep, pace, with, ri...</td>\n",
              "      <td>[NNP, ,, VBG, TO, VB, NN, IN, JJ, NNP, NN, ,, ...</td>\n",
              "      <td>0012</td>\n",
              "      <td>[[400069, 2, 596, 5, 579, 2409, 18, 1746, 4000...</td>\n",
              "      <td>[3, 7, 21, 5, 6, 11, 14, 13, 3, 11, 7, 4, 13, ...</td>\n",
              "    </tr>\n",
              "    <tr>\n",
              "      <th>4</th>\n",
              "      <td>[The, Treasury, said, it, plans, to, sell, $, ...</td>\n",
              "      <td>[DT, NNP, VBD, PRP, VBZ, TO, VB, $, CD, CD, IN...</td>\n",
              "      <td>0075</td>\n",
              "      <td>[[400027, 400103, 17, 21, 560, 5, 1244, 81, 40...</td>\n",
              "      <td>[19, 3, 4, 25, 9, 5, 6, 15, 10, 10, 14, 1, 12,...</td>\n",
              "    </tr>\n",
              "  </tbody>\n",
              "</table>\n",
              "</div>"
            ],
            "text/plain": [
              "                                          w_sequence  ...                                          t_encoded\n",
              "0  [PAPERS, :, Backe, Group, Inc., agreed, to, ac...  ...  [1, 2, 3, 3, 3, 4, 5, 6, 3, 3, 3, 7, 8, 9, 10,...\n",
              "1  [Italian, chemical, giant, Montedison, S.p.A.,...  ...  [13, 11, 11, 3, 3, 7, 14, 20, 3, 3, 3, 13, 11,...\n",
              "2  [The, U.S., and, Soviet, Union, are, holding, ...  ...  [19, 3, 12, 3, 3, 24, 21, 13, 1, 14, 13, 11, 1...\n",
              "3  [Newsweek, ,, trying, to, keep, pace, with, ri...  ...  [3, 7, 21, 5, 6, 11, 14, 13, 3, 11, 7, 4, 13, ...\n",
              "4  [The, Treasury, said, it, plans, to, sell, $, ...  ...  [19, 3, 4, 25, 9, 5, 6, 15, 10, 10, 14, 1, 12,...\n",
              "\n",
              "[5 rows x 5 columns]"
            ]
          },
          "metadata": {
            "tags": []
          },
          "execution_count": 50
        }
      ]
    },
    {
      "cell_type": "code",
      "metadata": {
        "colab": {
          "base_uri": "https://localhost:8080/"
        },
        "id": "YGVqhUfLS1PT",
        "outputId": "c10712eb-2820-4010-8fad-7b3ba5cc6299"
      },
      "source": [
        "print(\"second sequence : \\n\")\n",
        "print(' '.join(tr_df.iloc[0]['w_sequence']))\n",
        "print()\n",
        "print(\"same but encoded with padding : \\n\")\n",
        "print(tr_df.iloc[0]['w_encoded'])"
      ],
      "execution_count": 51,
      "outputs": [
        {
          "output_type": "stream",
          "text": [
            "second sequence : \n",
            "\n",
            "PAPERS : Backe Group Inc. agreed to acquire Atlantic Publications Inc. , which has 30 community papers and annual sales of $ 7 million . Terms were n't disclosed . Backe is a closely held media firm run by former CBS Inc. President John Backe . TV : Price Communications Corp. completed the sale of four of its TV stations to NTG Inc. for $ 120 million in cash and notes , retaining a 10 % equity stake in the new concern . NTG was formed by Osborn Communications Corp. and Desai Capital .\n",
            "\n",
            "same but encoded with padding : \n",
            "\n",
            "[[400001     46 400002 400003 400004    738      5   5539 400005 400006\n",
            "  400004      2     43     32    408    502   3271      6    941    527\n",
            "       4     81    633     94      3 400007     36     71   5434      3\n",
            "  400002     15      8   2401    258    494   1002    308     22    158\n",
            "  400008 400004 400009 400010 400002      3 400011     46 400012 400013\n",
            "  400014   1316      1   1564      4    134      4     48 400011   1733\n",
            "       5 400015 400004     11     81   3884     94      7   1485      6\n",
            "    2143      2  11122      8    207    263   3360   2389      7      1\n",
            "      51   1311      3 400015     16   1348     22 400016 400013 400014\n",
            "       6 400017 400018      3      0      0      0      0      0      0\n",
            "       0      0      0      0      0      0      0      0      0      0\n",
            "       0      0      0      0      0      0      0      0      0      0\n",
            "       0      0      0      0      0      0      0      0      0      0\n",
            "       0      0      0      0      0      0      0      0      0      0\n",
            "       0      0      0      0      0      0      0      0      0      0\n",
            "       0      0      0      0      0      0      0      0      0      0\n",
            "       0      0      0      0      0      0      0      0      0      0\n",
            "       0      0      0      0      0      0      0      0      0      0\n",
            "       0      0      0      0      0      0      0      0      0      0\n",
            "       0      0      0      0      0      0      0      0      0      0\n",
            "       0      0      0      0      0      0      0      0      0      0\n",
            "       0      0      0      0      0      0      0      0      0      0\n",
            "       0      0      0      0      0      0      0      0      0      0\n",
            "       0      0      0      0      0      0      0      0      0      0\n",
            "       0      0      0      0      0      0      0      0      0      0\n",
            "       0      0      0      0      0      0      0      0      0      0\n",
            "       0      0      0      0      0      0      0      0      0      0\n",
            "       0      0      0      0      0      0      0      0      0      0\n",
            "       0      0      0      0      0      0      0      0      0      0\n",
            "       0      0      0      0      0      0      0      0      0      0\n",
            "       0      0      0      0      0      0      0      0      0      0\n",
            "       0      0      0      0      0      0      0      0      0      0\n",
            "       0      0      0      0      0      0      0      0      0      0\n",
            "       0      0      0      0      0      0      0      0      0      0\n",
            "       0      0      0      0      0      0      0      0      0      0\n",
            "       0      0      0      0      0      0      0      0      0      0\n",
            "       0      0      0      0      0      0      0      0      0      0\n",
            "       0      0      0      0      0      0      0      0      0      0\n",
            "       0      0      0      0      0      0      0      0      0      0\n",
            "       0      0      0      0      0      0      0      0      0      0\n",
            "       0      0      0      0      0      0      0      0      0      0\n",
            "       0      0      0      0      0      0      0      0      0      0\n",
            "       0      0      0      0      0      0      0      0      0      0\n",
            "       0      0      0      0      0      0      0      0      0      0\n",
            "       0      0      0      0      0      0      0      0      0      0\n",
            "       0      0      0      0      0      0      0      0      0      0\n",
            "       0      0      0      0      0      0      0      0      0      0\n",
            "       0      0      0      0      0      0      0      0      0      0\n",
            "       0      0      0      0      0      0      0      0      0      0\n",
            "       0      0      0      0      0      0      0      0      0      0\n",
            "       0      0      0      0      0      0      0      0      0      0\n",
            "       0      0      0      0      0      0      0      0      0      0\n",
            "       0      0      0      0      0      0      0      0      0      0\n",
            "       0      0      0      0      0      0      0      0      0      0\n",
            "       0      0      0      0      0      0      0      0      0      0\n",
            "       0      0      0      0      0      0      0      0      0      0\n",
            "       0      0      0      0      0      0      0      0      0      0\n",
            "       0      0      0      0      0      0      0      0      0      0\n",
            "       0      0      0      0      0      0      0      0      0      0\n",
            "       0      0      0      0      0      0      0      0      0      0\n",
            "       0      0      0      0      0      0      0      0      0      0\n",
            "       0      0      0      0      0      0      0      0      0      0\n",
            "       0      0      0      0      0      0      0      0      0      0\n",
            "       0      0      0      0      0      0      0      0      0      0\n",
            "       0      0      0      0      0      0      0      0      0      0\n",
            "       0      0      0      0      0      0      0      0      0      0\n",
            "       0      0      0      0      0      0      0      0      0      0\n",
            "       0      0      0      0      0      0      0      0      0      0\n",
            "       0      0      0      0      0      0      0      0      0      0\n",
            "       0      0      0      0      0      0      0      0      0      0\n",
            "       0      0      0      0      0      0      0      0      0      0\n",
            "       0      0      0      0      0      0      0      0      0      0\n",
            "       0      0      0      0      0      0      0      0      0      0\n",
            "       0      0      0      0      0      0      0      0      0      0\n",
            "       0      0      0      0      0      0      0      0      0      0\n",
            "       0      0      0      0      0      0      0      0      0      0\n",
            "       0      0      0      0      0      0      0      0      0      0\n",
            "       0      0      0      0      0      0      0      0      0      0\n",
            "       0      0      0      0      0      0      0      0      0      0\n",
            "       0      0      0      0      0      0      0      0      0      0\n",
            "       0      0      0      0      0      0      0      0      0      0\n",
            "       0      0      0      0      0      0      0      0      0      0\n",
            "       0      0      0      0      0      0      0      0      0      0\n",
            "       0      0      0      0      0      0      0      0      0      0\n",
            "       0      0      0      0      0      0      0      0      0      0\n",
            "       0      0      0      0      0      0      0      0      0      0\n",
            "       0      0      0      0      0      0      0      0      0      0\n",
            "       0      0      0      0      0      0      0      0      0      0\n",
            "       0      0      0      0      0      0      0      0      0      0\n",
            "       0      0      0      0      0      0      0      0      0      0\n",
            "       0      0      0      0      0      0      0      0      0      0\n",
            "       0      0      0      0      0      0      0      0      0      0\n",
            "       0      0      0      0      0      0      0      0      0      0\n",
            "       0      0      0      0      0      0      0      0      0      0\n",
            "       0      0      0      0      0      0      0      0      0      0\n",
            "       0      0      0      0      0      0      0      0      0      0\n",
            "       0      0      0      0      0      0      0      0      0      0\n",
            "       0      0      0      0      0      0      0      0      0      0\n",
            "       0      0      0      0      0      0      0      0      0      0\n",
            "       0      0      0      0      0      0      0      0      0      0]]\n"
          ],
          "name": "stdout"
        }
      ]
    },
    {
      "cell_type": "markdown",
      "metadata": {
        "id": "qE4Khd3cbvsX"
      },
      "source": [
        "Ok now we're almost done. The final step before the neural network part is to one hot encode our POS tokens"
      ]
    },
    {
      "cell_type": "code",
      "metadata": {
        "id": "p_oXgH4Gby4F"
      },
      "source": [
        "def to_categorical(sequences, nb_tokens):\n",
        "    _sequences = []\n",
        "    for t in sequences:\n",
        "        _s = np.zeros(nb_tokens,dtype=int)\n",
        "        _s[t] = 1\n",
        "        _sequences.append(_s)\n",
        "    return np.expand_dims(np.array(_sequences),axis=0)"
      ],
      "execution_count": 52,
      "outputs": []
    },
    {
      "cell_type": "code",
      "metadata": {
        "id": "n84BdONDb6l9"
      },
      "source": [
        "# we one hot encode tokens\n",
        "tr_df['t_one_hot_encoded'] = tr_df['t_encoded'].apply(lambda x:to_categorical(x,NB_TOKENS))\n",
        "# and we do the same for the validation set\n",
        "valid_df['t_one_hot_encoded'] = valid_df['t_encoded'].apply(lambda x:to_categorical(x,NB_TOKENS))\n",
        "\n",
        "# and the test set\n",
        "ts_df['t_one_hot_encoded'] = ts_df['t_encoded'].apply(lambda x:to_categorical(x,NB_TOKENS))"
      ],
      "execution_count": 53,
      "outputs": []
    },
    {
      "cell_type": "code",
      "metadata": {
        "colab": {
          "base_uri": "https://localhost:8080/",
          "height": 289
        },
        "id": "Ta5dymkngmCF",
        "outputId": "e4c6f61a-424a-483f-c261-1dca6f307c83"
      },
      "source": [
        "tr_df.head()"
      ],
      "execution_count": 54,
      "outputs": [
        {
          "output_type": "execute_result",
          "data": {
            "text/html": [
              "<div>\n",
              "<style scoped>\n",
              "    .dataframe tbody tr th:only-of-type {\n",
              "        vertical-align: middle;\n",
              "    }\n",
              "\n",
              "    .dataframe tbody tr th {\n",
              "        vertical-align: top;\n",
              "    }\n",
              "\n",
              "    .dataframe thead th {\n",
              "        text-align: right;\n",
              "    }\n",
              "</style>\n",
              "<table border=\"1\" class=\"dataframe\">\n",
              "  <thead>\n",
              "    <tr style=\"text-align: right;\">\n",
              "      <th></th>\n",
              "      <th>w_sequence</th>\n",
              "      <th>t_sequence</th>\n",
              "      <th>f_id</th>\n",
              "      <th>w_encoded</th>\n",
              "      <th>t_encoded</th>\n",
              "      <th>t_one_hot_encoded</th>\n",
              "    </tr>\n",
              "  </thead>\n",
              "  <tbody>\n",
              "    <tr>\n",
              "      <th>0</th>\n",
              "      <td>[PAPERS, :, Backe, Group, Inc., agreed, to, ac...</td>\n",
              "      <td>[NNS, :, NNP, NNP, NNP, VBD, TO, VB, NNP, NNP,...</td>\n",
              "      <td>0052</td>\n",
              "      <td>[[400001, 46, 400002, 400003, 400004, 738, 5, ...</td>\n",
              "      <td>[1, 2, 3, 3, 3, 4, 5, 6, 3, 3, 3, 7, 8, 9, 10,...</td>\n",
              "      <td>[[[0, 1, 0, 0, 0, 0, 0, 0, 0, 0, 0, 0, 0, 0, 0...</td>\n",
              "    </tr>\n",
              "    <tr>\n",
              "      <th>1</th>\n",
              "      <td>[Italian, chemical, giant, Montedison, S.p.A.,...</td>\n",
              "      <td>[JJ, NN, NN, NNP, NNP, ,, IN, PRP$, NNP, NNP, ...</td>\n",
              "      <td>0032</td>\n",
              "      <td>[[400019, 2292, 1753, 400020, 400021, 2, 132, ...</td>\n",
              "      <td>[13, 11, 11, 3, 3, 7, 14, 20, 3, 3, 3, 13, 11,...</td>\n",
              "      <td>[[[0, 0, 0, 0, 0, 0, 0, 0, 0, 0, 0, 0, 0, 1, 0...</td>\n",
              "    </tr>\n",
              "    <tr>\n",
              "      <th>2</th>\n",
              "      <td>[The, U.S., and, Soviet, Union, are, holding, ...</td>\n",
              "      <td>[DT, NNP, CC, NNP, NNP, VBP, VBG, JJ, NNS, IN,...</td>\n",
              "      <td>0035</td>\n",
              "      <td>[[400027, 400032, 6, 400033, 400034, 33, 1384,...</td>\n",
              "      <td>[19, 3, 12, 3, 3, 24, 21, 13, 1, 14, 13, 11, 1...</td>\n",
              "      <td>[[[0, 0, 0, 0, 0, 0, 0, 0, 0, 0, 0, 0, 0, 0, 0...</td>\n",
              "    </tr>\n",
              "    <tr>\n",
              "      <th>3</th>\n",
              "      <td>[Newsweek, ,, trying, to, keep, pace, with, ri...</td>\n",
              "      <td>[NNP, ,, VBG, TO, VB, NN, IN, JJ, NNP, NN, ,, ...</td>\n",
              "      <td>0012</td>\n",
              "      <td>[[400069, 2, 596, 5, 579, 2409, 18, 1746, 4000...</td>\n",
              "      <td>[3, 7, 21, 5, 6, 11, 14, 13, 3, 11, 7, 4, 13, ...</td>\n",
              "      <td>[[[0, 0, 0, 1, 0, 0, 0, 0, 0, 0, 0, 0, 0, 0, 0...</td>\n",
              "    </tr>\n",
              "    <tr>\n",
              "      <th>4</th>\n",
              "      <td>[The, Treasury, said, it, plans, to, sell, $, ...</td>\n",
              "      <td>[DT, NNP, VBD, PRP, VBZ, TO, VB, $, CD, CD, IN...</td>\n",
              "      <td>0075</td>\n",
              "      <td>[[400027, 400103, 17, 21, 560, 5, 1244, 81, 40...</td>\n",
              "      <td>[19, 3, 4, 25, 9, 5, 6, 15, 10, 10, 14, 1, 12,...</td>\n",
              "      <td>[[[0, 0, 0, 0, 0, 0, 0, 0, 0, 0, 0, 0, 0, 0, 0...</td>\n",
              "    </tr>\n",
              "  </tbody>\n",
              "</table>\n",
              "</div>"
            ],
            "text/plain": [
              "                                          w_sequence  ...                                  t_one_hot_encoded\n",
              "0  [PAPERS, :, Backe, Group, Inc., agreed, to, ac...  ...  [[[0, 1, 0, 0, 0, 0, 0, 0, 0, 0, 0, 0, 0, 0, 0...\n",
              "1  [Italian, chemical, giant, Montedison, S.p.A.,...  ...  [[[0, 0, 0, 0, 0, 0, 0, 0, 0, 0, 0, 0, 0, 1, 0...\n",
              "2  [The, U.S., and, Soviet, Union, are, holding, ...  ...  [[[0, 0, 0, 0, 0, 0, 0, 0, 0, 0, 0, 0, 0, 0, 0...\n",
              "3  [Newsweek, ,, trying, to, keep, pace, with, ri...  ...  [[[0, 0, 0, 1, 0, 0, 0, 0, 0, 0, 0, 0, 0, 0, 0...\n",
              "4  [The, Treasury, said, it, plans, to, sell, $, ...  ...  [[[0, 0, 0, 0, 0, 0, 0, 0, 0, 0, 0, 0, 0, 0, 0...\n",
              "\n",
              "[5 rows x 6 columns]"
            ]
          },
          "metadata": {
            "tags": []
          },
          "execution_count": 54
        }
      ]
    },
    {
      "cell_type": "markdown",
      "metadata": {
        "id": "Y_QXdeqWhu6L"
      },
      "source": [
        "Before feed a neural network we have to reshape a bit our data"
      ]
    },
    {
      "cell_type": "code",
      "metadata": {
        "id": "XclbI6T-h1JT"
      },
      "source": [
        "def reshape(X):\n",
        "  return np.concatenate(X.values)"
      ],
      "execution_count": 55,
      "outputs": []
    },
    {
      "cell_type": "code",
      "metadata": {
        "id": "cpkarwU9h2_y"
      },
      "source": [
        "## training data\n",
        "X_train = reshape(tr_df['w_encoded'])\n",
        "Y_train = reshape(tr_df['t_one_hot_encoded'])\n",
        "\n",
        "## validation data\n",
        "X_valid = reshape(valid_df['w_encoded'])\n",
        "Y_valid = reshape(valid_df['t_one_hot_encoded'])\n",
        "\n",
        "# test data\n",
        "X_test = reshape(ts_df['w_encoded'])\n",
        "Y_test = reshape(ts_df['t_one_hot_encoded'])"
      ],
      "execution_count": 56,
      "outputs": []
    },
    {
      "cell_type": "markdown",
      "metadata": {
        "id": "EtylWjkMguOh"
      },
      "source": [
        "# Baseline neural network model\n",
        "\n",
        "We will implement:\n",
        "* a BILSTM model\n",
        "* a BIGRU model \n",
        "* a double BILSTM model\n",
        "* LSTM + CRF"
      ]
    },
    {
      "cell_type": "markdown",
      "metadata": {
        "id": "fYo7wz2HhVXp"
      },
      "source": [
        "## BILSTM"
      ]
    },
    {
      "cell_type": "code",
      "metadata": {
        "id": "hLDH8uAXgwmN"
      },
      "source": [
        "def nnLSTM(input_dim,output_dim,input_length,embedding,classes,units):\n",
        "  lstm = Sequential()\n",
        "  lstm.add(Embedding(input_dim=input_dim, output_dim=output_dim,input_length=input_length,weights=[embedding],trainable=False,mask_zero=True))\n",
        "  lstm.add(Bidirectional(LSTM(units=units,return_sequences=True)))\n",
        "  lstm.add(Dropout(0.2))\n",
        "  lstm.add(TimeDistributed(Dense(units=classes,activation='softmax')))\n",
        "  lstm.compile(optimizer='adam', loss='categorical_crossentropy',metrics=['acc'])\n",
        "  return lstm"
      ],
      "execution_count": 57,
      "outputs": []
    },
    {
      "cell_type": "code",
      "metadata": {
        "id": "khnhg162hZuA"
      },
      "source": [
        "bilstm_model = nnLSTM(VOCABULARY_SIZE,EMBEDDING_SIZE,MAX_SEQ_LENGTH,embedding_matrix,NB_TOKENS,64)"
      ],
      "execution_count": 58,
      "outputs": []
    },
    {
      "cell_type": "code",
      "metadata": {
        "colab": {
          "base_uri": "https://localhost:8080/"
        },
        "id": "QndBK2XshnNH",
        "outputId": "41388bd8-8649-4e91-cd6e-2dea17dbbada"
      },
      "source": [
        "bilstm_model.summary()"
      ],
      "execution_count": 59,
      "outputs": [
        {
          "output_type": "stream",
          "text": [
            "Model: \"sequential\"\n",
            "_________________________________________________________________\n",
            "Layer (type)                 Output Shape              Param #   \n",
            "=================================================================\n",
            "embedding (Embedding)        (None, 1000, 300)         121123800 \n",
            "_________________________________________________________________\n",
            "bidirectional (Bidirectional (None, 1000, 128)         186880    \n",
            "_________________________________________________________________\n",
            "dropout (Dropout)            (None, 1000, 128)         0         \n",
            "_________________________________________________________________\n",
            "time_distributed (TimeDistri (None, 1000, 46)          5934      \n",
            "=================================================================\n",
            "Total params: 121,316,614\n",
            "Trainable params: 192,814\n",
            "Non-trainable params: 121,123,800\n",
            "_________________________________________________________________\n"
          ],
          "name": "stdout"
        }
      ]
    },
    {
      "cell_type": "code",
      "metadata": {
        "colab": {
          "base_uri": "https://localhost:8080/"
        },
        "id": "ivoIkOpfh6Aq",
        "outputId": "807654c6-1634-48cc-ec2e-cf92b5d74875"
      },
      "source": [
        "training_bilstm_model = bilstm_model.fit(X_train,Y_train,batch_size=5,epochs=20,validation_data=(X_valid,Y_valid))"
      ],
      "execution_count": 60,
      "outputs": [
        {
          "output_type": "stream",
          "text": [
            "Epoch 1/20\n",
            "20/20 [==============================] - 17s 845ms/step - loss: 1.2754 - acc: 0.1643 - val_loss: 1.4036 - val_acc: 0.3211\n",
            "Epoch 2/20\n",
            "20/20 [==============================] - 15s 774ms/step - loss: 0.9987 - acc: 0.3813 - val_loss: 1.1277 - val_acc: 0.4945\n",
            "Epoch 3/20\n",
            "20/20 [==============================] - 16s 778ms/step - loss: 0.7955 - acc: 0.5344 - val_loss: 0.8868 - val_acc: 0.5901\n",
            "Epoch 4/20\n",
            "20/20 [==============================] - 15s 772ms/step - loss: 0.6239 - acc: 0.6243 - val_loss: 0.7133 - val_acc: 0.6512\n",
            "Epoch 5/20\n",
            "20/20 [==============================] - 15s 774ms/step - loss: 0.5059 - acc: 0.6885 - val_loss: 0.5960 - val_acc: 0.7163\n",
            "Epoch 6/20\n",
            "20/20 [==============================] - 15s 773ms/step - loss: 0.4259 - acc: 0.7401 - val_loss: 0.5169 - val_acc: 0.7555\n",
            "Epoch 7/20\n",
            "20/20 [==============================] - 16s 779ms/step - loss: 0.3706 - acc: 0.7728 - val_loss: 0.4566 - val_acc: 0.7842\n",
            "Epoch 8/20\n",
            "20/20 [==============================] - 15s 769ms/step - loss: 0.3275 - acc: 0.7996 - val_loss: 0.4144 - val_acc: 0.7978\n",
            "Epoch 9/20\n",
            "20/20 [==============================] - 15s 768ms/step - loss: 0.2950 - acc: 0.8170 - val_loss: 0.3803 - val_acc: 0.8130\n",
            "Epoch 10/20\n",
            "20/20 [==============================] - 15s 771ms/step - loss: 0.2690 - acc: 0.8322 - val_loss: 0.3560 - val_acc: 0.8203\n",
            "Epoch 11/20\n",
            "20/20 [==============================] - 16s 792ms/step - loss: 0.2474 - acc: 0.8460 - val_loss: 0.3343 - val_acc: 0.8334\n",
            "Epoch 12/20\n",
            "20/20 [==============================] - 15s 767ms/step - loss: 0.2295 - acc: 0.8555 - val_loss: 0.3183 - val_acc: 0.8402\n",
            "Epoch 13/20\n",
            "20/20 [==============================] - 15s 766ms/step - loss: 0.2148 - acc: 0.8633 - val_loss: 0.3033 - val_acc: 0.8464\n",
            "Epoch 14/20\n",
            "20/20 [==============================] - 15s 770ms/step - loss: 0.2012 - acc: 0.8714 - val_loss: 0.2914 - val_acc: 0.8504\n",
            "Epoch 15/20\n",
            "20/20 [==============================] - 15s 770ms/step - loss: 0.1893 - acc: 0.8770 - val_loss: 0.2800 - val_acc: 0.8549\n",
            "Epoch 16/20\n",
            "20/20 [==============================] - 15s 768ms/step - loss: 0.1795 - acc: 0.8830 - val_loss: 0.2707 - val_acc: 0.8582\n",
            "Epoch 17/20\n",
            "20/20 [==============================] - 15s 768ms/step - loss: 0.1698 - acc: 0.8891 - val_loss: 0.2618 - val_acc: 0.8614\n",
            "Epoch 18/20\n",
            "20/20 [==============================] - 15s 771ms/step - loss: 0.1614 - acc: 0.8923 - val_loss: 0.2546 - val_acc: 0.8637\n",
            "Epoch 19/20\n",
            "20/20 [==============================] - 15s 767ms/step - loss: 0.1544 - acc: 0.8964 - val_loss: 0.2486 - val_acc: 0.8659\n",
            "Epoch 20/20\n",
            "20/20 [==============================] - 18s 909ms/step - loss: 0.1467 - acc: 0.9029 - val_loss: 0.2418 - val_acc: 0.8706\n"
          ],
          "name": "stdout"
        }
      ]
    },
    {
      "cell_type": "code",
      "metadata": {
        "colab": {
          "base_uri": "https://localhost:8080/",
          "height": 295
        },
        "id": "btC-DrCqsca4",
        "outputId": "b7a94d15-7c05-493e-b89a-f2d6a3647bc6"
      },
      "source": [
        "#visualise training history\n",
        "plt.plot(training_bilstm_model.history['acc'])\n",
        "plt.plot(training_bilstm_model.history['val_acc'])\n",
        "plt.title('model accuracy')\n",
        "plt.ylabel('accuracy')\n",
        "plt.xlabel('epoch')\n",
        "plt.legend(['train', 'validation'], loc=\"lower right\")\n",
        "plt.show()"
      ],
      "execution_count": 61,
      "outputs": [
        {
          "output_type": "display_data",
          "data": {
            "image/png": "[encoded data removed]",
            "text/plain": [
              "<Figure size 432x288 with 1 Axes>"
            ]
          },
          "metadata": {
            "tags": [],
            "needs_background": "light"
          }
        }
      ]
    },
    {
      "cell_type": "markdown",
      "metadata": {
        "id": "DyfSkAvvjK5u"
      },
      "source": [
        "It seems that after 20 epochs an asymptote is reached (nearby 90% accuracy). So it doesn't make sense to train longer than 20 epochs.  \n",
        "The validation set has a better acuracy until the 7th epoch and when we train longer, the training set reach a better accuracy.  \n",
        "**That is a sign that may be the model is overfitting.**"
      ]
    },
    {
      "cell_type": "markdown",
      "metadata": {
        "id": "S-PpSIuf0qS2"
      },
      "source": [
        "## BIGRU"
      ]
    },
    {
      "cell_type": "code",
      "metadata": {
        "id": "mHA2rXqS0wBy"
      },
      "source": [
        "def gru(input_dim,output_dim,max_length,embedding_weights,hidden_units,classes):\n",
        "  gru_model = Sequential()\n",
        "  gru_model.add(Embedding(input_dim     = input_dim,\n",
        "                        output_dim    = output_dim,\n",
        "                        input_length  = max_length,\n",
        "                        weights       = [embedding_weights],\n",
        "                        trainable     = False,\n",
        "                        mask_zero=True\n",
        "  ))\n",
        "  gru_model.add(Bidirectional(GRU(hidden_units, return_sequences=True)))\n",
        "  gru_model.add(Dropout(0.2))\n",
        "  gru_model.add(TimeDistributed(Dense(classes, activation='softmax')))\n",
        "  gru_model.compile(optimizer='adam', loss='categorical_crossentropy',metrics=['acc'])\n",
        "  return gru_model"
      ],
      "execution_count": 62,
      "outputs": []
    },
    {
      "cell_type": "code",
      "metadata": {
        "colab": {
          "base_uri": "https://localhost:8080/"
        },
        "id": "n0JzidYb1Miv",
        "outputId": "6751d9bc-bf90-4096-8da6-3b9402f7f16d"
      },
      "source": [
        "bigru_model = gru(VOCABULARY_SIZE,EMBEDDING_SIZE,MAX_SEQ_LENGTH,embedding_matrix,64,NB_TOKENS)\n",
        "bigru_model.summary()"
      ],
      "execution_count": 63,
      "outputs": [
        {
          "output_type": "stream",
          "text": [
            "Model: \"sequential_1\"\n",
            "_________________________________________________________________\n",
            "Layer (type)                 Output Shape              Param #   \n",
            "=================================================================\n",
            "embedding_1 (Embedding)      (None, 1000, 300)         121123800 \n",
            "_________________________________________________________________\n",
            "bidirectional_1 (Bidirection (None, 1000, 128)         140544    \n",
            "_________________________________________________________________\n",
            "dropout_1 (Dropout)          (None, 1000, 128)         0         \n",
            "_________________________________________________________________\n",
            "time_distributed_1 (TimeDist (None, 1000, 46)          5934      \n",
            "=================================================================\n",
            "Total params: 121,270,278\n",
            "Trainable params: 146,478\n",
            "Non-trainable params: 121,123,800\n",
            "_________________________________________________________________\n"
          ],
          "name": "stdout"
        }
      ]
    },
    {
      "cell_type": "code",
      "metadata": {
        "colab": {
          "base_uri": "https://localhost:8080/"
        },
        "id": "BvVSRLbD1uF6",
        "outputId": "791e27f0-9b3d-4c00-bd95-5ee0ac589256"
      },
      "source": [
        "bigru_training_model = bigru_model.fit(X_train,Y_train,batch_size=5,epochs=20,validation_data=(X_valid,Y_valid))"
      ],
      "execution_count": 64,
      "outputs": [
        {
          "output_type": "stream",
          "text": [
            "Epoch 1/20\n",
            "20/20 [==============================] - 13s 636ms/step - loss: 1.2818 - acc: 0.1860 - val_loss: 1.3495 - val_acc: 0.3142\n",
            "Epoch 2/20\n",
            "20/20 [==============================] - 11s 575ms/step - loss: 0.9270 - acc: 0.4290 - val_loss: 0.9841 - val_acc: 0.5357\n",
            "Epoch 3/20\n",
            "20/20 [==============================] - 11s 571ms/step - loss: 0.6687 - acc: 0.5976 - val_loss: 0.7286 - val_acc: 0.6620\n",
            "Epoch 4/20\n",
            "20/20 [==============================] - 11s 574ms/step - loss: 0.4985 - acc: 0.6987 - val_loss: 0.5807 - val_acc: 0.7219\n",
            "Epoch 5/20\n",
            "20/20 [==============================] - 11s 572ms/step - loss: 0.4040 - acc: 0.7540 - val_loss: 0.4860 - val_acc: 0.7602\n",
            "Epoch 6/20\n",
            "20/20 [==============================] - 12s 575ms/step - loss: 0.3391 - acc: 0.7900 - val_loss: 0.4261 - val_acc: 0.7879\n",
            "Epoch 7/20\n",
            "20/20 [==============================] - 11s 570ms/step - loss: 0.2984 - acc: 0.8126 - val_loss: 0.3828 - val_acc: 0.8074\n",
            "Epoch 8/20\n",
            "20/20 [==============================] - 11s 574ms/step - loss: 0.2641 - acc: 0.8327 - val_loss: 0.3513 - val_acc: 0.8231\n",
            "Epoch 9/20\n",
            "20/20 [==============================] - 11s 574ms/step - loss: 0.2386 - acc: 0.8482 - val_loss: 0.3271 - val_acc: 0.8319\n",
            "Epoch 10/20\n",
            "20/20 [==============================] - 11s 571ms/step - loss: 0.2196 - acc: 0.8588 - val_loss: 0.3075 - val_acc: 0.8394\n",
            "Epoch 11/20\n",
            "20/20 [==============================] - 12s 580ms/step - loss: 0.2035 - acc: 0.8668 - val_loss: 0.2912 - val_acc: 0.8458\n",
            "Epoch 12/20\n",
            "20/20 [==============================] - 12s 592ms/step - loss: 0.1895 - acc: 0.8744 - val_loss: 0.2789 - val_acc: 0.8497\n",
            "Epoch 13/20\n",
            "20/20 [==============================] - 12s 591ms/step - loss: 0.1761 - acc: 0.8828 - val_loss: 0.2688 - val_acc: 0.8548\n",
            "Epoch 14/20\n",
            "20/20 [==============================] - 12s 584ms/step - loss: 0.1654 - acc: 0.8896 - val_loss: 0.2588 - val_acc: 0.8587\n",
            "Epoch 15/20\n",
            "20/20 [==============================] - 12s 578ms/step - loss: 0.1563 - acc: 0.8952 - val_loss: 0.2507 - val_acc: 0.8622\n",
            "Epoch 16/20\n",
            "20/20 [==============================] - 12s 576ms/step - loss: 0.1467 - acc: 0.9001 - val_loss: 0.2434 - val_acc: 0.8662\n",
            "Epoch 17/20\n",
            "20/20 [==============================] - 11s 573ms/step - loss: 0.1396 - acc: 0.9047 - val_loss: 0.2383 - val_acc: 0.8687\n",
            "Epoch 18/20\n",
            "20/20 [==============================] - 11s 574ms/step - loss: 0.1319 - acc: 0.9101 - val_loss: 0.2309 - val_acc: 0.8737\n",
            "Epoch 19/20\n",
            "20/20 [==============================] - 12s 577ms/step - loss: 0.1251 - acc: 0.9146 - val_loss: 0.2267 - val_acc: 0.8763\n",
            "Epoch 20/20\n",
            "20/20 [==============================] - 11s 575ms/step - loss: 0.1197 - acc: 0.9186 - val_loss: 0.2214 - val_acc: 0.8791\n"
          ],
          "name": "stdout"
        }
      ]
    },
    {
      "cell_type": "code",
      "metadata": {
        "colab": {
          "base_uri": "https://localhost:8080/",
          "height": 295
        },
        "id": "-IyWJY-O1994",
        "outputId": "9412a01d-f479-4da7-955d-3fe191e76c28"
      },
      "source": [
        "#visualise training history\n",
        "plt.plot(bigru_training_model.history['acc'])\n",
        "plt.plot(bigru_training_model.history['val_acc'])\n",
        "plt.title('model accuracy')\n",
        "plt.ylabel('accuracy')\n",
        "plt.xlabel('epoch')\n",
        "plt.legend(['train', 'validation'], loc=\"lower right\")\n",
        "plt.show()"
      ],
      "execution_count": 65,
      "outputs": [
        {
          "output_type": "display_data",
          "data": {
            "image/png": "[encoded data removed]",
            "text/plain": [
              "<Figure size 432x288 with 1 Axes>"
            ]
          },
          "metadata": {
            "tags": [],
            "needs_background": "light"
          }
        }
      ]
    },
    {
      "cell_type": "markdown",
      "metadata": {
        "id": "aEUIDM0zkXI5"
      },
      "source": [
        "As we can see, there are no significant diferences between the BILSTM model and the BIGRU model."
      ]
    },
    {
      "cell_type": "markdown",
      "metadata": {
        "id": "TvsUTo28kcEC"
      },
      "source": [
        "## Double BILSTM"
      ]
    },
    {
      "cell_type": "code",
      "metadata": {
        "id": "tBpp8PYkkg3m"
      },
      "source": [
        "def doubleBiLSTM(input_dim,output_dim,input_length,embedding,classes,units):\n",
        "  lstm = Sequential()\n",
        "  lstm.add(Embedding(input_dim=input_dim, output_dim=output_dim,input_length=input_length,weights=[embedding],trainable=False,mask_zero=True))\n",
        "  lstm.add(Bidirectional(LSTM(units=units,return_sequences=True)))\n",
        "  lstm.add(Dropout(0.2))\n",
        "  lstm.add(Bidirectional(LSTM(units=units,return_sequences=True)))\n",
        "  lstm.add(Dropout(0.2))\n",
        "  lstm.add(TimeDistributed(Dense(units=classes,activation='softmax')))\n",
        "  lstm.compile(optimizer='adam', loss='categorical_crossentropy',metrics=['acc'])\n",
        "  return lstm"
      ],
      "execution_count": 66,
      "outputs": []
    },
    {
      "cell_type": "code",
      "metadata": {
        "colab": {
          "base_uri": "https://localhost:8080/"
        },
        "id": "0Lg8FsFjkseb",
        "outputId": "22d5e097-6a08-4632-8524-5c7c60c4832c"
      },
      "source": [
        "double_bilstm_model = doubleBiLSTM(VOCABULARY_SIZE,EMBEDDING_SIZE,MAX_SEQ_LENGTH,embedding_matrix,NB_TOKENS,64)\n",
        "double_bilstm_model.summary()"
      ],
      "execution_count": 67,
      "outputs": [
        {
          "output_type": "stream",
          "text": [
            "Model: \"sequential_2\"\n",
            "_________________________________________________________________\n",
            "Layer (type)                 Output Shape              Param #   \n",
            "=================================================================\n",
            "embedding_2 (Embedding)      (None, 1000, 300)         121123800 \n",
            "_________________________________________________________________\n",
            "bidirectional_2 (Bidirection (None, 1000, 128)         186880    \n",
            "_________________________________________________________________\n",
            "dropout_2 (Dropout)          (None, 1000, 128)         0         \n",
            "_________________________________________________________________\n",
            "bidirectional_3 (Bidirection (None, 1000, 128)         98816     \n",
            "_________________________________________________________________\n",
            "dropout_3 (Dropout)          (None, 1000, 128)         0         \n",
            "_________________________________________________________________\n",
            "time_distributed_2 (TimeDist (None, 1000, 46)          5934      \n",
            "=================================================================\n",
            "Total params: 121,415,430\n",
            "Trainable params: 291,630\n",
            "Non-trainable params: 121,123,800\n",
            "_________________________________________________________________\n"
          ],
          "name": "stdout"
        }
      ]
    },
    {
      "cell_type": "code",
      "metadata": {
        "colab": {
          "base_uri": "https://localhost:8080/"
        },
        "id": "qs8EwEpolCMm",
        "outputId": "4dafc384-48a0-463f-c6b1-a8badbfcca09"
      },
      "source": [
        "double_bilstm_training_model = double_bilstm_model.fit(X_train,Y_train,batch_size=5,epochs=20,validation_data=(X_valid,Y_valid))"
      ],
      "execution_count": 68,
      "outputs": [
        {
          "output_type": "stream",
          "text": [
            "Epoch 1/20\n",
            "20/20 [==============================] - 33s 2s/step - loss: 1.2983 - acc: 0.1282 - val_loss: 1.5099 - val_acc: 0.1589\n",
            "Epoch 2/20\n",
            "20/20 [==============================] - 30s 1s/step - loss: 1.1415 - acc: 0.2121 - val_loss: 1.3645 - val_acc: 0.2818\n",
            "Epoch 3/20\n",
            "20/20 [==============================] - 29s 1s/step - loss: 0.9961 - acc: 0.3247 - val_loss: 1.1340 - val_acc: 0.4163\n",
            "Epoch 4/20\n",
            "20/20 [==============================] - 30s 1s/step - loss: 0.8030 - acc: 0.4830 - val_loss: 0.8752 - val_acc: 0.5698\n",
            "Epoch 5/20\n",
            "20/20 [==============================] - 30s 1s/step - loss: 0.6252 - acc: 0.6078 - val_loss: 0.6865 - val_acc: 0.6581\n",
            "Epoch 6/20\n",
            "20/20 [==============================] - 30s 1s/step - loss: 0.5018 - acc: 0.6812 - val_loss: 0.5632 - val_acc: 0.7204\n",
            "Epoch 7/20\n",
            "20/20 [==============================] - 30s 2s/step - loss: 0.4168 - acc: 0.7340 - val_loss: 0.4827 - val_acc: 0.7583\n",
            "Epoch 8/20\n",
            "20/20 [==============================] - 30s 1s/step - loss: 0.3581 - acc: 0.7726 - val_loss: 0.4275 - val_acc: 0.7867\n",
            "Epoch 9/20\n",
            "20/20 [==============================] - 30s 2s/step - loss: 0.3163 - acc: 0.7982 - val_loss: 0.3843 - val_acc: 0.8077\n",
            "Epoch 10/20\n",
            "20/20 [==============================] - 30s 1s/step - loss: 0.2805 - acc: 0.8218 - val_loss: 0.3518 - val_acc: 0.8250\n",
            "Epoch 11/20\n",
            "20/20 [==============================] - 32s 2s/step - loss: 0.2549 - acc: 0.8384 - val_loss: 0.3247 - val_acc: 0.8373\n",
            "Epoch 12/20\n",
            "20/20 [==============================] - 30s 1s/step - loss: 0.2316 - acc: 0.8528 - val_loss: 0.3058 - val_acc: 0.8435\n",
            "Epoch 13/20\n",
            "20/20 [==============================] - 30s 2s/step - loss: 0.2125 - acc: 0.8620 - val_loss: 0.2890 - val_acc: 0.8508\n",
            "Epoch 14/20\n",
            "20/20 [==============================] - 30s 1s/step - loss: 0.1960 - acc: 0.8737 - val_loss: 0.2729 - val_acc: 0.8596\n",
            "Epoch 15/20\n",
            "20/20 [==============================] - 30s 1s/step - loss: 0.1818 - acc: 0.8832 - val_loss: 0.2603 - val_acc: 0.8626\n",
            "Epoch 16/20\n",
            "20/20 [==============================] - 30s 1s/step - loss: 0.1683 - acc: 0.8901 - val_loss: 0.2483 - val_acc: 0.8695\n",
            "Epoch 17/20\n",
            "20/20 [==============================] - 30s 2s/step - loss: 0.1562 - acc: 0.8972 - val_loss: 0.2394 - val_acc: 0.8731\n",
            "Epoch 18/20\n",
            "20/20 [==============================] - 30s 1s/step - loss: 0.1464 - acc: 0.9049 - val_loss: 0.2312 - val_acc: 0.8769\n",
            "Epoch 19/20\n",
            "20/20 [==============================] - 30s 1s/step - loss: 0.1386 - acc: 0.9072 - val_loss: 0.2239 - val_acc: 0.8801\n",
            "Epoch 20/20\n",
            "20/20 [==============================] - 30s 1s/step - loss: 0.1286 - acc: 0.9161 - val_loss: 0.2172 - val_acc: 0.8842\n"
          ],
          "name": "stdout"
        }
      ]
    },
    {
      "cell_type": "code",
      "metadata": {
        "colab": {
          "base_uri": "https://localhost:8080/",
          "height": 295
        },
        "id": "PZ4FoP9Dlt_z",
        "outputId": "49c9ce82-aaa9-4290-8464-84e29e22d5c4"
      },
      "source": [
        "#visualise training history\n",
        "plt.plot(double_bilstm_training_model.history['acc'])\n",
        "plt.plot(double_bilstm_training_model.history['val_acc'])\n",
        "plt.title('model accuracy')\n",
        "plt.ylabel('accuracy')\n",
        "plt.xlabel('epoch')\n",
        "plt.legend(['train', 'validation'], loc=\"lower right\")\n",
        "plt.show()"
      ],
      "execution_count": 69,
      "outputs": [
        {
          "output_type": "display_data",
          "data": {
            "image/png": "[encoded data removed]",
            "text/plain": [
              "<Figure size 432x288 with 1 Axes>"
            ]
          },
          "metadata": {
            "tags": [],
            "needs_background": "light"
          }
        }
      ]
    },
    {
      "cell_type": "markdown",
      "metadata": {
        "id": "P_Zi3VD5kxOQ"
      },
      "source": [
        "The accuracy of this model grows less quickly than previous models. We can see it because the shape of the curve at the begining is smoother.\n",
        "\n",
        "Futhermore, the point where the accuracy of the training set overcome the accuracy of the validation set is reached at the 9th epoch (two epochs later than the previous models)."
      ]
    },
    {
      "cell_type": "markdown",
      "metadata": {
        "id": "s339rIPt5wCN"
      },
      "source": [
        "## LSTM + CRF"
      ]
    },
    {
      "cell_type": "code",
      "metadata": {
        "id": "YS2W4p58DvPw"
      },
      "source": [
        "import tensorflow as tf\n",
        "import tensorflow.keras.backend as K\n",
        "import tensorflow.keras.layers as L\n",
        "from tensorflow_addons.text import crf_log_likelihood, crf_decode\n",
        "\n",
        "### CRF LAYER CLASS ######\n",
        "class CRF(L.Layer):\n",
        "    def __init__(self,\n",
        "                 output_dim,\n",
        "                 sparse_target=True,\n",
        "                 **kwargs):\n",
        "        \"\"\"    \n",
        "        Args:\n",
        "            output_dim (int): the number of labels to tag each temporal input.\n",
        "            sparse_target (bool): whether the the ground-truth label represented in one-hot.\n",
        "        Input shape:\n",
        "            (batch_size, sentence length, output_dim)\n",
        "        Output shape:\n",
        "            (batch_size, sentence length, output_dim)\n",
        "        \"\"\"\n",
        "        super(CRF, self).__init__(**kwargs)\n",
        "        self.output_dim = int(output_dim) \n",
        "        self.sparse_target = sparse_target\n",
        "        self.input_spec = L.InputSpec(min_ndim=3)\n",
        "        self.supports_masking = False\n",
        "        self.sequence_lengths = None\n",
        "        self.transitions = None\n",
        "\n",
        "    def build(self, input_shape):\n",
        "        assert len(input_shape) == 3\n",
        "        f_shape = tf.TensorShape(input_shape)\n",
        "        input_spec = L.InputSpec(min_ndim=3, axes={-1: f_shape[-1]})\n",
        "\n",
        "        if f_shape[-1] is None:\n",
        "            raise ValueError('The last dimension of the inputs to `CRF` '\n",
        "                             'should be defined. Found `None`.')\n",
        "        if f_shape[-1] != self.output_dim:\n",
        "            raise ValueError('The last dimension of the input shape must be equal to output'\n",
        "                             ' shape. Use a linear layer if needed.')\n",
        "        self.input_spec = input_spec\n",
        "        self.transitions = self.add_weight(name='transitions',\n",
        "                                           shape=[self.output_dim, self.output_dim],\n",
        "                                           initializer='glorot_uniform',\n",
        "                                           trainable=True)\n",
        "        self.built = True\n",
        "\n",
        "    def compute_mask(self, inputs, mask=None):\n",
        "        # Just pass the received mask from previous layer, to the next layer or\n",
        "        # manipulate it if this layer changes the shape of the input\n",
        "        return mask\n",
        "\n",
        "    def call(self, inputs, sequence_lengths=None, training=None, **kwargs):\n",
        "        sequences = tf.convert_to_tensor(inputs, dtype=self.dtype)\n",
        "        if sequence_lengths is not None:\n",
        "            assert len(sequence_lengths.shape) == 2\n",
        "            assert tf.convert_to_tensor(sequence_lengths).dtype == 'int32'\n",
        "            seq_len_shape = tf.convert_to_tensor(sequence_lengths).get_shape().as_list()\n",
        "            assert seq_len_shape[1] == 1\n",
        "            self.sequence_lengths = K.flatten(sequence_lengths)\n",
        "        else:\n",
        "            self.sequence_lengths = tf.ones(tf.shape(inputs)[0], dtype=tf.int32) * (\n",
        "                tf.shape(inputs)[1]\n",
        "            )\n",
        "\n",
        "        viterbi_sequence, _ = crf_decode(sequences,\n",
        "                                         self.transitions,\n",
        "                                         self.sequence_lengths)\n",
        "        output = K.one_hot(viterbi_sequence, self.output_dim)\n",
        "        return K.in_train_phase(sequences, output)\n",
        "\n",
        "    @property\n",
        "    def loss(self):\n",
        "        def crf_loss(y_true, y_pred):\n",
        "            y_pred = tf.convert_to_tensor(y_pred, dtype=self.dtype)\n",
        "            log_likelihood, self.transitions = crf_log_likelihood(\n",
        "                y_pred,\n",
        "                tf.cast(K.argmax(y_true), dtype=tf.int32) if self.sparse_target else y_true,\n",
        "                self.sequence_lengths,\n",
        "                transition_params=self.transitions,\n",
        "            )\n",
        "            return tf.reduce_mean(-log_likelihood)\n",
        "        return crf_loss\n",
        "\n",
        "    @property\n",
        "    def accuracy(self):\n",
        "        def viterbi_accuracy(y_true, y_pred):\n",
        "            # -1e10 to avoid zero at sum(mask)\n",
        "            mask = K.cast(\n",
        "                K.all(K.greater(y_pred, -1e10), axis=2), K.floatx())\n",
        "            shape = tf.shape(y_pred)\n",
        "            sequence_lengths = tf.ones(shape[0], dtype=tf.int32) * (shape[1])\n",
        "            y_pred, _ = crf_decode(y_pred, self.transitions, sequence_lengths)\n",
        "            if self.sparse_target:\n",
        "                y_true = K.argmax(y_true, 2)\n",
        "            y_pred = K.cast(y_pred, 'int32')\n",
        "            y_true = K.cast(y_true, 'int32')\n",
        "            corrects = K.cast(K.equal(y_true, y_pred), K.floatx())\n",
        "            return K.sum(corrects * mask) / K.sum(mask)\n",
        "        return viterbi_accuracy\n",
        "\n",
        "    def compute_output_shape(self, input_shape):\n",
        "        tf.TensorShape(input_shape).assert_has_rank(3)\n",
        "        return input_shape[:2] + (self.output_dim,)\n",
        "\n",
        "    def get_config(self):\n",
        "        config = {\n",
        "            'output_dim': self.output_dim,\n",
        "            'sparse_target': self.sparse_target,\n",
        "            'supports_masking': self.supports_masking,\n",
        "            'transitions': K.eval(self.transitions)\n",
        "        }\n",
        "        base_config = super(CRF, self).get_config()\n",
        "        return dict(base_config, **config)"
      ],
      "execution_count": 70,
      "outputs": []
    },
    {
      "cell_type": "code",
      "metadata": {
        "colab": {
          "base_uri": "https://localhost:8080/"
        },
        "id": "NuHqXIYqDxhu",
        "outputId": "04c7234b-080a-4471-a4d0-74f9c582bf7c"
      },
      "source": [
        "model = Sequential()\n",
        "model.add(Embedding(input_dim     = VOCABULARY_SIZE,\n",
        "                        output_dim    = EMBEDDING_SIZE,\n",
        "                        input_length  = MAX_SEQ_LENGTH,\n",
        "                        weights       = [embedding_matrix],\n",
        "                        trainable     = False,\n",
        "                        mask_zero     = True\n",
        "                    ))\n",
        "model.add(Bidirectional(LSTM(64, return_sequences=True)))\n",
        "model.add(Dropout(0.2))\n",
        "model.add(Dense(NB_TOKENS))\n",
        "\n",
        "crf = CRF(NB_TOKENS, sparse_target=True)\n",
        "model.add(crf)\n",
        "model.compile('adam', loss=crf.loss, metrics=[crf.accuracy])\n",
        "training_crf = model.fit(x=X_train, y=Y_train, epochs=20, batch_size=5, validation_data=(X_valid,Y_valid))"
      ],
      "execution_count": 71,
      "outputs": [
        {
          "output_type": "stream",
          "text": [
            "Epoch 1/20\n",
            "20/20 [==============================] - 25s 1s/step - loss: 1391.8209 - viterbi_accuracy: 0.0607 - val_loss: 3678.9512 - val_viterbi_accuracy: 0.0976\n",
            "Epoch 2/20\n",
            "20/20 [==============================] - 22s 1s/step - loss: 1247.3583 - viterbi_accuracy: 0.1419 - val_loss: 3545.6509 - val_viterbi_accuracy: 0.2043\n",
            "Epoch 3/20\n",
            "20/20 [==============================] - 23s 1s/step - loss: 1148.9270 - viterbi_accuracy: 0.2140 - val_loss: 2959.5579 - val_viterbi_accuracy: 0.7635\n",
            "Epoch 4/20\n",
            "20/20 [==============================] - 22s 1s/step - loss: 1020.8425 - viterbi_accuracy: 0.7905 - val_loss: 2885.4543 - val_viterbi_accuracy: 0.8127\n",
            "Epoch 5/20\n",
            "20/20 [==============================] - 22s 1s/step - loss: 969.4305 - viterbi_accuracy: 0.8457 - val_loss: 2827.4390 - val_viterbi_accuracy: 0.8461\n",
            "Epoch 6/20\n",
            "20/20 [==============================] - 22s 1s/step - loss: 897.1227 - viterbi_accuracy: 0.8666 - val_loss: 2779.3752 - val_viterbi_accuracy: 0.8697\n",
            "Epoch 7/20\n",
            "20/20 [==============================] - 23s 1s/step - loss: 858.6597 - viterbi_accuracy: 0.8882 - val_loss: 2740.5037 - val_viterbi_accuracy: 0.8842\n",
            "Epoch 8/20\n",
            "20/20 [==============================] - 23s 1s/step - loss: 843.8107 - viterbi_accuracy: 0.9050 - val_loss: 2707.7947 - val_viterbi_accuracy: 0.8927\n",
            "Epoch 9/20\n",
            "20/20 [==============================] - 23s 1s/step - loss: 817.6541 - viterbi_accuracy: 0.9157 - val_loss: 2675.9602 - val_viterbi_accuracy: 0.9006\n",
            "Epoch 10/20\n",
            "20/20 [==============================] - 23s 1s/step - loss: 777.6974 - viterbi_accuracy: 0.9176 - val_loss: 2644.2776 - val_viterbi_accuracy: 0.9073\n",
            "Epoch 11/20\n",
            "20/20 [==============================] - 23s 1s/step - loss: 754.6800 - viterbi_accuracy: 0.9253 - val_loss: 2616.2717 - val_viterbi_accuracy: 0.9123\n",
            "Epoch 12/20\n",
            "20/20 [==============================] - 23s 1s/step - loss: 735.3402 - viterbi_accuracy: 0.9303 - val_loss: 2587.4983 - val_viterbi_accuracy: 0.9170\n",
            "Epoch 13/20\n",
            "20/20 [==============================] - 24s 1s/step - loss: 706.6956 - viterbi_accuracy: 0.9348 - val_loss: 2561.4304 - val_viterbi_accuracy: 0.9197\n",
            "Epoch 14/20\n",
            "20/20 [==============================] - 23s 1s/step - loss: 678.5425 - viterbi_accuracy: 0.9384 - val_loss: 2535.5759 - val_viterbi_accuracy: 0.9221\n",
            "Epoch 15/20\n",
            "20/20 [==============================] - 23s 1s/step - loss: 662.6040 - viterbi_accuracy: 0.9412 - val_loss: 2509.5239 - val_viterbi_accuracy: 0.9246\n",
            "Epoch 16/20\n",
            "20/20 [==============================] - 22s 1s/step - loss: 635.4115 - viterbi_accuracy: 0.9436 - val_loss: 2485.1853 - val_viterbi_accuracy: 0.9257\n",
            "Epoch 17/20\n",
            "20/20 [==============================] - 23s 1s/step - loss: 626.1207 - viterbi_accuracy: 0.9488 - val_loss: 2460.4221 - val_viterbi_accuracy: 0.9277\n",
            "Epoch 18/20\n",
            "20/20 [==============================] - 22s 1s/step - loss: 623.0991 - viterbi_accuracy: 0.9538 - val_loss: 2435.0254 - val_viterbi_accuracy: 0.9290\n",
            "Epoch 19/20\n",
            "20/20 [==============================] - 23s 1s/step - loss: 584.6198 - viterbi_accuracy: 0.9536 - val_loss: 2410.3848 - val_viterbi_accuracy: 0.9303\n",
            "Epoch 20/20\n",
            "20/20 [==============================] - 23s 1s/step - loss: 550.1060 - viterbi_accuracy: 0.9529 - val_loss: 2387.0564 - val_viterbi_accuracy: 0.9313\n"
          ],
          "name": "stdout"
        }
      ]
    },
    {
      "cell_type": "markdown",
      "metadata": {
        "id": "7_WXGLkjmePZ"
      },
      "source": [
        "It is definitively the best model because the accuracy of the validation set as well as the training set is not limited by an asymptote (or at least this asymptote is above 90%).  "
      ]
    },
    {
      "cell_type": "markdown",
      "metadata": {
        "id": "K-eRsygQrKRj"
      },
      "source": [
        "## Evaluation"
      ]
    },
    {
      "cell_type": "markdown",
      "metadata": {
        "id": "tQrqGBRQiGZ9"
      },
      "source": [
        "The model which has the best accuracy on the validation set is the one with LSTM + CRF. But the accuracy is maybe not the best metric for that. Let's compute the F1-score on the validation set for each model and pick up the one with the highest one."
      ]
    },
    {
      "cell_type": "code",
      "metadata": {
        "id": "FNliDpNNkSIX"
      },
      "source": [
        "def prediction(X,model,df,name):\n",
        "  name1 = \"t_sequence_infered_\"+name\n",
        "  name2 = \"t_sequence_infered_encoded_\"+name\n",
        "  pred = model.predict(X)\n",
        "  real_pred = []\n",
        "  pred_int = np.zeros((df.shape[0],MAX_SEQ_LENGTH),dtype=int)\n",
        "  for i,p in enumerate(pred):\n",
        "    _len = len(df['t_sequence'][i])\n",
        "    t_sequence_infered = []\n",
        "    for j,el in enumerate(p):\n",
        "        pred_int[i][j] = el.argmax() if j <_len else 0  # we get rid of prediction associated to padding and set to 0\n",
        "        if j < _len:\n",
        "          t_sequence_infered.append(idx_to_token[el.argmax()])\n",
        "    real_pred.append(t_sequence_infered)\n",
        "  df[name1] = pd.Series(real_pred)\n",
        "  df[name2] = pd.Series(pred_int.tolist()).apply(lambda x:np.array(x))\n",
        "  return df\n",
        "\n",
        "def global_f1_score(df,name):\n",
        "  name2 = \"t_sequence_infered_encoded_\"+name\n",
        "  _X = np.zeros((1,1),dtype=int)\n",
        "  for el in df['t_encoded'].to_list():\n",
        "    _X = np.concatenate((_X,el),axis=None)\n",
        "  _Y = np.zeros((1,1),dtype=int)\n",
        "  for el in df[name2].to_list():\n",
        "    _Y = np.concatenate((_Y,el),axis=None)\n",
        "  X = _X[_X!=0]\n",
        "  Y = _Y[_Y!=0]\n",
        "  return f1_score(X,Y,average='macro')"
      ],
      "execution_count": 76,
      "outputs": []
    },
    {
      "cell_type": "code",
      "metadata": {
        "id": "1q5AXu6q4Ig9"
      },
      "source": [
        "valid_df = prediction(X_valid,model,valid_df,\"lstm_crf\")\n",
        "valid_df = prediction(X_valid,bilstm_model,valid_df,\"bilstm\")\n",
        "valid_df = prediction(X_valid,bigru_model,valid_df,\"bigru\")\n",
        "valid_df = prediction(X_valid,double_bilstm_model,valid_df,\"double_bilstm\")"
      ],
      "execution_count": 80,
      "outputs": []
    },
    {
      "cell_type": "code",
      "metadata": {
        "colab": {
          "base_uri": "https://localhost:8080/",
          "height": 638
        },
        "id": "CQ9ZkitS8Exg",
        "outputId": "879738e6-0b90-4242-b68d-87b481cc1ff8"
      },
      "source": [
        "valid_df.head()"
      ],
      "execution_count": 81,
      "outputs": [
        {
          "output_type": "execute_result",
          "data": {
            "text/html": [
              "<div>\n",
              "<style scoped>\n",
              "    .dataframe tbody tr th:only-of-type {\n",
              "        vertical-align: middle;\n",
              "    }\n",
              "\n",
              "    .dataframe tbody tr th {\n",
              "        vertical-align: top;\n",
              "    }\n",
              "\n",
              "    .dataframe thead th {\n",
              "        text-align: right;\n",
              "    }\n",
              "</style>\n",
              "<table border=\"1\" class=\"dataframe\">\n",
              "  <thead>\n",
              "    <tr style=\"text-align: right;\">\n",
              "      <th></th>\n",
              "      <th>w_sequence</th>\n",
              "      <th>t_sequence</th>\n",
              "      <th>f_id</th>\n",
              "      <th>w_encoded</th>\n",
              "      <th>t_encoded</th>\n",
              "      <th>t_one_hot_encoded</th>\n",
              "      <th>t_sequence_infered_lstm_crf</th>\n",
              "      <th>t_sequence_infered_encoded_lstm_crf</th>\n",
              "      <th>t_sequence_infered_bilstm</th>\n",
              "      <th>t_sequence_infered_encoded_bilstm</th>\n",
              "      <th>t_sequence_infered_bigru</th>\n",
              "      <th>t_sequence_infered_encoded_bigru</th>\n",
              "      <th>t_sequence_infered_double_bilstm</th>\n",
              "      <th>t_sequence_infered_encoded_double_bilstm</th>\n",
              "    </tr>\n",
              "  </thead>\n",
              "  <tbody>\n",
              "    <tr>\n",
              "      <th>0</th>\n",
              "      <td>[Standard, &amp;, Poor, 's, Corp., lowered, to, do...</td>\n",
              "      <td>[NNP, CC, NNP, POS, NNP, VBD, TO, NN, IN, NN, ...</td>\n",
              "      <td>0143</td>\n",
              "      <td>[[400262, 1162, 400263, 10, 400014, 6888, 5, 4...</td>\n",
              "      <td>[3, 12, 3, 23, 3, 4, 5, 11, 14, 11, 19, 11, 14...</td>\n",
              "      <td>[[[0, 0, 0, 1, 0, 0, 0, 0, 0, 0, 0, 0, 0, 0, 0...</td>\n",
              "      <td>[NNP, CC, NNP, POS, NNP, VBD, TO, VB, IN, NNP,...</td>\n",
              "      <td>[3, 12, 3, 23, 3, 4, 5, 6, 14, 3, 19, 11, 14, ...</td>\n",
              "      <td>[NNP, CC, NNP, POS, NNP, VBD, TO, NNP, IN, NNS...</td>\n",
              "      <td>[3, 12, 3, 23, 3, 4, 5, 3, 14, 1, 19, 11, 14, ...</td>\n",
              "      <td>[NNP, CC, NNP, POS, NNP, VBD, TO, CD, IN, NNP,...</td>\n",
              "      <td>[3, 12, 3, 23, 3, 4, 5, 10, 14, 3, 19, 11, 14,...</td>\n",
              "      <td>[NNP, CC, NNP, POS, NNP, VBD, TO, VB, IN, NNP,...</td>\n",
              "      <td>[3, 12, 3, 23, 3, 4, 5, 6, 14, 3, 19, 11, 14, ...</td>\n",
              "    </tr>\n",
              "    <tr>\n",
              "      <th>1</th>\n",
              "      <td>[ROGERS, COMMUNICATIONS, Inc., said, it, plans...</td>\n",
              "      <td>[NNP, NNP, NNP, VBD, PRP, VBZ, TO, VB, CD, CD,...</td>\n",
              "      <td>0106</td>\n",
              "      <td>[[402349, 402350, 400004, 17, 21, 560, 5, 1475...</td>\n",
              "      <td>[3, 3, 3, 4, 25, 9, 5, 6, 10, 10, 5, 10, 10, 1...</td>\n",
              "      <td>[[[0, 0, 0, 1, 0, 0, 0, 0, 0, 0, 0, 0, 0, 0, 0...</td>\n",
              "      <td>[NNP, NNP, NNP, VBD, PRP, VBZ, TO, VB, CD, CD,...</td>\n",
              "      <td>[3, 3, 3, 4, 25, 9, 5, 6, 10, 10, 5, 10, 10, 1...</td>\n",
              "      <td>[NNP, NNP, NNP, VBD, PRP, VBZ, TO, VB, CD, CD,...</td>\n",
              "      <td>[3, 3, 3, 4, 25, 9, 5, 6, 10, 10, 5, 10, 10, 1...</td>\n",
              "      <td>[NNP, NNP, NNP, VBD, PRP, VBZ, TO, VB, CD, CD,...</td>\n",
              "      <td>[3, 3, 3, 4, 25, 9, 5, 6, 10, 10, 5, 10, 10, 1...</td>\n",
              "      <td>[NNP, NNP, NNP, VBD, PRP, VBZ, TO, VB, CD, CD,...</td>\n",
              "      <td>[3, 3, 3, 4, 25, 9, 5, 6, 10, 10, 5, 10, 10, 1...</td>\n",
              "    </tr>\n",
              "    <tr>\n",
              "      <th>2</th>\n",
              "      <td>[William, C., Walbrecher, Jr., ,, an, executiv...</td>\n",
              "      <td>[NNP, NNP, NNP, NNP, ,, DT, NN, IN, NNP, JJ, C...</td>\n",
              "      <td>0124</td>\n",
              "      <td>[[400503, 400137, 402354, 400709, 2, 30, 617, ...</td>\n",
              "      <td>[3, 3, 3, 3, 7, 19, 11, 14, 3, 13, 10, 3, 3, 7...</td>\n",
              "      <td>[[[0, 0, 0, 1, 0, 0, 0, 0, 0, 0, 0, 0, 0, 0, 0...</td>\n",
              "      <td>[NNP, NNP, NNP, NNP, ,, DT, NN, IN, NNP, NNP, ...</td>\n",
              "      <td>[3, 3, 3, 3, 7, 19, 11, 14, 3, 3, 3, 3, 3, 7, ...</td>\n",
              "      <td>[NNP, NNP, NNP, NNP, ,, DT, NN, IN, NNP, NNP, ...</td>\n",
              "      <td>[3, 3, 3, 3, 7, 19, 11, 14, 3, 3, 3, 3, 3, 7, ...</td>\n",
              "      <td>[NNP, NNP, NNP, NNP, ,, DT, NN, IN, NNP, NNP, ...</td>\n",
              "      <td>[3, 3, 3, 3, 7, 19, 11, 14, 3, 3, 3, 3, 3, 7, ...</td>\n",
              "      <td>[NNP, NNP, NNP, NNP, ,, DT, NN, IN, NNP, NNP, ...</td>\n",
              "      <td>[3, 3, 3, 3, 7, 19, 11, 14, 3, 3, 3, 3, 3, 7, ...</td>\n",
              "    </tr>\n",
              "    <tr>\n",
              "      <th>3</th>\n",
              "      <td>[The, following, were, among, yesterday, 's, o...</td>\n",
              "      <td>[DT, VBG, VBD, IN, NN, POS, NNS, CC, NNS, IN, ...</td>\n",
              "      <td>0125</td>\n",
              "      <td>[[400027, 285, 36, 245, 2858, 10, 8400, 6, 402...</td>\n",
              "      <td>[19, 21, 4, 14, 11, 23, 1, 12, 1, 14, 19, 3, 1...</td>\n",
              "      <td>[[[0, 0, 0, 0, 0, 0, 0, 0, 0, 0, 0, 0, 0, 0, 0...</td>\n",
              "      <td>[DT, NN, VBD, JJ, NN, POS, NN, CC, NNP, IN, DT...</td>\n",
              "      <td>[19, 11, 4, 13, 11, 23, 11, 12, 3, 14, 19, 3, ...</td>\n",
              "      <td>[DT, NN, VBD, JJ, NN, POS, NNS, CC, NNP, IN, D...</td>\n",
              "      <td>[19, 11, 4, 13, 11, 23, 1, 12, 3, 14, 19, 3, 1...</td>\n",
              "      <td>[DT, NN, VBD, JJ, NN, POS, NNS, CC, NN, IN, DT...</td>\n",
              "      <td>[19, 11, 4, 13, 11, 23, 1, 12, 11, 14, 19, 3, ...</td>\n",
              "      <td>[DT, NN, VBD, JJ, NN, POS, NNS, CC, NNP, IN, D...</td>\n",
              "      <td>[19, 11, 4, 13, 11, 23, 1, 12, 3, 14, 19, 3, 1...</td>\n",
              "    </tr>\n",
              "    <tr>\n",
              "      <th>4</th>\n",
              "      <td>[Beauty, Takes, Backseat, To, Safety, on, Brid...</td>\n",
              "      <td>[NN, VBZ, NN, TO, NNP, IN, NNPS, NN, VBZ, IN, ...</td>\n",
              "      <td>0102</td>\n",
              "      <td>[[402408, 402409, 402410, 400118, 401337, 14, ...</td>\n",
              "      <td>[11, 9, 11, 5, 3, 14, 22, 11, 9, 14, 32, 14, 1...</td>\n",
              "      <td>[[[0, 0, 0, 0, 0, 0, 0, 0, 0, 0, 0, 1, 0, 0, 0...</td>\n",
              "      <td>[NNP, NNP, NNP, NNP, NNP, IN, NNP, DT, JJ, IN,...</td>\n",
              "      <td>[3, 3, 3, 3, 3, 14, 3, 19, 13, 14, 13, 14, 19,...</td>\n",
              "      <td>[NNP, NNP, NNP, NNP, NNP, IN, NNP, NNP, NNP, I...</td>\n",
              "      <td>[3, 3, 3, 3, 3, 14, 3, 3, 3, 14, 13, 14, 19, 1...</td>\n",
              "      <td>[NNP, NNP, NNP, NNP, NNP, IN, IN, JJ, NNP, WDT...</td>\n",
              "      <td>[3, 3, 3, 3, 3, 14, 14, 13, 3, 8, 32, 14, 19, ...</td>\n",
              "      <td>[NNP, NNP, NNP, NNP, NNP, IN, NNP, NNP, NNP, W...</td>\n",
              "      <td>[3, 3, 3, 3, 3, 14, 3, 3, 3, 8, 13, 14, 19, 11...</td>\n",
              "    </tr>\n",
              "  </tbody>\n",
              "</table>\n",
              "</div>"
            ],
            "text/plain": [
              "                                          w_sequence  ...           t_sequence_infered_encoded_double_bilstm\n",
              "0  [Standard, &, Poor, 's, Corp., lowered, to, do...  ...  [3, 12, 3, 23, 3, 4, 5, 6, 14, 3, 19, 11, 14, ...\n",
              "1  [ROGERS, COMMUNICATIONS, Inc., said, it, plans...  ...  [3, 3, 3, 4, 25, 9, 5, 6, 10, 10, 5, 10, 10, 1...\n",
              "2  [William, C., Walbrecher, Jr., ,, an, executiv...  ...  [3, 3, 3, 3, 7, 19, 11, 14, 3, 3, 3, 3, 3, 7, ...\n",
              "3  [The, following, were, among, yesterday, 's, o...  ...  [19, 11, 4, 13, 11, 23, 1, 12, 3, 14, 19, 3, 1...\n",
              "4  [Beauty, Takes, Backseat, To, Safety, on, Brid...  ...  [3, 3, 3, 3, 3, 14, 3, 3, 3, 8, 13, 14, 19, 11...\n",
              "\n",
              "[5 rows x 14 columns]"
            ]
          },
          "metadata": {
            "tags": []
          },
          "execution_count": 81
        }
      ]
    },
    {
      "cell_type": "markdown",
      "metadata": {
        "id": "7bK171kr9QHq"
      },
      "source": [
        "OK now it's the time to compute the F1-score for each model"
      ]
    },
    {
      "cell_type": "code",
      "metadata": {
        "id": "aiX3_FYh_sfk"
      },
      "source": [
        "f1_bilstm = global_f1_score(valid_df,'bilstm')\n",
        "f1_bigru = global_f1_score(valid_df,'bigru')\n",
        "f1_double_bilstm = global_f1_score(valid_df,'double_bilstm')\n",
        "f1_bilstm_crf = global_f1_score(valid_df,'lstm_crf')"
      ],
      "execution_count": 82,
      "outputs": []
    },
    {
      "cell_type": "code",
      "metadata": {
        "colab": {
          "base_uri": "https://localhost:8080/"
        },
        "id": "NFG13vfB_5eR",
        "outputId": "af16da33-2c06-4731-ec4f-ab8f15b57b76"
      },
      "source": [
        "print(f\" F1 score bilstm : {f1_bilstm}\")\n",
        "print(f\" F1 score bigru : {f1_bigru}\")\n",
        "print(f\" F1 score double_bilstm : {f1_double_bilstm}\")\n",
        "print(f\" F1 score bilstm_crf : {f1_bilstm_crf}\")"
      ],
      "execution_count": 83,
      "outputs": [
        {
          "output_type": "stream",
          "text": [
            " F1 score bilstm : 0.6852145995355432\n",
            " F1 score bigru : 0.7185632532418768\n",
            " F1 score double_bilstm : 0.6870308262363343\n",
            " F1 score bilstm_crf : 0.6906227704478274\n"
          ],
          "name": "stdout"
        }
      ]
    },
    {
      "cell_type": "markdown",
      "metadata": {
        "id": "rnI-xc_X6c2K"
      },
      "source": [
        "Against all our expectations, the best model seems to be the BIGRU. It has the best F1-score on the validation set.\n",
        "\n",
        "Now we can evaluate it on the test set."
      ]
    },
    {
      "cell_type": "code",
      "metadata": {
        "colab": {
          "base_uri": "https://localhost:8080/"
        },
        "id": "ZCY36_E8_9mW",
        "outputId": "aa0f1068-0f49-4908-e2a1-68eec6307ca4"
      },
      "source": [
        "bigru_model.evaluate(X_test,Y_test)"
      ],
      "execution_count": 84,
      "outputs": [
        {
          "output_type": "stream",
          "text": [
            "2/2 [==============================] - 0s 224ms/step - loss: 0.1181 - acc: 0.8872\n"
          ],
          "name": "stdout"
        },
        {
          "output_type": "execute_result",
          "data": {
            "text/plain": [
              "[0.11813455820083618, 0.887162446975708]"
            ]
          },
          "metadata": {
            "tags": []
          },
          "execution_count": 84
        }
      ]
    },
    {
      "cell_type": "markdown",
      "metadata": {
        "id": "K8WZeOzK9HIW"
      },
      "source": [
        "Let's compute the f1 score on the test set"
      ]
    },
    {
      "cell_type": "code",
      "metadata": {
        "colab": {
          "base_uri": "https://localhost:8080/",
          "height": 497
        },
        "id": "qmp5u-LH8699",
        "outputId": "9c24963f-5e0b-4142-a505-2de4622c27f8"
      },
      "source": [
        "ts_df = prediction(X_test,bigru_model,ts_df,\"bigru\")\n",
        "ts_df.head()"
      ],
      "execution_count": 85,
      "outputs": [
        {
          "output_type": "execute_result",
          "data": {
            "text/html": [
              "<div>\n",
              "<style scoped>\n",
              "    .dataframe tbody tr th:only-of-type {\n",
              "        vertical-align: middle;\n",
              "    }\n",
              "\n",
              "    .dataframe tbody tr th {\n",
              "        vertical-align: top;\n",
              "    }\n",
              "\n",
              "    .dataframe thead th {\n",
              "        text-align: right;\n",
              "    }\n",
              "</style>\n",
              "<table border=\"1\" class=\"dataframe\">\n",
              "  <thead>\n",
              "    <tr style=\"text-align: right;\">\n",
              "      <th></th>\n",
              "      <th>w_sequence</th>\n",
              "      <th>t_sequence</th>\n",
              "      <th>f_id</th>\n",
              "      <th>w_encoded</th>\n",
              "      <th>t_encoded</th>\n",
              "      <th>t_one_hot_encoded</th>\n",
              "      <th>t_sequence_infered_bigru</th>\n",
              "      <th>t_sequence_infered_encoded_bigru</th>\n",
              "    </tr>\n",
              "  </thead>\n",
              "  <tbody>\n",
              "    <tr>\n",
              "      <th>0</th>\n",
              "      <td>[ORTEGA, ENDED, a, truce, with, the, Contras, ...</td>\n",
              "      <td>[NNP, VBD, DT, NN, IN, DT, NNPS, CC, VBD, NNS,...</td>\n",
              "      <td>0174</td>\n",
              "      <td>[[403291, 403292, 8, 4906, 18, 1, 403293, 6, 1...</td>\n",
              "      <td>[3, 4, 19, 11, 14, 19, 22, 12, 4, 1, 4, 18, 16...</td>\n",
              "      <td>[[[0, 0, 0, 1, 0, 0, 0, 0, 0, 0, 0, 0, 0, 0, 0...</td>\n",
              "      <td>[NNP, NNP, DT, NN, IN, DT, JJ, CC, VBD, NNS, V...</td>\n",
              "      <td>[3, 3, 19, 11, 14, 19, 13, 12, 4, 1, 4, 18, 16...</td>\n",
              "    </tr>\n",
              "    <tr>\n",
              "      <th>1</th>\n",
              "      <td>[RMS, International, Inc., ,, Hasbrouk, Height...</td>\n",
              "      <td>[NNP, NNP, NNP, ,, NNP, NNP, ,, NNP, ,, VBG, D...</td>\n",
              "      <td>0167</td>\n",
              "      <td>[[403338, 400061, 400004, 2, 403339, 401979, 2...</td>\n",
              "      <td>[3, 3, 3, 7, 3, 3, 7, 3, 7, 21, 19, 13, 11, 7,...</td>\n",
              "      <td>[[[0, 0, 0, 1, 0, 0, 0, 0, 0, 0, 0, 0, 0, 0, 0...</td>\n",
              "      <td>[NNP, NNP, NNP, ,, NNP, NNP, ,, NNP, ,, VBG, D...</td>\n",
              "      <td>[3, 3, 3, 7, 3, 3, 7, 3, 7, 21, 19, 13, 11, 7,...</td>\n",
              "    </tr>\n",
              "    <tr>\n",
              "      <th>2</th>\n",
              "      <td>[The, U.S., International, Trade, Commission, ...</td>\n",
              "      <td>[DT, NNP, NNP, NNP, NNP, VBD, JJ, NNS, IN, DT,...</td>\n",
              "      <td>0183</td>\n",
              "      <td>[[400027, 400032, 400061, 400932, 400183, 1102...</td>\n",
              "      <td>[19, 3, 3, 3, 3, 4, 13, 1, 14, 19, 3, 13, 11, ...</td>\n",
              "      <td>[[[0, 0, 0, 0, 0, 0, 0, 0, 0, 0, 0, 0, 0, 0, 0...</td>\n",
              "      <td>[DT, NNP, NNP, NNP, NNP, VBD, JJ, NNS, IN, DT,...</td>\n",
              "      <td>[19, 3, 3, 3, 3, 4, 13, 1, 14, 19, 3, 11, 11, ...</td>\n",
              "    </tr>\n",
              "    <tr>\n",
              "      <th>3</th>\n",
              "      <td>[Metallgesellschaft, AG, said, it, agreed, to,...</td>\n",
              "      <td>[NNP, NNP, VBD, PRP, VBD, TO, VB, CD, NN, IN, ...</td>\n",
              "      <td>0182</td>\n",
              "      <td>[[403347, 401736, 17, 21, 738, 5, 5539, 3841, ...</td>\n",
              "      <td>[3, 3, 4, 25, 4, 5, 6, 10, 11, 14, 3, 3, 14, 1...</td>\n",
              "      <td>[[[0, 0, 0, 1, 0, 0, 0, 0, 0, 0, 0, 0, 0, 0, 0...</td>\n",
              "      <td>[NNP, NNP, VBD, PRP, VBD, TO, VB, CD, NN, IN, ...</td>\n",
              "      <td>[3, 3, 4, 25, 4, 5, 6, 10, 11, 14, 3, 3, 14, 1...</td>\n",
              "    </tr>\n",
              "    <tr>\n",
              "      <th>4</th>\n",
              "      <td>[Dell, Computer, Corp., said, it, cut, prices,...</td>\n",
              "      <td>[NNP, NNP, NNP, VBD, PRP, VBD, NNS, IN, JJ, IN...</td>\n",
              "      <td>0154</td>\n",
              "      <td>[[402013, 401383, 400014, 17, 21, 612, 469, 14...</td>\n",
              "      <td>[3, 3, 3, 4, 25, 4, 1, 14, 13, 14, 20, 13, 11,...</td>\n",
              "      <td>[[[0, 0, 0, 1, 0, 0, 0, 0, 0, 0, 0, 0, 0, 0, 0...</td>\n",
              "      <td>[NNP, NNP, NNP, VBD, PRP, VB, NNS, IN, NNS, IN...</td>\n",
              "      <td>[3, 3, 3, 4, 25, 6, 1, 14, 1, 14, 20, 13, 11, ...</td>\n",
              "    </tr>\n",
              "  </tbody>\n",
              "</table>\n",
              "</div>"
            ],
            "text/plain": [
              "                                          w_sequence  ...                   t_sequence_infered_encoded_bigru\n",
              "0  [ORTEGA, ENDED, a, truce, with, the, Contras, ...  ...  [3, 3, 19, 11, 14, 19, 13, 12, 4, 1, 4, 18, 16...\n",
              "1  [RMS, International, Inc., ,, Hasbrouk, Height...  ...  [3, 3, 3, 7, 3, 3, 7, 3, 7, 21, 19, 13, 11, 7,...\n",
              "2  [The, U.S., International, Trade, Commission, ...  ...  [19, 3, 3, 3, 3, 4, 13, 1, 14, 19, 3, 11, 11, ...\n",
              "3  [Metallgesellschaft, AG, said, it, agreed, to,...  ...  [3, 3, 4, 25, 4, 5, 6, 10, 11, 14, 3, 3, 14, 1...\n",
              "4  [Dell, Computer, Corp., said, it, cut, prices,...  ...  [3, 3, 3, 4, 25, 6, 1, 14, 1, 14, 20, 13, 11, ...\n",
              "\n",
              "[5 rows x 8 columns]"
            ]
          },
          "metadata": {
            "tags": []
          },
          "execution_count": 85
        }
      ]
    },
    {
      "cell_type": "code",
      "metadata": {
        "colab": {
          "base_uri": "https://localhost:8080/"
        },
        "id": "_xR2HQtP9OLe",
        "outputId": "73b8fed6-7c4a-40f3-816c-ebd0e10a12fc"
      },
      "source": [
        "print(f\" F1 score on the test set : {global_f1_score(ts_df,'bigru')}\")"
      ],
      "execution_count": 86,
      "outputs": [
        {
          "output_type": "stream",
          "text": [
            " F1 score on the test set : 0.7784582364301946\n"
          ],
          "name": "stdout"
        }
      ]
    },
    {
      "cell_type": "markdown",
      "metadata": {
        "id": "eBH5-YFnAdXy"
      },
      "source": [
        "# Conclusion\n",
        "\n",
        "<ins>model which has the best accuracy on the validation set</ins> : **LSTM + CRF**  \n",
        "\n",
        "<ins>Best model according to the f1-score on the validation set</ins> : **BIGRU**\n",
        "\n",
        "\n",
        "||Accuracy validation set|F1-score validation set| F1-score test set\n",
        "|--|--|-----------------------|------------------|\n",
        "|**BILSTM**| 88.4%|         68.5%             |-|\n",
        "|**BIGRU**|  87.9% |       71.9%             |77.8%|\n",
        "|**double BILSTM**| 88.4%|     68.7%                 |-|\n",
        "|**LSTM + CRF**|    93.1% |      69%            |-|\n",
        "\n",
        "  "
      ]
    },
    {
      "cell_type": "markdown",
      "metadata": {
        "id": "L_twAKFgBmAU"
      },
      "source": [
        "There is a lot of others things we could do to improve this F1-score :\n",
        "* add more/less dropout and try others regularization techniques\n",
        "* instead of padding at the end of sequences, add padding at the begining\n",
        "* instead of one hot encode labels, just tokenize them and use `sparse_categorical_crossentropy`\n",
        "* train longer\n",
        "* add more/less hidden units\n",
        "* try with word2vec or fastext instead of Glove\n",
        "* try with 100-Glove, 50-Glove, 200-Glove\n",
        "* maybe try another optimizer, add momemtum, weight decay, try differents learning rates"
      ]
    }
  ]
}