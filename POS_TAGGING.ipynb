{
  "nbformat": 4,
  "nbformat_minor": 0,
  "metadata": {
    "colab": {
      "name": "POS_TAGGING.ipynb",
      "provenance": [],
      "collapsed_sections": [],
      "authorship_tag": "ABX9TyOK5kNxFHfsWOMLgVxb0TSm",
      "include_colab_link": true
    },
    "kernelspec": {
      "display_name": "Python 3",
      "name": "python3"
    }
  },
  "cells": [
    {
      "cell_type": "markdown",
      "metadata": {
        "id": "view-in-github",
        "colab_type": "text"
      },
      "source": [
        "<a href=\"https://colab.research.google.com/github/CorentinMAG/NLP/blob/main/POS_TAGGING.ipynb\" target=\"_parent\"><img src=\"https://colab.research.google.com/assets/colab-badge.svg\" alt=\"Open In Colab\"/></a>"
      ]
    },
    {
      "cell_type": "code",
      "metadata": {
        "id": "v55u57eEyuve"
      },
      "source": [
        "URL = \"https://raw.githubusercontent.com/nltk/nltk_data/gh-pages/packages/corpora/dependency_treebank.zip\""
      ],
      "execution_count": null,
      "outputs": []
    },
    {
      "cell_type": "markdown",
      "metadata": {
        "id": "aM-YdkAHyzQV"
      },
      "source": [
        "# Assignment 3 : Sequence labelling with RNNs\n",
        "In this assignement we will ask you to perform POS tagging.\n",
        "\n",
        "You are asked to follow these steps:\n",
        "*   Download the corpora and split it in training and test sets, structuring a dataframe.\n",
        "*   Embed the words using GloVe embeddings\n",
        "*   Create a baseline model, using a simple neural architecture\n",
        "*   Experiment doing small modifications to the model\n",
        "*   Evaluate your best model\n",
        "*   Analyze the errors of your model\n",
        "\n",
        "**Corpora**:\n",
        "Ignore the numeric value in the third column, use only the words/symbols and its label.\n",
        "https://raw.githubusercontent.com/nltk/nltk_data/gh-pages/packages/corpora/dependency_treebank.zip \n",
        "\n",
        "**Splits**: documents 1-100 are the train set, 101-150 validation set, 151-199 test set.\n",
        "\n",
        "**Baseline**: two layers architecture: a Bidirectional LSTM and a Dense/Fully-Connected layer on top.\n",
        "\n",
        "**Modifications**: experiment using a GRU instead of the LSTM, adding an additional LSTM layer, and using a CRF in addition to the LSTM. Each of this change must be done by itself (don't mix these modifications).\n",
        "\n",
        "**Training and Experiments**: all the experiments must involve only the training and validation sets.\n",
        "\n",
        "**Evaluation**: in the end, only the best model of your choice must be evaluated on the test set. The main metric must be F1-Macro computed between the various part of speech (without considering punctuation classes).\n",
        "\n",
        "**Error Analysis** (optional) : analyze the errors done by your model, try to understand which may be the causes and think about how to improve it.\n",
        "\n",
        "**Report**: You are asked to deliver a small report of about 4-5 lines in the .txt file that sums up your findings."
      ]
    },
    {
      "cell_type": "code",
      "metadata": {
        "id": "oEGeac3Zy1nZ"
      },
      "source": [
        "# usefuls import\n",
        "import pandas as pd\n",
        "import numpy as np\n",
        "import os\n",
        "from urllib import request\n",
        "from zipfile import ZipFile\n",
        "import shutil\n",
        "import re\n",
        "import gensim\n",
        "import gensim.downloader as gloader\n",
        "from keras.models import Sequential\n",
        "from keras.layers import Dense, Embedding, LSTM, GRU, Bidirectional,TimeDistributed, Dropout\n",
        "from keras.models import Model\n",
        "import matplotlib.pyplot as plt\n",
        "from copy import deepcopy\n",
        "import tensorflow as tf\n",
        "from sklearn.metrics import f1_score"
      ],
      "execution_count": null,
      "outputs": []
    },
    {
      "cell_type": "markdown",
      "metadata": {
        "id": "4dajR6ZzzNQS"
      },
      "source": [
        "# Download the dataset"
      ]
    },
    {
      "cell_type": "code",
      "metadata": {
        "id": "Zm-EiwD3zPds"
      },
      "source": [
        "def download(url,folder=None):\n",
        "    _curr = '/content/'\n",
        "    \n",
        "    if folder is None:\n",
        "        _folder = os.path.join(_curr,\"Datasets\")\n",
        "    else:\n",
        "        _folder = os.path.join(_curr,folder)\n",
        "    \n",
        "    if not os.path.exists(_folder):\n",
        "        os.makedirs(_folder)\n",
        "    \n",
        "    _download = os.path.join(_folder,\"dataset.zip\")\n",
        "        \n",
        "    if not os.path.exists(_download):\n",
        "        print('Downloading dataset...')\n",
        "        request.urlretrieve(url,_download)\n",
        "        with ZipFile(_download) as f:\n",
        "            f.extractall(_folder)\n",
        "    _dataset = os.path.join(_folder,\"dependency_treebank\")\n",
        "    print('Done !')\n",
        "    return _dataset\n",
        "\n",
        "def split_files(corpora,train_length,test_length,validation_length):\n",
        "    _folder = corpora\n",
        "    if len(os.listdir(_folder)) != 3:\n",
        "        train_folder = os.path.join(_folder,\"train\")\n",
        "        test_folder = os.path.join(_folder,\"test\")\n",
        "        validation_folder = os.path.join(_folder,\"validation\")\n",
        "        os.makedirs(train_folder)\n",
        "        os.makedirs(test_folder)\n",
        "        os.makedirs(validation_folder)\n",
        "        for f in os.listdir(_folder):\n",
        "            file_path = os.path.join(_folder,f)\n",
        "            if os.path.isfile(file_path):\n",
        "                number = int(f.split('.')[0].split('_')[1])\n",
        "                if train_length[0] <= number <= train_length[1]:\n",
        "                    shutil.move(file_path,train_folder)\n",
        "                if test_length[0] <= number <= test_length[1]:\n",
        "                    shutil.move(file_path,test_folder)\n",
        "                if validation_length[0] <= number <= validation_length[1]:\n",
        "                    shutil.move(file_path,validation_folder)"
      ],
      "execution_count": null,
      "outputs": []
    },
    {
      "cell_type": "code",
      "metadata": {
        "colab": {
          "base_uri": "https://localhost:8080/"
        },
        "id": "PlheDORGzZ2k",
        "outputId": "202b7b5b-f742-4184-f4e7-2339f1af5f8a"
      },
      "source": [
        "# we download the corpora\n",
        "path = download(URL)"
      ],
      "execution_count": null,
      "outputs": [
        {
          "output_type": "stream",
          "text": [
            "Downloading dataset...\n",
            "Done !\n"
          ],
          "name": "stdout"
        }
      ]
    },
    {
      "cell_type": "markdown",
      "metadata": {
        "id": "M6LdJqIHzmzD"
      },
      "source": [
        "Now we have all files in the same folder, we will create a train/valid and test folder "
      ]
    },
    {
      "cell_type": "code",
      "metadata": {
        "id": "yb5bLFNgzyp8"
      },
      "source": [
        "split_files(path,[1,100],[151,199],[101,150])"
      ],
      "execution_count": null,
      "outputs": []
    },
    {
      "cell_type": "code",
      "metadata": {
        "colab": {
          "base_uri": "https://localhost:8080/"
        },
        "id": "WvqWfAGrz_sp",
        "outputId": "74657672-09b6-4d35-d581-9b28ca9808b5"
      },
      "source": [
        "sorted(os.listdir(path))"
      ],
      "execution_count": null,
      "outputs": [
        {
          "output_type": "execute_result",
          "data": {
            "text/plain": [
              "['test', 'train', 'validation']"
            ]
          },
          "metadata": {
            "tags": []
          },
          "execution_count": 6
        }
      ]
    },
    {
      "cell_type": "code",
      "metadata": {
        "id": "TFZBfiNu0CH4"
      },
      "source": [
        "test_path,train_path,validation_path = [os.path.join(path,x) for x in os.listdir(path)]"
      ],
      "execution_count": null,
      "outputs": []
    },
    {
      "cell_type": "markdown",
      "metadata": {
        "id": "MqrA3_GQ0FHS"
      },
      "source": [
        "Now that we have a better architecture, we can load the data"
      ]
    },
    {
      "cell_type": "markdown",
      "metadata": {
        "id": "8LZ93fUl0OkK"
      },
      "source": [
        "# Load data\n",
        "\n",
        "Well now we need to load the data. We will create 3 dataframes for the training/validation and test set.\n",
        "\n",
        "* Each row in a dataframe represents a file\n",
        "\n",
        "A dataframe contains 3 columns:\n",
        "* 1st : sequence of words in the file\n",
        "* 2nd : the sequence of tag\n",
        "* 3rd : the id of the file"
      ]
    },
    {
      "cell_type": "code",
      "metadata": {
        "id": "iZ0qcVCN0PCa"
      },
      "source": [
        "def create_dataframe(path):\n",
        "    _df = pd.DataFrame(columns=['w_sequence','t_sequence','f_id'])\n",
        "    i = 0\n",
        "    for file in os.listdir(path):\n",
        "        _file = os.path.join(path,file)\n",
        "        f_id = re.findall('\\d+',file)[0]\n",
        "        w_seq = []\n",
        "        t_seq = []\n",
        "        with open(_file) as f:\n",
        "            for row in f:\n",
        "                if row == '\\n':continue\n",
        "                w = row.split('\\t')[0]\n",
        "                t = row.split('\\t')[1]\n",
        "                w_seq.append(w)\n",
        "                t_seq.append(t)\n",
        "        _df.loc[-1] = [w_seq, t_seq,f_id]\n",
        "        _df.index = _df.index + 1  \n",
        "        _df = _df.sort_index()\n",
        "    return _df"
      ],
      "execution_count": null,
      "outputs": []
    },
    {
      "cell_type": "code",
      "metadata": {
        "id": "6W5wk8sh1Wcr"
      },
      "source": [
        "tr_df = create_dataframe(train_path)\n",
        "valid_df = create_dataframe(validation_path)\n",
        "ts_df = create_dataframe(test_path)"
      ],
      "execution_count": null,
      "outputs": []
    },
    {
      "cell_type": "code",
      "metadata": {
        "colab": {
          "base_uri": "https://localhost:8080/",
          "height": 202
        },
        "id": "DgmX6oAV1YXI",
        "outputId": "4f6e615e-0d91-4cef-da74-a6e9b3051ad0"
      },
      "source": [
        "tr_df.head()"
      ],
      "execution_count": null,
      "outputs": [
        {
          "output_type": "execute_result",
          "data": {
            "text/html": [
              "<div>\n",
              "<style scoped>\n",
              "    .dataframe tbody tr th:only-of-type {\n",
              "        vertical-align: middle;\n",
              "    }\n",
              "\n",
              "    .dataframe tbody tr th {\n",
              "        vertical-align: top;\n",
              "    }\n",
              "\n",
              "    .dataframe thead th {\n",
              "        text-align: right;\n",
              "    }\n",
              "</style>\n",
              "<table border=\"1\" class=\"dataframe\">\n",
              "  <thead>\n",
              "    <tr style=\"text-align: right;\">\n",
              "      <th></th>\n",
              "      <th>w_sequence</th>\n",
              "      <th>t_sequence</th>\n",
              "      <th>f_id</th>\n",
              "    </tr>\n",
              "  </thead>\n",
              "  <tbody>\n",
              "    <tr>\n",
              "      <th>0</th>\n",
              "      <td>[PAPERS, :, Backe, Group, Inc., agreed, to, ac...</td>\n",
              "      <td>[NNS, :, NNP, NNP, NNP, VBD, TO, VB, NNP, NNP,...</td>\n",
              "      <td>0052</td>\n",
              "    </tr>\n",
              "    <tr>\n",
              "      <th>1</th>\n",
              "      <td>[Italian, chemical, giant, Montedison, S.p.A.,...</td>\n",
              "      <td>[JJ, NN, NN, NNP, NNP, ,, IN, PRP$, NNP, NNP, ...</td>\n",
              "      <td>0032</td>\n",
              "    </tr>\n",
              "    <tr>\n",
              "      <th>2</th>\n",
              "      <td>[The, U.S., and, Soviet, Union, are, holding, ...</td>\n",
              "      <td>[DT, NNP, CC, NNP, NNP, VBP, VBG, JJ, NNS, IN,...</td>\n",
              "      <td>0035</td>\n",
              "    </tr>\n",
              "    <tr>\n",
              "      <th>3</th>\n",
              "      <td>[Newsweek, ,, trying, to, keep, pace, with, ri...</td>\n",
              "      <td>[NNP, ,, VBG, TO, VB, NN, IN, JJ, NNP, NN, ,, ...</td>\n",
              "      <td>0012</td>\n",
              "    </tr>\n",
              "    <tr>\n",
              "      <th>4</th>\n",
              "      <td>[The, Treasury, said, it, plans, to, sell, $, ...</td>\n",
              "      <td>[DT, NNP, VBD, PRP, VBZ, TO, VB, $, CD, CD, IN...</td>\n",
              "      <td>0075</td>\n",
              "    </tr>\n",
              "  </tbody>\n",
              "</table>\n",
              "</div>"
            ],
            "text/plain": [
              "                                          w_sequence  ...  f_id\n",
              "0  [PAPERS, :, Backe, Group, Inc., agreed, to, ac...  ...  0052\n",
              "1  [Italian, chemical, giant, Montedison, S.p.A.,...  ...  0032\n",
              "2  [The, U.S., and, Soviet, Union, are, holding, ...  ...  0035\n",
              "3  [Newsweek, ,, trying, to, keep, pace, with, ri...  ...  0012\n",
              "4  [The, Treasury, said, it, plans, to, sell, $, ...  ...  0075\n",
              "\n",
              "[5 rows x 3 columns]"
            ]
          },
          "metadata": {
            "tags": []
          },
          "execution_count": 10
        }
      ]
    },
    {
      "cell_type": "code",
      "metadata": {
        "colab": {
          "base_uri": "https://localhost:8080/"
        },
        "id": "QDN65ekp1aZz",
        "outputId": "597e1bd3-f78f-43fa-fa5f-746b3aa0bfcc"
      },
      "source": [
        "print(f\" the training set contains {tr_df.shape[0]} files \")"
      ],
      "execution_count": null,
      "outputs": [
        {
          "output_type": "stream",
          "text": [
            " the training set contains 100 files \n"
          ],
          "name": "stdout"
        }
      ]
    },
    {
      "cell_type": "markdown",
      "metadata": {
        "id": "JyhMjJsV1mXy"
      },
      "source": [
        "# Data Visualization\n",
        "\n",
        "In this step, we will try to know a bit more about our data"
      ]
    },
    {
      "cell_type": "markdown",
      "metadata": {
        "id": "DKOWWKyO1sfr"
      },
      "source": [
        "## Training dataset"
      ]
    },
    {
      "cell_type": "code",
      "metadata": {
        "colab": {
          "base_uri": "https://localhost:8080/",
          "height": 301
        },
        "id": "RLgL917D1qNv",
        "outputId": "0290f698-eef0-4215-9f70-beaecac45904"
      },
      "source": [
        "all_t = pd.Series([x for _list in tr_df['t_sequence'] for x in _list])\n",
        "all_t.value_counts().plot.bar()"
      ],
      "execution_count": null,
      "outputs": [
        {
          "output_type": "execute_result",
          "data": {
            "text/plain": [
              "<matplotlib.axes._subplots.AxesSubplot at 0x7f4ad9bf3160>"
            ]
          },
          "metadata": {
            "tags": []
          },
          "execution_count": 12
        },
        {
          "output_type": "display_data",
          "data": {
            "image/png": "[encoded data removed]",
            "text/plain": [
              "<Figure size 432x288 with 1 Axes>"
            ]
          },
          "metadata": {
            "tags": [],
            "needs_background": "light"
          }
        }
      ]
    },
    {
      "cell_type": "code",
      "metadata": {
        "colab": {
          "base_uri": "https://localhost:8080/"
        },
        "id": "gu-eNMpd1xZY",
        "outputId": "f0ca6eb9-a48d-469f-c1d1-81baafc984a3"
      },
      "source": [
        "print(\"the most represented tokens in the training set :\\n\")\n",
        "all_t.value_counts()[:5]"
      ],
      "execution_count": null,
      "outputs": [
        {
          "output_type": "stream",
          "text": [
            "the most represented tokens in the training set :\n",
            "\n"
          ],
          "name": "stdout"
        },
        {
          "output_type": "execute_result",
          "data": {
            "text/plain": [
              "NN     6270\n",
              "NNP    5202\n",
              "IN     4952\n",
              "DT     4076\n",
              "NNS    3004\n",
              "dtype: int64"
            ]
          },
          "metadata": {
            "tags": []
          },
          "execution_count": 13
        }
      ]
    },
    {
      "cell_type": "markdown",
      "metadata": {
        "id": "l0fGivxk10Mg"
      },
      "source": [
        "Below we can see all the POS tokens available."
      ]
    },
    {
      "cell_type": "code",
      "metadata": {
        "colab": {
          "base_uri": "https://localhost:8080/"
        },
        "id": "-oNs8ng010o2",
        "outputId": "d5e8186f-1677-442c-f01e-6b09af035f02"
      },
      "source": [
        "pd.unique(all_t)"
      ],
      "execution_count": null,
      "outputs": [
        {
          "output_type": "execute_result",
          "data": {
            "text/plain": [
              "array(['NNS', ':', 'NNP', 'VBD', 'TO', 'VB', ',', 'WDT', 'VBZ', 'CD',\n",
              "       'NN', 'CC', 'JJ', 'IN', '$', '.', 'RB', 'VBN', 'DT', 'PRP$', 'VBG',\n",
              "       'NNPS', 'POS', 'VBP', 'PRP', 'MD', '``', \"''\", 'JJR', 'WP', 'RP',\n",
              "       'JJS', '-LRB-', '-RRB-', 'RBR', 'RBS', 'WP$', 'WRB', 'EX', 'PDT',\n",
              "       'LS', 'UH', '#', 'SYM', 'FW'], dtype=object)"
            ]
          },
          "metadata": {
            "tags": []
          },
          "execution_count": 14
        }
      ]
    },
    {
      "cell_type": "code",
      "metadata": {
        "colab": {
          "base_uri": "https://localhost:8080/"
        },
        "id": "oi2LLGeX131C",
        "outputId": "8868099d-c050-48b8-bf1a-6d3fdbe5af39"
      },
      "source": [
        "print(f\" we have : {len(pd.unique(all_t))} differents tokens in the training set\")"
      ],
      "execution_count": null,
      "outputs": [
        {
          "output_type": "stream",
          "text": [
            " we have : 45 differents tokens in the training set\n"
          ],
          "name": "stdout"
        }
      ]
    },
    {
      "cell_type": "code",
      "metadata": {
        "colab": {
          "base_uri": "https://localhost:8080/"
        },
        "id": "ULilk9uR15yA",
        "outputId": "aaaef8f6-3e42-4aeb-e445-68775b97440b"
      },
      "source": [
        "all_w = pd.Series([x for _list in tr_df['w_sequence'] for x in _list])\n",
        "print(f\" there are {len(all_w)} words in the training dataset \")"
      ],
      "execution_count": null,
      "outputs": [
        {
          "output_type": "stream",
          "text": [
            " there are 47356 words in the training dataset \n"
          ],
          "name": "stdout"
        }
      ]
    },
    {
      "cell_type": "code",
      "metadata": {
        "colab": {
          "base_uri": "https://localhost:8080/",
          "height": 291
        },
        "id": "ZbiPisWw2BgH",
        "outputId": "581ac63c-6b7f-4991-8b3f-1c0624b3d4ce"
      },
      "source": [
        "all_w.value_counts()[:10].plot.bar()"
      ],
      "execution_count": null,
      "outputs": [
        {
          "output_type": "execute_result",
          "data": {
            "text/plain": [
              "<matplotlib.axes._subplots.AxesSubplot at 0x7f4ad9c17198>"
            ]
          },
          "metadata": {
            "tags": []
          },
          "execution_count": 17
        },
        {
          "output_type": "display_data",
          "data": {
            "image/png": "[encoded data removed]",
            "text/plain": [
              "<Figure size 432x288 with 1 Axes>"
            ]
          },
          "metadata": {
            "tags": [],
            "needs_background": "light"
          }
        }
      ]
    },
    {
      "cell_type": "markdown",
      "metadata": {
        "id": "RjJkqXgp2Hvp"
      },
      "source": [
        "Above we have the most representated words in the training dataset.\n",
        "We can see that punctuation mark (, and .) are highly represented as well as common english stopwords."
      ]
    },
    {
      "cell_type": "markdown",
      "metadata": {
        "id": "udYvSsAB2JzE"
      },
      "source": [
        "## Validation dataset"
      ]
    },
    {
      "cell_type": "code",
      "metadata": {
        "colab": {
          "base_uri": "https://localhost:8080/",
          "height": 301
        },
        "id": "TJ7I2O2k2LZp",
        "outputId": "d0401677-a44a-4e74-8f6c-0fc310271ca9"
      },
      "source": [
        "allv_t = pd.Series([x for _list in valid_df['t_sequence'] for x in _list])\n",
        "allv_t.value_counts().plot.bar()"
      ],
      "execution_count": null,
      "outputs": [
        {
          "output_type": "execute_result",
          "data": {
            "text/plain": [
              "<matplotlib.axes._subplots.AxesSubplot at 0x7f4ad95427f0>"
            ]
          },
          "metadata": {
            "tags": []
          },
          "execution_count": 18
        },
        {
          "output_type": "display_data",
          "data": {
            "image/png": "[encoded data removed]",
            "text/plain": [
              "<Figure size 432x288 with 1 Axes>"
            ]
          },
          "metadata": {
            "tags": [],
            "needs_background": "light"
          }
        }
      ]
    },
    {
      "cell_type": "code",
      "metadata": {
        "colab": {
          "base_uri": "https://localhost:8080/"
        },
        "id": "9UtoKL1O2O2K",
        "outputId": "bb3cb1e9-c767-427a-88c7-e56a9e1e33a4"
      },
      "source": [
        "print(f\" we have : {len(pd.unique(all_t))} differents tokens in the validation dataset\")"
      ],
      "execution_count": null,
      "outputs": [
        {
          "output_type": "stream",
          "text": [
            " we have : 45 differents tokens in the validation dataset\n"
          ],
          "name": "stdout"
        }
      ]
    },
    {
      "cell_type": "code",
      "metadata": {
        "colab": {
          "base_uri": "https://localhost:8080/"
        },
        "id": "03ffhYwJ2Q8V",
        "outputId": "44329f98-b2fb-4b25-9a48-7836130dbd2a"
      },
      "source": [
        "all_lw = pd.Series([x for _list in valid_df['w_sequence'] for x in _list])\n",
        "print(f\"there are {len(all_lw)} words in the validation dataset\")"
      ],
      "execution_count": null,
      "outputs": [
        {
          "output_type": "stream",
          "text": [
            "there are 31183 words in the validation dataset\n"
          ],
          "name": "stdout"
        }
      ]
    },
    {
      "cell_type": "markdown",
      "metadata": {
        "id": "4Y-v_flQ2ige"
      },
      "source": [
        "## Test dataset"
      ]
    },
    {
      "cell_type": "code",
      "metadata": {
        "colab": {
          "base_uri": "https://localhost:8080/"
        },
        "id": "e2djIaen2jqv",
        "outputId": "cd61500e-b54f-4748-de23-231e28208480"
      },
      "source": [
        "all_tt = pd.Series([x for _list in ts_df['t_sequence'] for x in _list])\n",
        "print(f\" we have : {len(pd.unique(all_tt))} differents tokens in the test dataset\")"
      ],
      "execution_count": null,
      "outputs": [
        {
          "output_type": "stream",
          "text": [
            " we have : 40 differents tokens in the test dataset\n"
          ],
          "name": "stdout"
        }
      ]
    },
    {
      "cell_type": "code",
      "metadata": {
        "colab": {
          "base_uri": "https://localhost:8080/"
        },
        "id": "VAnnHqo92mYO",
        "outputId": "10127988-2f4b-468b-9970-9ce2ac992972"
      },
      "source": [
        "print(f\" there are {len(all_tt)} words in the test dataset\")"
      ],
      "execution_count": null,
      "outputs": [
        {
          "output_type": "stream",
          "text": [
            " there are 15545 words in the test dataset\n"
          ],
          "name": "stdout"
        }
      ]
    },
    {
      "cell_type": "markdown",
      "metadata": {
        "id": "4XbLhVx13EsD"
      },
      "source": [
        "**The distribution of words and tokens is quite the same in all datasets**"
      ]
    },
    {
      "cell_type": "code",
      "metadata": {
        "colab": {
          "base_uri": "https://localhost:8080/",
          "height": 297
        },
        "id": "P66qwdf03LDM",
        "outputId": "d1dfc153-aef0-44f0-fc91-9424e7e9e132"
      },
      "source": [
        "pd.Series({\"train\":len(all_w),\"valid\":len(allv_t),\"test\":len(all_tt)}).plot.bar()"
      ],
      "execution_count": null,
      "outputs": [
        {
          "output_type": "execute_result",
          "data": {
            "text/plain": [
              "<matplotlib.axes._subplots.AxesSubplot at 0x7f4ad946bd30>"
            ]
          },
          "metadata": {
            "tags": []
          },
          "execution_count": 23
        },
        {
          "output_type": "display_data",
          "data": {
            "image/png": "[encoded data removed]",
            "text/plain": [
              "<Figure size 432x288 with 1 Axes>"
            ]
          },
          "metadata": {
            "tags": [],
            "needs_background": "light"
          }
        }
      ]
    },
    {
      "cell_type": "markdown",
      "metadata": {
        "id": "7jW8RYpl4Cc6"
      },
      "source": [
        "Above we can see the number of words in each dataset\n",
        "\n",
        "Now that we have all our data, we will need to preprocess them.\n",
        "\n",
        "Indeed, we will feed a neural network which can only compute numbers. So, we will need to embed our words (it's the most efficient way to represent words) and map these vectors to integer. "
      ]
    },
    {
      "cell_type": "markdown",
      "metadata": {
        "id": "OQYlEPdD6BXk"
      },
      "source": [
        "# Preprocessing\n",
        "\n",
        "The preprocessing part can be split in severals steps:\n",
        "* download a pre-trained embedding model called Glove\n",
        "* create a vocabulary from the Glove model\n",
        "* compute embedding for out of vocabulary words of the training dataset\n",
        "* update the vocabulary\n",
        "* repeat the last 2 steps for the validation and test dataset\n",
        "\n",
        "It's not very rigorous, in a real world case scenario, we will train the model before each vocabulary update. But will do as is for sake of simplicity."
      ]
    },
    {
      "cell_type": "markdown",
      "metadata": {
        "id": "rkk7N3QE87yP"
      },
      "source": [
        "## Download Glove embedding model"
      ]
    },
    {
      "cell_type": "code",
      "metadata": {
        "id": "nLtyw5xX8jxO"
      },
      "source": [
        "EMBEDDING_SIZE = 300"
      ],
      "execution_count": null,
      "outputs": []
    },
    {
      "cell_type": "code",
      "metadata": {
        "id": "E5voSfrO7r5H"
      },
      "source": [
        "def download_glove_embedding(embedding_dimension=50):\n",
        "  download_path = \"glove-wiki-gigaword-{}\".format(embedding_dimension)\n",
        "  try:\n",
        "    emb_model = gloader.load(download_path)\n",
        "  except ValueError as e:\n",
        "      print(\"Glove: 50, 100, 200, 300\")\n",
        "      raise e\n",
        "  return emb_model"
      ],
      "execution_count": null,
      "outputs": []
    },
    {
      "cell_type": "code",
      "metadata": {
        "colab": {
          "base_uri": "https://localhost:8080/"
        },
        "id": "RgmFcdgV8nM8",
        "outputId": "3810769c-c0a9-4b00-8f61-8825d025c5da"
      },
      "source": [
        "glove_model = download_glove_embedding(EMBEDDING_SIZE)"
      ],
      "execution_count": null,
      "outputs": [
        {
          "output_type": "stream",
          "text": [
            "[==================================================] 100.0% 376.1/376.1MB downloaded\n"
          ],
          "name": "stdout"
        }
      ]
    },
    {
      "cell_type": "code",
      "metadata": {
        "colab": {
          "base_uri": "https://localhost:8080/"
        },
        "id": "Sm-E3SKy-N-o",
        "outputId": "d6c5991d-c353-4a33-d40e-eded35ec8568"
      },
      "source": [
        "print(f\"size of the vocab of the pre-trained model : {len(glove_model.vocab)}\")"
      ],
      "execution_count": null,
      "outputs": [
        {
          "output_type": "stream",
          "text": [
            "size of the vocab of the pre-trained model : 400000\n"
          ],
          "name": "stdout"
        }
      ]
    },
    {
      "cell_type": "markdown",
      "metadata": {
        "id": "noL-Q3O59wfe"
      },
      "source": [
        "## Create a vocabulary from the Glove model\n",
        "\n",
        "Now that we have a pre-trained model with 400 000 words we can use this model as our bare vocabulary and adding afterwards out of vocabulary words.  \n",
        "We have also to add a PAD token."
      ]
    },
    {
      "cell_type": "code",
      "metadata": {
        "id": "vNIGmzDSAU-2"
      },
      "source": [
        "vocab = deepcopy(glove_model.vocab)"
      ],
      "execution_count": null,
      "outputs": []
    },
    {
      "cell_type": "code",
      "metadata": {
        "id": "lAOaLuaU-z0b"
      },
      "source": [
        "def update_vocab(vocab,new_vocab):\n",
        "  vocab.update(new_vocab)"
      ],
      "execution_count": null,
      "outputs": []
    },
    {
      "cell_type": "code",
      "metadata": {
        "id": "RSr2l8MIAhCR"
      },
      "source": [
        "def compute_oov_embedding(vocabulary,df):\n",
        "  oov = {}\n",
        "  vocab = pd.Series([x for _list in df['w_sequence'] for x in _list])\n",
        "  vocab = vocab.drop_duplicates()\n",
        "  vocab = vocab.to_list()\n",
        "  for w in vocab:\n",
        "    if w not in vocabulary:\n",
        "      oov[w] = np.random.randn(1,EMBEDDING_SIZE) # we handle oov words by computing a random embedding\n",
        "  return oov"
      ],
      "execution_count": null,
      "outputs": []
    },
    {
      "cell_type": "code",
      "metadata": {
        "id": "8-zY6piUBzPy"
      },
      "source": [
        "training_oov = compute_oov_embedding(vocab,tr_df) # we compute embedding for oov in the training dataset\n",
        "update_vocab(vocab,training_oov) # we update the vocabulary with new embeddings\n",
        "validation_oov = compute_oov_embedding(vocab,valid_df)\n",
        "update_vocab(vocab,validation_oov)\n",
        "testing_oov = compute_oov_embedding(vocab,ts_df)\n",
        "update_vocab(vocab,testing_oov)"
      ],
      "execution_count": null,
      "outputs": []
    },
    {
      "cell_type": "code",
      "metadata": {
        "colab": {
          "base_uri": "https://localhost:8080/"
        },
        "id": "cXzwc6_8Cnx-",
        "outputId": "0a578c26-5508-4840-e7f7-5bae240b906b"
      },
      "source": [
        "print(f\" size of the final vocabulary : {len(vocab)}\")"
      ],
      "execution_count": null,
      "outputs": [
        {
          "output_type": "stream",
          "text": [
            " size of the final vocabulary : 403745\n"
          ],
          "name": "stdout"
        }
      ]
    },
    {
      "cell_type": "markdown",
      "metadata": {
        "id": "hXa5VCJWCy8l"
      },
      "source": [
        "Now that we have all words in the vocabulary we need a way to retrieve them by their index "
      ]
    },
    {
      "cell_type": "code",
      "metadata": {
        "id": "nqmKls1gDDLA"
      },
      "source": [
        "def adapt_vocab(vocab):\n",
        "  word_list = [\"PAD\"] # we add the PAD token\n",
        "  for w in vocab:\n",
        "    word_list.append(w)\n",
        "  idx_to_word = pd.Series(word_list,index = [i for i in range(len(word_list))])\n",
        "  idx_to_word = idx_to_word.to_dict()\n",
        "  word_to_idx = pd.Series(data = [x for x in range(len(idx_to_word))],index=word_list).to_dict()\n",
        "  return word_list,idx_to_word,word_to_idx"
      ],
      "execution_count": null,
      "outputs": []
    },
    {
      "cell_type": "code",
      "metadata": {
        "id": "5Jxc-Z8ODeQr"
      },
      "source": [
        "word_list,idx_to_word,word_to_idx = adapt_vocab(vocab)"
      ],
      "execution_count": null,
      "outputs": []
    },
    {
      "cell_type": "markdown",
      "metadata": {
        "id": "bvhxa6xSEr6d"
      },
      "source": [
        "We can now map our word with their embedding in the embedding matrix"
      ]
    },
    {
      "cell_type": "markdown",
      "metadata": {
        "id": "pbCX1TOAPQ8r"
      },
      "source": [
        "## Embedding matrix"
      ]
    },
    {
      "cell_type": "code",
      "metadata": {
        "id": "AtzuvL3vEy0W"
      },
      "source": [
        "def create_embedding_matrix(model,vocab,word_list,idx_to_word,word_to_idx):\n",
        "  v = len(word_list)\n",
        "  embedding_matrix = np.zeros((v,EMBEDDING_SIZE))\n",
        "  for w,i in word_to_idx.items():\n",
        "    if w == 'PAD': \n",
        "      embedding_matrix[i] = np.zeros((1,EMBEDDING_SIZE))\n",
        "    elif w in model.vocab:\n",
        "      embedding_matrix[i] = model.get_vector(w)\n",
        "    else:\n",
        "      embedding_matrix[i] = vocab[w]\n",
        "  return embedding_matrix"
      ],
      "execution_count": null,
      "outputs": []
    },
    {
      "cell_type": "code",
      "metadata": {
        "id": "TquVKcVbGZcq"
      },
      "source": [
        "embedding_matrix = create_embedding_matrix(glove_model,vocab,word_list,idx_to_word,word_to_idx)"
      ],
      "execution_count": null,
      "outputs": []
    },
    {
      "cell_type": "code",
      "metadata": {
        "colab": {
          "base_uri": "https://localhost:8080/"
        },
        "id": "GAzXQofXPIhg",
        "outputId": "d174ac80-1bf4-4c01-e584-ce96b1d616dd"
      },
      "source": [
        "embedding_matrix.shape"
      ],
      "execution_count": null,
      "outputs": [
        {
          "output_type": "execute_result",
          "data": {
            "text/plain": [
              "(403746, 300)"
            ]
          },
          "metadata": {
            "tags": []
          },
          "execution_count": 37
        }
      ]
    },
    {
      "cell_type": "markdown",
      "metadata": {
        "id": "OczLRXi7PTzq"
      },
      "source": [
        "## Word Tokenization\n",
        "\n",
        "We will map each word with the corresponding index"
      ]
    },
    {
      "cell_type": "code",
      "metadata": {
        "id": "O39813LGPWoj"
      },
      "source": [
        "def tokenization(seq,word_to_idx):\n",
        "    return np.array([word_to_idx[x] for x in seq])"
      ],
      "execution_count": null,
      "outputs": []
    },
    {
      "cell_type": "code",
      "metadata": {
        "id": "uODrqj_9PoBB"
      },
      "source": [
        "# we encode the training set\n",
        "tr_df['w_encoded'] = tr_df['w_sequence'].apply(lambda x:tokenization(x,word_to_idx))\n",
        "\n",
        "# and we do the same for the validation set\n",
        "valid_df['w_encoded'] = valid_df['w_sequence'].apply(lambda x:tokenization(x,word_to_idx))\n",
        "\n",
        "# and for the test dataset\n",
        "ts_df['w_encoded'] = ts_df['w_sequence'].apply(lambda x:tokenization(x,word_to_idx))"
      ],
      "execution_count": null,
      "outputs": []
    },
    {
      "cell_type": "code",
      "metadata": {
        "colab": {
          "base_uri": "https://localhost:8080/",
          "height": 202
        },
        "id": "71vf0MlgPvAK",
        "outputId": "2065e7a4-fb72-4720-e94a-7772c0cc4adc"
      },
      "source": [
        "tr_df.head()"
      ],
      "execution_count": null,
      "outputs": [
        {
          "output_type": "execute_result",
          "data": {
            "text/html": [
              "<div>\n",
              "<style scoped>\n",
              "    .dataframe tbody tr th:only-of-type {\n",
              "        vertical-align: middle;\n",
              "    }\n",
              "\n",
              "    .dataframe tbody tr th {\n",
              "        vertical-align: top;\n",
              "    }\n",
              "\n",
              "    .dataframe thead th {\n",
              "        text-align: right;\n",
              "    }\n",
              "</style>\n",
              "<table border=\"1\" class=\"dataframe\">\n",
              "  <thead>\n",
              "    <tr style=\"text-align: right;\">\n",
              "      <th></th>\n",
              "      <th>w_sequence</th>\n",
              "      <th>t_sequence</th>\n",
              "      <th>f_id</th>\n",
              "      <th>w_encoded</th>\n",
              "    </tr>\n",
              "  </thead>\n",
              "  <tbody>\n",
              "    <tr>\n",
              "      <th>0</th>\n",
              "      <td>[PAPERS, :, Backe, Group, Inc., agreed, to, ac...</td>\n",
              "      <td>[NNS, :, NNP, NNP, NNP, VBD, TO, VB, NNP, NNP,...</td>\n",
              "      <td>0052</td>\n",
              "      <td>[400001, 46, 400002, 400003, 400004, 738, 5, 5...</td>\n",
              "    </tr>\n",
              "    <tr>\n",
              "      <th>1</th>\n",
              "      <td>[Italian, chemical, giant, Montedison, S.p.A.,...</td>\n",
              "      <td>[JJ, NN, NN, NNP, NNP, ,, IN, PRP$, NNP, NNP, ...</td>\n",
              "      <td>0032</td>\n",
              "      <td>[400019, 2292, 1753, 400020, 400021, 2, 132, 4...</td>\n",
              "    </tr>\n",
              "    <tr>\n",
              "      <th>2</th>\n",
              "      <td>[The, U.S., and, Soviet, Union, are, holding, ...</td>\n",
              "      <td>[DT, NNP, CC, NNP, NNP, VBP, VBG, JJ, NNS, IN,...</td>\n",
              "      <td>0035</td>\n",
              "      <td>[400027, 400032, 6, 400033, 400034, 33, 1384, ...</td>\n",
              "    </tr>\n",
              "    <tr>\n",
              "      <th>3</th>\n",
              "      <td>[Newsweek, ,, trying, to, keep, pace, with, ri...</td>\n",
              "      <td>[NNP, ,, VBG, TO, VB, NN, IN, JJ, NNP, NN, ,, ...</td>\n",
              "      <td>0012</td>\n",
              "      <td>[400069, 2, 596, 5, 579, 2409, 18, 1746, 40007...</td>\n",
              "    </tr>\n",
              "    <tr>\n",
              "      <th>4</th>\n",
              "      <td>[The, Treasury, said, it, plans, to, sell, $, ...</td>\n",
              "      <td>[DT, NNP, VBD, PRP, VBZ, TO, VB, $, CD, CD, IN...</td>\n",
              "      <td>0075</td>\n",
              "      <td>[400027, 400103, 17, 21, 560, 5, 1244, 81, 408...</td>\n",
              "    </tr>\n",
              "  </tbody>\n",
              "</table>\n",
              "</div>"
            ],
            "text/plain": [
              "                                          w_sequence  ...                                          w_encoded\n",
              "0  [PAPERS, :, Backe, Group, Inc., agreed, to, ac...  ...  [400001, 46, 400002, 400003, 400004, 738, 5, 5...\n",
              "1  [Italian, chemical, giant, Montedison, S.p.A.,...  ...  [400019, 2292, 1753, 400020, 400021, 2, 132, 4...\n",
              "2  [The, U.S., and, Soviet, Union, are, holding, ...  ...  [400027, 400032, 6, 400033, 400034, 33, 1384, ...\n",
              "3  [Newsweek, ,, trying, to, keep, pace, with, ri...  ...  [400069, 2, 596, 5, 579, 2409, 18, 1746, 40007...\n",
              "4  [The, Treasury, said, it, plans, to, sell, $, ...  ...  [400027, 400103, 17, 21, 560, 5, 1244, 81, 408...\n",
              "\n",
              "[5 rows x 4 columns]"
            ]
          },
          "metadata": {
            "tags": []
          },
          "execution_count": 40
        }
      ]
    },
    {
      "cell_type": "markdown",
      "metadata": {
        "id": "MX6VeOhXP3v-"
      },
      "source": [
        "We also need to tokenize POS tokens, we know that we have 45 differents tokens."
      ]
    },
    {
      "cell_type": "code",
      "metadata": {
        "id": "F3YMypmxP7S4"
      },
      "source": [
        "def adapt_token(df):\n",
        "  token = pd.Series([x for _list in df['t_sequence'] for x in _list])\n",
        "  token = token.drop_duplicates()\n",
        "  token_list =[\"PAD\"]+ token.to_list() #we add the PAD token\n",
        "  idx_to_token = pd.Series(token_list,index=[i for i in range(len(token_list))])\n",
        "  idx_to_token = idx_to_token.to_dict()\n",
        "  token_to_idx = pd.Series(data = [x for x in range(len(idx_to_token))],index=token_list).to_dict()\n",
        "  return token_list,idx_to_token,token_to_idx"
      ],
      "execution_count": null,
      "outputs": []
    },
    {
      "cell_type": "code",
      "metadata": {
        "colab": {
          "base_uri": "https://localhost:8080/"
        },
        "id": "mFAiZs0HQ4X5",
        "outputId": "5eae93bb-0e8b-47b1-e46b-668956c4869b"
      },
      "source": [
        "token_list,idx_to_token,token_to_idx = adapt_token(tr_df)\n",
        "len(token_list)"
      ],
      "execution_count": null,
      "outputs": [
        {
          "output_type": "execute_result",
          "data": {
            "text/plain": [
              "46"
            ]
          },
          "metadata": {
            "tags": []
          },
          "execution_count": 42
        }
      ]
    },
    {
      "cell_type": "code",
      "metadata": {
        "id": "n8J38CCCRKEl"
      },
      "source": [
        "# we encode the training set\n",
        "tr_df['t_encoded'] = tr_df['t_sequence'].apply(lambda x:tokenization(x,token_to_idx))\n",
        "\n",
        "# and we do the same for the validation set\n",
        "valid_df['t_encoded'] = valid_df['t_sequence'].apply(lambda x:tokenization(x,token_to_idx))\n",
        "\n",
        "# and for the test dataset\n",
        "ts_df['t_encoded'] = ts_df['t_sequence'].apply(lambda x:tokenization(x,token_to_idx))"
      ],
      "execution_count": null,
      "outputs": []
    },
    {
      "cell_type": "code",
      "metadata": {
        "colab": {
          "base_uri": "https://localhost:8080/",
          "height": 289
        },
        "id": "UZRG_uxjRQRV",
        "outputId": "f40035af-330a-4b6a-c718-a4e4c8c23386"
      },
      "source": [
        "tr_df.head()"
      ],
      "execution_count": null,
      "outputs": [
        {
          "output_type": "execute_result",
          "data": {
            "text/html": [
              "<div>\n",
              "<style scoped>\n",
              "    .dataframe tbody tr th:only-of-type {\n",
              "        vertical-align: middle;\n",
              "    }\n",
              "\n",
              "    .dataframe tbody tr th {\n",
              "        vertical-align: top;\n",
              "    }\n",
              "\n",
              "    .dataframe thead th {\n",
              "        text-align: right;\n",
              "    }\n",
              "</style>\n",
              "<table border=\"1\" class=\"dataframe\">\n",
              "  <thead>\n",
              "    <tr style=\"text-align: right;\">\n",
              "      <th></th>\n",
              "      <th>w_sequence</th>\n",
              "      <th>t_sequence</th>\n",
              "      <th>f_id</th>\n",
              "      <th>w_encoded</th>\n",
              "      <th>t_encoded</th>\n",
              "    </tr>\n",
              "  </thead>\n",
              "  <tbody>\n",
              "    <tr>\n",
              "      <th>0</th>\n",
              "      <td>[PAPERS, :, Backe, Group, Inc., agreed, to, ac...</td>\n",
              "      <td>[NNS, :, NNP, NNP, NNP, VBD, TO, VB, NNP, NNP,...</td>\n",
              "      <td>0052</td>\n",
              "      <td>[400001, 46, 400002, 400003, 400004, 738, 5, 5...</td>\n",
              "      <td>[1, 2, 3, 3, 3, 4, 5, 6, 3, 3, 3, 7, 8, 9, 10,...</td>\n",
              "    </tr>\n",
              "    <tr>\n",
              "      <th>1</th>\n",
              "      <td>[Italian, chemical, giant, Montedison, S.p.A.,...</td>\n",
              "      <td>[JJ, NN, NN, NNP, NNP, ,, IN, PRP$, NNP, NNP, ...</td>\n",
              "      <td>0032</td>\n",
              "      <td>[400019, 2292, 1753, 400020, 400021, 2, 132, 4...</td>\n",
              "      <td>[13, 11, 11, 3, 3, 7, 14, 20, 3, 3, 3, 13, 11,...</td>\n",
              "    </tr>\n",
              "    <tr>\n",
              "      <th>2</th>\n",
              "      <td>[The, U.S., and, Soviet, Union, are, holding, ...</td>\n",
              "      <td>[DT, NNP, CC, NNP, NNP, VBP, VBG, JJ, NNS, IN,...</td>\n",
              "      <td>0035</td>\n",
              "      <td>[400027, 400032, 6, 400033, 400034, 33, 1384, ...</td>\n",
              "      <td>[19, 3, 12, 3, 3, 24, 21, 13, 1, 14, 13, 11, 1...</td>\n",
              "    </tr>\n",
              "    <tr>\n",
              "      <th>3</th>\n",
              "      <td>[Newsweek, ,, trying, to, keep, pace, with, ri...</td>\n",
              "      <td>[NNP, ,, VBG, TO, VB, NN, IN, JJ, NNP, NN, ,, ...</td>\n",
              "      <td>0012</td>\n",
              "      <td>[400069, 2, 596, 5, 579, 2409, 18, 1746, 40007...</td>\n",
              "      <td>[3, 7, 21, 5, 6, 11, 14, 13, 3, 11, 7, 4, 13, ...</td>\n",
              "    </tr>\n",
              "    <tr>\n",
              "      <th>4</th>\n",
              "      <td>[The, Treasury, said, it, plans, to, sell, $, ...</td>\n",
              "      <td>[DT, NNP, VBD, PRP, VBZ, TO, VB, $, CD, CD, IN...</td>\n",
              "      <td>0075</td>\n",
              "      <td>[400027, 400103, 17, 21, 560, 5, 1244, 81, 408...</td>\n",
              "      <td>[19, 3, 4, 25, 9, 5, 6, 15, 10, 10, 14, 1, 12,...</td>\n",
              "    </tr>\n",
              "  </tbody>\n",
              "</table>\n",
              "</div>"
            ],
            "text/plain": [
              "                                          w_sequence  ...                                          t_encoded\n",
              "0  [PAPERS, :, Backe, Group, Inc., agreed, to, ac...  ...  [1, 2, 3, 3, 3, 4, 5, 6, 3, 3, 3, 7, 8, 9, 10,...\n",
              "1  [Italian, chemical, giant, Montedison, S.p.A.,...  ...  [13, 11, 11, 3, 3, 7, 14, 20, 3, 3, 3, 13, 11,...\n",
              "2  [The, U.S., and, Soviet, Union, are, holding, ...  ...  [19, 3, 12, 3, 3, 24, 21, 13, 1, 14, 13, 11, 1...\n",
              "3  [Newsweek, ,, trying, to, keep, pace, with, ri...  ...  [3, 7, 21, 5, 6, 11, 14, 13, 3, 11, 7, 4, 13, ...\n",
              "4  [The, Treasury, said, it, plans, to, sell, $, ...  ...  [19, 3, 4, 25, 9, 5, 6, 15, 10, 10, 14, 1, 12,...\n",
              "\n",
              "[5 rows x 5 columns]"
            ]
          },
          "metadata": {
            "tags": []
          },
          "execution_count": 44
        }
      ]
    },
    {
      "cell_type": "code",
      "metadata": {
        "colab": {
          "base_uri": "https://localhost:8080/"
        },
        "id": "iz1b8pffSt9b",
        "outputId": "a8b38dd9-f39f-4c9c-ef15-67fb2b7d8540"
      },
      "source": [
        "print(\"second sequence : \\n\")\n",
        "print(' '.join(tr_df.iloc[1]['w_sequence']))\n",
        "print()\n",
        "print(\"same but encoded : \\n\")\n",
        "print(tr_df.iloc[1]['w_encoded'])"
      ],
      "execution_count": null,
      "outputs": [
        {
          "output_type": "stream",
          "text": [
            "second sequence : \n",
            "\n",
            "Italian chemical giant Montedison S.p.A. , through its Montedison Acquisition N.V. indirect unit , began its $ 37-a-share tender offer for all the common shares outstanding of Erbamont N.V. , a maker of pharmaceuticals incorporated in the Netherlands . The offer , advertised in today 's editions of The Wall Street Journal , is scheduled to expire at the end of November . Montedison currently owns about 72 % of Erbamont 's common shares outstanding . The offer is being launched pursuant to a previously announced agreement between the companies .\n",
            "\n",
            "same but encoded : \n",
            "\n",
            "[400019   2292   1753 400020 400021      2    132     48 400020 400022\n",
            " 400023  10432   1208      2    310     48     81 400024   7383    902\n",
            "     11     65      1    862    545   3536      4 400025 400023      2\n",
            "      8   2738      4  12109   5173      7      1 400026      3 400027\n",
            "    902      2  13635      7    374     10   7022      4 400027 400028\n",
            " 400029 400030      2     15   1040      5  10873     23      1    157\n",
            "      4 400031      3 400020    840   3442     60   4292    263      4\n",
            " 400025     10    862    545   3536      3 400027    902     15    135\n",
            "   1170  29137      5      8   1429    458    548    119      1    338\n",
            "      3]\n"
          ],
          "name": "stdout"
        }
      ]
    },
    {
      "cell_type": "markdown",
      "metadata": {
        "id": "6NRnsj8sRxWZ"
      },
      "source": [
        "## Padding\n",
        "\n",
        "A neural network require to have input that have the same shape and size. In order to do so, we have to pad/truncate sequences to a fixe length.\n",
        "However, it is not mandatory, we can operate on sequences of different length, but it is convenient to have a fixe length.\n",
        "\n",
        "First of all, we look for the longest sequence in each dataset to find the correct length all sentences should have."
      ]
    },
    {
      "cell_type": "code",
      "metadata": {
        "colab": {
          "base_uri": "https://localhost:8080/"
        },
        "id": "TjUb3umdR7R1",
        "outputId": "921dd811-ffe6-4762-83ac-7ec6102b6592"
      },
      "source": [
        "len_tr = tr_df['w_sequence'].apply(pd.Series).shape[1]\n",
        "len_vl = valid_df['w_sequence'].apply(pd.Series).shape[1]\n",
        "len_ts = ts_df['w_sequence'].apply(pd.Series).shape[1]\n",
        "print(f\"longest sequence of the training set : {len_tr}\")\n",
        "print(f\"longest sequence of the validation set : {len_vl}\")\n",
        "print(f\"longest sequence of the test set : {len_ts}\")"
      ],
      "execution_count": null,
      "outputs": [
        {
          "output_type": "stream",
          "text": [
            "longest sequence of the training set : 2900\n",
            "longest sequence of the validation set : 4534\n",
            "longest sequence of the test set : 1492\n"
          ],
          "name": "stdout"
        }
      ]
    },
    {
      "cell_type": "markdown",
      "metadata": {
        "id": "KWUIe1untzeE"
      },
      "source": [
        "We will set padding to 1000, because it is a fair compromise between the training/validation dataset.\n",
        "\n"
      ]
    },
    {
      "cell_type": "code",
      "metadata": {
        "id": "iYtTSyvlSOW4"
      },
      "source": [
        "# define some usefuls global variables\n",
        "MAX_SEQ_LENGTH = 1000\n",
        "VOCABULARY_SIZE = len(word_to_idx) # vocab size \n",
        "NB_TOKENS  = len(token_list)  # token "
      ],
      "execution_count": null,
      "outputs": []
    },
    {
      "cell_type": "code",
      "metadata": {
        "id": "KwZvVD7FScL2"
      },
      "source": [
        "def add_padding(seq,pad_token,pad_length,isw=True):\n",
        "    if seq.shape[0] < pad_length:\n",
        "        while seq.shape[0] < pad_length:\n",
        "            seq = np.append(seq,pad_token)\n",
        "        return seq if isw else np.expand_dims(seq,axis=0)\n",
        "    elif seq.shape[0] > pad_length:\n",
        "        while seq.shape[0] > pad_length:\n",
        "            seq = np.delete(seq,-1)\n",
        "        return seq if isw else np.expand_dims(seq,axis=0)\n",
        "    else:\n",
        "        return seq if isw else np.expand_dims(seq,axis=0)"
      ],
      "execution_count": null,
      "outputs": []
    },
    {
      "cell_type": "code",
      "metadata": {
        "id": "oCDrj6vJSf3d"
      },
      "source": [
        "# we add_padding to the encoded sequences of the training set\n",
        "tr_df['w_encoded'] = tr_df['w_encoded'].apply(lambda x:add_padding(x,0,MAX_SEQ_LENGTH,False))\n",
        "tr_df['t_encoded'] = tr_df['t_encoded'].apply(lambda x:add_padding(x,0,MAX_SEQ_LENGTH))\n",
        "\n",
        "# and we do the same for the validation set\n",
        "valid_df['w_encoded'] = valid_df['w_encoded'].apply(lambda x:add_padding(x,0,MAX_SEQ_LENGTH,False))\n",
        "valid_df['t_encoded'] = valid_df['t_encoded'].apply(lambda x:add_padding(x,0,MAX_SEQ_LENGTH))\n",
        "\n",
        "# and for the test set\n",
        "ts_df['w_encoded'] = ts_df['w_encoded'].apply(lambda x:add_padding(x,0,MAX_SEQ_LENGTH,False))\n",
        "ts_df['t_encoded'] = ts_df['t_encoded'].apply(lambda x:add_padding(x,0,MAX_SEQ_LENGTH))"
      ],
      "execution_count": null,
      "outputs": []
    },
    {
      "cell_type": "code",
      "metadata": {
        "colab": {
          "base_uri": "https://localhost:8080/",
          "height": 289
        },
        "id": "1wRzNbnzSmS0",
        "outputId": "3c9804e3-d52d-40e8-8441-2957f55991e4"
      },
      "source": [
        "tr_df.head()"
      ],
      "execution_count": null,
      "outputs": [
        {
          "output_type": "execute_result",
          "data": {
            "text/html": [
              "<div>\n",
              "<style scoped>\n",
              "    .dataframe tbody tr th:only-of-type {\n",
              "        vertical-align: middle;\n",
              "    }\n",
              "\n",
              "    .dataframe tbody tr th {\n",
              "        vertical-align: top;\n",
              "    }\n",
              "\n",
              "    .dataframe thead th {\n",
              "        text-align: right;\n",
              "    }\n",
              "</style>\n",
              "<table border=\"1\" class=\"dataframe\">\n",
              "  <thead>\n",
              "    <tr style=\"text-align: right;\">\n",
              "      <th></th>\n",
              "      <th>w_sequence</th>\n",
              "      <th>t_sequence</th>\n",
              "      <th>f_id</th>\n",
              "      <th>w_encoded</th>\n",
              "      <th>t_encoded</th>\n",
              "    </tr>\n",
              "  </thead>\n",
              "  <tbody>\n",
              "    <tr>\n",
              "      <th>0</th>\n",
              "      <td>[PAPERS, :, Backe, Group, Inc., agreed, to, ac...</td>\n",
              "      <td>[NNS, :, NNP, NNP, NNP, VBD, TO, VB, NNP, NNP,...</td>\n",
              "      <td>0052</td>\n",
              "      <td>[[400001, 46, 400002, 400003, 400004, 738, 5, ...</td>\n",
              "      <td>[1, 2, 3, 3, 3, 4, 5, 6, 3, 3, 3, 7, 8, 9, 10,...</td>\n",
              "    </tr>\n",
              "    <tr>\n",
              "      <th>1</th>\n",
              "      <td>[Italian, chemical, giant, Montedison, S.p.A.,...</td>\n",
              "      <td>[JJ, NN, NN, NNP, NNP, ,, IN, PRP$, NNP, NNP, ...</td>\n",
              "      <td>0032</td>\n",
              "      <td>[[400019, 2292, 1753, 400020, 400021, 2, 132, ...</td>\n",
              "      <td>[13, 11, 11, 3, 3, 7, 14, 20, 3, 3, 3, 13, 11,...</td>\n",
              "    </tr>\n",
              "    <tr>\n",
              "      <th>2</th>\n",
              "      <td>[The, U.S., and, Soviet, Union, are, holding, ...</td>\n",
              "      <td>[DT, NNP, CC, NNP, NNP, VBP, VBG, JJ, NNS, IN,...</td>\n",
              "      <td>0035</td>\n",
              "      <td>[[400027, 400032, 6, 400033, 400034, 33, 1384,...</td>\n",
              "      <td>[19, 3, 12, 3, 3, 24, 21, 13, 1, 14, 13, 11, 1...</td>\n",
              "    </tr>\n",
              "    <tr>\n",
              "      <th>3</th>\n",
              "      <td>[Newsweek, ,, trying, to, keep, pace, with, ri...</td>\n",
              "      <td>[NNP, ,, VBG, TO, VB, NN, IN, JJ, NNP, NN, ,, ...</td>\n",
              "      <td>0012</td>\n",
              "      <td>[[400069, 2, 596, 5, 579, 2409, 18, 1746, 4000...</td>\n",
              "      <td>[3, 7, 21, 5, 6, 11, 14, 13, 3, 11, 7, 4, 13, ...</td>\n",
              "    </tr>\n",
              "    <tr>\n",
              "      <th>4</th>\n",
              "      <td>[The, Treasury, said, it, plans, to, sell, $, ...</td>\n",
              "      <td>[DT, NNP, VBD, PRP, VBZ, TO, VB, $, CD, CD, IN...</td>\n",
              "      <td>0075</td>\n",
              "      <td>[[400027, 400103, 17, 21, 560, 5, 1244, 81, 40...</td>\n",
              "      <td>[19, 3, 4, 25, 9, 5, 6, 15, 10, 10, 14, 1, 12,...</td>\n",
              "    </tr>\n",
              "  </tbody>\n",
              "</table>\n",
              "</div>"
            ],
            "text/plain": [
              "                                          w_sequence  ...                                          t_encoded\n",
              "0  [PAPERS, :, Backe, Group, Inc., agreed, to, ac...  ...  [1, 2, 3, 3, 3, 4, 5, 6, 3, 3, 3, 7, 8, 9, 10,...\n",
              "1  [Italian, chemical, giant, Montedison, S.p.A.,...  ...  [13, 11, 11, 3, 3, 7, 14, 20, 3, 3, 3, 13, 11,...\n",
              "2  [The, U.S., and, Soviet, Union, are, holding, ...  ...  [19, 3, 12, 3, 3, 24, 21, 13, 1, 14, 13, 11, 1...\n",
              "3  [Newsweek, ,, trying, to, keep, pace, with, ri...  ...  [3, 7, 21, 5, 6, 11, 14, 13, 3, 11, 7, 4, 13, ...\n",
              "4  [The, Treasury, said, it, plans, to, sell, $, ...  ...  [19, 3, 4, 25, 9, 5, 6, 15, 10, 10, 14, 1, 12,...\n",
              "\n",
              "[5 rows x 5 columns]"
            ]
          },
          "metadata": {
            "tags": []
          },
          "execution_count": 50
        }
      ]
    },
    {
      "cell_type": "code",
      "metadata": {
        "colab": {
          "base_uri": "https://localhost:8080/"
        },
        "id": "YGVqhUfLS1PT",
        "outputId": "169e5b61-3250-497f-935c-a3749dcfab13"
      },
      "source": [
        "print(\"second sequence : \\n\")\n",
        "print(' '.join(tr_df.iloc[0]['w_sequence']))\n",
        "print()\n",
        "print(\"same but encoded with padding : \\n\")\n",
        "print(tr_df.iloc[0]['w_encoded'])"
      ],
      "execution_count": null,
      "outputs": [
        {
          "output_type": "stream",
          "text": [
            "second sequence : \n",
            "\n",
            "PAPERS : Backe Group Inc. agreed to acquire Atlantic Publications Inc. , which has 30 community papers and annual sales of $ 7 million . Terms were n't disclosed . Backe is a closely held media firm run by former CBS Inc. President John Backe . TV : Price Communications Corp. completed the sale of four of its TV stations to NTG Inc. for $ 120 million in cash and notes , retaining a 10 % equity stake in the new concern . NTG was formed by Osborn Communications Corp. and Desai Capital .\n",
            "\n",
            "same but encoded with padding : \n",
            "\n",
            "[[400001     46 400002 400003 400004    738      5   5539 400005 400006\n",
            "  400004      2     43     32    408    502   3271      6    941    527\n",
            "       4     81    633     94      3 400007     36     71   5434      3\n",
            "  400002     15      8   2401    258    494   1002    308     22    158\n",
            "  400008 400004 400009 400010 400002      3 400011     46 400012 400013\n",
            "  400014   1316      1   1564      4    134      4     48 400011   1733\n",
            "       5 400015 400004     11     81   3884     94      7   1485      6\n",
            "    2143      2  11122      8    207    263   3360   2389      7      1\n",
            "      51   1311      3 400015     16   1348     22 400016 400013 400014\n",
            "       6 400017 400018      3      0      0      0      0      0      0\n",
            "       0      0      0      0      0      0      0      0      0      0\n",
            "       0      0      0      0      0      0      0      0      0      0\n",
            "       0      0      0      0      0      0      0      0      0      0\n",
            "       0      0      0      0      0      0      0      0      0      0\n",
            "       0      0      0      0      0      0      0      0      0      0\n",
            "       0      0      0      0      0      0      0      0      0      0\n",
            "       0      0      0      0      0      0      0      0      0      0\n",
            "       0      0      0      0      0      0      0      0      0      0\n",
            "       0      0      0      0      0      0      0      0      0      0\n",
            "       0      0      0      0      0      0      0      0      0      0\n",
            "       0      0      0      0      0      0      0      0      0      0\n",
            "       0      0      0      0      0      0      0      0      0      0\n",
            "       0      0      0      0      0      0      0      0      0      0\n",
            "       0      0      0      0      0      0      0      0      0      0\n",
            "       0      0      0      0      0      0      0      0      0      0\n",
            "       0      0      0      0      0      0      0      0      0      0\n",
            "       0      0      0      0      0      0      0      0      0      0\n",
            "       0      0      0      0      0      0      0      0      0      0\n",
            "       0      0      0      0      0      0      0      0      0      0\n",
            "       0      0      0      0      0      0      0      0      0      0\n",
            "       0      0      0      0      0      0      0      0      0      0\n",
            "       0      0      0      0      0      0      0      0      0      0\n",
            "       0      0      0      0      0      0      0      0      0      0\n",
            "       0      0      0      0      0      0      0      0      0      0\n",
            "       0      0      0      0      0      0      0      0      0      0\n",
            "       0      0      0      0      0      0      0      0      0      0\n",
            "       0      0      0      0      0      0      0      0      0      0\n",
            "       0      0      0      0      0      0      0      0      0      0\n",
            "       0      0      0      0      0      0      0      0      0      0\n",
            "       0      0      0      0      0      0      0      0      0      0\n",
            "       0      0      0      0      0      0      0      0      0      0\n",
            "       0      0      0      0      0      0      0      0      0      0\n",
            "       0      0      0      0      0      0      0      0      0      0\n",
            "       0      0      0      0      0      0      0      0      0      0\n",
            "       0      0      0      0      0      0      0      0      0      0\n",
            "       0      0      0      0      0      0      0      0      0      0\n",
            "       0      0      0      0      0      0      0      0      0      0\n",
            "       0      0      0      0      0      0      0      0      0      0\n",
            "       0      0      0      0      0      0      0      0      0      0\n",
            "       0      0      0      0      0      0      0      0      0      0\n",
            "       0      0      0      0      0      0      0      0      0      0\n",
            "       0      0      0      0      0      0      0      0      0      0\n",
            "       0      0      0      0      0      0      0      0      0      0\n",
            "       0      0      0      0      0      0      0      0      0      0\n",
            "       0      0      0      0      0      0      0      0      0      0\n",
            "       0      0      0      0      0      0      0      0      0      0\n",
            "       0      0      0      0      0      0      0      0      0      0\n",
            "       0      0      0      0      0      0      0      0      0      0\n",
            "       0      0      0      0      0      0      0      0      0      0\n",
            "       0      0      0      0      0      0      0      0      0      0\n",
            "       0      0      0      0      0      0      0      0      0      0\n",
            "       0      0      0      0      0      0      0      0      0      0\n",
            "       0      0      0      0      0      0      0      0      0      0\n",
            "       0      0      0      0      0      0      0      0      0      0\n",
            "       0      0      0      0      0      0      0      0      0      0\n",
            "       0      0      0      0      0      0      0      0      0      0\n",
            "       0      0      0      0      0      0      0      0      0      0\n",
            "       0      0      0      0      0      0      0      0      0      0\n",
            "       0      0      0      0      0      0      0      0      0      0\n",
            "       0      0      0      0      0      0      0      0      0      0\n",
            "       0      0      0      0      0      0      0      0      0      0\n",
            "       0      0      0      0      0      0      0      0      0      0\n",
            "       0      0      0      0      0      0      0      0      0      0\n",
            "       0      0      0      0      0      0      0      0      0      0\n",
            "       0      0      0      0      0      0      0      0      0      0\n",
            "       0      0      0      0      0      0      0      0      0      0\n",
            "       0      0      0      0      0      0      0      0      0      0\n",
            "       0      0      0      0      0      0      0      0      0      0\n",
            "       0      0      0      0      0      0      0      0      0      0\n",
            "       0      0      0      0      0      0      0      0      0      0\n",
            "       0      0      0      0      0      0      0      0      0      0\n",
            "       0      0      0      0      0      0      0      0      0      0\n",
            "       0      0      0      0      0      0      0      0      0      0\n",
            "       0      0      0      0      0      0      0      0      0      0\n",
            "       0      0      0      0      0      0      0      0      0      0\n",
            "       0      0      0      0      0      0      0      0      0      0\n",
            "       0      0      0      0      0      0      0      0      0      0\n",
            "       0      0      0      0      0      0      0      0      0      0\n",
            "       0      0      0      0      0      0      0      0      0      0\n",
            "       0      0      0      0      0      0      0      0      0      0\n",
            "       0      0      0      0      0      0      0      0      0      0\n",
            "       0      0      0      0      0      0      0      0      0      0\n",
            "       0      0      0      0      0      0      0      0      0      0\n",
            "       0      0      0      0      0      0      0      0      0      0\n",
            "       0      0      0      0      0      0      0      0      0      0\n",
            "       0      0      0      0      0      0      0      0      0      0\n",
            "       0      0      0      0      0      0      0      0      0      0\n",
            "       0      0      0      0      0      0      0      0      0      0\n",
            "       0      0      0      0      0      0      0      0      0      0\n",
            "       0      0      0      0      0      0      0      0      0      0]]\n"
          ],
          "name": "stdout"
        }
      ]
    },
    {
      "cell_type": "markdown",
      "metadata": {
        "id": "qE4Khd3cbvsX"
      },
      "source": [
        "Ok now we're almost done. The final step before the neural network part is to one hot encode our POS tokens"
      ]
    },
    {
      "cell_type": "code",
      "metadata": {
        "id": "p_oXgH4Gby4F"
      },
      "source": [
        "def to_categorical(sequences, nb_tokens):\n",
        "    _sequences = []\n",
        "    for t in sequences:\n",
        "        _s = np.zeros(nb_tokens,dtype=int)\n",
        "        _s[t] = 1\n",
        "        _sequences.append(_s)\n",
        "    return np.expand_dims(np.array(_sequences),axis=0)"
      ],
      "execution_count": null,
      "outputs": []
    },
    {
      "cell_type": "code",
      "metadata": {
        "id": "n84BdONDb6l9"
      },
      "source": [
        "# we one hot encode tokens\n",
        "tr_df['t_one_hot_encoded'] = tr_df['t_encoded'].apply(lambda x:to_categorical(x,NB_TOKENS))\n",
        "# and we do the same for the validation set\n",
        "valid_df['t_one_hot_encoded'] = valid_df['t_encoded'].apply(lambda x:to_categorical(x,NB_TOKENS))\n",
        "\n",
        "# and the test set\n",
        "ts_df['t_one_hot_encoded'] = ts_df['t_encoded'].apply(lambda x:to_categorical(x,NB_TOKENS))"
      ],
      "execution_count": null,
      "outputs": []
    },
    {
      "cell_type": "code",
      "metadata": {
        "colab": {
          "base_uri": "https://localhost:8080/",
          "height": 289
        },
        "id": "Ta5dymkngmCF",
        "outputId": "0cb6614c-1d78-4562-b468-f084cd0697c7"
      },
      "source": [
        "tr_df.head()"
      ],
      "execution_count": null,
      "outputs": [
        {
          "output_type": "execute_result",
          "data": {
            "text/html": [
              "<div>\n",
              "<style scoped>\n",
              "    .dataframe tbody tr th:only-of-type {\n",
              "        vertical-align: middle;\n",
              "    }\n",
              "\n",
              "    .dataframe tbody tr th {\n",
              "        vertical-align: top;\n",
              "    }\n",
              "\n",
              "    .dataframe thead th {\n",
              "        text-align: right;\n",
              "    }\n",
              "</style>\n",
              "<table border=\"1\" class=\"dataframe\">\n",
              "  <thead>\n",
              "    <tr style=\"text-align: right;\">\n",
              "      <th></th>\n",
              "      <th>w_sequence</th>\n",
              "      <th>t_sequence</th>\n",
              "      <th>f_id</th>\n",
              "      <th>w_encoded</th>\n",
              "      <th>t_encoded</th>\n",
              "      <th>t_one_hot_encoded</th>\n",
              "    </tr>\n",
              "  </thead>\n",
              "  <tbody>\n",
              "    <tr>\n",
              "      <th>0</th>\n",
              "      <td>[PAPERS, :, Backe, Group, Inc., agreed, to, ac...</td>\n",
              "      <td>[NNS, :, NNP, NNP, NNP, VBD, TO, VB, NNP, NNP,...</td>\n",
              "      <td>0052</td>\n",
              "      <td>[[400001, 46, 400002, 400003, 400004, 738, 5, ...</td>\n",
              "      <td>[1, 2, 3, 3, 3, 4, 5, 6, 3, 3, 3, 7, 8, 9, 10,...</td>\n",
              "      <td>[[[0, 1, 0, 0, 0, 0, 0, 0, 0, 0, 0, 0, 0, 0, 0...</td>\n",
              "    </tr>\n",
              "    <tr>\n",
              "      <th>1</th>\n",
              "      <td>[Italian, chemical, giant, Montedison, S.p.A.,...</td>\n",
              "      <td>[JJ, NN, NN, NNP, NNP, ,, IN, PRP$, NNP, NNP, ...</td>\n",
              "      <td>0032</td>\n",
              "      <td>[[400019, 2292, 1753, 400020, 400021, 2, 132, ...</td>\n",
              "      <td>[13, 11, 11, 3, 3, 7, 14, 20, 3, 3, 3, 13, 11,...</td>\n",
              "      <td>[[[0, 0, 0, 0, 0, 0, 0, 0, 0, 0, 0, 0, 0, 1, 0...</td>\n",
              "    </tr>\n",
              "    <tr>\n",
              "      <th>2</th>\n",
              "      <td>[The, U.S., and, Soviet, Union, are, holding, ...</td>\n",
              "      <td>[DT, NNP, CC, NNP, NNP, VBP, VBG, JJ, NNS, IN,...</td>\n",
              "      <td>0035</td>\n",
              "      <td>[[400027, 400032, 6, 400033, 400034, 33, 1384,...</td>\n",
              "      <td>[19, 3, 12, 3, 3, 24, 21, 13, 1, 14, 13, 11, 1...</td>\n",
              "      <td>[[[0, 0, 0, 0, 0, 0, 0, 0, 0, 0, 0, 0, 0, 0, 0...</td>\n",
              "    </tr>\n",
              "    <tr>\n",
              "      <th>3</th>\n",
              "      <td>[Newsweek, ,, trying, to, keep, pace, with, ri...</td>\n",
              "      <td>[NNP, ,, VBG, TO, VB, NN, IN, JJ, NNP, NN, ,, ...</td>\n",
              "      <td>0012</td>\n",
              "      <td>[[400069, 2, 596, 5, 579, 2409, 18, 1746, 4000...</td>\n",
              "      <td>[3, 7, 21, 5, 6, 11, 14, 13, 3, 11, 7, 4, 13, ...</td>\n",
              "      <td>[[[0, 0, 0, 1, 0, 0, 0, 0, 0, 0, 0, 0, 0, 0, 0...</td>\n",
              "    </tr>\n",
              "    <tr>\n",
              "      <th>4</th>\n",
              "      <td>[The, Treasury, said, it, plans, to, sell, $, ...</td>\n",
              "      <td>[DT, NNP, VBD, PRP, VBZ, TO, VB, $, CD, CD, IN...</td>\n",
              "      <td>0075</td>\n",
              "      <td>[[400027, 400103, 17, 21, 560, 5, 1244, 81, 40...</td>\n",
              "      <td>[19, 3, 4, 25, 9, 5, 6, 15, 10, 10, 14, 1, 12,...</td>\n",
              "      <td>[[[0, 0, 0, 0, 0, 0, 0, 0, 0, 0, 0, 0, 0, 0, 0...</td>\n",
              "    </tr>\n",
              "  </tbody>\n",
              "</table>\n",
              "</div>"
            ],
            "text/plain": [
              "                                          w_sequence  ...                                  t_one_hot_encoded\n",
              "0  [PAPERS, :, Backe, Group, Inc., agreed, to, ac...  ...  [[[0, 1, 0, 0, 0, 0, 0, 0, 0, 0, 0, 0, 0, 0, 0...\n",
              "1  [Italian, chemical, giant, Montedison, S.p.A.,...  ...  [[[0, 0, 0, 0, 0, 0, 0, 0, 0, 0, 0, 0, 0, 1, 0...\n",
              "2  [The, U.S., and, Soviet, Union, are, holding, ...  ...  [[[0, 0, 0, 0, 0, 0, 0, 0, 0, 0, 0, 0, 0, 0, 0...\n",
              "3  [Newsweek, ,, trying, to, keep, pace, with, ri...  ...  [[[0, 0, 0, 1, 0, 0, 0, 0, 0, 0, 0, 0, 0, 0, 0...\n",
              "4  [The, Treasury, said, it, plans, to, sell, $, ...  ...  [[[0, 0, 0, 0, 0, 0, 0, 0, 0, 0, 0, 0, 0, 0, 0...\n",
              "\n",
              "[5 rows x 6 columns]"
            ]
          },
          "metadata": {
            "tags": []
          },
          "execution_count": 54
        }
      ]
    },
    {
      "cell_type": "markdown",
      "metadata": {
        "id": "Y_QXdeqWhu6L"
      },
      "source": [
        "Before feed a neural network we have to reshape a bit our data"
      ]
    },
    {
      "cell_type": "code",
      "metadata": {
        "id": "XclbI6T-h1JT"
      },
      "source": [
        "def reshape(X):\n",
        "  return np.concatenate(X.values)"
      ],
      "execution_count": null,
      "outputs": []
    },
    {
      "cell_type": "code",
      "metadata": {
        "id": "cpkarwU9h2_y"
      },
      "source": [
        "## training data\n",
        "X_train = reshape(tr_df['w_encoded'])\n",
        "Y_train = reshape(tr_df['t_one_hot_encoded'])\n",
        "\n",
        "## validation data\n",
        "X_valid = reshape(valid_df['w_encoded'])\n",
        "Y_valid = reshape(valid_df['t_one_hot_encoded'])\n",
        "\n",
        "# test data\n",
        "X_test = reshape(ts_df['w_encoded'])\n",
        "Y_test = reshape(ts_df['t_one_hot_encoded'])"
      ],
      "execution_count": null,
      "outputs": []
    },
    {
      "cell_type": "markdown",
      "metadata": {
        "id": "EtylWjkMguOh"
      },
      "source": [
        "# Baseline neural network model\n",
        "\n",
        "We will implement:\n",
        "* a BILSTM model\n",
        "* a BIGRU model \n",
        "* a double BILSTM model\n",
        "* LSTM + CRF"
      ]
    },
    {
      "cell_type": "markdown",
      "metadata": {
        "id": "fYo7wz2HhVXp"
      },
      "source": [
        "## BILSTM"
      ]
    },
    {
      "cell_type": "code",
      "metadata": {
        "id": "hLDH8uAXgwmN"
      },
      "source": [
        "def nnLSTM(input_dim,output_dim,input_length,embedding,classes,units):\n",
        "  lstm = Sequential()\n",
        "  lstm.add(Embedding(input_dim=input_dim, output_dim=output_dim,input_length=input_length,weights=[embedding],trainable=False,mask_zero=True))\n",
        "  lstm.add(Bidirectional(LSTM(units=units,return_sequences=True)))\n",
        "  lstm.add(Dropout(0.2))\n",
        "  lstm.add(TimeDistributed(Dense(units=classes,activation='softmax')))\n",
        "  lstm.compile(optimizer='adam', loss='categorical_crossentropy',metrics=['acc'])\n",
        "  return lstm"
      ],
      "execution_count": null,
      "outputs": []
    },
    {
      "cell_type": "code",
      "metadata": {
        "id": "khnhg162hZuA"
      },
      "source": [
        "bilstm_model = nnLSTM(VOCABULARY_SIZE,EMBEDDING_SIZE,MAX_SEQ_LENGTH,embedding_matrix,NB_TOKENS,64)"
      ],
      "execution_count": null,
      "outputs": []
    },
    {
      "cell_type": "code",
      "metadata": {
        "colab": {
          "base_uri": "https://localhost:8080/"
        },
        "id": "QndBK2XshnNH",
        "outputId": "c403d425-96f6-45d0-98e5-b6f031beb221"
      },
      "source": [
        "bilstm_model.summary()"
      ],
      "execution_count": null,
      "outputs": [
        {
          "output_type": "stream",
          "text": [
            "Model: \"sequential\"\n",
            "_________________________________________________________________\n",
            "Layer (type)                 Output Shape              Param #   \n",
            "=================================================================\n",
            "embedding (Embedding)        (None, 1000, 300)         121123800 \n",
            "_________________________________________________________________\n",
            "bidirectional (Bidirectional (None, 1000, 128)         186880    \n",
            "_________________________________________________________________\n",
            "dropout (Dropout)            (None, 1000, 128)         0         \n",
            "_________________________________________________________________\n",
            "time_distributed (TimeDistri (None, 1000, 46)          5934      \n",
            "=================================================================\n",
            "Total params: 121,316,614\n",
            "Trainable params: 192,814\n",
            "Non-trainable params: 121,123,800\n",
            "_________________________________________________________________\n"
          ],
          "name": "stdout"
        }
      ]
    },
    {
      "cell_type": "code",
      "metadata": {
        "colab": {
          "base_uri": "https://localhost:8080/"
        },
        "id": "ivoIkOpfh6Aq",
        "outputId": "8535fd53-5c92-4678-d50f-1596aa0a4d46"
      },
      "source": [
        "training_bilstm_model = bilstm_model.fit(X_train,Y_train,batch_size=5,epochs=20,validation_data=(X_valid,Y_valid))"
      ],
      "execution_count": null,
      "outputs": [
        {
          "output_type": "stream",
          "text": [
            "Epoch 1/20\n",
            "20/20 [==============================] - 19s 974ms/step - loss: 1.3367 - acc: 0.1500 - val_loss: 1.4275 - val_acc: 0.2997\n",
            "Epoch 2/20\n",
            "20/20 [==============================] - 16s 821ms/step - loss: 1.0271 - acc: 0.3644 - val_loss: 1.1519 - val_acc: 0.4797\n",
            "Epoch 3/20\n",
            "20/20 [==============================] - 17s 826ms/step - loss: 0.8130 - acc: 0.5121 - val_loss: 0.9137 - val_acc: 0.5674\n",
            "Epoch 4/20\n",
            "20/20 [==============================] - 16s 782ms/step - loss: 0.6441 - acc: 0.6063 - val_loss: 0.7335 - val_acc: 0.6460\n",
            "Epoch 5/20\n",
            "20/20 [==============================] - 15s 760ms/step - loss: 0.5214 - acc: 0.6832 - val_loss: 0.6174 - val_acc: 0.7093\n",
            "Epoch 6/20\n",
            "20/20 [==============================] - 17s 870ms/step - loss: 0.4418 - acc: 0.7338 - val_loss: 0.5337 - val_acc: 0.7445\n",
            "Epoch 7/20\n",
            "20/20 [==============================] - 18s 892ms/step - loss: 0.3828 - acc: 0.7657 - val_loss: 0.4769 - val_acc: 0.7688\n",
            "Epoch 8/20\n",
            "20/20 [==============================] - 17s 827ms/step - loss: 0.3415 - acc: 0.7901 - val_loss: 0.4327 - val_acc: 0.7873\n",
            "Epoch 9/20\n",
            "20/20 [==============================] - 21s 1s/step - loss: 0.3070 - acc: 0.8101 - val_loss: 0.4000 - val_acc: 0.7999\n",
            "Epoch 10/20\n",
            "20/20 [==============================] - 17s 847ms/step - loss: 0.2802 - acc: 0.8241 - val_loss: 0.3739 - val_acc: 0.8131\n",
            "Epoch 11/20\n",
            "20/20 [==============================] - 17s 852ms/step - loss: 0.2595 - acc: 0.8363 - val_loss: 0.3522 - val_acc: 0.8247\n",
            "Epoch 12/20\n",
            "20/20 [==============================] - 17s 842ms/step - loss: 0.2406 - acc: 0.8474 - val_loss: 0.3326 - val_acc: 0.8319\n",
            "Epoch 13/20\n",
            "20/20 [==============================] - 17s 842ms/step - loss: 0.2243 - acc: 0.8575 - val_loss: 0.3176 - val_acc: 0.8386\n",
            "Epoch 14/20\n",
            "20/20 [==============================] - 17s 857ms/step - loss: 0.2106 - acc: 0.8647 - val_loss: 0.3056 - val_acc: 0.8417\n",
            "Epoch 15/20\n",
            "20/20 [==============================] - 17s 849ms/step - loss: 0.1984 - acc: 0.8718 - val_loss: 0.2927 - val_acc: 0.8492\n",
            "Epoch 16/20\n",
            "20/20 [==============================] - 17s 834ms/step - loss: 0.1872 - acc: 0.8771 - val_loss: 0.2827 - val_acc: 0.8536\n",
            "Epoch 17/20\n",
            "20/20 [==============================] - 19s 927ms/step - loss: 0.1767 - acc: 0.8845 - val_loss: 0.2740 - val_acc: 0.8570\n",
            "Epoch 18/20\n",
            "20/20 [==============================] - 17s 845ms/step - loss: 0.1677 - acc: 0.8895 - val_loss: 0.2653 - val_acc: 0.8612\n",
            "Epoch 19/20\n",
            "20/20 [==============================] - 17s 845ms/step - loss: 0.1603 - acc: 0.8936 - val_loss: 0.2575 - val_acc: 0.8644\n",
            "Epoch 20/20\n",
            "20/20 [==============================] - 17s 858ms/step - loss: 0.1527 - acc: 0.8991 - val_loss: 0.2516 - val_acc: 0.8675\n"
          ],
          "name": "stdout"
        }
      ]
    },
    {
      "cell_type": "code",
      "metadata": {
        "colab": {
          "base_uri": "https://localhost:8080/",
          "height": 295
        },
        "id": "btC-DrCqsca4",
        "outputId": "f3a7f5b2-a63a-4c31-ec83-d2a862c2db76"
      },
      "source": [
        "#visualise training history\n",
        "plt.plot(training_bilstm_model.history['acc'])\n",
        "plt.plot(training_bilstm_model.history['val_acc'])\n",
        "plt.title('model accuracy')\n",
        "plt.ylabel('accuracy')\n",
        "plt.xlabel('epoch')\n",
        "plt.legend(['train', 'validation'], loc=\"lower right\")\n",
        "plt.show()"
      ],
      "execution_count": null,
      "outputs": [
        {
          "output_type": "display_data",
          "data": {
            "image/png": "[encoded data removed]",
            "text/plain": [
              "<Figure size 432x288 with 1 Axes>"
            ]
          },
          "metadata": {
            "tags": [],
            "needs_background": "light"
          }
        }
      ]
    },
    {
      "cell_type": "markdown",
      "metadata": {
        "id": "DyfSkAvvjK5u"
      },
      "source": [
        "It seems that after 20 epochs an asymptote is reached (nearby 90% accuracy). So it doesn't make sense to train longer than 20 epochs.  \n",
        "The validation set has a better acuracy until the 7th epoch and when we train longer, the training set reach a better accuracy.  \n",
        "**That is a sign that may be the model is overfitting.**"
      ]
    },
    {
      "cell_type": "markdown",
      "metadata": {
        "id": "S-PpSIuf0qS2"
      },
      "source": [
        "## BIGRU"
      ]
    },
    {
      "cell_type": "code",
      "metadata": {
        "id": "mHA2rXqS0wBy"
      },
      "source": [
        "def gru(input_dim,output_dim,max_length,embedding_weights,hidden_units,classes):\n",
        "  gru_model = Sequential()\n",
        "  gru_model.add(Embedding(input_dim     = input_dim,\n",
        "                        output_dim    = output_dim,\n",
        "                        input_length  = max_length,\n",
        "                        weights       = [embedding_weights],\n",
        "                        trainable     = False,\n",
        "                        mask_zero=True\n",
        "  ))\n",
        "  gru_model.add(Bidirectional(GRU(hidden_units, return_sequences=True)))\n",
        "  gru_model.add(Dropout(0.2))\n",
        "  gru_model.add(TimeDistributed(Dense(classes, activation='softmax')))\n",
        "  gru_model.compile(optimizer='adam', loss='categorical_crossentropy',metrics=['acc'])\n",
        "  return gru_model"
      ],
      "execution_count": null,
      "outputs": []
    },
    {
      "cell_type": "code",
      "metadata": {
        "colab": {
          "base_uri": "https://localhost:8080/"
        },
        "id": "n0JzidYb1Miv",
        "outputId": "eef8b3be-7b39-4642-f46f-849642ba99fa"
      },
      "source": [
        "bigru_model = gru(VOCABULARY_SIZE,EMBEDDING_SIZE,MAX_SEQ_LENGTH,embedding_matrix,64,NB_TOKENS)\n",
        "bigru_model.summary()"
      ],
      "execution_count": null,
      "outputs": [
        {
          "output_type": "stream",
          "text": [
            "Model: \"sequential_1\"\n",
            "_________________________________________________________________\n",
            "Layer (type)                 Output Shape              Param #   \n",
            "=================================================================\n",
            "embedding_1 (Embedding)      (None, 1000, 300)         121123800 \n",
            "_________________________________________________________________\n",
            "bidirectional_1 (Bidirection (None, 1000, 128)         140544    \n",
            "_________________________________________________________________\n",
            "dropout_1 (Dropout)          (None, 1000, 128)         0         \n",
            "_________________________________________________________________\n",
            "time_distributed_1 (TimeDist (None, 1000, 46)          5934      \n",
            "=================================================================\n",
            "Total params: 121,270,278\n",
            "Trainable params: 146,478\n",
            "Non-trainable params: 121,123,800\n",
            "_________________________________________________________________\n"
          ],
          "name": "stdout"
        }
      ]
    },
    {
      "cell_type": "code",
      "metadata": {
        "colab": {
          "base_uri": "https://localhost:8080/"
        },
        "id": "BvVSRLbD1uF6",
        "outputId": "3c773cd5-00a9-4eb9-b708-ef58ab58fbc1"
      },
      "source": [
        "bigru_training_model = bigru_model.fit(X_train,Y_train,batch_size=5,epochs=20,validation_data=(X_valid,Y_valid))"
      ],
      "execution_count": null,
      "outputs": [
        {
          "output_type": "stream",
          "text": [
            "Epoch 1/20\n",
            "20/20 [==============================] - 15s 730ms/step - loss: 1.2513 - acc: 0.2270 - val_loss: 1.3158 - val_acc: 0.3738\n",
            "Epoch 2/20\n",
            "20/20 [==============================] - 13s 648ms/step - loss: 0.8964 - acc: 0.4649 - val_loss: 0.9478 - val_acc: 0.5469\n",
            "Epoch 3/20\n",
            "20/20 [==============================] - 13s 650ms/step - loss: 0.6460 - acc: 0.6039 - val_loss: 0.7098 - val_acc: 0.6591\n",
            "Epoch 4/20\n",
            "20/20 [==============================] - 15s 734ms/step - loss: 0.4870 - acc: 0.6970 - val_loss: 0.5693 - val_acc: 0.7252\n",
            "Epoch 5/20\n",
            "20/20 [==============================] - 14s 693ms/step - loss: 0.3953 - acc: 0.7546 - val_loss: 0.4824 - val_acc: 0.7589\n",
            "Epoch 6/20\n",
            "20/20 [==============================] - 13s 647ms/step - loss: 0.3350 - acc: 0.7879 - val_loss: 0.4255 - val_acc: 0.7810\n",
            "Epoch 7/20\n",
            "20/20 [==============================] - 13s 649ms/step - loss: 0.2935 - acc: 0.8095 - val_loss: 0.3852 - val_acc: 0.8017\n",
            "Epoch 8/20\n",
            "20/20 [==============================] - 13s 651ms/step - loss: 0.2612 - acc: 0.8297 - val_loss: 0.3538 - val_acc: 0.8177\n",
            "Epoch 9/20\n",
            "20/20 [==============================] - 13s 639ms/step - loss: 0.2375 - acc: 0.8457 - val_loss: 0.3297 - val_acc: 0.8282\n",
            "Epoch 10/20\n",
            "20/20 [==============================] - 13s 640ms/step - loss: 0.2165 - acc: 0.8577 - val_loss: 0.3117 - val_acc: 0.8352\n",
            "Epoch 11/20\n",
            "20/20 [==============================] - 13s 641ms/step - loss: 0.2007 - acc: 0.8664 - val_loss: 0.2967 - val_acc: 0.8432\n",
            "Epoch 12/20\n",
            "20/20 [==============================] - 13s 645ms/step - loss: 0.1854 - acc: 0.8770 - val_loss: 0.2844 - val_acc: 0.8500\n",
            "Epoch 13/20\n",
            "20/20 [==============================] - 13s 641ms/step - loss: 0.1737 - acc: 0.8854 - val_loss: 0.2732 - val_acc: 0.8539\n",
            "Epoch 14/20\n",
            "20/20 [==============================] - 13s 644ms/step - loss: 0.1639 - acc: 0.8902 - val_loss: 0.2643 - val_acc: 0.8575\n",
            "Epoch 15/20\n",
            "20/20 [==============================] - 13s 635ms/step - loss: 0.1542 - acc: 0.8960 - val_loss: 0.2561 - val_acc: 0.8615\n",
            "Epoch 16/20\n",
            "20/20 [==============================] - 13s 642ms/step - loss: 0.1450 - acc: 0.9027 - val_loss: 0.2493 - val_acc: 0.8652\n",
            "Epoch 17/20\n",
            "20/20 [==============================] - 14s 678ms/step - loss: 0.1370 - acc: 0.9068 - val_loss: 0.2421 - val_acc: 0.8696\n",
            "Epoch 18/20\n",
            "20/20 [==============================] - 13s 641ms/step - loss: 0.1305 - acc: 0.9108 - val_loss: 0.2371 - val_acc: 0.8722\n",
            "Epoch 19/20\n",
            "20/20 [==============================] - 13s 638ms/step - loss: 0.1235 - acc: 0.9166 - val_loss: 0.2324 - val_acc: 0.8742\n",
            "Epoch 20/20\n",
            "20/20 [==============================] - 13s 644ms/step - loss: 0.1179 - acc: 0.9202 - val_loss: 0.2273 - val_acc: 0.8773\n"
          ],
          "name": "stdout"
        }
      ]
    },
    {
      "cell_type": "code",
      "metadata": {
        "colab": {
          "base_uri": "https://localhost:8080/",
          "height": 295
        },
        "id": "-IyWJY-O1994",
        "outputId": "1ec27d21-a09c-4f01-e1b0-e51395d6fc0b"
      },
      "source": [
        "#visualise training history\n",
        "plt.plot(bigru_training_model.history['acc'])\n",
        "plt.plot(bigru_training_model.history['val_acc'])\n",
        "plt.title('model accuracy')\n",
        "plt.ylabel('accuracy')\n",
        "plt.xlabel('epoch')\n",
        "plt.legend(['train', 'validation'], loc=\"lower right\")\n",
        "plt.show()"
      ],
      "execution_count": null,
      "outputs": [
        {
          "output_type": "display_data",
          "data": {
            "image/png": "[encoded data removed]",
            "text/plain": [
              "<Figure size 432x288 with 1 Axes>"
            ]
          },
          "metadata": {
            "tags": [],
            "needs_background": "light"
          }
        }
      ]
    },
    {
      "cell_type": "markdown",
      "metadata": {
        "id": "aEUIDM0zkXI5"
      },
      "source": [
        "As we can see, there are no significant diferences between the BILSTM model and the BIGRU model."
      ]
    },
    {
      "cell_type": "markdown",
      "metadata": {
        "id": "TvsUTo28kcEC"
      },
      "source": [
        "## Double BILSTM"
      ]
    },
    {
      "cell_type": "code",
      "metadata": {
        "id": "tBpp8PYkkg3m"
      },
      "source": [
        "def doubleBiLSTM(input_dim,output_dim,input_length,embedding,classes,units):\n",
        "  lstm = Sequential()\n",
        "  lstm.add(Embedding(input_dim=input_dim, output_dim=output_dim,input_length=input_length,weights=[embedding],trainable=False,mask_zero=True))\n",
        "  lstm.add(Bidirectional(LSTM(units=units,return_sequences=True)))\n",
        "  lstm.add(Dropout(0.2))\n",
        "  lstm.add(Bidirectional(LSTM(units=units,return_sequences=True)))\n",
        "  lstm.add(Dropout(0.2))\n",
        "  lstm.add(TimeDistributed(Dense(units=classes,activation='softmax')))\n",
        "  lstm.compile(optimizer='adam', loss='categorical_crossentropy',metrics=['acc'])\n",
        "  return lstm"
      ],
      "execution_count": null,
      "outputs": []
    },
    {
      "cell_type": "code",
      "metadata": {
        "colab": {
          "base_uri": "https://localhost:8080/"
        },
        "id": "0Lg8FsFjkseb",
        "outputId": "e2cb58df-02ef-4c13-cb15-599bae8ebbdd"
      },
      "source": [
        "double_bilstm_model = doubleBiLSTM(VOCABULARY_SIZE,EMBEDDING_SIZE,MAX_SEQ_LENGTH,embedding_matrix,NB_TOKENS,64)\n",
        "double_bilstm_model.summary()"
      ],
      "execution_count": null,
      "outputs": [
        {
          "output_type": "stream",
          "text": [
            "Model: \"sequential_2\"\n",
            "_________________________________________________________________\n",
            "Layer (type)                 Output Shape              Param #   \n",
            "=================================================================\n",
            "embedding_2 (Embedding)      (None, 1000, 300)         121123800 \n",
            "_________________________________________________________________\n",
            "bidirectional_2 (Bidirection (None, 1000, 128)         186880    \n",
            "_________________________________________________________________\n",
            "dropout_2 (Dropout)          (None, 1000, 128)         0         \n",
            "_________________________________________________________________\n",
            "bidirectional_3 (Bidirection (None, 1000, 128)         98816     \n",
            "_________________________________________________________________\n",
            "dropout_3 (Dropout)          (None, 1000, 128)         0         \n",
            "_________________________________________________________________\n",
            "time_distributed_2 (TimeDist (None, 1000, 46)          5934      \n",
            "=================================================================\n",
            "Total params: 121,415,430\n",
            "Trainable params: 291,630\n",
            "Non-trainable params: 121,123,800\n",
            "_________________________________________________________________\n"
          ],
          "name": "stdout"
        }
      ]
    },
    {
      "cell_type": "code",
      "metadata": {
        "colab": {
          "base_uri": "https://localhost:8080/"
        },
        "id": "qs8EwEpolCMm",
        "outputId": "09321db3-8dd7-408b-a860-d3908c621951"
      },
      "source": [
        "double_bilstm_training_model = double_bilstm_model.fit(X_train,Y_train,batch_size=5,epochs=20,validation_data=(X_valid,Y_valid))"
      ],
      "execution_count": null,
      "outputs": [
        {
          "output_type": "stream",
          "text": [
            "Epoch 1/20\n",
            "20/20 [==============================] - 36s 2s/step - loss: 1.3192 - acc: 0.1241 - val_loss: 1.5153 - val_acc: 0.2112\n",
            "Epoch 2/20\n",
            "20/20 [==============================] - 33s 2s/step - loss: 1.1466 - acc: 0.2085 - val_loss: 1.3663 - val_acc: 0.2923\n",
            "Epoch 3/20\n",
            "20/20 [==============================] - 36s 2s/step - loss: 1.0022 - acc: 0.3180 - val_loss: 1.1280 - val_acc: 0.4614\n",
            "Epoch 4/20\n",
            "20/20 [==============================] - 32s 2s/step - loss: 0.8024 - acc: 0.4921 - val_loss: 0.8768 - val_acc: 0.5690\n",
            "Epoch 5/20\n",
            "20/20 [==============================] - 32s 2s/step - loss: 0.6253 - acc: 0.6051 - val_loss: 0.6949 - val_acc: 0.6527\n",
            "Epoch 6/20\n",
            "20/20 [==============================] - 32s 2s/step - loss: 0.5069 - acc: 0.6766 - val_loss: 0.5772 - val_acc: 0.7139\n",
            "Epoch 7/20\n",
            "20/20 [==============================] - 34s 2s/step - loss: 0.4246 - acc: 0.7293 - val_loss: 0.4982 - val_acc: 0.7511\n",
            "Epoch 8/20\n",
            "20/20 [==============================] - 33s 2s/step - loss: 0.3679 - acc: 0.7657 - val_loss: 0.4427 - val_acc: 0.7761\n",
            "Epoch 9/20\n",
            "20/20 [==============================] - 33s 2s/step - loss: 0.3257 - acc: 0.7925 - val_loss: 0.3991 - val_acc: 0.7979\n",
            "Epoch 10/20\n",
            "20/20 [==============================] - 33s 2s/step - loss: 0.2910 - acc: 0.8142 - val_loss: 0.3676 - val_acc: 0.8135\n",
            "Epoch 11/20\n",
            "20/20 [==============================] - 33s 2s/step - loss: 0.2631 - acc: 0.8317 - val_loss: 0.3395 - val_acc: 0.8268\n",
            "Epoch 12/20\n",
            "20/20 [==============================] - 35s 2s/step - loss: 0.2400 - acc: 0.8468 - val_loss: 0.3181 - val_acc: 0.8408\n",
            "Epoch 13/20\n",
            "20/20 [==============================] - 33s 2s/step - loss: 0.2217 - acc: 0.8561 - val_loss: 0.3002 - val_acc: 0.8480\n",
            "Epoch 14/20\n",
            "20/20 [==============================] - 33s 2s/step - loss: 0.2036 - acc: 0.8687 - val_loss: 0.2835 - val_acc: 0.8534\n",
            "Epoch 15/20\n",
            "20/20 [==============================] - 33s 2s/step - loss: 0.1889 - acc: 0.8776 - val_loss: 0.2696 - val_acc: 0.8614\n",
            "Epoch 16/20\n",
            "20/20 [==============================] - 34s 2s/step - loss: 0.1755 - acc: 0.8853 - val_loss: 0.2585 - val_acc: 0.8674\n",
            "Epoch 17/20\n",
            "20/20 [==============================] - 33s 2s/step - loss: 0.1643 - acc: 0.8922 - val_loss: 0.2490 - val_acc: 0.8699\n",
            "Epoch 18/20\n",
            "20/20 [==============================] - 33s 2s/step - loss: 0.1542 - acc: 0.8994 - val_loss: 0.2390 - val_acc: 0.8744\n",
            "Epoch 19/20\n",
            "20/20 [==============================] - 33s 2s/step - loss: 0.1436 - acc: 0.9062 - val_loss: 0.2323 - val_acc: 0.8762\n",
            "Epoch 20/20\n",
            "20/20 [==============================] - 35s 2s/step - loss: 0.1356 - acc: 0.9105 - val_loss: 0.2248 - val_acc: 0.8808\n"
          ],
          "name": "stdout"
        }
      ]
    },
    {
      "cell_type": "code",
      "metadata": {
        "colab": {
          "base_uri": "https://localhost:8080/",
          "height": 295
        },
        "id": "PZ4FoP9Dlt_z",
        "outputId": "09187e2d-14e0-49a8-c1b1-dd71c2760659"
      },
      "source": [
        "#visualise training history\n",
        "plt.plot(double_bilstm_training_model.history['acc'])\n",
        "plt.plot(double_bilstm_training_model.history['val_acc'])\n",
        "plt.title('model accuracy')\n",
        "plt.ylabel('accuracy')\n",
        "plt.xlabel('epoch')\n",
        "plt.legend(['train', 'validation'], loc=\"lower right\")\n",
        "plt.show()"
      ],
      "execution_count": null,
      "outputs": [
        {
          "output_type": "display_data",
          "data": {
            "image/png": "[encoded data removed]",
            "text/plain": [
              "<Figure size 432x288 with 1 Axes>"
            ]
          },
          "metadata": {
            "tags": [],
            "needs_background": "light"
          }
        }
      ]
    },
    {
      "cell_type": "markdown",
      "metadata": {
        "id": "P_Zi3VD5kxOQ"
      },
      "source": [
        "The accuracy of this model grows less quickly than previous models. We can see it because the shape of the curve at the begining is smoother.\n",
        "\n",
        "Futhermore, the point where the accuracy of the training set overcome the accuracy of the validation set is reached at the 9th epoch (two epochs later than the previous models)."
      ]
    },
    {
      "cell_type": "markdown",
      "metadata": {
        "id": "s339rIPt5wCN"
      },
      "source": [
        "## LSTM + CRF"
      ]
    },
    {
      "cell_type": "code",
      "metadata": {
        "id": "YS2W4p58DvPw"
      },
      "source": [
        "import tensorflow as tf\n",
        "import tensorflow.keras.backend as K\n",
        "import tensorflow.keras.layers as L\n",
        "from tensorflow_addons.text import crf_log_likelihood, crf_decode\n",
        "\n",
        "### CRF LAYER CLASS ######\n",
        "class CRF(L.Layer):\n",
        "    def __init__(self,\n",
        "                 output_dim,\n",
        "                 sparse_target=True,\n",
        "                 **kwargs):\n",
        "        \"\"\"    \n",
        "        Args:\n",
        "            output_dim (int): the number of labels to tag each temporal input.\n",
        "            sparse_target (bool): whether the the ground-truth label represented in one-hot.\n",
        "        Input shape:\n",
        "            (batch_size, sentence length, output_dim)\n",
        "        Output shape:\n",
        "            (batch_size, sentence length, output_dim)\n",
        "        \"\"\"\n",
        "        super(CRF, self).__init__(**kwargs)\n",
        "        self.output_dim = int(output_dim) \n",
        "        self.sparse_target = sparse_target\n",
        "        self.input_spec = L.InputSpec(min_ndim=3)\n",
        "        self.supports_masking = False\n",
        "        self.sequence_lengths = None\n",
        "        self.transitions = None\n",
        "\n",
        "    def build(self, input_shape):\n",
        "        assert len(input_shape) == 3\n",
        "        f_shape = tf.TensorShape(input_shape)\n",
        "        input_spec = L.InputSpec(min_ndim=3, axes={-1: f_shape[-1]})\n",
        "\n",
        "        if f_shape[-1] is None:\n",
        "            raise ValueError('The last dimension of the inputs to `CRF` '\n",
        "                             'should be defined. Found `None`.')\n",
        "        if f_shape[-1] != self.output_dim:\n",
        "            raise ValueError('The last dimension of the input shape must be equal to output'\n",
        "                             ' shape. Use a linear layer if needed.')\n",
        "        self.input_spec = input_spec\n",
        "        self.transitions = self.add_weight(name='transitions',\n",
        "                                           shape=[self.output_dim, self.output_dim],\n",
        "                                           initializer='glorot_uniform',\n",
        "                                           trainable=True)\n",
        "        self.built = True\n",
        "\n",
        "    def compute_mask(self, inputs, mask=None):\n",
        "        # Just pass the received mask from previous layer, to the next layer or\n",
        "        # manipulate it if this layer changes the shape of the input\n",
        "        return mask\n",
        "\n",
        "    def call(self, inputs, sequence_lengths=None, training=None, **kwargs):\n",
        "        sequences = tf.convert_to_tensor(inputs, dtype=self.dtype)\n",
        "        if sequence_lengths is not None:\n",
        "            assert len(sequence_lengths.shape) == 2\n",
        "            assert tf.convert_to_tensor(sequence_lengths).dtype == 'int32'\n",
        "            seq_len_shape = tf.convert_to_tensor(sequence_lengths).get_shape().as_list()\n",
        "            assert seq_len_shape[1] == 1\n",
        "            self.sequence_lengths = K.flatten(sequence_lengths)\n",
        "        else:\n",
        "            self.sequence_lengths = tf.ones(tf.shape(inputs)[0], dtype=tf.int32) * (\n",
        "                tf.shape(inputs)[1]\n",
        "            )\n",
        "\n",
        "        viterbi_sequence, _ = crf_decode(sequences,\n",
        "                                         self.transitions,\n",
        "                                         self.sequence_lengths)\n",
        "        output = K.one_hot(viterbi_sequence, self.output_dim)\n",
        "        return K.in_train_phase(sequences, output)\n",
        "\n",
        "    @property\n",
        "    def loss(self):\n",
        "        def crf_loss(y_true, y_pred):\n",
        "            y_pred = tf.convert_to_tensor(y_pred, dtype=self.dtype)\n",
        "            log_likelihood, self.transitions = crf_log_likelihood(\n",
        "                y_pred,\n",
        "                tf.cast(K.argmax(y_true), dtype=tf.int32) if self.sparse_target else y_true,\n",
        "                self.sequence_lengths,\n",
        "                transition_params=self.transitions,\n",
        "            )\n",
        "            return tf.reduce_mean(-log_likelihood)\n",
        "        return crf_loss\n",
        "\n",
        "    @property\n",
        "    def accuracy(self):\n",
        "        def viterbi_accuracy(y_true, y_pred):\n",
        "            # -1e10 to avoid zero at sum(mask)\n",
        "            mask = K.cast(\n",
        "                K.all(K.greater(y_pred, -1e10), axis=2), K.floatx())\n",
        "            shape = tf.shape(y_pred)\n",
        "            sequence_lengths = tf.ones(shape[0], dtype=tf.int32) * (shape[1])\n",
        "            y_pred, _ = crf_decode(y_pred, self.transitions, sequence_lengths)\n",
        "            if self.sparse_target:\n",
        "                y_true = K.argmax(y_true, 2)\n",
        "            y_pred = K.cast(y_pred, 'int32')\n",
        "            y_true = K.cast(y_true, 'int32')\n",
        "            corrects = K.cast(K.equal(y_true, y_pred), K.floatx())\n",
        "            return K.sum(corrects * mask) / K.sum(mask)\n",
        "        return viterbi_accuracy\n",
        "\n",
        "    def compute_output_shape(self, input_shape):\n",
        "        tf.TensorShape(input_shape).assert_has_rank(3)\n",
        "        return input_shape[:2] + (self.output_dim,)\n",
        "\n",
        "    def get_config(self):\n",
        "        config = {\n",
        "            'output_dim': self.output_dim,\n",
        "            'sparse_target': self.sparse_target,\n",
        "            'supports_masking': self.supports_masking,\n",
        "            'transitions': K.eval(self.transitions)\n",
        "        }\n",
        "        base_config = super(CRF, self).get_config()\n",
        "        return dict(base_config, **config)"
      ],
      "execution_count": null,
      "outputs": []
    },
    {
      "cell_type": "code",
      "metadata": {
        "colab": {
          "base_uri": "https://localhost:8080/"
        },
        "id": "NuHqXIYqDxhu",
        "outputId": "093a2868-522b-4b6f-861b-ba1f4dfb7a71"
      },
      "source": [
        "model = Sequential()\n",
        "model.add(Embedding(input_dim     = VOCABULARY_SIZE,\n",
        "                        output_dim    = EMBEDDING_SIZE,\n",
        "                        input_length  = MAX_SEQ_LENGTH,\n",
        "                        weights       = [embedding_matrix],\n",
        "                        trainable     = False,\n",
        "                        mask_zero     = True\n",
        "                    ))\n",
        "model.add(Bidirectional(LSTM(64, return_sequences=True)))\n",
        "model.add(Dropout(0.2))\n",
        "model.add(Dense(NB_TOKENS))\n",
        "\n",
        "crf = CRF(NB_TOKENS, sparse_target=True)\n",
        "model.add(crf)\n",
        "model.compile('adam', loss=crf.loss, metrics=[crf.accuracy])\n",
        "training_crf = model.fit(x=X_train, y=Y_train, epochs=20, batch_size=5, validation_data=(X_valid,Y_valid))"
      ],
      "execution_count": null,
      "outputs": [
        {
          "output_type": "stream",
          "text": [
            "Epoch 1/20\n",
            "20/20 [==============================] - 30s 2s/step - loss: 1407.7479 - viterbi_accuracy: 0.0763 - val_loss: 3725.2490 - val_viterbi_accuracy: 0.1257\n",
            "Epoch 2/20\n",
            "20/20 [==============================] - 25s 1s/step - loss: 1281.9419 - viterbi_accuracy: 0.1506 - val_loss: 3603.6187 - val_viterbi_accuracy: 0.2203\n",
            "Epoch 3/20\n",
            "20/20 [==============================] - 25s 1s/step - loss: 1189.4370 - viterbi_accuracy: 0.2154 - val_loss: 3516.1138 - val_viterbi_accuracy: 0.2811\n",
            "Epoch 4/20\n",
            "20/20 [==============================] - 25s 1s/step - loss: 1078.7219 - viterbi_accuracy: 0.2792 - val_loss: 3455.2207 - val_viterbi_accuracy: 0.3165\n",
            "Epoch 5/20\n",
            "20/20 [==============================] - 25s 1s/step - loss: 987.1557 - viterbi_accuracy: 0.6546 - val_loss: 2904.5232 - val_viterbi_accuracy: 0.8415\n",
            "Epoch 6/20\n",
            "20/20 [==============================] - 25s 1s/step - loss: 964.0215 - viterbi_accuracy: 0.8709 - val_loss: 2856.4976 - val_viterbi_accuracy: 0.8643\n",
            "Epoch 7/20\n",
            "20/20 [==============================] - 25s 1s/step - loss: 931.6948 - viterbi_accuracy: 0.8919 - val_loss: 2816.8584 - val_viterbi_accuracy: 0.8790\n",
            "Epoch 8/20\n",
            "20/20 [==============================] - 25s 1s/step - loss: 880.3909 - viterbi_accuracy: 0.8993 - val_loss: 2785.2419 - val_viterbi_accuracy: 0.8865\n",
            "Epoch 9/20\n",
            "20/20 [==============================] - 25s 1s/step - loss: 812.2971 - viterbi_accuracy: 0.9015 - val_loss: 2751.6003 - val_viterbi_accuracy: 0.8959\n",
            "Epoch 10/20\n",
            "20/20 [==============================] - 25s 1s/step - loss: 840.1383 - viterbi_accuracy: 0.9217 - val_loss: 2720.2231 - val_viterbi_accuracy: 0.9033\n",
            "Epoch 11/20\n",
            "20/20 [==============================] - 25s 1s/step - loss: 760.1199 - viterbi_accuracy: 0.9179 - val_loss: 2691.4456 - val_viterbi_accuracy: 0.9093\n",
            "Epoch 12/20\n",
            "20/20 [==============================] - 25s 1s/step - loss: 777.1714 - viterbi_accuracy: 0.9297 - val_loss: 2662.1934 - val_viterbi_accuracy: 0.9142\n",
            "Epoch 13/20\n",
            "20/20 [==============================] - 26s 1s/step - loss: 774.5608 - viterbi_accuracy: 0.9380 - val_loss: 2635.8325 - val_viterbi_accuracy: 0.9161\n",
            "Epoch 14/20\n",
            "20/20 [==============================] - 25s 1s/step - loss: 733.3666 - viterbi_accuracy: 0.9385 - val_loss: 2608.4421 - val_viterbi_accuracy: 0.9194\n",
            "Epoch 15/20\n",
            "20/20 [==============================] - 25s 1s/step - loss: 703.4116 - viterbi_accuracy: 0.9409 - val_loss: 2582.8660 - val_viterbi_accuracy: 0.9217\n",
            "Epoch 16/20\n",
            "20/20 [==============================] - 25s 1s/step - loss: 655.9885 - viterbi_accuracy: 0.9406 - val_loss: 2558.7188 - val_viterbi_accuracy: 0.9229\n",
            "Epoch 17/20\n",
            "20/20 [==============================] - 25s 1s/step - loss: 660.2383 - viterbi_accuracy: 0.9465 - val_loss: 2532.6218 - val_viterbi_accuracy: 0.9259\n",
            "Epoch 18/20\n",
            "20/20 [==============================] - 26s 1s/step - loss: 642.6458 - viterbi_accuracy: 0.9483 - val_loss: 2507.1343 - val_viterbi_accuracy: 0.9283\n",
            "Epoch 19/20\n",
            "20/20 [==============================] - 25s 1s/step - loss: 617.5135 - viterbi_accuracy: 0.9505 - val_loss: 2483.9971 - val_viterbi_accuracy: 0.9283\n",
            "Epoch 20/20\n",
            "20/20 [==============================] - 25s 1s/step - loss: 599.5114 - viterbi_accuracy: 0.9531 - val_loss: 2459.9790 - val_viterbi_accuracy: 0.9298\n"
          ],
          "name": "stdout"
        }
      ]
    },
    {
      "cell_type": "markdown",
      "metadata": {
        "id": "7_WXGLkjmePZ"
      },
      "source": [
        "It is definitively the best model because the accuracy of the validation set as well as the training set is not limited by an asymptote (or at least this asymptote is above 90%).  "
      ]
    },
    {
      "cell_type": "markdown",
      "metadata": {
        "id": "K-eRsygQrKRj"
      },
      "source": [
        "## Evaluation"
      ]
    },
    {
      "cell_type": "markdown",
      "metadata": {
        "id": "tQrqGBRQiGZ9"
      },
      "source": [
        "The model which has the best accuracy on the validation set is the one with LSTM + CRF. So our evaluation will be based on this model."
      ]
    },
    {
      "cell_type": "code",
      "metadata": {
        "id": "FNliDpNNkSIX"
      },
      "source": [
        "def prediction(X,model,df):\n",
        "  pred = model.predict(X)\n",
        "  real_pred = []\n",
        "  pred_int = np.zeros((df.shape[0],MAX_SEQ_LENGTH),dtype=int)\n",
        "  for i,p in enumerate(pred):\n",
        "    _len = len(df['t_sequence'][i])\n",
        "    t_sequence_infered = []\n",
        "    for j,el in enumerate(p):\n",
        "        pred_int[i][j] = el.argmax() if j <_len else 0  # we get rid of prediction associated to padding and set to 0\n",
        "        if j < _len:\n",
        "          t_sequence_infered.append(idx_to_token[el.argmax()])\n",
        "    real_pred.append(t_sequence_infered)\n",
        "  df['t_sequence_infered'] = pd.Series(real_pred)\n",
        "  df['t_sequence_infered_encoded'] = pd.Series(pred_int.tolist()).apply(lambda x:np.array(x))\n",
        "  return df"
      ],
      "execution_count": null,
      "outputs": []
    },
    {
      "cell_type": "code",
      "metadata": {
        "id": "1q5AXu6q4Ig9"
      },
      "source": [
        "tr_df = prediction(X_train,model,tr_df)"
      ],
      "execution_count": null,
      "outputs": []
    },
    {
      "cell_type": "code",
      "metadata": {
        "colab": {
          "base_uri": "https://localhost:8080/",
          "height": 375
        },
        "id": "CQ9ZkitS8Exg",
        "outputId": "31f37e0b-8c5b-4230-b6b8-a1a305d4f94d"
      },
      "source": [
        "tr_df.head()"
      ],
      "execution_count": null,
      "outputs": [
        {
          "output_type": "execute_result",
          "data": {
            "text/html": [
              "<div>\n",
              "<style scoped>\n",
              "    .dataframe tbody tr th:only-of-type {\n",
              "        vertical-align: middle;\n",
              "    }\n",
              "\n",
              "    .dataframe tbody tr th {\n",
              "        vertical-align: top;\n",
              "    }\n",
              "\n",
              "    .dataframe thead th {\n",
              "        text-align: right;\n",
              "    }\n",
              "</style>\n",
              "<table border=\"1\" class=\"dataframe\">\n",
              "  <thead>\n",
              "    <tr style=\"text-align: right;\">\n",
              "      <th></th>\n",
              "      <th>w_sequence</th>\n",
              "      <th>t_sequence</th>\n",
              "      <th>f_id</th>\n",
              "      <th>w_encoded</th>\n",
              "      <th>t_encoded</th>\n",
              "      <th>t_one_hot_encoded</th>\n",
              "      <th>t_sequence_infered</th>\n",
              "      <th>t_sequence_infered_encoded</th>\n",
              "    </tr>\n",
              "  </thead>\n",
              "  <tbody>\n",
              "    <tr>\n",
              "      <th>0</th>\n",
              "      <td>[PAPERS, :, Backe, Group, Inc., agreed, to, ac...</td>\n",
              "      <td>[NNS, :, NNP, NNP, NNP, VBD, TO, VB, NNP, NNP,...</td>\n",
              "      <td>0052</td>\n",
              "      <td>[[400001, 46, 400002, 400003, 400004, 738, 5, ...</td>\n",
              "      <td>[1, 2, 3, 3, 3, 4, 5, 6, 3, 3, 3, 7, 8, 9, 10,...</td>\n",
              "      <td>[[[0, 1, 0, 0, 0, 0, 0, 0, 0, 0, 0, 0, 0, 0, 0...</td>\n",
              "      <td>[NNP, :, NNP, NNP, NNP, VBD, TO, VB, NNP, NNP,...</td>\n",
              "      <td>[3, 2, 3, 3, 3, 4, 5, 6, 3, 3, 3, 7, 8, 9, 10,...</td>\n",
              "    </tr>\n",
              "    <tr>\n",
              "      <th>1</th>\n",
              "      <td>[Italian, chemical, giant, Montedison, S.p.A.,...</td>\n",
              "      <td>[JJ, NN, NN, NNP, NNP, ,, IN, PRP$, NNP, NNP, ...</td>\n",
              "      <td>0032</td>\n",
              "      <td>[[400019, 2292, 1753, 400020, 400021, 2, 132, ...</td>\n",
              "      <td>[13, 11, 11, 3, 3, 7, 14, 20, 3, 3, 3, 13, 11,...</td>\n",
              "      <td>[[[0, 0, 0, 0, 0, 0, 0, 0, 0, 0, 0, 0, 0, 1, 0...</td>\n",
              "      <td>[JJ, NN, NN, NNP, NNP, ,, IN, PRP$, NNP, NNP, ...</td>\n",
              "      <td>[13, 11, 11, 3, 3, 7, 14, 20, 3, 3, 3, 13, 11,...</td>\n",
              "    </tr>\n",
              "    <tr>\n",
              "      <th>2</th>\n",
              "      <td>[The, U.S., and, Soviet, Union, are, holding, ...</td>\n",
              "      <td>[DT, NNP, CC, NNP, NNP, VBP, VBG, JJ, NNS, IN,...</td>\n",
              "      <td>0035</td>\n",
              "      <td>[[400027, 400032, 6, 400033, 400034, 33, 1384,...</td>\n",
              "      <td>[19, 3, 12, 3, 3, 24, 21, 13, 1, 14, 13, 11, 1...</td>\n",
              "      <td>[[[0, 0, 0, 0, 0, 0, 0, 0, 0, 0, 0, 0, 0, 0, 0...</td>\n",
              "      <td>[DT, NNP, CC, NNP, NNP, VBP, VBG, JJ, NNS, IN,...</td>\n",
              "      <td>[19, 3, 12, 3, 3, 24, 21, 13, 1, 14, 13, 11, 1...</td>\n",
              "    </tr>\n",
              "    <tr>\n",
              "      <th>3</th>\n",
              "      <td>[Newsweek, ,, trying, to, keep, pace, with, ri...</td>\n",
              "      <td>[NNP, ,, VBG, TO, VB, NN, IN, JJ, NNP, NN, ,, ...</td>\n",
              "      <td>0012</td>\n",
              "      <td>[[400069, 2, 596, 5, 579, 2409, 18, 1746, 4000...</td>\n",
              "      <td>[3, 7, 21, 5, 6, 11, 14, 13, 3, 11, 7, 4, 13, ...</td>\n",
              "      <td>[[[0, 0, 0, 1, 0, 0, 0, 0, 0, 0, 0, 0, 0, 0, 0...</td>\n",
              "      <td>[NNP, ,, VBG, TO, VB, VB, IN, JJ, NNP, NN, ,, ...</td>\n",
              "      <td>[3, 7, 21, 5, 6, 6, 14, 13, 3, 11, 7, 4, 13, 1...</td>\n",
              "    </tr>\n",
              "    <tr>\n",
              "      <th>4</th>\n",
              "      <td>[The, Treasury, said, it, plans, to, sell, $, ...</td>\n",
              "      <td>[DT, NNP, VBD, PRP, VBZ, TO, VB, $, CD, CD, IN...</td>\n",
              "      <td>0075</td>\n",
              "      <td>[[400027, 400103, 17, 21, 560, 5, 1244, 81, 40...</td>\n",
              "      <td>[19, 3, 4, 25, 9, 5, 6, 15, 10, 10, 14, 1, 12,...</td>\n",
              "      <td>[[[0, 0, 0, 0, 0, 0, 0, 0, 0, 0, 0, 0, 0, 0, 0...</td>\n",
              "      <td>[DT, NNP, VBD, PRP, VBZ, TO, VB, $, CD, CD, IN...</td>\n",
              "      <td>[19, 3, 4, 25, 9, 5, 6, 15, 10, 10, 14, 1, 12,...</td>\n",
              "    </tr>\n",
              "  </tbody>\n",
              "</table>\n",
              "</div>"
            ],
            "text/plain": [
              "                                          w_sequence  ...                         t_sequence_infered_encoded\n",
              "0  [PAPERS, :, Backe, Group, Inc., agreed, to, ac...  ...  [3, 2, 3, 3, 3, 4, 5, 6, 3, 3, 3, 7, 8, 9, 10,...\n",
              "1  [Italian, chemical, giant, Montedison, S.p.A.,...  ...  [13, 11, 11, 3, 3, 7, 14, 20, 3, 3, 3, 13, 11,...\n",
              "2  [The, U.S., and, Soviet, Union, are, holding, ...  ...  [19, 3, 12, 3, 3, 24, 21, 13, 1, 14, 13, 11, 1...\n",
              "3  [Newsweek, ,, trying, to, keep, pace, with, ri...  ...  [3, 7, 21, 5, 6, 6, 14, 13, 3, 11, 7, 4, 13, 1...\n",
              "4  [The, Treasury, said, it, plans, to, sell, $, ...  ...  [19, 3, 4, 25, 9, 5, 6, 15, 10, 10, 14, 1, 12,...\n",
              "\n",
              "[5 rows x 8 columns]"
            ]
          },
          "metadata": {
            "tags": []
          },
          "execution_count": 74
        }
      ]
    },
    {
      "cell_type": "markdown",
      "metadata": {
        "id": "7bK171kr9QHq"
      },
      "source": [
        "OK now it's the time to compute the F1-score  \n",
        "I will compute a F1 score for each sequence, and make an average.  \n",
        "I will also compute a single f1-score on the whole dataset and then compare both."
      ]
    },
    {
      "cell_type": "code",
      "metadata": {
        "id": "Kd7Lyse0SoLK"
      },
      "source": [
        "def compute_score(df,name):\n",
        "  x=[]\n",
        "  for i in range(df.shape[0]):\n",
        "    f = f1_score(tr_df['t_encoded'][i],tr_df['t_sequence_infered_encoded'][i],average='macro')\n",
        "    x.append(f)\n",
        "  df[name] = pd.Series(x)\n",
        "  return df"
      ],
      "execution_count": null,
      "outputs": []
    },
    {
      "cell_type": "code",
      "metadata": {
        "id": "iw4CZsblYCVA"
      },
      "source": [
        "tr_df = compute_score(tr_df,'f1_score_training')"
      ],
      "execution_count": null,
      "outputs": []
    },
    {
      "cell_type": "code",
      "metadata": {
        "colab": {
          "base_uri": "https://localhost:8080/",
          "height": 514
        },
        "id": "MRdXv2fH9roH",
        "outputId": "b50e8d4b-59d8-4da1-bd36-b5e843742b04"
      },
      "source": [
        "tr_df.head()"
      ],
      "execution_count": null,
      "outputs": [
        {
          "output_type": "execute_result",
          "data": {
            "text/html": [
              "<div>\n",
              "<style scoped>\n",
              "    .dataframe tbody tr th:only-of-type {\n",
              "        vertical-align: middle;\n",
              "    }\n",
              "\n",
              "    .dataframe tbody tr th {\n",
              "        vertical-align: top;\n",
              "    }\n",
              "\n",
              "    .dataframe thead th {\n",
              "        text-align: right;\n",
              "    }\n",
              "</style>\n",
              "<table border=\"1\" class=\"dataframe\">\n",
              "  <thead>\n",
              "    <tr style=\"text-align: right;\">\n",
              "      <th></th>\n",
              "      <th>w_sequence</th>\n",
              "      <th>t_sequence</th>\n",
              "      <th>f_id</th>\n",
              "      <th>w_encoded</th>\n",
              "      <th>t_encoded</th>\n",
              "      <th>t_one_hot_encoded</th>\n",
              "      <th>t_sequence_infered</th>\n",
              "      <th>t_sequence_infered_encoded</th>\n",
              "      <th>f1_score_training</th>\n",
              "    </tr>\n",
              "  </thead>\n",
              "  <tbody>\n",
              "    <tr>\n",
              "      <th>0</th>\n",
              "      <td>[PAPERS, :, Backe, Group, Inc., agreed, to, ac...</td>\n",
              "      <td>[NNS, :, NNP, NNP, NNP, VBD, TO, VB, NNP, NNP,...</td>\n",
              "      <td>0052</td>\n",
              "      <td>[[400001, 46, 400002, 400003, 400004, 738, 5, ...</td>\n",
              "      <td>[1, 2, 3, 3, 3, 4, 5, 6, 3, 3, 3, 7, 8, 9, 10,...</td>\n",
              "      <td>[[[0, 1, 0, 0, 0, 0, 0, 0, 0, 0, 0, 0, 0, 0, 0...</td>\n",
              "      <td>[NNP, :, NNP, NNP, NNP, VBD, TO, VB, NNP, NNP,...</td>\n",
              "      <td>[3, 2, 3, 3, 3, 4, 5, 6, 3, 3, 3, 7, 8, 9, 10,...</td>\n",
              "      <td>0.980831</td>\n",
              "    </tr>\n",
              "    <tr>\n",
              "      <th>1</th>\n",
              "      <td>[Italian, chemical, giant, Montedison, S.p.A.,...</td>\n",
              "      <td>[JJ, NN, NN, NNP, NNP, ,, IN, PRP$, NNP, NNP, ...</td>\n",
              "      <td>0032</td>\n",
              "      <td>[[400019, 2292, 1753, 400020, 400021, 2, 132, ...</td>\n",
              "      <td>[13, 11, 11, 3, 3, 7, 14, 20, 3, 3, 3, 13, 11,...</td>\n",
              "      <td>[[[0, 0, 0, 0, 0, 0, 0, 0, 0, 0, 0, 0, 0, 1, 0...</td>\n",
              "      <td>[JJ, NN, NN, NNP, NNP, ,, IN, PRP$, NNP, NNP, ...</td>\n",
              "      <td>[13, 11, 11, 3, 3, 7, 14, 20, 3, 3, 3, 13, 11,...</td>\n",
              "      <td>0.753408</td>\n",
              "    </tr>\n",
              "    <tr>\n",
              "      <th>2</th>\n",
              "      <td>[The, U.S., and, Soviet, Union, are, holding, ...</td>\n",
              "      <td>[DT, NNP, CC, NNP, NNP, VBP, VBG, JJ, NNS, IN,...</td>\n",
              "      <td>0035</td>\n",
              "      <td>[[400027, 400032, 6, 400033, 400034, 33, 1384,...</td>\n",
              "      <td>[19, 3, 12, 3, 3, 24, 21, 13, 1, 14, 13, 11, 1...</td>\n",
              "      <td>[[[0, 0, 0, 0, 0, 0, 0, 0, 0, 0, 0, 0, 0, 0, 0...</td>\n",
              "      <td>[DT, NNP, CC, NNP, NNP, VBP, VBG, JJ, NNS, IN,...</td>\n",
              "      <td>[19, 3, 12, 3, 3, 24, 21, 13, 1, 14, 13, 11, 1...</td>\n",
              "      <td>0.867254</td>\n",
              "    </tr>\n",
              "    <tr>\n",
              "      <th>3</th>\n",
              "      <td>[Newsweek, ,, trying, to, keep, pace, with, ri...</td>\n",
              "      <td>[NNP, ,, VBG, TO, VB, NN, IN, JJ, NNP, NN, ,, ...</td>\n",
              "      <td>0012</td>\n",
              "      <td>[[400069, 2, 596, 5, 579, 2409, 18, 1746, 4000...</td>\n",
              "      <td>[3, 7, 21, 5, 6, 11, 14, 13, 3, 11, 7, 4, 13, ...</td>\n",
              "      <td>[[[0, 0, 0, 1, 0, 0, 0, 0, 0, 0, 0, 0, 0, 0, 0...</td>\n",
              "      <td>[NNP, ,, VBG, TO, VB, VB, IN, JJ, NNP, NN, ,, ...</td>\n",
              "      <td>[3, 7, 21, 5, 6, 6, 14, 13, 3, 11, 7, 4, 13, 1...</td>\n",
              "      <td>0.929421</td>\n",
              "    </tr>\n",
              "    <tr>\n",
              "      <th>4</th>\n",
              "      <td>[The, Treasury, said, it, plans, to, sell, $, ...</td>\n",
              "      <td>[DT, NNP, VBD, PRP, VBZ, TO, VB, $, CD, CD, IN...</td>\n",
              "      <td>0075</td>\n",
              "      <td>[[400027, 400103, 17, 21, 560, 5, 1244, 81, 40...</td>\n",
              "      <td>[19, 3, 4, 25, 9, 5, 6, 15, 10, 10, 14, 1, 12,...</td>\n",
              "      <td>[[[0, 0, 0, 0, 0, 0, 0, 0, 0, 0, 0, 0, 0, 0, 0...</td>\n",
              "      <td>[DT, NNP, VBD, PRP, VBZ, TO, VB, $, CD, CD, IN...</td>\n",
              "      <td>[19, 3, 4, 25, 9, 5, 6, 15, 10, 10, 14, 1, 12,...</td>\n",
              "      <td>0.924484</td>\n",
              "    </tr>\n",
              "  </tbody>\n",
              "</table>\n",
              "</div>"
            ],
            "text/plain": [
              "                                          w_sequence  ... f1_score_training\n",
              "0  [PAPERS, :, Backe, Group, Inc., agreed, to, ac...  ...          0.980831\n",
              "1  [Italian, chemical, giant, Montedison, S.p.A.,...  ...          0.753408\n",
              "2  [The, U.S., and, Soviet, Union, are, holding, ...  ...          0.867254\n",
              "3  [Newsweek, ,, trying, to, keep, pace, with, ri...  ...          0.929421\n",
              "4  [The, Treasury, said, it, plans, to, sell, $, ...  ...          0.924484\n",
              "\n",
              "[5 rows x 9 columns]"
            ]
          },
          "metadata": {
            "tags": []
          },
          "execution_count": 77
        }
      ]
    },
    {
      "cell_type": "markdown",
      "metadata": {
        "id": "Oh1wZaet9vc8"
      },
      "source": [
        "Let's compute the global f1 score"
      ]
    },
    {
      "cell_type": "code",
      "metadata": {
        "colab": {
          "base_uri": "https://localhost:8080/"
        },
        "id": "wjof8M-W94ZR",
        "outputId": "b3e54386-6d69-4a84-d2fd-272c33cde627"
      },
      "source": [
        "print(f\" global F1 score by taking the mean of locals f1 score : {tr_df['f1_score_training'].mean()}\")"
      ],
      "execution_count": null,
      "outputs": [
        {
          "output_type": "stream",
          "text": [
            " global F1 score by taking the mean of locals f1 score : 0.8503667487867985\n"
          ],
          "name": "stdout"
        }
      ]
    },
    {
      "cell_type": "code",
      "metadata": {
        "id": "jdQ-sjvK-OCq"
      },
      "source": [
        "def global_f1_score(df):\n",
        "  _X = np.zeros((1,1),dtype=int)\n",
        "  for el in df['t_encoded'].to_list():\n",
        "    _X = np.concatenate((_X,el),axis=None)\n",
        "  _Y = np.zeros((1,1),dtype=int)\n",
        "  for el in df['t_sequence_infered_encoded'].to_list():\n",
        "    _Y = np.concatenate((_Y,el),axis=None)\n",
        "  X = _X[_X!=0]\n",
        "  Y = _Y[_Y!=0]\n",
        "  return f1_score(X,Y,average='macro')"
      ],
      "execution_count": null,
      "outputs": []
    },
    {
      "cell_type": "code",
      "metadata": {
        "colab": {
          "base_uri": "https://localhost:8080/"
        },
        "id": "AgQlAwfy-4sh",
        "outputId": "b95553e5-7b96-4365-ba15-fecce05fe3fa"
      },
      "source": [
        "print(f\" global f1 score : {global_f1_score(tr_df)}\")"
      ],
      "execution_count": null,
      "outputs": [
        {
          "output_type": "stream",
          "text": [
            " global f1 score : 0.6980616144027975\n"
          ],
          "name": "stdout"
        }
      ]
    },
    {
      "cell_type": "markdown",
      "metadata": {
        "id": "a9c7YZsY_XYq"
      },
      "source": [
        "The real F1-score is the global one. Indeed, make an average of the locals F1-score isn't a real accurate measure."
      ]
    },
    {
      "cell_type": "markdown",
      "metadata": {
        "id": "Ql9YhCv9_tY8"
      },
      "source": [
        "Now we can do the same but for the test set"
      ]
    },
    {
      "cell_type": "code",
      "metadata": {
        "id": "0-xDRXpjAMz8"
      },
      "source": [
        "ts_df = prediction(X_test,model,ts_df)"
      ],
      "execution_count": null,
      "outputs": []
    },
    {
      "cell_type": "code",
      "metadata": {
        "id": "aiX3_FYh_sfk"
      },
      "source": [
        "ts_df = compute_score(ts_df,'f1_score_testing')"
      ],
      "execution_count": null,
      "outputs": []
    },
    {
      "cell_type": "code",
      "metadata": {
        "colab": {
          "base_uri": "https://localhost:8080/",
          "height": 566
        },
        "id": "NFG13vfB_5eR",
        "outputId": "f817c82f-0169-46cf-c7bd-6e6da5570f91"
      },
      "source": [
        "ts_df.head()"
      ],
      "execution_count": null,
      "outputs": [
        {
          "output_type": "execute_result",
          "data": {
            "text/html": [
              "<div>\n",
              "<style scoped>\n",
              "    .dataframe tbody tr th:only-of-type {\n",
              "        vertical-align: middle;\n",
              "    }\n",
              "\n",
              "    .dataframe tbody tr th {\n",
              "        vertical-align: top;\n",
              "    }\n",
              "\n",
              "    .dataframe thead th {\n",
              "        text-align: right;\n",
              "    }\n",
              "</style>\n",
              "<table border=\"1\" class=\"dataframe\">\n",
              "  <thead>\n",
              "    <tr style=\"text-align: right;\">\n",
              "      <th></th>\n",
              "      <th>w_sequence</th>\n",
              "      <th>t_sequence</th>\n",
              "      <th>f_id</th>\n",
              "      <th>w_encoded</th>\n",
              "      <th>t_encoded</th>\n",
              "      <th>t_one_hot_encoded</th>\n",
              "      <th>t_sequence_infered</th>\n",
              "      <th>t_sequence_infered_encoded</th>\n",
              "      <th>f1_score_testing</th>\n",
              "    </tr>\n",
              "  </thead>\n",
              "  <tbody>\n",
              "    <tr>\n",
              "      <th>0</th>\n",
              "      <td>[ORTEGA, ENDED, a, truce, with, the, Contras, ...</td>\n",
              "      <td>[NNP, VBD, DT, NN, IN, DT, NNPS, CC, VBD, NNS,...</td>\n",
              "      <td>0174</td>\n",
              "      <td>[[403291, 403292, 8, 4906, 18, 1, 403293, 6, 1...</td>\n",
              "      <td>[3, 4, 19, 11, 14, 19, 22, 12, 4, 1, 4, 18, 16...</td>\n",
              "      <td>[[[0, 0, 0, 1, 0, 0, 0, 0, 0, 0, 0, 0, 0, 0, 0...</td>\n",
              "      <td>[NNS, IN, DT, NN, IN, DT, JJ, CC, VBD, NNS, VB...</td>\n",
              "      <td>[1, 14, 19, 11, 14, 19, 13, 12, 4, 1, 4, 18, 1...</td>\n",
              "      <td>0.980831</td>\n",
              "    </tr>\n",
              "    <tr>\n",
              "      <th>1</th>\n",
              "      <td>[RMS, International, Inc., ,, Hasbrouk, Height...</td>\n",
              "      <td>[NNP, NNP, NNP, ,, NNP, NNP, ,, NNP, ,, VBG, D...</td>\n",
              "      <td>0167</td>\n",
              "      <td>[[403338, 400061, 400004, 2, 403339, 401979, 2...</td>\n",
              "      <td>[3, 3, 3, 7, 3, 3, 7, 3, 7, 21, 19, 13, 11, 7,...</td>\n",
              "      <td>[[[0, 0, 0, 1, 0, 0, 0, 0, 0, 0, 0, 0, 0, 0, 0...</td>\n",
              "      <td>[NNP, NNP, NNP, ,, NNP, NNP, ,, NNP, ,, VBG, D...</td>\n",
              "      <td>[3, 3, 3, 7, 3, 3, 7, 3, 7, 21, 19, 13, 11, 7,...</td>\n",
              "      <td>0.753408</td>\n",
              "    </tr>\n",
              "    <tr>\n",
              "      <th>2</th>\n",
              "      <td>[The, U.S., International, Trade, Commission, ...</td>\n",
              "      <td>[DT, NNP, NNP, NNP, NNP, VBD, JJ, NNS, IN, DT,...</td>\n",
              "      <td>0183</td>\n",
              "      <td>[[400027, 400032, 400061, 400932, 400183, 1102...</td>\n",
              "      <td>[19, 3, 3, 3, 3, 4, 13, 1, 14, 19, 3, 13, 11, ...</td>\n",
              "      <td>[[[0, 0, 0, 0, 0, 0, 0, 0, 0, 0, 0, 0, 0, 0, 0...</td>\n",
              "      <td>[DT, NNP, NNP, NNP, NNP, VBD, JJ, NNS, IN, DT,...</td>\n",
              "      <td>[19, 3, 3, 3, 3, 4, 13, 1, 14, 19, 3, 3, 11, 1...</td>\n",
              "      <td>0.867254</td>\n",
              "    </tr>\n",
              "    <tr>\n",
              "      <th>3</th>\n",
              "      <td>[Metallgesellschaft, AG, said, it, agreed, to,...</td>\n",
              "      <td>[NNP, NNP, VBD, PRP, VBD, TO, VB, CD, NN, IN, ...</td>\n",
              "      <td>0182</td>\n",
              "      <td>[[403347, 401736, 17, 21, 738, 5, 5539, 3841, ...</td>\n",
              "      <td>[3, 3, 4, 25, 4, 5, 6, 10, 11, 14, 3, 3, 14, 1...</td>\n",
              "      <td>[[[0, 0, 0, 1, 0, 0, 0, 0, 0, 0, 0, 0, 0, 0, 0...</td>\n",
              "      <td>[NNP, NNP, VBD, PRP, VBD, TO, VB, CD, NN, IN, ...</td>\n",
              "      <td>[3, 3, 4, 25, 4, 5, 6, 10, 11, 14, 1, 3, 14, 1...</td>\n",
              "      <td>0.929421</td>\n",
              "    </tr>\n",
              "    <tr>\n",
              "      <th>4</th>\n",
              "      <td>[Dell, Computer, Corp., said, it, cut, prices,...</td>\n",
              "      <td>[NNP, NNP, NNP, VBD, PRP, VBD, NNS, IN, JJ, IN...</td>\n",
              "      <td>0154</td>\n",
              "      <td>[[402013, 401383, 400014, 17, 21, 612, 469, 14...</td>\n",
              "      <td>[3, 3, 3, 4, 25, 4, 1, 14, 13, 14, 20, 13, 11,...</td>\n",
              "      <td>[[[0, 0, 0, 1, 0, 0, 0, 0, 0, 0, 0, 0, 0, 0, 0...</td>\n",
              "      <td>[NNP, NNP, NNP, VBD, PRP, VBD, NNS, IN, NNS, I...</td>\n",
              "      <td>[3, 3, 3, 4, 25, 4, 1, 14, 1, 14, 20, 13, 11, ...</td>\n",
              "      <td>0.924484</td>\n",
              "    </tr>\n",
              "  </tbody>\n",
              "</table>\n",
              "</div>"
            ],
            "text/plain": [
              "                                          w_sequence  ... f1_score_testing\n",
              "0  [ORTEGA, ENDED, a, truce, with, the, Contras, ...  ...         0.980831\n",
              "1  [RMS, International, Inc., ,, Hasbrouk, Height...  ...         0.753408\n",
              "2  [The, U.S., International, Trade, Commission, ...  ...         0.867254\n",
              "3  [Metallgesellschaft, AG, said, it, agreed, to,...  ...         0.929421\n",
              "4  [Dell, Computer, Corp., said, it, cut, prices,...  ...         0.924484\n",
              "\n",
              "[5 rows x 9 columns]"
            ]
          },
          "metadata": {
            "tags": []
          },
          "execution_count": 83
        }
      ]
    },
    {
      "cell_type": "code",
      "metadata": {
        "colab": {
          "base_uri": "https://localhost:8080/"
        },
        "id": "ZCY36_E8_9mW",
        "outputId": "c801891c-4876-4e62-8d6e-a2d7dbf3c08a"
      },
      "source": [
        "print(f\" global F1 score by taking the mean of locals f1 score : {ts_df['f1_score_testing'].mean()}\")\n",
        "print(f\" global f1 score : {global_f1_score(ts_df)}\")"
      ],
      "execution_count": null,
      "outputs": [
        {
          "output_type": "stream",
          "text": [
            " global F1 score by taking the mean of locals f1 score : 0.8417042546779606\n",
            " global f1 score : 0.7539501892168671\n"
          ],
          "name": "stdout"
        }
      ]
    },
    {
      "cell_type": "markdown",
      "metadata": {
        "id": "eBH5-YFnAdXy"
      },
      "source": [
        "# Conclusion\n",
        "\n",
        "Best model : LSTM + CRF\n",
        "\n",
        "|| F1-score training  | F1-score testing\n",
        "|---|---|---\n",
        "|average locals f1-score| 85%  | 84%  | \n",
        "|global F1-score|  70% |  75% |    "
      ]
    },
    {
      "cell_type": "markdown",
      "metadata": {
        "id": "L_twAKFgBmAU"
      },
      "source": [
        "There is a lot of others things we could do to improve this F1-score :\n",
        "* add more/less dropout and try others regularization techniques\n",
        "* instead of padding at the end of sequences, add padding at the begining\n",
        "* instead of one hot encode labels, just tokenize them and use `sparse_categorical_crossentropy`\n",
        "* train longer\n",
        "* add more/less hidden units\n",
        "* try with word2vec or fastext instead of Glove\n",
        "* try with 100-Glove, 50-Glove, 200-Glove"
      ]
    }
  ]
}