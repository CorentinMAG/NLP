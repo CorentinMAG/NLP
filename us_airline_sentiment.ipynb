{
  "nbformat": 4,
  "nbformat_minor": 0,
  "metadata": {
    "colab": {
      "name": "us_airline_sentiment.ipynb",
      "provenance": [],
      "collapsed_sections": [],
      "toc_visible": true,
      "authorship_tag": "ABX9TyPQSarYRj54ss0Z1RW2JqcJ",
      "include_colab_link": true
    },
    "kernelspec": {
      "name": "python3",
      "display_name": "Python 3"
    }
  },
  "cells": [
    {
      "cell_type": "markdown",
      "metadata": {
        "id": "view-in-github",
        "colab_type": "text"
      },
      "source": [
        "<a href=\"https://colab.research.google.com/github/CorentinMAG/NLP/blob/main/us_airline_sentiment.ipynb\" target=\"_parent\"><img src=\"https://colab.research.google.com/assets/colab-badge.svg\" alt=\"Open In Colab\"/></a>"
      ]
    },
    {
      "cell_type": "markdown",
      "metadata": {
        "id": "Tmyv4ygouqBh"
      },
      "source": [
        "To infer the tweet's sentiments we will use two classifiers:\n",
        "* logistic regression\n",
        "* multinomial naive bayes"
      ]
    },
    {
      "cell_type": "markdown",
      "metadata": {
        "id": "Cjkl0Nqbujvs"
      },
      "source": [
        "# Set up"
      ]
    },
    {
      "cell_type": "code",
      "metadata": {
        "id": "jvyl51Dtu9Hh",
        "outputId": "556998ce-c8d8-49b3-96ff-01ac774078bd",
        "colab": {
          "base_uri": "https://localhost:8080/"
        }
      },
      "source": [
        "!pip install emoji\n",
        "import numpy as np \n",
        "import pandas as pd \n",
        "pd.set_option('display.max_colwidth', -1)\n",
        "from time import time\n",
        "import re\n",
        "import string\n",
        "import os\n",
        "import emoji\n",
        "from pprint import pprint\n",
        "import collections\n",
        "import matplotlib.pyplot as plt\n",
        "import seaborn as sns\n",
        "sns.set(style=\"darkgrid\")\n",
        "sns.set(font_scale=1.3)\n",
        "from sklearn.base import BaseEstimator, TransformerMixin\n",
        "from sklearn.feature_extraction.text import CountVectorizer\n",
        "from sklearn.feature_extraction.text import TfidfVectorizer\n",
        "from sklearn.model_selection import GridSearchCV\n",
        "from sklearn.model_selection import train_test_split\n",
        "from sklearn.pipeline import Pipeline, FeatureUnion\n",
        "from sklearn.metrics import classification_report,confusion_matrix, plot_confusion_matrix\n",
        "from sklearn.naive_bayes import MultinomialNB\n",
        "from sklearn.linear_model import LogisticRegression\n",
        "from sklearn.externals import joblib\n",
        "import gensim\n",
        "import nltk\n",
        "nltk.download('stopwords')\n",
        "from nltk.corpus import stopwords\n",
        "from nltk.stem import PorterStemmer\n",
        "from nltk.tokenize import word_tokenize\n",
        "import warnings\n",
        "warnings.filterwarnings('ignore')\n",
        "np.random.seed(37)"
      ],
      "execution_count": null,
      "outputs": [
        {
          "output_type": "stream",
          "text": [
            "Requirement already satisfied: emoji in /usr/local/lib/python3.6/dist-packages (0.6.0)\n",
            "[nltk_data] Downloading package stopwords to /root/nltk_data...\n",
            "[nltk_data]   Package stopwords is already up-to-date!\n"
          ],
          "name": "stdout"
        }
      ]
    },
    {
      "cell_type": "markdown",
      "metadata": {
        "id": "xH4Zh-2avfe1"
      },
      "source": [
        "We download the Twitter US Airline sentiment dataset"
      ]
    },
    {
      "cell_type": "code",
      "metadata": {
        "id": "v2-5q-6Avt0G",
        "outputId": "adfded42-fa55-461b-a8a1-48254df1cf12",
        "colab": {
          "base_uri": "https://localhost:8080/"
        }
      },
      "source": [
        "from google.colab import drive\n",
        "drive.mount('/content/gdrive')"
      ],
      "execution_count": null,
      "outputs": [
        {
          "output_type": "stream",
          "text": [
            "Drive already mounted at /content/gdrive; to attempt to forcibly remount, call drive.mount(\"/content/gdrive\", force_remount=True).\n"
          ],
          "name": "stdout"
        }
      ]
    },
    {
      "cell_type": "code",
      "metadata": {
        "id": "fDd9z2eNxd_b"
      },
      "source": [
        "dataset = os.path.join(os.getcwd(),'gdrive/My Drive/datasets/TweetsUSAirline.csv')\n",
        "df = pd.read_csv(dataset)\n",
        "\n",
        "# we shuffle data in case the dataset is sorted\n",
        "df = df.reindex(np.random.permutation(df.index))\n",
        "\n",
        "# we only keep the columns airline_sentiment, text\n",
        "df = df[['airline_sentiment','text']]"
      ],
      "execution_count": null,
      "outputs": []
    },
    {
      "cell_type": "markdown",
      "metadata": {
        "id": "n7puIYouzoic"
      },
      "source": [
        "we have 3 sentiments:\n",
        "* neutral\n",
        "* negative\n",
        "* positive"
      ]
    },
    {
      "cell_type": "markdown",
      "metadata": {
        "id": "8U9aOWvduTcA"
      },
      "source": [
        "# data visualization\n",
        "\n",
        "Let's look at the tweets !"
      ]
    },
    {
      "cell_type": "code",
      "metadata": {
        "id": "GH4xaiM1uXrM",
        "outputId": "1b405037-a043-4da5-f24e-3d69a7df5bad",
        "colab": {
          "base_uri": "https://localhost:8080/"
        }
      },
      "source": [
        "print(df)"
      ],
      "execution_count": null,
      "outputs": [
        {
          "output_type": "stream",
          "text": [
            "      airline_sentiment                                                                                                                                        text\n",
            "10620  negative          @USAirways told to work it out ourselves #joke #fail                                                                                      \n",
            "13609  negative          @AmericanAir that all AA is for USAir Elite members. It's one big disappointment in the way we are treated. #epicfailure                  \n",
            "2955   negative          @united Bummer. Might have to go with @AmericanAir card instead. TY for response though.                                                  \n",
            "3585   negative          @united well the income flight to dca to take us to ewr was delayed and it made us miss our connection to FLL so yes hotels were necessary\n",
            "2087   negative          @united we have tried to change our flight THREE times on the phone and got disconnected each time.                                       \n",
            "...         ...                                                                                                          ...                                       \n",
            "988    neutral           @united done                                                                                                                              \n",
            "14587  negative          @AmericanAir I’ll play it by ear. I know that you are doing your best. Buy some chewey oatmeal cookies for your customer care folks.      \n",
            "9036   neutral           @USAirways I left my personal stuff on US4551 from PHL-BOS about an hour ago. Went baggage, was told plane left to call 800#              \n",
            "4459   negative          @SouthwestAir: Tried for VIP Live in The Vineyard but yr site went down, by the time I got in 2 redeem pts those packages gone.           \n",
            "1935   negative          @united, more lies... http://t.co/BEqoTLNugc                                                                                              \n",
            "\n",
            "[14640 rows x 2 columns]\n"
          ],
          "name": "stdout"
        }
      ]
    },
    {
      "cell_type": "code",
      "metadata": {
        "id": "4dMwawZvzuSE",
        "outputId": "7df11121-9a83-4773-fe0d-215de87b7b4e",
        "colab": {
          "base_uri": "https://localhost:8080/",
          "height": 357
        }
      },
      "source": [
        "df.groupby('airline_sentiment').count().plot.bar()"
      ],
      "execution_count": null,
      "outputs": [
        {
          "output_type": "execute_result",
          "data": {
            "text/plain": [
              "<matplotlib.axes._subplots.AxesSubplot at 0x7f3e4f3c0b00>"
            ]
          },
          "metadata": {
            "tags": []
          },
          "execution_count": 27
        },
        {
          "output_type": "display_data",
          "data": {
            "image/png": "[encoded data removed]",
            "text/plain": [
              "<Figure size 432x288 with 1 Axes>"
            ]
          },
          "metadata": {
            "tags": []
          }
        }
      ]
    },
    {
      "cell_type": "markdown",
      "metadata": {
        "id": "n4-qliT40pg3"
      },
      "source": [
        "We have an imbalanced distribution of the target class labels  \n",
        "We will create a class that can retrieve some stats from our dataset:\n",
        "* count number of word in a tweet\n",
        "* count mentions in a tweet\n",
        "* count html tag in a tweet\n",
        "* count hashtags in a tweet\n",
        "* count uppercase word in a tweet\n",
        "* count questions/exclamations in a tweet\n",
        "* count url in a tweet"
      ]
    },
    {
      "cell_type": "code",
      "metadata": {
        "id": "HZ6vxzYa00fv"
      },
      "source": [
        "class TextCounts(BaseEstimator, TransformerMixin):\n",
        "    \n",
        "    def count_regex(self, pattern, tweet):\n",
        "        return len(re.findall(pattern, tweet))\n",
        "    \n",
        "    def fit(self, X, y=None, **fit_params):\n",
        "        # fit method is used when specific operations need to be done on the train data, but not on the test data\n",
        "        return self\n",
        "    \n",
        "    def transform(self, X, **transform_params):\n",
        "        count_words = X.apply(lambda x: self.count_regex(r'\\w+', x)) \n",
        "        count_mentions = X.apply(lambda x: self.count_regex(r'@\\w+', x))\n",
        "        count_hashtags = X.apply(lambda x: self.count_regex(r'#\\w+', x))\n",
        "        count_capital_words = X.apply(lambda x: self.count_regex(r'\\b[A-Z]{2,}\\b', x))\n",
        "        count_excl_quest_marks = X.apply(lambda x: self.count_regex(r'!|\\?', x))\n",
        "        count_urls = X.apply(lambda x: self.count_regex(r'http.?://[^\\s]+[\\s]?', x))\n",
        "        # We will replace the emoji symbols with a description, which makes using a regex for counting easier\n",
        "        # Moreover, it will result in having more words in the tweet\n",
        "        count_emojis = X.apply(lambda x: emoji.demojize(x)).apply(lambda x: self.count_regex(r':[a-z_&]+:', x))\n",
        "        \n",
        "        df = pd.DataFrame({'count_words': count_words\n",
        "                           , 'count_mentions': count_mentions\n",
        "                           , 'count_hashtags': count_hashtags\n",
        "                           , 'count_capital_words': count_capital_words\n",
        "                           , 'count_excl_quest_marks': count_excl_quest_marks\n",
        "                           , 'count_urls': count_urls\n",
        "                           ,'count_emoji':count_emojis\n",
        "                          })\n",
        "        \n",
        "        return df"
      ],
      "execution_count": null,
      "outputs": []
    },
    {
      "cell_type": "code",
      "metadata": {
        "id": "rsTNQUUl28nN"
      },
      "source": [
        "tc = TextCounts()\n",
        "\n",
        "# we create our stats dataframe\n",
        "df_stats = tc.fit_transform(df['text'])\n",
        "\n",
        "# we add the sentiment column\n",
        "df_stats['airline_sentiment'] = df['airline_sentiment']"
      ],
      "execution_count": null,
      "outputs": []
    },
    {
      "cell_type": "markdown",
      "metadata": {
        "id": "79Zvs9UX3iue"
      },
      "source": [
        "We will plot our stats"
      ]
    },
    {
      "cell_type": "code",
      "metadata": {
        "id": "69K0iCUm3k3y"
      },
      "source": [
        "def show_dist(df, col):\n",
        "    print('Descriptive stats for {}'.format(col))\n",
        "    print('-'*(len(col)+22))\n",
        "    print(df.groupby('airline_sentiment')[col].describe())\n",
        "    bins = np.arange(df[col].min(), df[col].max() + 1)\n",
        "    g = sns.FacetGrid(df, col='airline_sentiment', size=5, hue='airline_sentiment', palette=\"PuBuGn_d\")\n",
        "    g = g.map(sns.distplot, col, kde=False, norm_hist=True, bins=bins)\n",
        "    plt.show()"
      ],
      "execution_count": null,
      "outputs": []
    },
    {
      "cell_type": "code",
      "metadata": {
        "id": "iN7mEWru3nab",
        "outputId": "b05294c2-237a-4a14-a3a6-dceb05510ebe",
        "colab": {
          "base_uri": "https://localhost:8080/",
          "height": 1000
        }
      },
      "source": [
        "show_dist(df_stats,'count_words')\n",
        "show_dist(df_stats,'count_capital_words')\n",
        "show_dist(df_stats,'count_urls')\n",
        "show_dist(df_stats,'count_mentions')\n",
        "show_dist(df_stats,'count_excl_quest_marks')\n",
        "show_dist(df_stats,'count_hashtags')\n",
        "show_dist(df_stats,'count_emoji')"
      ],
      "execution_count": null,
      "outputs": [
        {
          "output_type": "stream",
          "text": [
            "Descriptive stats for count_words\n",
            "---------------------------------\n",
            "                    count       mean       std  min   25%   50%   75%   max\n",
            "airline_sentiment                                                          \n",
            "negative           9178.0  20.387557  6.100020  2.0  17.0  22.0  25.0  35.0\n",
            "neutral            3099.0  15.290094  7.150738  2.0  10.0  15.0  21.0  34.0\n",
            "positive           2363.0  14.478206  7.266129  2.0  8.0   14.0  21.0  33.0\n"
          ],
          "name": "stdout"
        },
        {
          "output_type": "display_data",
          "data": {
            "image/png": "[encoded data removed]",
            "text/plain": [
              "<Figure size 1080x360 with 3 Axes>"
            ]
          },
          "metadata": {
            "tags": []
          }
        },
        {
          "output_type": "stream",
          "text": [
            "Descriptive stats for count_capital_words\n",
            "-----------------------------------------\n",
            "                    count      mean       std  min  25%  50%  75%   max\n",
            "airline_sentiment                                                      \n",
            "negative           9178.0  0.429070  1.019710  0.0  0.0  0.0  1.0  22.0\n",
            "neutral            3099.0  0.462085  0.939468  0.0  0.0  0.0  1.0  11.0\n",
            "positive           2363.0  0.461278  1.234078  0.0  0.0  0.0  1.0  20.0\n"
          ],
          "name": "stdout"
        },
        {
          "output_type": "display_data",
          "data": {
            "image/png": "[encoded data removed]",
            "text/plain": [
              "<Figure size 1080x360 with 3 Axes>"
            ]
          },
          "metadata": {
            "tags": []
          }
        },
        {
          "output_type": "stream",
          "text": [
            "Descriptive stats for count_urls\n",
            "--------------------------------\n",
            "                    count      mean       std  min  25%  50%  75%  max\n",
            "airline_sentiment                                                     \n",
            "negative           9178.0  0.049248  0.218403  0.0  0.0  0.0  0.0  2.0\n",
            "neutral            3099.0  0.169732  0.401225  0.0  0.0  0.0  0.0  3.0\n",
            "positive           2363.0  0.098603  0.303818  0.0  0.0  0.0  0.0  2.0\n"
          ],
          "name": "stdout"
        },
        {
          "output_type": "display_data",
          "data": {
            "image/png": "[encoded data removed]",
            "text/plain": [
              "<Figure size 1080x360 with 3 Axes>"
            ]
          },
          "metadata": {
            "tags": []
          }
        },
        {
          "output_type": "stream",
          "text": [
            "Descriptive stats for count_mentions\n",
            "------------------------------------\n",
            "                    count      mean       std  min  25%  50%  75%  max\n",
            "airline_sentiment                                                     \n",
            "negative           9178.0  1.111244  0.365420  1.0  1.0  1.0  1.0  6.0\n",
            "neutral            3099.0  1.167473  0.480102  1.0  1.0  1.0  1.0  5.0\n",
            "positive           2363.0  1.138383  0.432462  1.0  1.0  1.0  1.0  6.0\n"
          ],
          "name": "stdout"
        },
        {
          "output_type": "display_data",
          "data": {
            "image/png": "[encoded data removed]",
            "text/plain": [
              "<Figure size 1080x360 with 3 Axes>"
            ]
          },
          "metadata": {
            "tags": []
          }
        },
        {
          "output_type": "stream",
          "text": [
            "Descriptive stats for count_excl_quest_marks\n",
            "--------------------------------------------\n",
            "                    count      mean       std  min  25%  50%  75%   max\n",
            "airline_sentiment                                                      \n",
            "negative           9178.0  0.634125  1.143958  0.0  0.0  0.0  1.0  27.0\n",
            "neutral            3099.0  0.665053  0.928761  0.0  0.0  0.0  1.0  12.0\n",
            "positive           2363.0  0.892510  1.199191  0.0  0.0  1.0  1.0  13.0\n"
          ],
          "name": "stdout"
        },
        {
          "output_type": "display_data",
          "data": {
            "image/png": "[encoded data removed]",
            "text/plain": [
              "<Figure size 1080x360 with 3 Axes>"
            ]
          },
          "metadata": {
            "tags": []
          }
        },
        {
          "output_type": "stream",
          "text": [
            "Descriptive stats for count_hashtags\n",
            "------------------------------------\n",
            "                    count      mean       std  min  25%  50%  75%  max\n",
            "airline_sentiment                                                     \n",
            "negative           9178.0  0.233384  0.615099  0.0  0.0  0.0  0.0  6.0\n",
            "neutral            3099.0  0.212004  0.666382  0.0  0.0  0.0  0.0  6.0\n",
            "positive           2363.0  0.297503  0.774776  0.0  0.0  0.0  0.0  8.0\n"
          ],
          "name": "stdout"
        },
        {
          "output_type": "display_data",
          "data": {
            "image/png": "[encoded data removed]",
            "text/plain": [
              "<Figure size 1080x360 with 3 Axes>"
            ]
          },
          "metadata": {
            "tags": []
          }
        },
        {
          "output_type": "stream",
          "text": [
            "Descriptive stats for count_emoji\n",
            "---------------------------------\n",
            "                    count      mean       std  min  25%  50%  75%   max\n",
            "airline_sentiment                                                      \n",
            "negative           9178.0  0.028547  0.258772  0.0  0.0  0.0  0.0  8.0 \n",
            "neutral            3099.0  0.076154  0.494654  0.0  0.0  0.0  0.0  13.0\n",
            "positive           2363.0  0.181549  1.257512  0.0  0.0  0.0  0.0  40.0\n"
          ],
          "name": "stdout"
        },
        {
          "output_type": "display_data",
          "data": {
            "image/png": "[encoded data removed]",
            "text/plain": [
              "<Figure size 1080x360 with 3 Axes>"
            ]
          },
          "metadata": {
            "tags": []
          }
        }
      ]
    },
    {
      "cell_type": "markdown",
      "metadata": {
        "id": "Y99n8z5zIuio"
      },
      "source": [
        "* The number of words used in the tweets is rater low. Maximum number of words is 36 and there are even tweets with only 2 words. So we'll have to be careful during data cleaning not to remove too many words. On the other hand, the text processing will be faster. Negative tweets contain more words than neutral or positive tweets.\n",
        "* All tweets have at least one mention. Probably this is the result of extracting the tweets based on mentions in the Twitter data. There seems to be no difference in number of mentions with regard to the sentiment.\n",
        "* Most of the tweets do not contain hash tags. So probably this variable will not be retained during model training. Again, no difference in number of hash tags with regard to the sentiment.\n",
        "* Most of the tweets do not contain capitalized words and we do not see a difference in distribution between the sentiments.\n",
        "* The positive tweets seem to be using a bit more exclamation or question marks.\n",
        "* Most tweets do not contain a URL."
      ]
    },
    {
      "cell_type": "markdown",
      "metadata": {
        "id": "IrxkJCfdJMZR"
      },
      "source": [
        "# Text cleaning\n",
        "\n",
        "Before we start using the tweets' text we clean it. We'll do this in the class CleanText:\n",
        "\n",
        "* remove the mentions, as we want to make the model generalisable to tweets of other airline companies too.\n",
        "* remove the hash tag sign (#) but not the actual tag as this may contain information\n",
        "* set all words to lowercase\n",
        "* remove all punctuations, including the question and exclamation marks\n",
        "* remove the urls as they do not contain useful information and we did not notice a distinction in the number of urls used between the sentiment classes\n",
        "* remove digits\n",
        "* remove stopwords\n",
        "* apply the PorterStemmer to keep the stem of the words"
      ]
    },
    {
      "cell_type": "code",
      "metadata": {
        "id": "LzF_TmOWJNhO"
      },
      "source": [
        "class CleanText(BaseEstimator, TransformerMixin):\n",
        "\n",
        "    # we remove @....\n",
        "    def remove_mentions(self, input_text):\n",
        "        return re.sub(r'@\\w+', '', input_text)\n",
        "    \n",
        "    # we remove urls in the tweet\n",
        "    def remove_urls(self, input_text):\n",
        "        return re.sub(r'http.?://[^\\s]+[\\s]?', '', input_text)\n",
        "    \n",
        "    # we remove punctuation marks\n",
        "    def remove_punctuation(self, input_text):\n",
        "        # Make translation table\n",
        "        punct = string.punctuation\n",
        "        # maketrans(str1,str2) -> each character in the first string  is a replacement to its corresponding index in the second string\n",
        "        # Every punctuation symbol will be replaced by a space\n",
        "        trantab = str.maketrans(punct, len(punct)*' ')  \n",
        "        return input_text.translate(trantab)\n",
        "\n",
        "    # we remove all digits because they are useless\n",
        "    def remove_digits(self, input_text):\n",
        "        return re.sub('\\d+', '', input_text)\n",
        "    \n",
        "    # we convert all text in lowercase \n",
        "    def to_lower(self, input_text):\n",
        "        return input_text.lower()\n",
        "    \n",
        "    # we remove the most frequents words\n",
        "    def remove_stopwords(self, input_text):\n",
        "        stopwords_list = stopwords.words('english')\n",
        "        # Some words which might indicate a certain sentiment are kept via a whitelist\n",
        "        whitelist = [\"n't\", \"not\", \"no\"]\n",
        "        words = input_text.split() \n",
        "        clean_words = [word for word in words if (word not in stopwords_list or word in whitelist) and len(word) > 1] \n",
        "        return \" \".join(clean_words) \n",
        "    \n",
        "    def remove_emojis(self,input_text):\n",
        "      demojize_input = emoji.demojize(input_text)\n",
        "      # emojis has been demojize so they are in this format :***:\n",
        "      return re.sub(r':[a-z_&]+:','',demojize_input)\n",
        "\n",
        "    \n",
        "    # we perform stemming (base representation of words)\n",
        "    def stemming(self, input_text):\n",
        "        porter = PorterStemmer()\n",
        "        words = input_text.split() \n",
        "        stemmed_words = [porter.stem(word) for word in words]\n",
        "        return \" \".join(stemmed_words)\n",
        "    \n",
        "    def fit(self, X, y=None, **fit_params):\n",
        "        return self\n",
        "    \n",
        "    def transform(self, X, **transform_params):\n",
        "        clean_X = X.apply(self.remove_mentions).apply(self.remove_urls).apply(self.remove_punctuation).apply(self.remove_emojis).apply(self.remove_digits).apply(self.to_lower).apply(self.remove_stopwords).apply(self.stemming)\n",
        "        return clean_X"
      ],
      "execution_count": null,
      "outputs": []
    },
    {
      "cell_type": "code",
      "metadata": {
        "id": "OVXBlMhwJgv0",
        "outputId": "1bf06736-e921-4f3f-deb6-4f17a95dc584",
        "colab": {
          "base_uri": "https://localhost:8080/"
        }
      },
      "source": [
        "ct = CleanText()\n",
        "\n",
        "dff = df.copy()\n",
        "\n",
        "cleaned_data = ct.fit_transform(dff['text'])\n",
        "cleaned_data.sample(5)"
      ],
      "execution_count": null,
      "outputs": [
        {
          "output_type": "execute_result",
          "data": {
            "text/plain": [
              "12222    glad rt bet bird wish flown south winter                         \n",
              "3936     point upc code check baggag tell luggag vacat day tri swimsuit   \n",
              "367      vx jfk la dirti plane not standard                               \n",
              "12257    tell mean work need estim time arriv pleas need laptop work thank\n",
              "2957     sure busi go els airlin travel name kathryn sotelo               \n",
              "Name: text, dtype: object"
            ]
          },
          "metadata": {
            "tags": []
          },
          "execution_count": 33
        }
      ]
    },
    {
      "cell_type": "markdown",
      "metadata": {
        "id": "1sr_G1JjKLBb"
      },
      "source": [
        "we will show the most frequent words"
      ]
    },
    {
      "cell_type": "code",
      "metadata": {
        "id": "ZFxFh7fhKNDY",
        "outputId": "c6860c17-c92e-4cf4-dd7e-e6ad7546bd62",
        "colab": {
          "base_uri": "https://localhost:8080/",
          "height": 546
        }
      },
      "source": [
        "cv = CountVectorizer()\n",
        "bow = cv.fit_transform(cleaned_data)\n",
        "word_freq = dict(zip(cv.get_feature_names(), np.asarray(bow.sum(axis=0)).ravel()))\n",
        "word_counter = collections.Counter(word_freq)\n",
        "word_counter_df = pd.DataFrame(word_counter.most_common(20), columns = ['word', 'freq'])\n",
        "fig, ax = plt.subplots(figsize=(16, 10))\n",
        "sns.barplot(x=\"word\", y=\"freq\", data=word_counter_df, palette=\"PuBuGn_d\", ax=ax)\n",
        "plt.show();"
      ],
      "execution_count": null,
      "outputs": [
        {
          "output_type": "display_data",
          "data": {
            "image/png": "[encoded data removed]",
            "text/plain": [
              "<Figure size 1152x720 with 1 Axes>"
            ]
          },
          "metadata": {
            "tags": []
          }
        }
      ]
    },
    {
      "cell_type": "code",
      "metadata": {
        "id": "TxgLC6uizwgp",
        "outputId": "3efa4c03-c2ea-48ee-a16c-c09aea534c7b",
        "colab": {
          "base_uri": "https://localhost:8080/"
        }
      },
      "source": [
        "cleaned_data.value_counts()"
      ],
      "execution_count": null,
      "outputs": [
        {
          "output_type": "execute_result",
          "data": {
            "text/plain": [
              "thank                                                                               146\n",
              "fleet fleek                                                                         24 \n",
              "                                                                                    22 \n",
              "sent                                                                                14 \n",
              "thank much                                                                          14 \n",
              "                                                                                    .. \n",
              "complet let tonight gate agent ambival much sad amp                                 1  \n",
              "hi bked cool birthday trip add elev no caus enter middl name flight book problem    1  \n",
              "cannot even open laptop seat paid premium let                                       1  \n",
              "dear virgin custom strand sf day amp cost least accommod                            1  \n",
              "not agent voic activ system not work right no email cancel flightlat lot problem    1  \n",
              "Name: text, Length: 14018, dtype: int64"
            ]
          },
          "metadata": {
            "tags": []
          },
          "execution_count": 35
        }
      ]
    },
    {
      "cell_type": "markdown",
      "metadata": {
        "id": "H57OiBsi3fxW"
      },
      "source": [
        "We see that now we have 22 empty tweets !! \n",
        "That could lead to some issues, so we have to handle that !\n",
        "* we can remove empty row from the dataframe\n",
        "* we can impute the missing value with some placeholder like [no_text]\n",
        "\n",
        "For this time, we will use a placeholder"
      ]
    },
    {
      "cell_type": "code",
      "metadata": {
        "id": "MYD1vM734Haq",
        "outputId": "46798383-1533-485a-8f65-cfa9a494be75",
        "colab": {
          "base_uri": "https://localhost:8080/",
          "height": 289
        }
      },
      "source": [
        "# we append this processed data to the dff dataframe\n",
        "dff['cleaned_text'] = cleaned_data\n",
        "dff.head()"
      ],
      "execution_count": null,
      "outputs": [
        {
          "output_type": "execute_result",
          "data": {
            "text/html": [
              "<div>\n",
              "<style scoped>\n",
              "    .dataframe tbody tr th:only-of-type {\n",
              "        vertical-align: middle;\n",
              "    }\n",
              "\n",
              "    .dataframe tbody tr th {\n",
              "        vertical-align: top;\n",
              "    }\n",
              "\n",
              "    .dataframe thead th {\n",
              "        text-align: right;\n",
              "    }\n",
              "</style>\n",
              "<table border=\"1\" class=\"dataframe\">\n",
              "  <thead>\n",
              "    <tr style=\"text-align: right;\">\n",
              "      <th></th>\n",
              "      <th>airline_sentiment</th>\n",
              "      <th>text</th>\n",
              "      <th>cleaned_text</th>\n",
              "    </tr>\n",
              "  </thead>\n",
              "  <tbody>\n",
              "    <tr>\n",
              "      <th>10620</th>\n",
              "      <td>negative</td>\n",
              "      <td>@USAirways told to work it out ourselves #joke #fail</td>\n",
              "      <td>told work joke fail</td>\n",
              "    </tr>\n",
              "    <tr>\n",
              "      <th>13609</th>\n",
              "      <td>negative</td>\n",
              "      <td>@AmericanAir that all AA is for USAir Elite members. It's one big disappointment in the way we are treated. #epicfailure</td>\n",
              "      <td>aa usair elit member one big disappoint way treat epicfailur</td>\n",
              "    </tr>\n",
              "    <tr>\n",
              "      <th>2955</th>\n",
              "      <td>negative</td>\n",
              "      <td>@united Bummer. Might have to go with @AmericanAir card instead. TY for response though.</td>\n",
              "      <td>bummer might go card instead ty respons though</td>\n",
              "    </tr>\n",
              "    <tr>\n",
              "      <th>3585</th>\n",
              "      <td>negative</td>\n",
              "      <td>@united well the income flight to dca to take us to ewr was delayed and it made us miss our connection to FLL so yes hotels were necessary</td>\n",
              "      <td>well incom flight dca take us ewr delay made us miss connect fll ye hotel necessari</td>\n",
              "    </tr>\n",
              "    <tr>\n",
              "      <th>2087</th>\n",
              "      <td>negative</td>\n",
              "      <td>@united we have tried to change our flight THREE times on the phone and got disconnected each time.</td>\n",
              "      <td>tri chang flight three time phone got disconnect time</td>\n",
              "    </tr>\n",
              "  </tbody>\n",
              "</table>\n",
              "</div>"
            ],
            "text/plain": [
              "      airline_sentiment  ...                                                                         cleaned_text\n",
              "10620  negative          ...  told work joke fail                                                                \n",
              "13609  negative          ...  aa usair elit member one big disappoint way treat epicfailur                       \n",
              "2955   negative          ...  bummer might go card instead ty respons though                                     \n",
              "3585   negative          ...  well incom flight dca take us ewr delay made us miss connect fll ye hotel necessari\n",
              "2087   negative          ...  tri chang flight three time phone got disconnect time                              \n",
              "\n",
              "[5 rows x 3 columns]"
            ]
          },
          "metadata": {
            "tags": []
          },
          "execution_count": 36
        }
      ]
    },
    {
      "cell_type": "code",
      "metadata": {
        "id": "HP8Dy2L07gjd",
        "outputId": "58868c22-34e7-421b-ef26-0ee54095841f",
        "colab": {
          "base_uri": "https://localhost:8080/"
        }
      },
      "source": [
        "# we replace empty tweet with a placeholder\n",
        "empty_tweet = dff['cleaned_text'] == ''\n",
        "dff[empty_tweet]='[no_text]'\n",
        "dff.cleaned_text.value_counts()"
      ],
      "execution_count": null,
      "outputs": [
        {
          "output_type": "execute_result",
          "data": {
            "text/plain": [
              "thank                                                                                                              146\n",
              "fleet fleek                                                                                                        24 \n",
              "[no_text]                                                                                                          22 \n",
              "thank much                                                                                                         14 \n",
              "rt fleet fleek                                                                                                     14 \n",
              "                                                                                                                   .. \n",
              "custom servic dead last wk flt delay cancel flight bag lost day last nt flt delay cancel flight no meal voucher    1  \n",
              "complet let tonight gate agent ambival much sad amp                                                                1  \n",
              "hi bked cool birthday trip add elev no caus enter middl name flight book problem                                   1  \n",
              "cannot even open laptop seat paid premium let                                                                      1  \n",
              "wait hour pilot aa pilot hous dfw                                                                                  1  \n",
              "Name: cleaned_text, Length: 14018, dtype: int64"
            ]
          },
          "metadata": {
            "tags": []
          },
          "execution_count": 37
        }
      ]
    },
    {
      "cell_type": "markdown",
      "metadata": {
        "id": "lBylGKxNKVNo"
      },
      "source": [
        "# train/test dataset\n",
        "\n",
        "we will split our initial dataset in two datasets by using the ```train_test_split()``` function from sklearn  \n",
        "We will use 90% of our data for the training part"
      ]
    },
    {
      "cell_type": "code",
      "metadata": {
        "id": "5Td1HFiyKXGy"
      },
      "source": [
        "X_train, X_test, Y_train, Y_test = train_test_split(dff.drop(['airline_sentiment','text'], axis=1), dff.drop(['text','cleaned_text'],axis=1), test_size=0.1, random_state=37)\n",
        "X_train = X_train['cleaned_text'].tolist()\n",
        "Y_train = Y_train['airline_sentiment'].tolist()\n",
        "\n",
        "\n",
        "X_test = X_test['cleaned_text'].tolist()\n",
        "Y_test = Y_test['airline_sentiment'].tolist()\n"
      ],
      "execution_count": null,
      "outputs": []
    },
    {
      "cell_type": "markdown",
      "metadata": {
        "id": "h5XelsIs9bGU"
      },
      "source": [
        "# hyperparameters tuning \n",
        "\n",
        "we will try two vectorizers :\n",
        "* TD-IDF vectorizer\n",
        "* CountVectorizer\n",
        "\n",
        "and we will train a logistic regression and a multinomial naïves bayes.  \n",
        "In order to get the best result, we will use a **cross validation** and ```GridSearchCV()``` function to tune the hyperparameters\n",
        "\n",
        "The GridSearchCV will generate a report on the test data. This provide some interresting metrics. These metrics are the precision, recal and f1 score.\n",
        "\n",
        "We will also plot the confusion matrix."
      ]
    },
    {
      "cell_type": "code",
      "metadata": {
        "id": "yStBtPTL9ddy"
      },
      "source": [
        "def grid_search(vect,clf,vect_parameters,clf_parameters):\n",
        "\n",
        "  pipeline = Pipeline([('vect',vect),('clf',clf)])\n",
        "  parameters = dict()\n",
        "  parameters.update(vect_parameters)\n",
        "  parameters.update(clf_parameters)\n",
        "\n",
        "  grid_search = GridSearchCV(pipeline, parameters, n_jobs=-1, verbose=1, cv=5)\n",
        "\n",
        "  print(\"Performing grid search...\")\n",
        "  print(\"pipeline:\", [name for name, _ in pipeline.steps])\n",
        "  print(\"parameters:\")\n",
        "  pprint(parameters)\n",
        "\n",
        "  t0 = time()\n",
        "  \n",
        "  grid_search.fit(X_train, Y_train)\n",
        "  print(\"done in %0.3fs\" % (time() - t0))\n",
        "\n",
        "  print(\"Best CV score: %0.3f\" % grid_search.best_score_)\n",
        "  print(\"Best parameters set:\")\n",
        "  best_parameters = grid_search.best_estimator_.get_params()\n",
        "  for param_name in sorted(parameters.keys()):\n",
        "      print(\"\\t%s: %r\" % (param_name, best_parameters[param_name]))\n",
        "        \n",
        "  print(\"Test score with best_estimator_: %0.3f\" % grid_search.best_estimator_.score(X_test, Y_test))\n",
        "  print(\"\\n\")\n",
        "  print(\"Classification Report Test Data\")\n",
        "  print(classification_report(Y_test, grid_search.best_estimator_.predict(X_test)))\n",
        "\n",
        "  print(\"Confusion matrix\")\n",
        "  confusion_m = confusion_matrix(Y_test, grid_search.best_estimator_.predict(X_test))\n",
        "  print(confusion_m)\n",
        "  print()\n",
        "  plot_confusion_matrix(grid_search.best_estimator_, X_test, Y_test, normalize='true', cmap=plt.cm.Blues, values_format=\".2f\")\n",
        "                        \n",
        "  return "
      ],
      "execution_count": null,
      "outputs": []
    },
    {
      "cell_type": "markdown",
      "metadata": {
        "id": "8Xwf-jdHCAw-"
      },
      "source": [
        "# Parameters for gridSearchCV"
      ]
    },
    {
      "cell_type": "code",
      "metadata": {
        "id": "4X_yrFOFCFWD"
      },
      "source": [
        "#parameters for vectorizers\n",
        "tdidf = TfidfVectorizer()\n",
        "ctv = CountVectorizer()\n",
        "vect_parameters = {\n",
        "    'vect__min_df':(1,2),\n",
        "    'vect__max_df':(0.25,0.5,0.75),\n",
        "    'vect__ngram_range':((1,1),(1,2))\n",
        "    \n",
        "}\n",
        "\n",
        "# parameters for multinomial naïves bayes classifiers\n",
        "mnb = MultinomialNB()\n",
        "mnb_parameters = {\n",
        "    'clf__alpha': (0.25, 0.5, 0.75)  \n",
        "}\n",
        "\n",
        "# parameters for logistic regression\n",
        "logreg = LogisticRegression()\n",
        "logreg_parameters = {\n",
        "    'clf__C': (0.25, 0.5, 1.0),\n",
        "    'clf__max_iter':(100,500,1000)\n",
        "}"
      ],
      "execution_count": null,
      "outputs": []
    },
    {
      "cell_type": "markdown",
      "metadata": {
        "id": "GC1lzwbDDYe2"
      },
      "source": [
        "# CountVectorizer\n",
        "\n",
        "We will try this vectorizer with both classifiers"
      ]
    },
    {
      "cell_type": "markdown",
      "metadata": {
        "id": "L7Hqeiu7Dhs_"
      },
      "source": [
        "## Multinomial naïves Bayes"
      ]
    },
    {
      "cell_type": "code",
      "metadata": {
        "id": "iPoAoJOtDg9G",
        "outputId": "7cae1426-18d3-4520-ab56-e2dc3addee79",
        "colab": {
          "base_uri": "https://localhost:8080/",
          "height": 972
        }
      },
      "source": [
        "grid_search(ctv,mnb,vect_parameters,mnb_parameters)"
      ],
      "execution_count": null,
      "outputs": [
        {
          "output_type": "stream",
          "text": [
            "Performing grid search...\n",
            "pipeline: ['vect', 'clf']\n",
            "parameters:\n",
            "{'clf__alpha': (0.25, 0.5, 0.75),\n",
            " 'vect__max_df': (0.25, 0.5, 0.75),\n",
            " 'vect__min_df': (1, 2),\n",
            " 'vect__ngram_range': ((1, 1), (1, 2))}\n",
            "Fitting 5 folds for each of 36 candidates, totalling 180 fits\n"
          ],
          "name": "stdout"
        },
        {
          "output_type": "stream",
          "text": [
            "[Parallel(n_jobs=-1)]: Using backend LokyBackend with 2 concurrent workers.\n",
            "[Parallel(n_jobs=-1)]: Done  46 tasks      | elapsed:   14.5s\n",
            "[Parallel(n_jobs=-1)]: Done 180 out of 180 | elapsed:   56.7s finished\n"
          ],
          "name": "stderr"
        },
        {
          "output_type": "stream",
          "text": [
            "done in 57.208s\n",
            "Best CV score: 0.771\n",
            "Best parameters set:\n",
            "\tclf__alpha: 0.75\n",
            "\tvect__max_df: 0.5\n",
            "\tvect__min_df: 2\n",
            "\tvect__ngram_range: (1, 2)\n",
            "Test score with best_estimator_: 0.776\n",
            "\n",
            "\n",
            "Classification Report Test Data\n",
            "              precision    recall  f1-score   support\n",
            "\n",
            "   [no_text]       0.00      0.00      0.00         1\n",
            "    negative       0.80      0.92      0.86       910\n",
            "     neutral       0.68      0.43      0.52       320\n",
            "    positive       0.76      0.68      0.72       233\n",
            "\n",
            "    accuracy                           0.78      1464\n",
            "   macro avg       0.56      0.51      0.52      1464\n",
            "weighted avg       0.77      0.78      0.76      1464\n",
            "\n",
            "Confusion matrix\n",
            "[[  0   0   1   0]\n",
            " [  0 840  50  20]\n",
            " [  0 152 137  31]\n",
            " [  0  60  14 159]]\n",
            "\n"
          ],
          "name": "stdout"
        },
        {
          "output_type": "display_data",
          "data": {
            "image/png": "[encoded data removed]",
            "text/plain": [
              "<Figure size 432x288 with 2 Axes>"
            ]
          },
          "metadata": {
            "tags": []
          }
        }
      ]
    },
    {
      "cell_type": "markdown",
      "metadata": {
        "id": "nQkqJIOLKn_l"
      },
      "source": [
        "## LogisticRegression"
      ]
    },
    {
      "cell_type": "code",
      "metadata": {
        "id": "qsDQyuGYKqJF",
        "outputId": "6edbe3f9-5337-4326-9344-e00e3876d5d6",
        "colab": {
          "base_uri": "https://localhost:8080/",
          "height": 1000
        }
      },
      "source": [
        "grid_search(ctv,logreg,vect_parameters,logreg_parameters)"
      ],
      "execution_count": null,
      "outputs": [
        {
          "output_type": "stream",
          "text": [
            "Performing grid search...\n",
            "pipeline: ['vect', 'clf']\n",
            "parameters:\n",
            "{'clf__C': (0.25, 0.5, 1.0),\n",
            " 'clf__max_iter': (100, 500, 1000),\n",
            " 'vect__max_df': (0.25, 0.5, 0.75),\n",
            " 'vect__min_df': (1, 2),\n",
            " 'vect__ngram_range': ((1, 1), (1, 2))}\n",
            "Fitting 5 folds for each of 108 candidates, totalling 540 fits\n"
          ],
          "name": "stdout"
        },
        {
          "output_type": "stream",
          "text": [
            "[Parallel(n_jobs=-1)]: Using backend LokyBackend with 2 concurrent workers.\n",
            "[Parallel(n_jobs=-1)]: Done  46 tasks      | elapsed:  1.1min\n",
            "[Parallel(n_jobs=-1)]: Done 196 tasks      | elapsed:  4.7min\n",
            "[Parallel(n_jobs=-1)]: Done 446 tasks      | elapsed: 11.9min\n",
            "[Parallel(n_jobs=-1)]: Done 540 out of 540 | elapsed: 15.1min finished\n"
          ],
          "name": "stderr"
        },
        {
          "output_type": "stream",
          "text": [
            "done in 911.462s\n",
            "Best CV score: 0.794\n",
            "Best parameters set:\n",
            "\tclf__C: 0.5\n",
            "\tclf__max_iter: 100\n",
            "\tvect__max_df: 0.5\n",
            "\tvect__min_df: 1\n",
            "\tvect__ngram_range: (1, 2)\n",
            "Test score with best_estimator_: 0.811\n",
            "\n",
            "\n",
            "Classification Report Test Data\n",
            "              precision    recall  f1-score   support\n",
            "\n",
            "   [no_text]       1.00      1.00      1.00         1\n",
            "    negative       0.84      0.92      0.88       910\n",
            "     neutral       0.72      0.56      0.63       320\n",
            "    positive       0.80      0.75      0.77       233\n",
            "\n",
            "    accuracy                           0.81      1464\n",
            "   macro avg       0.84      0.81      0.82      1464\n",
            "weighted avg       0.81      0.81      0.81      1464\n",
            "\n",
            "Confusion matrix\n",
            "[[  1   0   0   0]\n",
            " [  0 834  56  20]\n",
            " [  0 117 179  24]\n",
            " [  0  44  15 174]]\n",
            "\n"
          ],
          "name": "stdout"
        },
        {
          "output_type": "display_data",
          "data": {
            "image/png": "[encoded data removed]",
            "text/plain": [
              "<Figure size 432x288 with 2 Axes>"
            ]
          },
          "metadata": {
            "tags": []
          }
        }
      ]
    },
    {
      "cell_type": "markdown",
      "metadata": {
        "id": "gZQKhAQ5LvKf"
      },
      "source": [
        "# TDIDFVectorizer"
      ]
    },
    {
      "cell_type": "markdown",
      "metadata": {
        "id": "-Z-jMV4ML7f0"
      },
      "source": [
        "## Multinomial naïves Bayes"
      ]
    },
    {
      "cell_type": "code",
      "metadata": {
        "id": "mNsnnv6JLzUR",
        "outputId": "0eaa1924-9acf-446f-9ad1-767621e03aa3",
        "colab": {
          "base_uri": "https://localhost:8080/",
          "height": 972
        }
      },
      "source": [
        "grid_search(tdidf,mnb,vect_parameters,mnb_parameters)"
      ],
      "execution_count": null,
      "outputs": [
        {
          "output_type": "stream",
          "text": [
            "Performing grid search...\n",
            "pipeline: ['vect', 'clf']\n",
            "parameters:\n",
            "{'clf__alpha': (0.25, 0.5, 0.75),\n",
            " 'vect__max_df': (0.25, 0.5, 0.75),\n",
            " 'vect__min_df': (1, 2),\n",
            " 'vect__ngram_range': ((1, 1), (1, 2))}\n",
            "Fitting 5 folds for each of 36 candidates, totalling 180 fits\n"
          ],
          "name": "stdout"
        },
        {
          "output_type": "stream",
          "text": [
            "[Parallel(n_jobs=-1)]: Using backend LokyBackend with 2 concurrent workers.\n",
            "[Parallel(n_jobs=-1)]: Done  46 tasks      | elapsed:   14.8s\n",
            "[Parallel(n_jobs=-1)]: Done 180 out of 180 | elapsed:   58.0s finished\n"
          ],
          "name": "stderr"
        },
        {
          "output_type": "stream",
          "text": [
            "done in 58.509s\n",
            "Best CV score: 0.754\n",
            "Best parameters set:\n",
            "\tclf__alpha: 0.25\n",
            "\tvect__max_df: 0.5\n",
            "\tvect__min_df: 2\n",
            "\tvect__ngram_range: (1, 2)\n",
            "Test score with best_estimator_: 0.753\n",
            "\n",
            "\n",
            "Classification Report Test Data\n",
            "              precision    recall  f1-score   support\n",
            "\n",
            "   [no_text]       1.00      1.00      1.00         1\n",
            "    negative       0.74      0.97      0.84       910\n",
            "     neutral       0.72      0.29      0.42       320\n",
            "    positive       0.86      0.52      0.65       233\n",
            "\n",
            "    accuracy                           0.75      1464\n",
            "   macro avg       0.83      0.70      0.73      1464\n",
            "weighted avg       0.76      0.75      0.72      1464\n",
            "\n",
            "Confusion matrix\n",
            "[[  1   0   0   0]\n",
            " [  0 885  20   5]\n",
            " [  0 211  94  15]\n",
            " [  0  95  16 122]]\n",
            "\n"
          ],
          "name": "stdout"
        },
        {
          "output_type": "display_data",
          "data": {
            "image/png": "[encoded data removed]",
            "text/plain": [
              "<Figure size 432x288 with 2 Axes>"
            ]
          },
          "metadata": {
            "tags": []
          }
        }
      ]
    },
    {
      "cell_type": "markdown",
      "metadata": {
        "id": "RWGKT3dlL5o1"
      },
      "source": [
        "## LogisticRegression"
      ]
    },
    {
      "cell_type": "code",
      "metadata": {
        "id": "NDQntJiJMS_Y",
        "outputId": "9f85d775-f0c4-4ffe-baca-8c84a53e1e88",
        "colab": {
          "base_uri": "https://localhost:8080/",
          "height": 1000
        }
      },
      "source": [
        "grid_search(tdidf,logreg,vect_parameters,logreg_parameters)"
      ],
      "execution_count": null,
      "outputs": [
        {
          "output_type": "stream",
          "text": [
            "Performing grid search...\n",
            "pipeline: ['vect', 'clf']\n",
            "parameters:\n",
            "{'clf__C': (0.25, 0.5, 1.0),\n",
            " 'clf__max_iter': (100, 500, 1000),\n",
            " 'vect__max_df': (0.25, 0.5, 0.75),\n",
            " 'vect__min_df': (1, 2),\n",
            " 'vect__ngram_range': ((1, 1), (1, 2))}\n",
            "Fitting 5 folds for each of 108 candidates, totalling 540 fits\n"
          ],
          "name": "stdout"
        },
        {
          "output_type": "stream",
          "text": [
            "[Parallel(n_jobs=-1)]: Using backend LokyBackend with 2 concurrent workers.\n",
            "[Parallel(n_jobs=-1)]: Done  46 tasks      | elapsed:   58.3s\n",
            "[Parallel(n_jobs=-1)]: Done 196 tasks      | elapsed:  4.2min\n",
            "[Parallel(n_jobs=-1)]: Done 446 tasks      | elapsed: 11.1min\n",
            "[Parallel(n_jobs=-1)]: Done 540 out of 540 | elapsed: 14.1min finished\n"
          ],
          "name": "stderr"
        },
        {
          "output_type": "stream",
          "text": [
            "done in 849.676s\n",
            "Best CV score: 0.786\n",
            "Best parameters set:\n",
            "\tclf__C: 1.0\n",
            "\tclf__max_iter: 100\n",
            "\tvect__max_df: 0.25\n",
            "\tvect__min_df: 1\n",
            "\tvect__ngram_range: (1, 1)\n",
            "Test score with best_estimator_: 0.795\n",
            "\n",
            "\n",
            "Classification Report Test Data\n",
            "              precision    recall  f1-score   support\n",
            "\n",
            "   [no_text]       1.00      1.00      1.00         1\n",
            "    negative       0.80      0.94      0.87       910\n",
            "     neutral       0.73      0.48      0.58       320\n",
            "    positive       0.83      0.67      0.74       233\n",
            "\n",
            "    accuracy                           0.80      1464\n",
            "   macro avg       0.84      0.77      0.80      1464\n",
            "weighted avg       0.79      0.80      0.78      1464\n",
            "\n",
            "Confusion matrix\n",
            "[[  1   0   0   0]\n",
            " [  0 855  40  15]\n",
            " [  0 150 153  17]\n",
            " [  0  61  17 155]]\n",
            "\n"
          ],
          "name": "stdout"
        },
        {
          "output_type": "display_data",
          "data": {
            "image/png": "[encoded data removed]",
            "text/plain": [
              "<Figure size 432x288 with 2 Axes>"
            ]
          },
          "metadata": {
            "tags": []
          }
        }
      ]
    },
    {
      "cell_type": "markdown",
      "metadata": {
        "id": "5LpVq0r3TWc6"
      },
      "source": [
        "# Word2Vect\n",
        "\n",
        "We will also use the Word2Vect method for embedding words. Word2Vect produces dense vectors instead of sparse vectors, which give, at the end, generally better results."
      ]
    },
    {
      "cell_type": "code",
      "metadata": {
        "id": "1z_6aPxwT5Vk"
      },
      "source": [
        "from gensim.models import Word2Vec\n",
        "from sklearn.decomposition import PCA #Grab PCA functions\n",
        "sentences=[]\n",
        "for txt in X_train:\n",
        "  row = txt.split(' ')\n",
        "  sentences.append(row)\n",
        "\n",
        "model = Word2Vec(sentences,min_count=5)\n",
        "words = list(model.wv.vocab)\n",
        "\n",
        "X = model[model.wv.vocab]\n",
        "pca = PCA(n_components=2)\n",
        "result = pca.fit_transform(X)"
      ],
      "execution_count": null,
      "outputs": []
    },
    {
      "cell_type": "code",
      "metadata": {
        "id": "9p73tUu8srG4",
        "outputId": "5ee168a6-6b8a-444b-b502-5aae8829fd3e",
        "colab": {
          "base_uri": "https://localhost:8080/",
          "height": 290
        }
      },
      "source": [
        "fig, ax = plt.subplots()\n",
        "ax.plot(result[:, 0], result[:, 1], 'o')\n",
        "ax.set_title('Reviews')\n",
        "plt.show()"
      ],
      "execution_count": null,
      "outputs": [
        {
          "output_type": "display_data",
          "data": {
            "image/png": "[encoded data removed]",
            "text/plain": [
              "<Figure size 432x288 with 1 Axes>"
            ]
          },
          "metadata": {
            "tags": []
          }
        }
      ]
    },
    {
      "cell_type": "code",
      "metadata": {
        "id": "_lxVGn8gugXf"
      },
      "source": [
        "def tsne_plot(model):\n",
        "  labels = []\n",
        "  tokens = []  \n",
        "  for word in model.wv.vocab:\n",
        "    tokens.append(model[word])  \n",
        "    labels.append(word)  \n",
        "\n",
        "  tsne_model = TSNE(perplexity=40, n_components=2, init='pca', n_iter=2500)  \n",
        "  new_values = tsne_model.fit_transform(tokens)  \n",
        "\n",
        "  x = []  \n",
        "  y = []  \n",
        "  for value in new_values:  \n",
        "    x.append(value[0])  \n",
        "    y.append(value[1])  \n",
        "  plt.figure(figsize=(8, 8))\n",
        "  for i in range(len(x)):\n",
        "    if labels[i] in ['plane','gate','tarmac','sit']:\n",
        "      plt.scatter(x[i],y[i])\n",
        "      plt.annotate(labels[i], xy=(x[i], y[i]),xytext=(5, 2),textcoords='offset points', ha='right', va='bottom')\n",
        "  plt.show()  \n",
        "  "
      ],
      "execution_count": null,
      "outputs": []
    },
    {
      "cell_type": "code",
      "metadata": {
        "id": "H_JFFddfszK3",
        "outputId": "9e8f7aaa-cfa9-4cc6-e75c-35235192ec50",
        "colab": {
          "base_uri": "https://localhost:8080/"
        }
      },
      "source": [
        "tsne_plot(model)  \n"
      ],
      "execution_count": null,
      "outputs": [
        {
          "output_type": "display_data",
          "data": {
            "image/png": "[encoded data removed]",
            "text/plain": [
              "<Figure size 576x576 with 1 Axes>"
            ]
          },
          "metadata": {
            "tags": []
          }
        }
      ]
    },
    {
      "cell_type": "code",
      "metadata": {
        "id": "CeklkkudvyC7"
      },
      "source": [
        "model = gensim.models.Word2Vec(sentences\n",
        "                 , min_count=1\n",
        "                 , size=25\n",
        "                 , window=4\n",
        "                 , workers=4)"
      ],
      "execution_count": null,
      "outputs": []
    },
    {
      "cell_type": "code",
      "metadata": {
        "id": "84oNS_gtv8FJ",
        "outputId": "d2718bed-db8f-4ae5-a39a-4c802d742a1d",
        "colab": {
          "base_uri": "https://localhost:8080/"
        }
      },
      "source": [
        "model.most_similar('plane', topn=3)"
      ],
      "execution_count": null,
      "outputs": [
        {
          "output_type": "execute_result",
          "data": {
            "text/plain": [
              "[('gate', 0.9992666244506836),\n",
              " ('tarmac', 0.9984604120254517),\n",
              " ('sit', 0.9979232549667358)]"
            ]
          },
          "metadata": {
            "tags": []
          },
          "execution_count": 108
        }
      ]
    },
    {
      "cell_type": "code",
      "metadata": {
        "id": "RUNrCdaJw5Nn",
        "outputId": "b2463a33-6a56-4eab-b052-b4766aee04ea",
        "colab": {
          "base_uri": "https://localhost:8080/"
        }
      },
      "source": [
        "model.wv.vocab"
      ],
      "execution_count": null,
      "outputs": [
        {
          "output_type": "execute_result",
          "data": {
            "text/plain": [
              "{'synonym': <gensim.models.keyedvectors.Vocab at 0x7f3e3eaec240>,\n",
              " 'rude': <gensim.models.keyedvectors.Vocab at 0x7f3e3eaec208>,\n",
              " 'cheap': <gensim.models.keyedvectors.Vocab at 0x7f3e3eaec198>,\n",
              " 'realli': <gensim.models.keyedvectors.Vocab at 0x7f3e3eaec160>,\n",
              " 'know': <gensim.models.keyedvectors.Vocab at 0x7f3e3eaec128>,\n",
              " 'valu': <gensim.models.keyedvectors.Vocab at 0x7f3e3eaec0f0>,\n",
              " 'custom': <gensim.models.keyedvectors.Vocab at 0x7f3e3eaec0b8>,\n",
              " 'flight': <gensim.models.keyedvectors.Vocab at 0x7f3e3eaec080>,\n",
              " 'jacksonvil': <gensim.models.keyedvectors.Vocab at 0x7f3e3eaec048>,\n",
              " 'fl': <gensim.models.keyedvectors.Vocab at 0x7f3e3ec22908>,\n",
              " 'dalla': <gensim.models.keyedvectors.Vocab at 0x7f3e4ab49d30>,\n",
              " 'show': <gensim.models.keyedvectors.Vocab at 0x7f3e4ab49d68>,\n",
              " 'cancel': <gensim.models.keyedvectors.Vocab at 0x7f3e4ab49da0>,\n",
              " 'flightl': <gensim.models.keyedvectors.Vocab at 0x7f3e4ab49dd8>,\n",
              " 'go': <gensim.models.keyedvectors.Vocab at 0x7f3e4ab49e10>,\n",
              " 'rebook': <gensim.models.keyedvectors.Vocab at 0x7f3e4ab49e48>,\n",
              " 'anoth': <gensim.models.keyedvectors.Vocab at 0x7f3e4ab49e80>,\n",
              " 'chging': <gensim.models.keyedvectors.Vocab at 0x7f3e4ab49eb8>,\n",
              " 'isit': <gensim.models.keyedvectors.Vocab at 0x7f3e4ab49ef0>,\n",
              " 'possibl': <gensim.models.keyedvectors.Vocab at 0x7f3e4ab49f28>,\n",
              " 'pay': <gensim.models.keyedvectors.Vocab at 0x7f3e4ab49f60>,\n",
              " 'fare': <gensim.models.keyedvectors.Vocab at 0x7f3e4ab49f98>,\n",
              " 'differ': <gensim.models.keyedvectors.Vocab at 0x7f3e4ab49fd0>,\n",
              " 'dollar': <gensim.models.keyedvectors.Vocab at 0x7f3e4ab49cc0>,\n",
              " 'ticket': <gensim.models.keyedvectors.Vocab at 0x7f3e4ab49cf8>,\n",
              " 'bought': <gensim.models.keyedvectors.Vocab at 0x7f3e4aad9d68>,\n",
              " 'complet': <gensim.models.keyedvectors.Vocab at 0x7f3e4aad9d30>,\n",
              " 'via': <gensim.models.keyedvectors.Vocab at 0x7f3e4aad9da0>,\n",
              " 'point': <gensim.models.keyedvectors.Vocab at 0x7f3e4aad9eb8>,\n",
              " 'redempt': <gensim.models.keyedvectors.Vocab at 0x7f3e4aad9cf8>,\n",
              " 'add': <gensim.models.keyedvectors.Vocab at 0x7f3e4aad9048>,\n",
              " 'get': <gensim.models.keyedvectors.Vocab at 0x7f3e4aad9080>,\n",
              " 'work': <gensim.models.keyedvectors.Vocab at 0x7f3e4aad90b8>,\n",
              " 'tomorrow': <gensim.models.keyedvectors.Vocab at 0x7f3e4aad90f0>,\n",
              " 'like': <gensim.models.keyedvectors.Vocab at 0x7f3e4aad9128>,\n",
              " 'wait': <gensim.models.keyedvectors.Vocab at 0x7f3e4aad9160>,\n",
              " 'late': <gensim.models.keyedvectors.Vocab at 0x7f3e4aad9198>,\n",
              " 'flightr': <gensim.models.keyedvectors.Vocab at 0x7f3e4aad91d0>,\n",
              " 'cs': <gensim.models.keyedvectors.Vocab at 0x7f3e4aad9208>,\n",
              " 'suck': <gensim.models.keyedvectors.Vocab at 0x7f3e4aad9240>,\n",
              " 'also': <gensim.models.keyedvectors.Vocab at 0x7f3e4aad9278>,\n",
              " 'inappropri': <gensim.models.keyedvectors.Vocab at 0x7f3e4aad92b0>,\n",
              " 'lie': <gensim.models.keyedvectors.Vocab at 0x7f3e4aad92e8>,\n",
              " 'passeng': <gensim.models.keyedvectors.Vocab at 0x7f3e4aad9320>,\n",
              " 'induc': <gensim.models.keyedvectors.Vocab at 0x7f3e4aad9358>,\n",
              " 'accept': <gensim.models.keyedvectors.Vocab at 0x7f3e4aad9390>,\n",
              " 'voucher': <gensim.models.keyedvectors.Vocab at 0x7f3e4aad93c8>,\n",
              " 'tell': <gensim.models.keyedvectors.Vocab at 0x7f3e4aad9400>,\n",
              " 'avail': <gensim.models.keyedvectors.Vocab at 0x7f3e4aad9438>,\n",
              " 'tri': <gensim.models.keyedvectors.Vocab at 0x7f3e4aad9470>,\n",
              " 'patienc': <gensim.models.keyedvectors.Vocab at 0x7f3e4aad94a8>,\n",
              " 'easier': <gensim.models.keyedvectors.Vocab at 0x7f3e4aad94e0>,\n",
              " 'cheaper': <gensim.models.keyedvectors.Vocab at 0x7f3e4aad9518>,\n",
              " 'way': <gensim.models.keyedvectors.Vocab at 0x7f3e4aad9550>,\n",
              " 'tpa': <gensim.models.keyedvectors.Vocab at 0x7f3e4aad9588>,\n",
              " 'pdx': <gensim.models.keyedvectors.Vocab at 0x7f3e4aad95c0>,\n",
              " 'stuck': <gensim.models.keyedvectors.Vocab at 0x7f3e4aad95f8>,\n",
              " 'turn': <gensim.models.keyedvectors.Vocab at 0x7f3e4aad9630>,\n",
              " 'hr': <gensim.models.keyedvectors.Vocab at 0x7f3e4aad9668>,\n",
              " 'mci': <gensim.models.keyedvectors.Vocab at 0x7f3e4aad96a0>,\n",
              " '[no_text]': <gensim.models.keyedvectors.Vocab at 0x7f3e4aad96d8>,\n",
              " 'reach': <gensim.models.keyedvectors.Vocab at 0x7f3e4aad9710>,\n",
              " 'hardwork': <gensim.models.keyedvectors.Vocab at 0x7f3e4aad9748>,\n",
              " 'mom': <gensim.models.keyedvectors.Vocab at 0x7f3e4aad9780>,\n",
              " 'best': <gensim.models.keyedvectors.Vocab at 0x7f3e4aad97b8>,\n",
              " 'think': <gensim.models.keyedvectors.Vocab at 0x7f3e4aad97f0>,\n",
              " 'downgrad': <gensim.models.keyedvectors.Vocab at 0x7f3e4aad9828>,\n",
              " 'booz': <gensim.models.keyedvectors.Vocab at 0x7f3e4aad9860>,\n",
              " 'food': <gensim.models.keyedvectors.Vocab at 0x7f3e4aad9898>,\n",
              " 'select': <gensim.models.keyedvectors.Vocab at 0x7f3e4aad98d0>,\n",
              " 'club': <gensim.models.keyedvectors.Vocab at 0x7f3e4aad9908>,\n",
              " 'good': <gensim.models.keyedvectors.Vocab at 0x7f3e4aad9940>,\n",
              " 'look': <gensim.models.keyedvectors.Vocab at 0x7f3e4aad9978>,\n",
              " 'line': <gensim.models.keyedvectors.Vocab at 0x7f3e4aad99b0>,\n",
              " 'baggag': <gensim.models.keyedvectors.Vocab at 0x7f3e4aad99e8>,\n",
              " 'system': <gensim.models.keyedvectors.Vocab at 0x7f3e4aad9a20>,\n",
              " 'rubbish': <gensim.models.keyedvectors.Vocab at 0x7f3e4aad9a58>,\n",
              " 'bag': <gensim.models.keyedvectors.Vocab at 0x7f3e4aad9a90>,\n",
              " 'miss': <gensim.models.keyedvectors.Vocab at 0x7f3e4aad9ac8>,\n",
              " 'day': <gensim.models.keyedvectors.Vocab at 0x7f3e4aad9b00>,\n",
              " 'no': <gensim.models.keyedvectors.Vocab at 0x7f3e4aad9b38>,\n",
              " 'meaning': <gensim.models.keyedvectors.Vocab at 0x7f3e4aad9b70>,\n",
              " 'inform': <gensim.models.keyedvectors.Vocab at 0x7f3e4aad9ba8>,\n",
              " 'iphon': <gensim.models.keyedvectors.Vocab at 0x7f3e4aad9be0>,\n",
              " 'app': <gensim.models.keyedvectors.Vocab at 0x7f3e4aad9c18>,\n",
              " 'passbook': <gensim.models.keyedvectors.Vocab at 0x7f3e4aad9c50>,\n",
              " 'support': <gensim.models.keyedvectors.Vocab at 0x7f3e4aad9ef0>,\n",
              " 'whoot': <gensim.models.keyedvectors.Vocab at 0x7f3e4aad9e80>,\n",
              " 'littl': <gensim.models.keyedvectors.Vocab at 0x7f3e4aad9dd8>,\n",
              " 'thing': <gensim.models.keyedvectors.Vocab at 0x7f3e4aad9f60>,\n",
              " 'life': <gensim.models.keyedvectors.Vocab at 0x7f3e4aad9e48>,\n",
              " 'thank': <gensim.models.keyedvectors.Vocab at 0x7f3e4aad9e10>,\n",
              " 'make': <gensim.models.keyedvectors.Vocab at 0x7f3e4aad9cc0>,\n",
              " 'sens': <gensim.models.keyedvectors.Vocab at 0x7f3e4aad9f28>,\n",
              " 'annoy': <gensim.models.keyedvectors.Vocab at 0x7f3e4aad9c88>,\n",
              " 'determin': <gensim.models.keyedvectors.Vocab at 0x7f3e4a7067f0>,\n",
              " 'better': <gensim.models.keyedvectors.Vocab at 0x7f3e3e70f438>,\n",
              " 'repli': <gensim.models.keyedvectors.Vocab at 0x7f3e3e70f358>,\n",
              " 'check': <gensim.models.keyedvectors.Vocab at 0x7f3e3e70f2b0>,\n",
              " 'outlet': <gensim.models.keyedvectors.Vocab at 0x7f3e3e70ffd0>,\n",
              " 'preflight': <gensim.models.keyedvectors.Vocab at 0x7f3e3e70ff98>,\n",
              " 'move': <gensim.models.keyedvectors.Vocab at 0x7f3e3e70ff60>,\n",
              " 'equip': <gensim.models.keyedvectors.Vocab at 0x7f3e3e70ff28>,\n",
              " 'board': <gensim.models.keyedvectors.Vocab at 0x7f3e3e70fef0>,\n",
              " 'due': <gensim.models.keyedvectors.Vocab at 0x7f3e3e70feb8>,\n",
              " 'malfunct': <gensim.models.keyedvectors.Vocab at 0x7f3e3e70fe80>,\n",
              " 'might': <gensim.models.keyedvectors.Vocab at 0x7f3e3e70fe48>,\n",
              " 'wife': <gensim.models.keyedvectors.Vocab at 0x7f3e3e70fe10>,\n",
              " 'travel': <gensim.models.keyedvectors.Vocab at 0x7f3e3e70fdd8>,\n",
              " 'much': <gensim.models.keyedvectors.Vocab at 0x7f3e3e70fda0>,\n",
              " 'could': <gensim.models.keyedvectors.Vocab at 0x7f3e3e70fd68>,\n",
              " 'use': <gensim.models.keyedvectors.Vocab at 0x7f3e3e70fd30>,\n",
              " 'membership': <gensim.models.keyedvectors.Vocab at 0x7f3e3e70fcf8>,\n",
              " 'delay': <gensim.models.keyedvectors.Vocab at 0x7f3e3e70fcc0>,\n",
              " 'lost': <gensim.models.keyedvectors.Vocab at 0x7f3e3e70fc18>,\n",
              " 'luggag': <gensim.models.keyedvectors.Vocab at 0x7f3e3e70fc88>,\n",
              " 'worst': <gensim.models.keyedvectors.Vocab at 0x7f3e3e70fc50>,\n",
              " 'disgrac': <gensim.models.keyedvectors.Vocab at 0x7f3e3e70fbe0>,\n",
              " 'aw': <gensim.models.keyedvectors.Vocab at 0x7f3e3e70fba8>,\n",
              " 'compani': <gensim.models.keyedvectors.Vocab at 0x7f3e3e70fb70>,\n",
              " 'horribl': <gensim.models.keyedvectors.Vocab at 0x7f3e3e70fb38>,\n",
              " 'servic': <gensim.models.keyedvectors.Vocab at 0x7f3e3e70fb00>,\n",
              " 'happi': <gensim.models.keyedvectors.Vocab at 0x7f3e3e70fac8>,\n",
              " 'final': <gensim.models.keyedvectors.Vocab at 0x7f3e3e70fa90>,\n",
              " 'put': <gensim.models.keyedvectors.Vocab at 0x7f3e3e70fa58>,\n",
              " 'southwestairlin': <gensim.models.keyedvectors.Vocab at 0x7f3e3e70fa20>,\n",
              " 'pass': <gensim.models.keyedvectors.Vocab at 0x7f3e3e70f9e8>,\n",
              " 'tarmac': <gensim.models.keyedvectors.Vocab at 0x7f3e3e70f9b0>,\n",
              " 'hour': <gensim.models.keyedvectors.Vocab at 0x7f3e3e70f978>,\n",
              " 'half': <gensim.models.keyedvectors.Vocab at 0x7f3e3e70f940>,\n",
              " 'told': <gensim.models.keyedvectors.Vocab at 0x7f3e3e70f908>,\n",
              " 'longer': <gensim.models.keyedvectors.Vocab at 0x7f3e3e70f8d0>,\n",
              " 'hotel': <gensim.models.keyedvectors.Vocab at 0x7f3e3e70f860>,\n",
              " 'land': <gensim.models.keyedvectors.Vocab at 0x7f3e3e70f828>,\n",
              " 'phoenix': <gensim.models.keyedvectors.Vocab at 0x7f3e3e70f748>,\n",
              " 'unaccept': <gensim.models.keyedvectors.Vocab at 0x7f3e3e70f898>,\n",
              " 'unhappi': <gensim.models.keyedvectors.Vocab at 0x7f3e3e70f7f0>,\n",
              " 'last': <gensim.models.keyedvectors.Vocab at 0x7f3e3e70f7b8>,\n",
              " 'time': <gensim.models.keyedvectors.Vocab at 0x7f3e3e70f780>,\n",
              " 'arriv': <gensim.models.keyedvectors.Vocab at 0x7f3e3e70f320>,\n",
              " 'gate': <gensim.models.keyedvectors.Vocab at 0x7f3e3eba6a90>,\n",
              " 'block': <gensim.models.keyedvectors.Vocab at 0x7f3e3eba6a58>,\n",
              " 'slow': <gensim.models.keyedvectors.Vocab at 0x7f3e3eba6a20>,\n",
              " 'depart': <gensim.models.keyedvectors.Vocab at 0x7f3e3eba6978>,\n",
              " 'plane': <gensim.models.keyedvectors.Vocab at 0x7f3e3eba6ac8>,\n",
              " 'lead': <gensim.models.keyedvectors.Vocab at 0x7f3e3eba69e8>,\n",
              " 'min': <gensim.models.keyedvectors.Vocab at 0x7f3e3eba69b0>,\n",
              " 'atl': <gensim.models.keyedvectors.Vocab at 0x7f3e3eba6940>,\n",
              " 'air': <gensim.models.keyedvectors.Vocab at 0x7f3e3eba6908>,\n",
              " 'traffic': <gensim.models.keyedvectors.Vocab at 0x7f3e3eba68d0>,\n",
              " 'control': <gensim.models.keyedvectors.Vocab at 0x7f3e3eba6898>,\n",
              " 'love': <gensim.models.keyedvectors.Vocab at 0x7f3e3eba6860>,\n",
              " 'entir': <gensim.models.keyedvectors.Vocab at 0x7f3e3eba6828>,\n",
              " 'vacat': <gensim.models.keyedvectors.Vocab at 0x7f3e3eba67f0>,\n",
              " 'unhappycustom': <gensim.models.keyedvectors.Vocab at 0x7f3e3eba67b8>,\n",
              " 'mytimeismoney': <gensim.models.keyedvectors.Vocab at 0x7f3e3eba6780>,\n",
              " 'strand': <gensim.models.keyedvectors.Vocab at 0x7f3e3eba6748>,\n",
              " 'texa': <gensim.models.keyedvectors.Vocab at 0x7f3e3eba6710>,\n",
              " 'hang': <gensim.models.keyedvectors.Vocab at 0x7f3e3eba66d8>,\n",
              " 'figur': <gensim.models.keyedvectors.Vocab at 0x7f3e3eba66a0>,\n",
              " 'home': <gensim.models.keyedvectors.Vocab at 0x7f3e3eba6668>,\n",
              " 'cool': <gensim.models.keyedvectors.Vocab at 0x7f3e3eba6630>,\n",
              " 'pleas': <gensim.models.keyedvectors.Vocab at 0x7f3e3eba65c0>,\n",
              " 'give': <gensim.models.keyedvectors.Vocab at 0x7f3e3eba6588>,\n",
              " 'tara': <gensim.models.keyedvectors.Vocab at 0x7f3e3eba65f8>,\n",
              " 'pat': <gensim.models.keyedvectors.Vocab at 0x7f3e3eba6550>,\n",
              " 'back': <gensim.models.keyedvectors.Vocab at 0x7f3e3eba6518>,\n",
              " 'prais': <gensim.models.keyedvectors.Vocab at 0x7f3e3eba64e0>,\n",
              " 'help': <gensim.models.keyedvectors.Vocab at 0x7f3e3eba64a8>,\n",
              " 'phl': <gensim.models.keyedvectors.Vocab at 0x7f3e3eba6470>,\n",
              " 'member': <gensim.models.keyedvectors.Vocab at 0x7f3e3eba6438>,\n",
              " 'loung': <gensim.models.keyedvectors.Vocab at 0x7f3e3eba6400>,\n",
              " 'peopl': <gensim.models.keyedvectors.Vocab at 0x7f3e3eba63c8>,\n",
              " 'phone': <gensim.models.keyedvectors.Vocab at 0x7f3e3eba6390>,\n",
              " 'see': <gensim.models.keyedvectors.Vocab at 0x7f3e3eba6358>,\n",
              " 'poor': <gensim.models.keyedvectors.Vocab at 0x7f3e3eba6320>,\n",
              " 'process': <gensim.models.keyedvectors.Vocab at 0x7f3e3eba62e8>,\n",
              " 'nope': <gensim.models.keyedvectors.Vocab at 0x7f3e3eba62b0>,\n",
              " 'not': <gensim.models.keyedvectors.Vocab at 0x7f3e3eba6278>,\n",
              " 'yet': <gensim.models.keyedvectors.Vocab at 0x7f3e3eba6240>,\n",
              " 'amaz': <gensim.models.keyedvectors.Vocab at 0x7f3e3eba6208>,\n",
              " 'hard': <gensim.models.keyedvectors.Vocab at 0x7f3e3eba61d0>,\n",
              " 'talk': <gensim.models.keyedvectors.Vocab at 0x7f3e3eba6198>,\n",
              " 'don’t': <gensim.models.keyedvectors.Vocab at 0x7f3e3eba6160>,\n",
              " 'need': <gensim.models.keyedvectors.Vocab at 0x7f3e3eba6128>,\n",
              " 'troubl': <gensim.models.keyedvectors.Vocab at 0x7f3e3eba60f0>,\n",
              " 'unless': <gensim.models.keyedvectors.Vocab at 0x7f3e3eba60b8>,\n",
              " 'guy': <gensim.models.keyedvectors.Vocab at 0x7f3e3eba6080>,\n",
              " 'im': <gensim.models.keyedvectors.Vocab at 0x7f3e3eba6048>,\n",
              " 'save': <gensim.models.keyedvectors.Vocab at 0x7f3e4ab4a048>,\n",
              " 'us': <gensim.models.keyedvectors.Vocab at 0x7f3e4ab4a080>,\n",
              " 'usairwaysfail': <gensim.models.keyedvectors.Vocab at 0x7f3e4ab4a0b8>,\n",
              " 'full': <gensim.models.keyedvectors.Vocab at 0x7f3e4ab4a0f0>,\n",
              " 'plenti': <gensim.models.keyedvectors.Vocab at 0x7f3e4ab4a128>,\n",
              " 'plu': <gensim.models.keyedvectors.Vocab at 0x7f3e4ab4a160>,\n",
              " 'statu': <gensim.models.keyedvectors.Vocab at 0x7f3e4ab4a198>,\n",
              " 'gotten': <gensim.models.keyedvectors.Vocab at 0x7f3e4ab4a1d0>,\n",
              " 'got': <gensim.models.keyedvectors.Vocab at 0x7f3e4ab4a208>,\n",
              " 'extend': <gensim.models.keyedvectors.Vocab at 0x7f3e4ab4a240>,\n",
              " 'call': <gensim.models.keyedvectors.Vocab at 0x7f3e4ab4a278>,\n",
              " 'expir': <gensim.models.keyedvectors.Vocab at 0x7f3e4ab4a2b0>,\n",
              " 'mightmismybrosgradu': <gensim.models.keyedvectors.Vocab at 0x7f3e4ab4a2e8>,\n",
              " 'serious': <gensim.models.keyedvectors.Vocab at 0x7f3e4ab4a320>,\n",
              " 'leav': <gensim.models.keyedvectors.Vocab at 0x7f3e4ab4a358>,\n",
              " 'pm': <gensim.models.keyedvectors.Vocab at 0x7f3e4ab4a390>,\n",
              " 'great': <gensim.models.keyedvectors.Vocab at 0x7f3e4ab4a3c8>,\n",
              " 'roll': <gensim.models.keyedvectors.Vocab at 0x7f3e4ab4a400>,\n",
              " 'minut': <gensim.models.keyedvectors.Vocab at 0x7f3e4ab4a438>,\n",
              " 'sivi': <gensim.models.keyedvectors.Vocab at 0x7f3e4ab4a470>,\n",
              " 'stewart': <gensim.models.keyedvectors.Vocab at 0x7f3e4ab4a4a8>,\n",
              " 'lax': <gensim.models.keyedvectors.Vocab at 0x7f3e4ab4a4e0>,\n",
              " 'fantast': <gensim.models.keyedvectors.Vocab at 0x7f3e4ab4a518>,\n",
              " 'tonight': <gensim.models.keyedvectors.Vocab at 0x7f3e4ab4a550>,\n",
              " 'find': <gensim.models.keyedvectors.Vocab at 0x7f3e4ab4a588>,\n",
              " 'item': <gensim.models.keyedvectors.Vocab at 0x7f3e4ab4a5c0>,\n",
              " 'airport': <gensim.models.keyedvectors.Vocab at 0x7f3e4ab4a5f8>,\n",
              " 'come': <gensim.models.keyedvectors.Vocab at 0x7f3e4ab4a630>,\n",
              " 'take': <gensim.models.keyedvectors.Vocab at 0x7f3e4ab4a668>,\n",
              " 'nap': <gensim.models.keyedvectors.Vocab at 0x7f3e4ab4a6a0>,\n",
              " 'termin': <gensim.models.keyedvectors.Vocab at 0x7f3e4ab4a6d8>,\n",
              " 'ye': <gensim.models.keyedvectors.Vocab at 0x7f3e4ab4a710>,\n",
              " 'spoke': <gensim.models.keyedvectors.Vocab at 0x7f3e4ab4a748>,\n",
              " 'reserv': <gensim.models.keyedvectors.Vocab at 0x7f3e4ab4a780>,\n",
              " 'team': <gensim.models.keyedvectors.Vocab at 0x7f3e4ab4a7b8>,\n",
              " 'reinstat': <gensim.models.keyedvectors.Vocab at 0x7f3e4ab4a7f0>,\n",
              " 'ey”': <gensim.models.keyedvectors.Vocab at 0x7f3e4ab4a828>,\n",
              " 'let': <gensim.models.keyedvectors.Vocab at 0x7f3e4ab4a860>,\n",
              " 'transact': <gensim.models.keyedvectors.Vocab at 0x7f3e4ab4a898>,\n",
              " 'one': <gensim.models.keyedvectors.Vocab at 0x7f3e4ab4a8d0>,\n",
              " 'barbado': <gensim.models.keyedvectors.Vocab at 0x7f3e4ab4a908>,\n",
              " 'nyc': <gensim.models.keyedvectors.Vocab at 0x7f3e4ab4a940>,\n",
              " 'long': <gensim.models.keyedvectors.Vocab at 0x7f3e4ab4a978>,\n",
              " 'part': <gensim.models.keyedvectors.Vocab at 0x7f3e4ab4a9b0>,\n",
              " 'problem': <gensim.models.keyedvectors.Vocab at 0x7f3e4ab4a9e8>,\n",
              " 'job': <gensim.models.keyedvectors.Vocab at 0x7f3e4ab4aa20>,\n",
              " 'jan': <gensim.models.keyedvectors.Vocab at 0x7f3e4ab4aa58>,\n",
              " 'busi': <gensim.models.keyedvectors.Vocab at 0x7f3e4ab4aa90>,\n",
              " 'first': <gensim.models.keyedvectors.Vocab at 0x7f3e4ab4aac8>,\n",
              " 'complaint': <gensim.models.keyedvectors.Vocab at 0x7f3e4ab4ab00>,\n",
              " 'file': <gensim.models.keyedvectors.Vocab at 0x7f3e4ab4ab38>,\n",
              " 'feb': <gensim.models.keyedvectors.Vocab at 0x7f3e4ab4ab70>,\n",
              " 'th': <gensim.models.keyedvectors.Vocab at 0x7f3e4ab4aba8>,\n",
              " 'still': <gensim.models.keyedvectors.Vocab at 0x7f3e4ab4abe0>,\n",
              " 'respons': <gensim.models.keyedvectors.Vocab at 0x7f3e4ab4ac18>,\n",
              " 'disappoint': <gensim.models.keyedvectors.Vocab at 0x7f3e4ab4ac50>,\n",
              " 'surpris': <gensim.models.keyedvectors.Vocab at 0x7f3e4ab4ac88>,\n",
              " 'sure': <gensim.models.keyedvectors.Vocab at 0x7f3e4ab4acc0>,\n",
              " 'hope': <gensim.models.keyedvectors.Vocab at 0x7f3e4ab4acf8>,\n",
              " 'abl': <gensim.models.keyedvectors.Vocab at 0x7f3e4ab4ad30>,\n",
              " 'memphi': <gensim.models.keyedvectors.Vocab at 0x7f3e4ab4ad68>,\n",
              " 'would': <gensim.models.keyedvectors.Vocab at 0x7f3e4ab4ada0>,\n",
              " 'nice': <gensim.models.keyedvectors.Vocab at 0x7f3e4ab4add8>,\n",
              " 'clean': <gensim.models.keyedvectors.Vocab at 0x7f3e4ab4ae10>,\n",
              " 'cloth': <gensim.models.keyedvectors.Vocab at 0x7f3e4ab4ae48>,\n",
              " 'outstand': <gensim.models.keyedvectors.Vocab at 0x7f3e4ab4ae80>,\n",
              " 'jfk': <gensim.models.keyedvectors.Vocab at 0x7f3e4ab4aeb8>,\n",
              " 'crew': <gensim.models.keyedvectors.Vocab at 0x7f3e4ab4aef0>,\n",
              " 'mountain': <gensim.models.keyedvectors.Vocab at 0x7f3e4ab4af28>,\n",
              " 'san': <gensim.models.keyedvectors.Vocab at 0x7f3e4ab4af60>,\n",
              " 'francisco': <gensim.models.keyedvectors.Vocab at 0x7f3e4ab4af98>,\n",
              " 'turkish': <gensim.models.keyedvectors.Vocab at 0x7f3e4ab4afd0>,\n",
              " 'airlin': <gensim.models.keyedvectors.Vocab at 0x7f3e4ab47048>,\n",
              " 'unit': <gensim.models.keyedvectors.Vocab at 0x7f3e4ab47080>,\n",
              " 'second': <gensim.models.keyedvectors.Vocab at 0x7f3e4ab470b8>,\n",
              " 'leg': <gensim.models.keyedvectors.Vocab at 0x7f3e4ab470f0>,\n",
              " 'fra': <gensim.models.keyedvectors.Vocab at 0x7f3e4ab47128>,\n",
              " 'gt': <gensim.models.keyedvectors.Vocab at 0x7f3e4ab47160>,\n",
              " 'iad': <gensim.models.keyedvectors.Vocab at 0x7f3e4ab47198>,\n",
              " 'upgrad': <gensim.models.keyedvectors.Vocab at 0x7f3e4ab471d0>,\n",
              " 'type': <gensim.models.keyedvectors.Vocab at 0x7f3e4ab47208>,\n",
              " 'person': <gensim.models.keyedvectors.Vocab at 0x7f3e4ab47240>,\n",
              " 'fli': <gensim.models.keyedvectors.Vocab at 0x7f3e4ab47278>,\n",
              " 'year': <gensim.models.keyedvectors.Vocab at 0x7f3e4ab472b0>,\n",
              " 'amp': <gensim.models.keyedvectors.Vocab at 0x7f3e4ab472e8>,\n",
              " 'top': <gensim.models.keyedvectors.Vocab at 0x7f3e4ab47320>,\n",
              " 'attend': <gensim.models.keyedvectors.Vocab at 0x7f3e4ab47358>,\n",
              " 'hung': <gensim.models.keyedvectors.Vocab at 0x7f3e4ab47390>,\n",
              " 'number': <gensim.models.keyedvectors.Vocab at 0x7f3e4ab473c8>,\n",
              " 'polici': <gensim.models.keyedvectors.Vocab at 0x7f3e4ab47400>,\n",
              " 'costum': <gensim.models.keyedvectors.Vocab at 0x7f3e4ab47438>,\n",
              " 'congrat': <gensim.models.keyedvectors.Vocab at 0x7f3e4ab47470>,\n",
              " 'bad': <gensim.models.keyedvectors.Vocab at 0x7f3e4ab474a8>,\n",
              " 'complain': <gensim.models.keyedvectors.Vocab at 0x7f3e4ab474e0>,\n",
              " 'rt': <gensim.models.keyedvectors.Vocab at 0x7f3e4ab47518>,\n",
              " 'remind': <gensim.models.keyedvectors.Vocab at 0x7f3e4ab47550>,\n",
              " 'we’ll': <gensim.models.keyedvectors.Vocab at 0x7f3e4ab47588>,\n",
              " 'tweet': <gensim.models.keyedvectors.Vocab at 0x7f3e4ab475c0>,\n",
              " 'hold': <gensim.models.keyedvectors.Vocab at 0x7f3e4ab475f8>,\n",
              " 'bk': <gensim.models.keyedvectors.Vocab at 0x7f3e4ab47630>,\n",
              " 'either': <gensim.models.keyedvectors.Vocab at 0x7f3e4ab47668>,\n",
              " 'famili': <gensim.models.keyedvectors.Vocab at 0x7f3e4ab476a0>,\n",
              " 'hdn': <gensim.models.keyedvectors.Vocab at 0x7f3e4ab476d8>,\n",
              " 'dfw': <gensim.models.keyedvectors.Vocab at 0x7f3e4ab47710>,\n",
              " 'direct': <gensim.models.keyedvectors.Vocab at 0x7f3e4ab47748>,\n",
              " 'new': <gensim.models.keyedvectors.Vocab at 0x7f3e4ab47780>,\n",
              " 'info': <gensim.models.keyedvectors.Vocab at 0x7f3e4ab477b8>,\n",
              " 'plz': <gensim.models.keyedvectors.Vocab at 0x7f3e4ab477f0>,\n",
              " 'follow': <gensim.models.keyedvectors.Vocab at 0x7f3e4ab47828>,\n",
              " 'dm': <gensim.models.keyedvectors.Vocab at 0x7f3e4ab47860>,\n",
              " 'room': <gensim.models.keyedvectors.Vocab at 0x7f3e4ab47898>,\n",
              " 'citi': <gensim.models.keyedvectors.Vocab at 0x7f3e4ab478d0>,\n",
              " 'six': <gensim.models.keyedvectors.Vocab at 0x7f3e4ab47908>,\n",
              " 'whole': <gensim.models.keyedvectors.Vocab at 0x7f3e4ab47940>,\n",
              " 'kid': <gensim.models.keyedvectors.Vocab at 0x7f3e4ab47978>,\n",
              " 'school': <gensim.models.keyedvectors.Vocab at 0x7f3e4ab479b0>,\n",
              " 'world': <gensim.models.keyedvectors.Vocab at 0x7f3e4ab479e8>,\n",
              " 'yousuck': <gensim.models.keyedvectors.Vocab at 0x7f3e4ab47a20>,\n",
              " 'oscar': <gensim.models.keyedvectors.Vocab at 0x7f3e4ab47a58>,\n",
              " 'companion': <gensim.models.keyedvectors.Vocab at 0x7f3e4ab47a90>,\n",
              " 'promo': <gensim.models.keyedvectors.Vocab at 0x7f3e4ab47ac8>,\n",
              " 'set': <gensim.models.keyedvectors.Vocab at 0x7f3e4ab47b00>,\n",
              " 'tip': <gensim.models.keyedvectors.Vocab at 0x7f3e4ab47b38>,\n",
              " 'fact': <gensim.models.keyedvectors.Vocab at 0x7f3e4ab47b70>,\n",
              " 'intern': <gensim.models.keyedvectors.Vocab at 0x7f3e4ab47ba8>,\n",
              " 'mainten': <gensim.models.keyedvectors.Vocab at 0x7f3e4ab47be0>,\n",
              " 'send': <gensim.models.keyedvectors.Vocab at 0x7f3e4ab47c18>,\n",
              " 'email': <gensim.models.keyedvectors.Vocab at 0x7f3e4ab47c50>,\n",
              " 'say': <gensim.models.keyedvectors.Vocab at 0x7f3e4ab47c88>,\n",
              " 'next': <gensim.models.keyedvectors.Vocab at 0x7f3e4ab47cc0>,\n",
              " 'outrag': <gensim.models.keyedvectors.Vocab at 0x7f3e4ab47cf8>,\n",
              " 'oop': <gensim.models.keyedvectors.Vocab at 0x7f3e4ab47d30>,\n",
              " 'function': <gensim.models.keyedvectors.Vocab at 0x7f3e4ab47d68>,\n",
              " 'bathroom': <gensim.models.keyedvectors.Vocab at 0x7f3e4ab47da0>,\n",
              " 'fairli': <gensim.models.keyedvectors.Vocab at 0x7f3e4ab47dd8>,\n",
              " 'everyon': <gensim.models.keyedvectors.Vocab at 0x7f3e4ab47e10>,\n",
              " 'york': <gensim.models.keyedvectors.Vocab at 0x7f3e4ab47e48>,\n",
              " 'includ': <gensim.models.keyedvectors.Vocab at 0x7f3e4ab47e80>,\n",
              " 'oct': <gensim.models.keyedvectors.Vocab at 0x7f3e4ab47eb8>,\n",
              " 'arrang': <gensim.models.keyedvectors.Vocab at 0x7f3e4ab47ef0>,\n",
              " 'employ': <gensim.models.keyedvectors.Vocab at 0x7f3e4ab47f28>,\n",
              " 'upcom': <gensim.models.keyedvectors.Vocab at 0x7f3e4ab47f60>,\n",
              " 'retriev': <gensim.models.keyedvectors.Vocab at 0x7f3e4ab47f98>,\n",
              " 'aa': <gensim.models.keyedvectors.Vocab at 0x7f3e4ab47fd0>,\n",
              " 'nonstop': <gensim.models.keyedvectors.Vocab at 0x7f3e4ab72048>,\n",
              " 'lol': <gensim.models.keyedvectors.Vocab at 0x7f3e4ab72080>,\n",
              " 'fleet': <gensim.models.keyedvectors.Vocab at 0x7f3e4ab720b8>,\n",
              " 'fleek': <gensim.models.keyedvectors.Vocab at 0x7f3e4ab720f0>,\n",
              " 'sever': <gensim.models.keyedvectors.Vocab at 0x7f3e4ab72128>,\n",
              " 'past': <gensim.models.keyedvectors.Vocab at 0x7f3e4ab72160>,\n",
              " 'result': <gensim.models.keyedvectors.Vocab at 0x7f3e4ab72198>,\n",
              " 'goodwil': <gensim.models.keyedvectors.Vocab at 0x7f3e4ab721d0>,\n",
              " 'fine': <gensim.models.keyedvectors.Vocab at 0x7f3e4ab72208>,\n",
              " 'want': <gensim.models.keyedvectors.Vocab at 0x7f3e4ab72240>,\n",
              " 'ceo': <gensim.models.keyedvectors.Vocab at 0x7f3e4ab72278>,\n",
              " 'public': <gensim.models.keyedvectors.Vocab at 0x7f3e4ab722b0>,\n",
              " 'apolog': <gensim.models.keyedvectors.Vocab at 0x7f3e4ab722e8>,\n",
              " 'weight': <gensim.models.keyedvectors.Vocab at 0x7f3e4ab72320>,\n",
              " 'issu': <gensim.models.keyedvectors.Vocab at 0x7f3e4ab72358>,\n",
              " 'took': <gensim.models.keyedvectors.Vocab at 0x7f3e4ab72390>,\n",
              " 'hop': <gensim.models.keyedvectors.Vocab at 0x7f3e4ab723c8>,\n",
              " 'instead': <gensim.models.keyedvectors.Vocab at 0x7f3e4ab72400>,\n",
              " 'winwin': <gensim.models.keyedvectors.Vocab at 0x7f3e4ab72438>,\n",
              " 'unamerican': <gensim.models.keyedvectors.Vocab at 0x7f3e4ab72470>,\n",
              " 'lit': <gensim.models.keyedvectors.Vocab at 0x7f3e4ab724a8>,\n",
              " 'week': <gensim.models.keyedvectors.Vocab at 0x7f3e4ab724e0>,\n",
              " 'enough': <gensim.models.keyedvectors.Vocab at 0x7f3e4ab72518>,\n",
              " 'contact': <gensim.models.keyedvectors.Vocab at 0x7f3e4ab72550>,\n",
              " 'lose': <gensim.models.keyedvectors.Vocab at 0x7f3e4ab72588>,\n",
              " 'kelsey': <gensim.models.keyedvectors.Vocab at 0x7f3e4ab725c0>,\n",
              " 'said': <gensim.models.keyedvectors.Vocab at 0x7f3e4ab725f8>,\n",
              " 'spot': <gensim.models.keyedvectors.Vocab at 0x7f3e4ab72630>,\n",
              " 'local': <gensim.models.keyedvectors.Vocab at 0x7f3e4ab72668>,\n",
              " 'park': <gensim.models.keyedvectors.Vocab at 0x7f3e4ab726a0>,\n",
              " 'walk': <gensim.models.keyedvectors.Vocab at 0x7f3e4ab726d8>,\n",
              " 'bellagio': <gensim.models.keyedvectors.Vocab at 0x7f3e4ab72710>,\n",
              " 'shit': <gensim.models.keyedvectors.Vocab at 0x7f3e4ab72748>,\n",
              " 'togeth': <gensim.models.keyedvectors.Vocab at 0x7f3e4ab72780>,\n",
              " 'care': <gensim.models.keyedvectors.Vocab at 0x7f3e4ab727b8>,\n",
              " 'orlando': <gensim.models.keyedvectors.Vocab at 0x7f3e4ab727f0>,\n",
              " 'hartford': <gensim.models.keyedvectors.Vocab at 0x7f3e4ab72828>,\n",
              " 'ago': <gensim.models.keyedvectors.Vocab at 0x7f3e4ab72860>,\n",
              " 'earli': <gensim.models.keyedvectors.Vocab at 0x7f3e4ab72898>,\n",
              " 'iah': <gensim.models.keyedvectors.Vocab at 0x7f3e4ab728d0>,\n",
              " 'given': <gensim.models.keyedvectors.Vocab at 0x7f3e4ab72908>,\n",
              " 'seat': <gensim.models.keyedvectors.Vocab at 0x7f3e4ab72940>,\n",
              " 'close': <gensim.models.keyedvectors.Vocab at 0x7f3e4ab72978>,\n",
              " 'wheel': <gensim.models.keyedvectors.Vocab at 0x7f3e4ab729b0>,\n",
              " 'exact': <gensim.models.keyedvectors.Vocab at 0x7f3e4ab729e8>,\n",
              " 'watch': <gensim.models.keyedvectors.Vocab at 0x7f3e4ab72a20>,\n",
              " 'though': <gensim.models.keyedvectors.Vocab at 0x7f3e4ab72a58>,\n",
              " 'right': <gensim.models.keyedvectors.Vocab at 0x7f3e4ab72a90>,\n",
              " 'abc': <gensim.models.keyedvectors.Vocab at 0x7f3e4ab72ac8>,\n",
              " 'missingtheoscar': <gensim.models.keyedvectors.Vocab at 0x7f3e4ab72b00>,\n",
              " 'star': <gensim.models.keyedvectors.Vocab at 0x7f3e4ab72b38>,\n",
              " 'align': <gensim.models.keyedvectors.Vocab at 0x7f3e4ab72b70>,\n",
              " 'connect': <gensim.models.keyedvectors.Vocab at 0x7f3e4ab72ba8>,\n",
              " 'clt': <gensim.models.keyedvectors.Vocab at 0x7f3e4ab72be0>,\n",
              " 'made': <gensim.models.keyedvectors.Vocab at 0x7f3e4ab72c18>,\n",
              " 'glad': <gensim.models.keyedvectors.Vocab at 0x7f3e4ab72c50>,\n",
              " 'someon': <gensim.models.keyedvectors.Vocab at 0x7f3e4ab72c88>,\n",
              " 'listen': <gensim.models.keyedvectors.Vocab at 0x7f3e4ab72cc0>,\n",
              " 'mobay': <gensim.models.keyedvectors.Vocab at 0x7f3e4ab72cf8>,\n",
              " 'rnp': <gensim.models.keyedvectors.Vocab at 0x7f3e4ab72d30>,\n",
              " 'yeah': <gensim.models.keyedvectors.Vocab at 0x7f3e4ab72d68>,\n",
              " 'reschedul': <gensim.models.keyedvectors.Vocab at 0x7f3e4ab72da0>,\n",
              " 'onlin': <gensim.models.keyedvectors.Vocab at 0x7f3e4ab72dd8>,\n",
              " 'chang': <gensim.models.keyedvectors.Vocab at 0x7f3e4ab72e10>,\n",
              " 'button': <gensim.models.keyedvectors.Vocab at 0x7f3e4ab72e48>,\n",
              " 'grey': <gensim.models.keyedvectors.Vocab at 0x7f3e4ab72e80>,\n",
              " 'spend': <gensim.models.keyedvectors.Vocab at 0x7f3e4ab72eb8>,\n",
              " 'afternoon': <gensim.models.keyedvectors.Vocab at 0x7f3e4ab72ef0>,\n",
              " 'mia': <gensim.models.keyedvectors.Vocab at 0x7f3e4ab72f28>,\n",
              " 'fault': <gensim.models.keyedvectors.Vocab at 0x7f3e4ab72f60>,\n",
              " 'inconveni': <gensim.models.keyedvectors.Vocab at 0x7f3e4ab72f98>,\n",
              " 'counter': <gensim.models.keyedvectors.Vocab at 0x7f3e4ab72fd0>,\n",
              " 'nobodi': <gensim.models.keyedvectors.Vocab at 0x7f3e4ab45048>,\n",
              " 'austin': <gensim.models.keyedvectors.Vocab at 0x7f3e4ab45080>,\n",
              " 'sit': <gensim.models.keyedvectors.Vocab at 0x7f3e4ab450b8>,\n",
              " 'alreadi': <gensim.models.keyedvectors.Vocab at 0x7f3e4ab450f0>,\n",
              " 'sign': <gensim.models.keyedvectors.Vocab at 0x7f3e4ab45128>,\n",
              " 'option': <gensim.models.keyedvectors.Vocab at 0x7f3e4ab45160>,\n",
              " 'none': <gensim.models.keyedvectors.Vocab at 0x7f3e4ab45198>,\n",
              " 'sound': <gensim.models.keyedvectors.Vocab at 0x7f3e4ab451d0>,\n",
              " 'appli': <gensim.models.keyedvectors.Vocab at 0x7f3e4ab45208>,\n",
              " 'speak': <gensim.models.keyedvectors.Vocab at 0x7f3e4ab45240>,\n",
              " 'nogood': <gensim.models.keyedvectors.Vocab at 0x7f3e4ab45278>,\n",
              " 'schedul': <gensim.models.keyedvectors.Vocab at 0x7f3e4ab452b0>,\n",
              " 'never': <gensim.models.keyedvectors.Vocab at 0x7f3e4ab452e8>,\n",
              " 'without': <gensim.models.keyedvectors.Vocab at 0x7f3e4ab45320>,\n",
              " 'mani': <gensim.models.keyedvectors.Vocab at 0x7f3e4ab45358>,\n",
              " 'alway': <gensim.models.keyedvectors.Vocab at 0x7f3e4ab45390>,\n",
              " 'employe': <gensim.models.keyedvectors.Vocab at 0x7f3e4ab453c8>,\n",
              " 'profession': <gensim.models.keyedvectors.Vocab at 0x7f3e4ab45400>,\n",
              " 'courteou': <gensim.models.keyedvectors.Vocab at 0x7f3e4ab45438>,\n",
              " 'whenev': <gensim.models.keyedvectors.Vocab at 0x7f3e4ab45470>,\n",
              " 'groupa': <gensim.models.keyedvectors.Vocab at 0x7f3e4ab454a8>,\n",
              " 'group': <gensim.models.keyedvectors.Vocab at 0x7f3e4ab454e0>,\n",
              " 'south': <gensim.models.keyedvectors.Vocab at 0x7f3e4ab45518>,\n",
              " 'west': <gensim.models.keyedvectors.Vocab at 0x7f3e4ab45550>,\n",
              " 'even': <gensim.models.keyedvectors.Vocab at 0x7f3e4ab45588>,\n",
              " 'honey': <gensim.models.keyedvectors.Vocab at 0x7f3e4ab455c0>,\n",
              " 'moon': <gensim.models.keyedvectors.Vocab at 0x7f3e4ab455f8>,\n",
              " 'tryna': <gensim.models.keyedvectors.Vocab at 0x7f3e4ab45630>,\n",
              " 'ft': <gensim.models.keyedvectors.Vocab at 0x7f3e4ab45668>,\n",
              " 'lauderdal': <gensim.models.keyedvectors.Vocab at 0x7f3e4ab456a0>,\n",
              " 'websit': <gensim.models.keyedvectors.Vocab at 0x7f3e4ab456d8>,\n",
              " 'trash': <gensim.models.keyedvectors.Vocab at 0x7f3e4ab45710>,\n",
              " 'af': <gensim.models.keyedvectors.Vocab at 0x7f3e4ab45748>,\n",
              " 'vino': <gensim.models.keyedvectors.Vocab at 0x7f3e4ab45780>,\n",
              " 'hurt': <gensim.models.keyedvectors.Vocab at 0x7f3e4ab457b8>,\n",
              " 'pit': <gensim.models.keyedvectors.Vocab at 0x7f3e4ab457f0>,\n",
              " 'limit': <gensim.models.keyedvectors.Vocab at 0x7f3e4ab45828>,\n",
              " 'deplan': <gensim.models.keyedvectors.Vocab at 0x7f3e4ab45860>,\n",
              " 'decid': <gensim.models.keyedvectors.Vocab at 0x7f3e4ab45898>,\n",
              " 'outsourc': <gensim.models.keyedvectors.Vocab at 0x7f3e4ab458d0>,\n",
              " 'push': <gensim.models.keyedvectors.Vocab at 0x7f3e4ab45908>,\n",
              " 'skill': <gensim.models.keyedvectors.Vocab at 0x7f3e4ab45940>,\n",
              " 'loyal': <gensim.models.keyedvectors.Vocab at 0x7f3e4ab45978>,\n",
              " 'lack': <gensim.models.keyedvectors.Vocab at 0x7f3e4ab459b0>,\n",
              " 'staff': <gensim.models.keyedvectors.Vocab at 0x7f3e4ab459e8>,\n",
              " 'physic': <gensim.models.keyedvectors.Vocab at 0x7f3e4ab45a20>,\n",
              " 'imposs': <gensim.models.keyedvectors.Vocab at 0x7f3e4ab45a58>,\n",
              " 'less': <gensim.models.keyedvectors.Vocab at 0x7f3e4ab45a90>,\n",
              " 'sorri': <gensim.models.keyedvectors.Vocab at 0x7f3e4ab45ac8>,\n",
              " 'spam': <gensim.models.keyedvectors.Vocab at 0x7f3e4ab45b00>,\n",
              " 'awesom': <gensim.models.keyedvectors.Vocab at 0x7f3e4ab45b38>,\n",
              " 'vega': <gensim.models.keyedvectors.Vocab at 0x7f3e4ab45b70>,\n",
              " 'absolut': <gensim.models.keyedvectors.Vocab at 0x7f3e4ab45ba8>,\n",
              " 'bin': <gensim.models.keyedvectors.Vocab at 0x7f3e4ab45be0>,\n",
              " 'least': <gensim.models.keyedvectors.Vocab at 0x7f3e4ab45c18>,\n",
              " 'row': <gensim.models.keyedvectors.Vocab at 0x7f3e4ab45c50>,\n",
              " 'fund': <gensim.models.keyedvectors.Vocab at 0x7f3e4ab45c88>,\n",
              " 'forfeit': <gensim.models.keyedvectors.Vocab at 0x7f3e4ab45cc0>,\n",
              " 'book': <gensim.models.keyedvectors.Vocab at 0x7f3e4ab45cf8>,\n",
              " 'stupid': <gensim.models.keyedvectors.Vocab at 0x7f3e4ab45d30>,\n",
              " 'mess': <gensim.models.keyedvectors.Vocab at 0x7f3e4ab45d68>,\n",
              " 'expect': <gensim.models.keyedvectors.Vocab at 0x7f3e4ab45da0>,\n",
              " 'sleep': <gensim.models.keyedvectors.Vocab at 0x7f3e4ab45dd8>,\n",
              " 'night': <gensim.models.keyedvectors.Vocab at 0x7f3e4ab45e10>,\n",
              " 'stay': <gensim.models.keyedvectors.Vocab at 0x7f3e4ab45e48>,\n",
              " 'explain': <gensim.models.keyedvectors.Vocab at 0x7f3e4ab45e80>,\n",
              " 'airway': <gensim.models.keyedvectors.Vocab at 0x7f3e4ab45eb8>,\n",
              " 'site': <gensim.models.keyedvectors.Vocab at 0x7f3e4ab45ef0>,\n",
              " 'pick': <gensim.models.keyedvectors.Vocab at 0x7f3e4ab45f28>,\n",
              " 'standbi': <gensim.models.keyedvectors.Vocab at 0x7f3e4ab45f60>,\n",
              " 'st': <gensim.models.keyedvectors.Vocab at 0x7f3e4ab45f98>,\n",
              " 'list': <gensim.models.keyedvectors.Vocab at 0x7f3e4ab45fd0>,\n",
              " 'nerdbird': <gensim.models.keyedvectors.Vocab at 0x7f3e4ab71048>,\n",
              " 'jose': <gensim.models.keyedvectors.Vocab at 0x7f3e4ab71080>,\n",
              " 'airbu': <gensim.models.keyedvectors.Vocab at 0x7f3e4ab710b8>,\n",
              " 'reclin': <gensim.models.keyedvectors.Vocab at 0x7f3e4ab710f0>,\n",
              " 'perfect': <gensim.models.keyedvectors.Vocab at 0x7f3e4ab71128>,\n",
              " 'sun': <gensim.models.keyedvectors.Vocab at 0x7f3e4ab71160>,\n",
              " 'visor': <gensim.models.keyedvectors.Vocab at 0x7f3e4ab71198>,\n",
              " 'carrier': <gensim.models.keyedvectors.Vocab at 0x7f3e4ab711d0>,\n",
              " 'rais': <gensim.models.keyedvectors.Vocab at 0x7f3e4ab71208>,\n",
              " 'dca': <gensim.models.keyedvectors.Vocab at 0x7f3e4ab71240>,\n",
              " 'cover': <gensim.models.keyedvectors.Vocab at 0x7f3e4ab71278>,\n",
              " 'cost': <gensim.models.keyedvectors.Vocab at 0x7f3e4ab712b0>,\n",
              " 'water': <gensim.models.keyedvectors.Vocab at 0x7f3e4ab712e8>,\n",
              " 'ever': <gensim.models.keyedvectors.Vocab at 0x7f3e4ab71320>,\n",
              " 'seen': <gensim.models.keyedvectors.Vocab at 0x7f3e4ab71358>,\n",
              " 'happen': <gensim.models.keyedvectors.Vocab at 0x7f3e4ab71390>,\n",
              " 'executiveplatinummeansnoth': <gensim.models.keyedvectors.Vocab at 0x7f3e4ab713c8>,\n",
              " 'iwantcoffe': <gensim.models.keyedvectors.Vocab at 0x7f3e4ab71400>,\n",
              " 'mexico': <gensim.models.keyedvectors.Vocab at 0x7f3e4ab71438>,\n",
              " 'mileag': <gensim.models.keyedvectors.Vocab at 0x7f3e4ab71470>,\n",
              " 'tkt': <gensim.models.keyedvectors.Vocab at 0x7f3e4ab714a8>,\n",
              " 'dont': <gensim.models.keyedvectors.Vocab at 0x7f3e4ab714e0>,\n",
              " 'pr': <gensim.models.keyedvectors.Vocab at 0x7f3e4ab71518>,\n",
              " 'class': <gensim.models.keyedvectors.Vocab at 0x7f3e4ab71550>,\n",
              " 'luv': <gensim.models.keyedvectors.Vocab at 0x7f3e4ab71588>,\n",
              " 'charg': <gensim.models.keyedvectors.Vocab at 0x7f3e4ab715c0>,\n",
              " 'twitter': <gensim.models.keyedvectors.Vocab at 0x7f3e4ab715f8>,\n",
              " 'write': <gensim.models.keyedvectors.Vocab at 0x7f3e4ab71630>,\n",
              " 'gracia': <gensim.models.keyedvectors.Vocab at 0x7f3e4ab71668>,\n",
              " 'self': <gensim.models.keyedvectors.Vocab at 0x7f3e4ab716a0>,\n",
              " 'tsa': <gensim.models.keyedvectors.Vocab at 0x7f3e4ab716d8>,\n",
              " 'pre': <gensim.models.keyedvectors.Vocab at 0x7f3e4ab71710>,\n",
              " 'exist': <gensim.models.keyedvectors.Vocab at 0x7f3e4ab71748>,\n",
              " 'reachabl': <gensim.models.keyedvectors.Vocab at 0x7f3e4ab71780>,\n",
              " 'victim': <gensim.models.keyedvectors.Vocab at 0x7f3e4ab717b8>,\n",
              " 'scam': <gensim.models.keyedvectors.Vocab at 0x7f3e4ab717f0>,\n",
              " 'agent': <gensim.models.keyedvectors.Vocab at 0x7f3e4ab71828>,\n",
              " 'wtf': <gensim.models.keyedvectors.Vocab at 0x7f3e4ab71860>,\n",
              " 'teach': <gensim.models.keyedvectors.Vocab at 0x7f3e4ab71898>,\n",
              " 'mex': <gensim.models.keyedvectors.Vocab at 0x7f3e4ab718d0>,\n",
              " 'tuesday': <gensim.models.keyedvectors.Vocab at 0x7f3e4ab71908>,\n",
              " 'sadli': <gensim.models.keyedvectors.Vocab at 0x7f3e4ab71940>,\n",
              " 'meet': <gensim.models.keyedvectors.Vocab at 0x7f3e4ab71978>,\n",
              " 'today': <gensim.models.keyedvectors.Vocab at 0x7f3e4ab719b0>,\n",
              " 'present': <gensim.models.keyedvectors.Vocab at 0x7f3e4ab719e8>,\n",
              " 'major': <gensim.models.keyedvectors.Vocab at 0x7f3e4ab71a20>,\n",
              " 'strike': <gensim.models.keyedvectors.Vocab at 0x7f3e4ab71a58>,\n",
              " 'charleston': <gensim.models.keyedvectors.Vocab at 0x7f3e4ab71a90>,\n",
              " 'realiz': <gensim.models.keyedvectors.Vocab at 0x7f3e4ab71ac8>,\n",
              " 'desir': <gensim.models.keyedvectors.Vocab at 0x7f3e4ab71b00>,\n",
              " 'folk': <gensim.models.keyedvectors.Vocab at 0x7f3e4ab71b38>,\n",
              " 'handl': <gensim.models.keyedvectors.Vocab at 0x7f3e4ab71b70>,\n",
              " 'yesterday': <gensim.models.keyedvectors.Vocab at 0x7f3e4ab71ba8>,\n",
              " 'didnt': <gensim.models.keyedvectors.Vocab at 0x7f3e4ab71be0>,\n",
              " 'receiv': <gensim.models.keyedvectors.Vocab at 0x7f3e4ab71c18>,\n",
              " 'confirm': <gensim.models.keyedvectors.Vocab at 0x7f3e4ab71c50>,\n",
              " 'dividend': <gensim.models.keyedvectors.Vocab at 0x7f3e4ab71c88>,\n",
              " 'regist': <gensim.models.keyedvectors.Vocab at 0x7f3e4ab71cc0>,\n",
              " 'true': <gensim.models.keyedvectors.Vocab at 0x7f3e4ab71cf8>,\n",
              " 'liveri': <gensim.models.keyedvectors.Vocab at 0x7f3e4ab71d30>,\n",
              " 'far': <gensim.models.keyedvectors.Vocab at 0x7f3e4ab71d68>,\n",
              " 'mayb': <gensim.models.keyedvectors.Vocab at 0x7f3e4ab71da0>,\n",
              " 'unknown': <gensim.models.keyedvectors.Vocab at 0x7f3e4ab71dd8>,\n",
              " 'definit': <gensim.models.keyedvectors.Vocab at 0x7f3e4ab71e10>,\n",
              " 'feel': <gensim.models.keyedvectors.Vocab at 0x7f3e4ab71e48>,\n",
              " 'wors': <gensim.models.keyedvectors.Vocab at 0x7f3e4ab71e80>,\n",
              " 'nd': <gensim.models.keyedvectors.Vocab at 0x7f3e4ab71eb8>,\n",
              " 'winter': <gensim.models.keyedvectors.Vocab at 0x7f3e4ab71ef0>,\n",
              " 'cvg': <gensim.models.keyedvectors.Vocab at 0x7f3e4ab71f28>,\n",
              " 'oper': <gensim.models.keyedvectors.Vocab at 0x7f3e4ab71f60>,\n",
              " 'friend': <gensim.models.keyedvectors.Vocab at 0x7f3e4ab71f98>,\n",
              " 'intl': <gensim.models.keyedvectors.Vocab at 0x7f3e4ab71fd0>,\n",
              " 'moodlight': <gensim.models.keyedvectors.Vocab at 0x7f3e4ab40048>,\n",
              " 'ord': <gensim.models.keyedvectors.Vocab at 0x7f3e4ab40080>,\n",
              " 'yr': <gensim.models.keyedvectors.Vocab at 0x7f3e4ab400b8>,\n",
              " 'old': <gensim.models.keyedvectors.Vocab at 0x7f3e4ab400f0>,\n",
              " 'fix': <gensim.models.keyedvectors.Vocab at 0x7f3e4ab40128>,\n",
              " 'lr': <gensim.models.keyedvectors.Vocab at 0x7f3e4ab40160>,\n",
              " 'nightmar': <gensim.models.keyedvectors.Vocab at 0x7f3e4ab40198>,\n",
              " 'offer': <gensim.models.keyedvectors.Vocab at 0x7f3e4ab401d0>,\n",
              " 'fucken': <gensim.models.keyedvectors.Vocab at 0x7f3e4ab40208>,\n",
              " 'fail': <gensim.models.keyedvectors.Vocab at 0x7f3e4ab40240>,\n",
              " 'lazi': <gensim.models.keyedvectors.Vocab at 0x7f3e4ab40278>,\n",
              " 'alwaysl': <gensim.models.keyedvectors.Vocab at 0x7f3e4ab402b0>,\n",
              " 'worstairlineev': <gensim.models.keyedvectors.Vocab at 0x7f3e4ab402e8>,\n",
              " 'hey': <gensim.models.keyedvectors.Vocab at 0x7f3e4ab40320>,\n",
              " 'ho': <gensim.models.keyedvectors.Vocab at 0x7f3e4ab40358>,\n",
              " 'money': <gensim.models.keyedvectors.Vocab at 0x7f3e4ab40390>,\n",
              " 'stick': <gensim.models.keyedvectors.Vocab at 0x7f3e4ab403c8>,\n",
              " 'flyer': <gensim.models.keyedvectors.Vocab at 0x7f3e4ab40400>,\n",
              " 'booklet': <gensim.models.keyedvectors.Vocab at 0x7f3e4ab40438>,\n",
              " 'dozen': <gensim.models.keyedvectors.Vocab at 0x7f3e4ab40470>,\n",
              " 'ppl': <gensim.models.keyedvectors.Vocab at 0x7f3e4ab404a8>,\n",
              " 'abysm': <gensim.models.keyedvectors.Vocab at 0x7f3e4ab404e0>,\n",
              " 'weather': <gensim.models.keyedvectors.Vocab at 0x7f3e4ab40518>,\n",
              " 'la': <gensim.models.keyedvectors.Vocab at 0x7f3e4ab40550>,\n",
              " 'origin': <gensim.models.keyedvectors.Vocab at 0x7f3e4ab40588>,\n",
              " 'suppos': <gensim.models.keyedvectors.Vocab at 0x7f3e4ab405c0>,\n",
              " 'til': <gensim.models.keyedvectors.Vocab at 0x7f3e4ab405f8>,\n",
              " 'believ': <gensim.models.keyedvectors.Vocab at 0x7f3e4ab40630>,\n",
              " 'expens': <gensim.models.keyedvectors.Vocab at 0x7f3e4ab40668>,\n",
              " 'name': <gensim.models.keyedvectors.Vocab at 0x7f3e4ab406a0>,\n",
              " 'ahead': <gensim.models.keyedvectors.Vocab at 0x7f3e4ab406d8>,\n",
              " 'live': <gensim.models.keyedvectors.Vocab at 0x7f3e4ab40710>,\n",
              " 'premium': <gensim.models.keyedvectors.Vocab at 0x7f3e4ab40748>,\n",
              " 'cabin': <gensim.models.keyedvectors.Vocab at 0x7f3e4ab40780>,\n",
              " 'heaven': <gensim.models.keyedvectors.Vocab at 0x7f3e4ab407b8>,\n",
              " 'en': <gensim.models.keyedvectors.Vocab at 0x7f3e4ab407f0>,\n",
              " 'rout': <gensim.models.keyedvectors.Vocab at 0x7f3e4ab40828>,\n",
              " 'lhr': <gensim.models.keyedvectors.Vocab at 0x7f3e4ab40860>,\n",
              " 'cust': <gensim.models.keyedvectors.Vocab at 0x7f3e4ab40898>,\n",
              " 'ser': <gensim.models.keyedvectors.Vocab at 0x7f3e4ab408d0>,\n",
              " 'chat': <gensim.models.keyedvectors.Vocab at 0x7f3e4ab40908>,\n",
              " 'yell': <gensim.models.keyedvectors.Vocab at 0x7f3e4ab40940>,\n",
              " 'bc': <gensim.models.keyedvectors.Vocab at 0x7f3e4ab40978>,\n",
              " 'pic': <gensim.models.keyedvectors.Vocab at 0x7f3e4ab409b0>,\n",
              " 'stdbi': <gensim.models.keyedvectors.Vocab at 0x7f3e4ab409e8>,\n",
              " 'diff': <gensim.models.keyedvectors.Vocab at 0x7f3e4ab40a20>,\n",
              " 'gave': <gensim.models.keyedvectors.Vocab at 0x7f3e4ab40a58>,\n",
              " 'platinum': <gensim.models.keyedvectors.Vocab at 0x7f3e4ab40a90>,\n",
              " 'arvl': <gensim.models.keyedvectors.Vocab at 0x7f3e4ab40ac8>,\n",
              " 'carousel': <gensim.models.keyedvectors.Vocab at 0x7f3e4ab40b00>,\n",
              " 'understand': <gensim.models.keyedvectors.Vocab at 0x7f3e4ab40b38>,\n",
              " 'irrop': <gensim.models.keyedvectors.Vocab at 0x7f3e4ab40b70>,\n",
              " 'ridicul': <gensim.models.keyedvectors.Vocab at 0x7f3e4ab40ba8>,\n",
              " 'date': <gensim.models.keyedvectors.Vocab at 0x7f3e4ab40be0>,\n",
              " 'rock': <gensim.models.keyedvectors.Vocab at 0x7f3e4ab40c18>,\n",
              " 'easi': <gensim.models.keyedvectors.Vocab at 0x7f3e4ab40c50>,\n",
              " 'quick': <gensim.models.keyedvectors.Vocab at 0x7f3e4ab40c88>,\n",
              " 'afford': <gensim.models.keyedvectors.Vocab at 0x7f3e4ab40cc0>,\n",
              " 'bestairlineev': <gensim.models.keyedvectors.Vocab at 0x7f3e4ab40cf8>,\n",
              " 'neverchang': <gensim.models.keyedvectors.Vocab at 0x7f3e4ab40d30>,\n",
              " 'burn': <gensim.models.keyedvectors.Vocab at 0x7f3e4ab40d68>,\n",
              " 'error': <gensim.models.keyedvectors.Vocab at 0x7f3e4ab40da0>,\n",
              " 'frustrat': <gensim.models.keyedvectors.Vocab at 0x7f3e4ab40dd8>,\n",
              " 'endlessli': <gensim.models.keyedvectors.Vocab at 0x7f3e4ab40e10>,\n",
              " 'ground': <gensim.models.keyedvectors.Vocab at 0x7f3e4ab40e48>,\n",
              " 'taxi': <gensim.models.keyedvectors.Vocab at 0x7f3e4ab40e80>,\n",
              " 'wifi': <gensim.models.keyedvectors.Vocab at 0x7f3e4ab40eb8>,\n",
              " 'extrem': <gensim.models.keyedvectors.Vocab at 0x7f3e4ab40ef0>,\n",
              " 'wast': <gensim.models.keyedvectors.Vocab at 0x7f3e4ab40f28>,\n",
              " 'industri': <gensim.models.keyedvectors.Vocab at 0x7f3e4ab40f60>,\n",
              " 'procedur': <gensim.models.keyedvectors.Vocab at 0x7f3e4ab40f98>,\n",
              " 'start': <gensim.models.keyedvectors.Vocab at 0x7f3e4ab40fd0>,\n",
              " 'aateam': <gensim.models.keyedvectors.Vocab at 0x7f3e4ab43048>,\n",
              " 'rigor': <gensim.models.keyedvectors.Vocab at 0x7f3e4ab43080>,\n",
              " 'condit': <gensim.models.keyedvectors.Vocab at 0x7f3e4ab430b8>,\n",
              " 'seem': <gensim.models.keyedvectors.Vocab at 0x7f3e4ab430f0>,\n",
              " 'receipt': <gensim.models.keyedvectors.Vocab at 0x7f3e4ab43128>,\n",
              " 'copi': <gensim.models.keyedvectors.Vocab at 0x7f3e4ab43160>,\n",
              " 'reimburs': <gensim.models.keyedvectors.Vocab at 0x7f3e4ab43198>,\n",
              " 'open': <gensim.models.keyedvectors.Vocab at 0x7f3e4ab431d0>,\n",
              " 'end': <gensim.models.keyedvectors.Vocab at 0x7f3e4ab43208>,\n",
              " 'octob': <gensim.models.keyedvectors.Vocab at 0x7f3e4ab43240>,\n",
              " 'columbu': <gensim.models.keyedvectors.Vocab at 0x7f3e4ab43278>,\n",
              " 'wknd': <gensim.models.keyedvectors.Vocab at 0x7f3e4ab432b0>,\n",
              " 'england': <gensim.models.keyedvectors.Vocab at 0x7f3e4ab432e8>,\n",
              " 'calendar': <gensim.models.keyedvectors.Vocab at 0x7f3e4ab43320>,\n",
              " 'chairman': <gensim.models.keyedvectors.Vocab at 0x7f3e4ab43358>,\n",
              " 'kick': <gensim.models.keyedvectors.Vocab at 0x7f3e4ab43390>,\n",
              " 'pain': <gensim.models.keyedvectors.Vocab at 0x7f3e4ab433c8>,\n",
              " 'rest': <gensim.models.keyedvectors.Vocab at 0x7f3e4ab43400>,\n",
              " 'sudden': <gensim.models.keyedvectors.Vocab at 0x7f3e4ab43438>,\n",
              " 'intlcheckin': <gensim.models.keyedvectors.Vocab at 0x7f3e4ab43470>,\n",
              " 'excit': <gensim.models.keyedvectors.Vocab at 0x7f3e4ab434a8>,\n",
              " 'earlier': <gensim.models.keyedvectors.Vocab at 0x7f3e4ab434e0>,\n",
              " 'woo': <gensim.models.keyedvectors.Vocab at 0x7f3e4ab43518>,\n",
              " 'hoo': <gensim.models.keyedvectors.Vocab at 0x7f3e4ab43550>,\n",
              " 'unitedairlin': <gensim.models.keyedvectors.Vocab at 0x7f3e4ab43588>,\n",
              " 'pl': <gensim.models.keyedvectors.Vocab at 0x7f3e4ab435c0>,\n",
              " 'badg': <gensim.models.keyedvectors.Vocab at 0x7f3e4ab435f8>,\n",
              " 'account': <gensim.models.keyedvectors.Vocab at 0x7f3e4ab43630>,\n",
              " 'cha': <gensim.models.keyedvectors.Vocab at 0x7f3e4ab43668>,\n",
              " 'charlott': <gensim.models.keyedvectors.Vocab at 0x7f3e4ab436a0>,\n",
              " 'lga': <gensim.models.keyedvectors.Vocab at 0x7f3e4ab436d8>,\n",
              " 'presid': <gensim.models.keyedvectors.Vocab at 0x7f3e4ab43710>,\n",
              " 'blame': <gensim.models.keyedvectors.Vocab at 0x7f3e4ab43748>,\n",
              " 'heard': <gensim.models.keyedvectors.Vocab at 0x7f3e4ab43780>,\n",
              " 'repeat': <gensim.models.keyedvectors.Vocab at 0x7f3e4ab437b8>,\n",
              " 'decis': <gensim.models.keyedvectors.Vocab at 0x7f3e4ab437f0>,\n",
              " 'match': <gensim.models.keyedvectors.Vocab at 0x7f3e4ab43828>,\n",
              " 'kp”': <gensim.models.keyedvectors.Vocab at 0x7f3e4ab43860>,\n",
              " 'replac': <gensim.models.keyedvectors.Vocab at 0x7f3e4ab43898>,\n",
              " 'american': <gensim.models.keyedvectors.Vocab at 0x7f3e4ab438d0>,\n",
              " 'mile': <gensim.models.keyedvectors.Vocab at 0x7f3e4ab43908>,\n",
              " 'scott': <gensim.models.keyedvectors.Vocab at 0x7f3e4ab43940>,\n",
              " 'yo': <gensim.models.keyedvectors.Vocab at 0x7f3e4ab43978>,\n",
              " 'bottom': <gensim.models.keyedvectors.Vocab at 0x7f3e4ab439b0>,\n",
              " 'heart': <gensim.models.keyedvectors.Vocab at 0x7f3e4ab439e8>,\n",
              " 'destinationdragon': <gensim.models.keyedvectors.Vocab at 0x7f3e4ab43a20>,\n",
              " 'friday': <gensim.models.keyedvectors.Vocab at 0x7f3e4ab43a58>,\n",
              " 'review': <gensim.models.keyedvectors.Vocab at 0x7f3e4ab43a90>,\n",
              " 'overs': <gensim.models.keyedvectors.Vocab at 0x7f3e4ab43ac8>,\n",
              " 'hardcas': <gensim.models.keyedvectors.Vocab at 0x7f3e4ab43b00>,\n",
              " 'golfbag': <gensim.models.keyedvectors.Vocab at 0x7f3e4ab43b38>,\n",
              " 'free': <gensim.models.keyedvectors.Vocab at 0x7f3e4ab43b70>,\n",
              " 'guitar': <gensim.models.keyedvectors.Vocab at 0x7f3e4ab43ba8>,\n",
              " 'instrument': <gensim.models.keyedvectors.Vocab at 0x7f3e4ab43be0>,\n",
              " 'base': <gensim.models.keyedvectors.Vocab at 0x7f3e4ab43c18>,\n",
              " 'suggest': <gensim.models.keyedvectors.Vocab at 0x7f3e4ab43c50>,\n",
              " 'rental': <gensim.models.keyedvectors.Vocab at 0x7f3e4ab43c88>,\n",
              " 'car': <gensim.models.keyedvectors.Vocab at 0x7f3e4ab43cc0>,\n",
              " 'sw': <gensim.models.keyedvectors.Vocab at 0x7f3e4ab43cf8>,\n",
              " 'fb': <gensim.models.keyedvectors.Vocab at 0x7f3e4ab43d30>,\n",
              " 'respond': <gensim.models.keyedvectors.Vocab at 0x7f3e4ab43d68>,\n",
              " 'volum': <gensim.models.keyedvectors.Vocab at 0x7f3e4ab43da0>,\n",
              " 'profit': <gensim.models.keyedvectors.Vocab at 0x7f3e4ab43dd8>,\n",
              " 'aviat': <gensim.models.keyedvectors.Vocab at 0x7f3e4ab43e10>,\n",
              " 'aircargo': <gensim.models.keyedvectors.Vocab at 0x7f3e4ab43e48>,\n",
              " 'anyth': <gensim.models.keyedvectors.Vocab at 0x7f3e4ab43e80>,\n",
              " 'screw': <gensim.models.keyedvectors.Vocab at 0x7f3e4ab43eb8>,\n",
              " 'okay': <gensim.models.keyedvectors.Vocab at 0x7f3e4ab43ef0>,\n",
              " 'kill': <gensim.models.keyedvectors.Vocab at 0x7f3e4ab43f28>,\n",
              " 'human': <gensim.models.keyedvectors.Vocab at 0x7f3e4ab43f60>,\n",
              " 'hi': <gensim.models.keyedvectors.Vocab at 0x7f3e4ab43f98>,\n",
              " 'browser': <gensim.models.keyedvectors.Vocab at 0x7f3e4ab43fd0>,\n",
              " 'continu': <gensim.models.keyedvectors.Vocab at 0x7f3e4ab70048>,\n",
              " 'submit': <gensim.models.keyedvectors.Vocab at 0x7f3e4ab70080>,\n",
              " 'damag': <gensim.models.keyedvectors.Vocab at 0x7f3e4ab700b8>,\n",
              " 'els': <gensim.models.keyedvectors.Vocab at 0x7f3e4ab700f0>,\n",
              " 'goodcustomerservic': <gensim.models.keyedvectors.Vocab at 0x7f3e4ab70128>,\n",
              " 'jetblu': <gensim.models.keyedvectors.Vocab at 0x7f3e4ab70160>,\n",
              " 'bo': <gensim.models.keyedvectors.Vocab at 0x7f3e4ab70198>,\n",
              " 'manag': <gensim.models.keyedvectors.Vocab at 0x7f3e4ab701d0>,\n",
              " 'threaten': <gensim.models.keyedvectors.Vocab at 0x7f3e4ab70208>,\n",
              " 'stand': <gensim.models.keyedvectors.Vocab at 0x7f3e4ab70240>,\n",
              " 'understaf': <gensim.models.keyedvectors.Vocab at 0x7f3e4ab70278>,\n",
              " 'mechan': <gensim.models.keyedvectors.Vocab at 0x7f3e4ab702b0>,\n",
              " 'pro': <gensim.models.keyedvectors.Vocab at 0x7f3e4ab702e8>,\n",
              " 'toss': <gensim.models.keyedvectors.Vocab at 0x7f3e4ab70320>,\n",
              " 'drink': <gensim.models.keyedvectors.Vocab at 0x7f3e4ab70358>,\n",
              " 'found': <gensim.models.keyedvectors.Vocab at 0x7f3e4ab70390>,\n",
              " 'rr': <gensim.models.keyedvectors.Vocab at 0x7f3e4ab703c8>,\n",
              " 'trip': <gensim.models.keyedvectors.Vocab at 0x7f3e4ab70400>,\n",
              " 'brother': <gensim.models.keyedvectors.Vocab at 0x7f3e4ab70438>,\n",
              " 'law': <gensim.models.keyedvectors.Vocab at 0x7f3e4ab70470>,\n",
              " 'graduat': <gensim.models.keyedvectors.Vocab at 0x7f3e4ab704a8>,\n",
              " 'refund': <gensim.models.keyedvectors.Vocab at 0x7f3e4ab704e0>,\n",
              " 'appreci': <gensim.models.keyedvectors.Vocab at 0x7f3e4ab70518>,\n",
              " 'offici': <gensim.models.keyedvectors.Vocab at 0x7f3e4ab70550>,\n",
              " 'displac': <gensim.models.keyedvectors.Vocab at 0x7f3e4ab70588>,\n",
              " 'experi': <gensim.models.keyedvectors.Vocab at 0x7f3e4ab705c0>,\n",
              " 'pleasant': <gensim.models.keyedvectors.Vocab at 0x7f3e4ab705f8>,\n",
              " 'timeli': <gensim.models.keyedvectors.Vocab at 0x7f3e4ab70630>,\n",
              " 'ua': <gensim.models.keyedvectors.Vocab at 0x7f3e4ab70668>,\n",
              " 'switch': <gensim.models.keyedvectors.Vocab at 0x7f3e4ab706a0>,\n",
              " 'bump': <gensim.models.keyedvectors.Vocab at 0x7f3e4ab706d8>,\n",
              " 'forc': <gensim.models.keyedvectors.Vocab at 0x7f3e4ab70710>,\n",
              " 'urgent': <gensim.models.keyedvectors.Vocab at 0x7f3e4ab70748>,\n",
              " 'two': <gensim.models.keyedvectors.Vocab at 0x7f3e4ab70780>,\n",
              " 'sent': <gensim.models.keyedvectors.Vocab at 0x7f3e4ab707b8>,\n",
              " 'intent': <gensim.models.keyedvectors.Vocab at 0x7f3e4ab707f0>,\n",
              " 'ignor': <gensim.models.keyedvectors.Vocab at 0x7f3e4ab70828>,\n",
              " 'queri': <gensim.models.keyedvectors.Vocab at 0x7f3e4ab70860>,\n",
              " 'badservic': <gensim.models.keyedvectors.Vocab at 0x7f3e4ab70898>,\n",
              " 'usairway': <gensim.models.keyedvectors.Vocab at 0x7f3e4ab708d0>,\n",
              " 'supervisor': <gensim.models.keyedvectors.Vocab at 0x7f3e4ab70908>,\n",
              " 'ask': <gensim.models.keyedvectors.Vocab at 0x7f3e4ab70940>,\n",
              " 'fight': <gensim.models.keyedvectors.Vocab at 0x7f3e4ab70978>,\n",
              " 'draft': <gensim.models.keyedvectors.Vocab at 0x7f3e4ab709b0>,\n",
              " 'airplan': <gensim.models.keyedvectors.Vocab at 0x7f3e4ab709e8>,\n",
              " 'thanksm': <gensim.models.keyedvectors.Vocab at 0x7f3e4ab70a20>,\n",
              " 'ruin': <gensim.models.keyedvectors.Vocab at 0x7f3e4ab70a58>,\n",
              " 'june': <gensim.models.keyedvectors.Vocab at 0x7f3e4ab70a90>,\n",
              " 'infant': <gensim.models.keyedvectors.Vocab at 0x7f3e4ab70ac8>,\n",
              " 'price': <gensim.models.keyedvectors.Vocab at 0x7f3e4ab70b00>,\n",
              " 'increas': <gensim.models.keyedvectors.Vocab at 0x7f3e4ab70b38>,\n",
              " 'meantim': <gensim.models.keyedvectors.Vocab at 0x7f3e4ab70b70>,\n",
              " 'left': <gensim.models.keyedvectors.Vocab at 0x7f3e4ab70ba8>,\n",
              " 'non': <gensim.models.keyedvectors.Vocab at 0x7f3e4ab70be0>,\n",
              " 'stop': <gensim.models.keyedvectors.Vocab at 0x7f3e4ab70c18>,\n",
              " 'answer': <gensim.models.keyedvectors.Vocab at 0x7f3e4ab70c50>,\n",
              " 'funer': <gensim.models.keyedvectors.Vocab at 0x7f3e4ab70c88>,\n",
              " 'sinc': <gensim.models.keyedvectors.Vocab at 0x7f3e4ab70cc0>,\n",
              " 'est': <gensim.models.keyedvectors.Vocab at 0x7f3e4ab70cf8>,\n",
              " 'mission': <gensim.models.keyedvectors.Vocab at 0x7f3e4ab70d30>,\n",
              " 'accomplish': <gensim.models.keyedvectors.Vocab at 0x7f3e4ab70d68>,\n",
              " 'smile': <gensim.models.keyedvectors.Vocab at 0x7f3e4ab70da0>,\n",
              " 'zero': <gensim.models.keyedvectors.Vocab at 0x7f3e4ab70dd8>,\n",
              " 'award': <gensim.models.keyedvectors.Vocab at 0x7f3e4ab70e10>,\n",
              " 'comput': <gensim.models.keyedvectors.Vocab at 0x7f3e4ab70e48>,\n",
              " 'humour': <gensim.models.keyedvectors.Vocab at 0x7f3e4ab70e80>,\n",
              " 'tv': <gensim.models.keyedvectors.Vocab at 0x7f3e4ab70eb8>,\n",
              " 'inflight': <gensim.models.keyedvectors.Vocab at 0x7f3e4ab70ef0>,\n",
              " 'current': <gensim.models.keyedvectors.Vocab at 0x7f3e4ab70f28>,\n",
              " 'unavail': <gensim.models.keyedvectors.Vocab at 0x7f3e4ab70f60>,\n",
              " 'locat': <gensim.models.keyedvectors.Vocab at 0x7f3e4ab70f98>,\n",
              " 'track': <gensim.models.keyedvectors.Vocab at 0x7f3e4ab70fd0>,\n",
              " 'tail': <gensim.models.keyedvectors.Vocab at 0x7f3e4ab3b048>,\n",
              " 'njb': <gensim.models.keyedvectors.Vocab at 0x7f3e4ab3b080>,\n",
              " 'boston': <gensim.models.keyedvectors.Vocab at 0x7f3e4ab3b0b8>,\n",
              " 'red': <gensim.models.keyedvectors.Vocab at 0x7f3e4ab3b0f0>,\n",
              " 'sox': <gensim.models.keyedvectors.Vocab at 0x7f3e4ab3b128>,\n",
              " 'share': <gensim.models.keyedvectors.Vocab at 0x7f3e4ab3b160>,\n",
              " 'weekend': <gensim.models.keyedvectors.Vocab at 0x7f3e4ab3b198>,\n",
              " 'news': <gensim.models.keyedvectors.Vocab at 0x7f3e4ab3b1d0>,\n",
              " 'channel': <gensim.models.keyedvectors.Vocab at 0x7f3e4ab3b208>,\n",
              " 'ding': <gensim.models.keyedvectors.Vocab at 0x7f3e4ab3b240>,\n",
              " 'report': <gensim.models.keyedvectors.Vocab at 0x7f3e4ab3b278>,\n",
              " 'istanbul': <gensim.models.keyedvectors.Vocab at 0x7f3e4ab3b2b0>,\n",
              " 'moment': <gensim.models.keyedvectors.Vocab at 0x7f3e4ab3b2e8>,\n",
              " 'appar': <gensim.models.keyedvectors.Vocab at 0x7f3e4ab3b320>,\n",
              " 'haha': <gensim.models.keyedvectors.Vocab at 0x7f3e4ab3b358>,\n",
              " 'hat': <gensim.models.keyedvectors.Vocab at 0x7f3e4ab3b390>,\n",
              " 'pilot': <gensim.models.keyedvectors.Vocab at 0x7f3e4ab3b3c8>,\n",
              " 'ruth': <gensim.models.keyedvectors.Vocab at 0x7f3e4ab3b400>,\n",
              " 'justdoit': <gensim.models.keyedvectors.Vocab at 0x7f3e4ab3b438>,\n",
              " 'youknowyouwantto': <gensim.models.keyedvectors.Vocab at 0x7f3e4ab3b470>,\n",
              " 'well': <gensim.models.keyedvectors.Vocab at 0x7f3e4ab3b4a8>,\n",
              " 'request': <gensim.models.keyedvectors.Vocab at 0x7f3e4ab3b4e0>,\n",
              " 'ewr': <gensim.models.keyedvectors.Vocab at 0x7f3e4ab3b518>,\n",
              " 'bom': <gensim.models.keyedvectors.Vocab at 0x7f3e4ab3b550>,\n",
              " 'may': <gensim.models.keyedvectors.Vocab at 0x7f3e4ab3b588>,\n",
              " 'copay': <gensim.models.keyedvectors.Vocab at 0x7f3e4ab3b5c0>,\n",
              " 'aha': <gensim.models.keyedvectors.Vocab at 0x7f3e4ab3b5f8>,\n",
              " 'ok': <gensim.models.keyedvectors.Vocab at 0x7f3e4ab3b630>,\n",
              " 'worri': <gensim.models.keyedvectors.Vocab at 0x7f3e4ab3b668>,\n",
              " 'truth': <gensim.models.keyedvectors.Vocab at 0x7f3e4ab3b6a0>,\n",
              " 'social': <gensim.models.keyedvectors.Vocab at 0x7f3e4ab3b6d8>,\n",
              " 'media': <gensim.models.keyedvectors.Vocab at 0x7f3e4ab3b710>,\n",
              " 'commun': <gensim.models.keyedvectors.Vocab at 0x7f3e4ab3b748>,\n",
              " 'chicago': <gensim.models.keyedvectors.Vocab at 0x7f3e4ab3b780>,\n",
              " 'freez': <gensim.models.keyedvectors.Vocab at 0x7f3e4ab3b7b8>,\n",
              " 'runway': <gensim.models.keyedvectors.Vocab at 0x7f3e4ab3b7f0>,\n",
              " 'crappi': <gensim.models.keyedvectors.Vocab at 0x7f3e4ab3b828>,\n",
              " 'round': <gensim.models.keyedvectors.Vocab at 0x7f3e4ab3b860>,\n",
              " 'fun': <gensim.models.keyedvectors.Vocab at 0x7f3e4ab3b898>,\n",
              " 'went': <gensim.models.keyedvectors.Vocab at 0x7f3e4ab3b8d0>,\n",
              " 'nothappi': <gensim.models.keyedvectors.Vocab at 0x7f3e4ab3b908>,\n",
              " 'spring': <gensim.models.keyedvectors.Vocab at 0x7f3e4ab3b940>,\n",
              " 'break': <gensim.models.keyedvectors.Vocab at 0x7f3e4ab3b978>,\n",
              " 'understood': <gensim.models.keyedvectors.Vocab at 0x7f3e4ab3b9b0>,\n",
              " 'simpli': <gensim.models.keyedvectors.Vocab at 0x7f3e4ab3b9e8>,\n",
              " 'situat': <gensim.models.keyedvectors.Vocab at 0x7f3e4ab3ba20>,\n",
              " 'hah': <gensim.models.keyedvectors.Vocab at 0x7f3e4ab3ba58>,\n",
              " 'hahahah': <gensim.models.keyedvectors.Vocab at 0x7f3e4ab3ba90>,\n",
              " 'pathet': <gensim.models.keyedvectors.Vocab at 0x7f3e4ab3bac8>,\n",
              " 'bringbacktheluvtordu': <gensim.models.keyedvectors.Vocab at 0x7f3e4ab3bb00>,\n",
              " 'miami': <gensim.models.keyedvectors.Vocab at 0x7f3e4ab3bb38>,\n",
              " 'directflight': <gensim.models.keyedvectors.Vocab at 0x7f3e4ab3bb70>,\n",
              " 'whoever': <gensim.models.keyedvectors.Vocab at 0x7f3e4ab3bba8>,\n",
              " 'contract': <gensim.models.keyedvectors.Vocab at 0x7f3e4ab3bbe0>,\n",
              " 'pvd': <gensim.models.keyedvectors.Vocab at 0x7f3e4ab3bc18>,\n",
              " 'big': <gensim.models.keyedvectors.Vocab at 0x7f3e4ab3bc50>,\n",
              " 'soon': <gensim.models.keyedvectors.Vocab at 0x7f3e4ab3bc88>,\n",
              " 'swa': <gensim.models.keyedvectors.Vocab at 0x7f3e4ab3bcc0>,\n",
              " 'high': <gensim.models.keyedvectors.Vocab at 0x7f3e4ab3bcf8>,\n",
              " 'five': <gensim.models.keyedvectors.Vocab at 0x7f3e4ab3bd30>,\n",
              " 'av': <gensim.models.keyedvectors.Vocab at 0x7f3e4ab3bd68>,\n",
              " 'xw': <gensim.models.keyedvectors.Vocab at 0x7f3e4ab3bda0>,\n",
              " 'done': <gensim.models.keyedvectors.Vocab at 0x7f3e4ab3bdd8>,\n",
              " 'hear': <gensim.models.keyedvectors.Vocab at 0x7f3e4ab3be10>,\n",
              " 'thankyou': <gensim.models.keyedvectors.Vocab at 0x7f3e4ab3be48>,\n",
              " 'greatli': <gensim.models.keyedvectors.Vocab at 0x7f3e4ab3be80>,\n",
              " 'settl': <gensim.models.keyedvectors.Vocab at 0x7f3e4ab3beb8>,\n",
              " 'consider': <gensim.models.keyedvectors.Vocab at 0x7f3e4ab3bef0>,\n",
              " 'enter': <gensim.models.keyedvectors.Vocab at 0x7f3e4ab3bf28>,\n",
              " 'passport': <gensim.models.keyedvectors.Vocab at 0x7f3e4ab3bf60>,\n",
              " 'random': <gensim.models.keyedvectors.Vocab at 0x7f3e4ab3bf98>,\n",
              " 'chanc': <gensim.models.keyedvectors.Vocab at 0x7f3e4ab3bfd0>,\n",
              " 'fals': <gensim.models.keyedvectors.Vocab at 0x7f3e4ab3dfd0>,\n",
              " 'alarm': <gensim.models.keyedvectors.Vocab at 0x7f3e4ab3df98>,\n",
              " 'devic': <gensim.models.keyedvectors.Vocab at 0x7f3e4ab3df60>,\n",
              " 'entertain': <gensim.models.keyedvectors.Vocab at 0x7f3e4ab3df28>,\n",
              " 'crash': <gensim.models.keyedvectors.Vocab at 0x7f3e4ab3def0>,\n",
              " 'everi': <gensim.models.keyedvectors.Vocab at 0x7f3e4ab3deb8>,\n",
              " 'credit': <gensim.models.keyedvectors.Vocab at 0x7f3e4ab3de80>,\n",
              " 'paid': <gensim.models.keyedvectors.Vocab at 0x7f3e4ab3de48>,\n",
              " 'cruis': <gensim.models.keyedvectors.Vocab at 0x7f3e4ab3de10>,\n",
              " 'plan': <gensim.models.keyedvectors.Vocab at 0x7f3e4ab3ddd8>,\n",
              " 'specif': <gensim.models.keyedvectors.Vocab at 0x7f3e4ab3dda0>,\n",
              " 'probabl': <gensim.models.keyedvectors.Vocab at 0x7f3e4ab3dd68>,\n",
              " 'feet': <gensim.models.keyedvectors.Vocab at 0x7f3e4ab3dd30>,\n",
              " 'apart': <gensim.models.keyedvectors.Vocab at 0x7f3e4ab3dcf8>,\n",
              " 'within': <gensim.models.keyedvectors.Vocab at 0x7f3e4ab3dcc0>,\n",
              " 'sight': <gensim.models.keyedvectors.Vocab at 0x7f3e4ab3dc88>,\n",
              " 'wow': <gensim.models.keyedvectors.Vocab at 0x7f3e4ab3dc50>,\n",
              " 'requir': <gensim.models.keyedvectors.Vocab at 0x7f3e4ab3dc18>,\n",
              " 'auto': <gensim.models.keyedvectors.Vocab at 0x7f3e4ab3dbe0>,\n",
              " 'flown': <gensim.models.keyedvectors.Vocab at 0x7f3e4ab3dba8>,\n",
              " 'worth': <gensim.models.keyedvectors.Vocab at 0x7f3e4ab3db70>,\n",
              " 'lifetim': <gensim.models.keyedvectors.Vocab at 0x7f3e4ab3db38>,\n",
              " 'newburgh': <gensim.models.keyedvectors.Vocab at 0x7f3e4ab3db00>,\n",
              " 'relat': <gensim.models.keyedvectors.Vocab at 0x7f3e4ab3dac8>,\n",
              " 'flightd': <gensim.models.keyedvectors.Vocab at 0x7f3e4ab3da90>,\n",
              " 'engin': <gensim.models.keyedvectors.Vocab at 0x7f3e4ab3da58>,\n",
              " 'design': <gensim.models.keyedvectors.Vocab at 0x7f3e4ab3da20>,\n",
              " 'door': <gensim.models.keyedvectors.Vocab at 0x7f3e4ab3d9e8>,\n",
              " 'frame': <gensim.models.keyedvectors.Vocab at 0x7f3e4ab3d9b0>,\n",
              " 'foot': <gensim.models.keyedvectors.Vocab at 0x7f3e4ab3d978>,\n",
              " 'middl': <gensim.models.keyedvectors.Vocab at 0x7f3e4ab3d940>,\n",
              " 'buf': <gensim.models.keyedvectors.Vocab at 0x7f3e4ab3d908>,\n",
              " 'dublin': <gensim.models.keyedvectors.Vocab at 0x7f3e4ab3d8d0>,\n",
              " 'london': <gensim.models.keyedvectors.Vocab at 0x7f3e4ab3d898>,\n",
              " 'shambl': <gensim.models.keyedvectors.Vocab at 0x7f3e4ab3d860>,\n",
              " 'outdat': <gensim.models.keyedvectors.Vocab at 0x7f3e4ab3d828>,\n",
              " 'opt': <gensim.models.keyedvectors.Vocab at 0x7f3e4ab3d7f0>,\n",
              " 'verifi': <gensim.models.keyedvectors.Vocab at 0x7f3e4ab3d7b8>,\n",
              " 'visa': <gensim.models.keyedvectors.Vocab at 0x7f3e4ab3d780>,\n",
              " 'nonsens': <gensim.models.keyedvectors.Vocab at 0x7f3e4ab3d748>,\n",
              " 'girl': <gensim.models.keyedvectors.Vocab at 0x7f3e4ab3d710>,\n",
              " 'poorservic': <gensim.models.keyedvectors.Vocab at 0x7f3e4ab3d6d8>,\n",
              " 'notgoodenough': <gensim.models.keyedvectors.Vocab at 0x7f3e4ab3d6a0>,\n",
              " 'mail': <gensim.models.keyedvectors.Vocab at 0x7f3e4ab3d668>,\n",
              " 'address': <gensim.models.keyedvectors.Vocab at 0x7f3e4ab3d630>,\n",
              " 'disappear': <gensim.models.keyedvectors.Vocab at 0x7f3e4ab3d5f8>,\n",
              " 'sju': <gensim.models.keyedvectors.Vocab at 0x7f3e4ab3d5c0>,\n",
              " 'tough': <gensim.models.keyedvectors.Vocab at 0x7f3e4ab3d588>,\n",
              " 'standard': <gensim.models.keyedvectors.Vocab at 0x7f3e4ab3d550>,\n",
              " 'choos': <gensim.models.keyedvectors.Vocab at 0x7f3e4ab3d518>,\n",
              " 'getmeoffthisbird': <gensim.models.keyedvectors.Vocab at 0x7f3e4ab3d4e0>,\n",
              " 'return': <gensim.models.keyedvectors.Vocab at 0x7f3e4ab3d4a8>,\n",
              " 'welllllll': <gensim.models.keyedvectors.Vocab at 0x7f3e4ab3d470>,\n",
              " 'man': <gensim.models.keyedvectors.Vocab at 0x7f3e4ab3d438>,\n",
              " 'rescu': <gensim.models.keyedvectors.Vocab at 0x7f3e4ab3d400>,\n",
              " 'photo': <gensim.models.keyedvectors.Vocab at 0x7f3e4ab3d3c8>,\n",
              " 'applaus': <gensim.models.keyedvectors.Vocab at 0x7f3e4ab3d390>,\n",
              " 'wound': <gensim.models.keyedvectors.Vocab at 0x7f3e4ab3d358>,\n",
              " 'vet': <gensim.models.keyedvectors.Vocab at 0x7f3e4ab3d320>,\n",
              " 'hv': <gensim.models.keyedvectors.Vocab at 0x7f3e4ab3d2e8>,\n",
              " 'fair': <gensim.models.keyedvectors.Vocab at 0x7f3e4ab3d2b0>,\n",
              " 'fit': <gensim.models.keyedvectors.Vocab at 0x7f3e4ab3d278>,\n",
              " 'visibl': <gensim.models.keyedvectors.Vocab at 0x7f3e4ab3d240>,\n",
              " 'terribl': <gensim.models.keyedvectors.Vocab at 0x7f3e4ab3d208>,\n",
              " 'neveragain': <gensim.models.keyedvectors.Vocab at 0x7f3e4ab3d1d0>,\n",
              " 'deal': <gensim.models.keyedvectors.Vocab at 0x7f3e4ab3d198>,\n",
              " 'flt': <gensim.models.keyedvectors.Vocab at 0x7f3e4ab3d160>,\n",
              " 'departur': <gensim.models.keyedvectors.Vocab at 0x7f3e4ab3d128>,\n",
              " 'keep': <gensim.models.keyedvectors.Vocab at 0x7f3e4ab3d0f0>,\n",
              " 'compens': <gensim.models.keyedvectors.Vocab at 0x7f3e4ab3d0b8>,\n",
              " 'phx': <gensim.models.keyedvectors.Vocab at 0x7f3e4ab3d080>,\n",
              " 'fyi': <gensim.models.keyedvectors.Vocab at 0x7f3e4ab3d048>,\n",
              " 'drop': <gensim.models.keyedvectors.Vocab at 0x7f3e4ab6f048>,\n",
              " 'dial': <gensim.models.keyedvectors.Vocab at 0x7f3e4ab6f080>,\n",
              " 'attempt': <gensim.models.keyedvectors.Vocab at 0x7f3e4ab6f0b8>,\n",
              " 'battl': <gensim.models.keyedvectors.Vocab at 0x7f3e4ab6f0f0>,\n",
              " 'appeas': <gensim.models.keyedvectors.Vocab at 0x7f3e4ab6f128>,\n",
              " 'wall': <gensim.models.keyedvectors.Vocab at 0x7f3e4ab6f160>,\n",
              " 'street': <gensim.models.keyedvectors.Vocab at 0x7f3e4ab6f198>,\n",
              " 'waterburi': <gensim.models.keyedvectors.Vocab at 0x7f3e4ab6f1d0>,\n",
              " 'republican': <gensim.models.keyedvectors.Vocab at 0x7f3e4ab6f208>,\n",
              " 'lot': <gensim.models.keyedvectors.Vocab at 0x7f3e4ab6f240>,\n",
              " 'faster': <gensim.models.keyedvectors.Vocab at 0x7f3e4ab6f278>,\n",
              " 'mph': <gensim.models.keyedvectors.Vocab at 0x7f3e4ab6f2b0>,\n",
              " 'strong': <gensim.models.keyedvectors.Vocab at 0x7f3e4ab6f2e8>,\n",
              " 'tailwind': <gensim.models.keyedvectors.Vocab at 0x7f3e4ab6f320>,\n",
              " 'morn': <gensim.models.keyedvectors.Vocab at 0x7f3e4ab6f358>,\n",
              " 'monday': <gensim.models.keyedvectors.Vocab at 0x7f3e4ab6f390>,\n",
              " 'legal': <gensim.models.keyedvectors.Vocab at 0x7f3e4ab6f3c8>,\n",
              " 'run': <gensim.models.keyedvectors.Vocab at 0x7f3e4ab6f400>,\n",
              " 'ride': <gensim.models.keyedvectors.Vocab at 0x7f3e4ab6f438>,\n",
              " 'winner': <gensim.models.keyedvectors.Vocab at 0x7f3e4ab6f470>,\n",
              " 'announc': <gensim.models.keyedvectors.Vocab at 0x7f3e4ab6f4a8>,\n",
              " 'combin': <gensim.models.keyedvectors.Vocab at 0x7f3e4ab6f4e0>,\n",
              " 'usair': <gensim.models.keyedvectors.Vocab at 0x7f3e4ab6f518>,\n",
              " 'acct': <gensim.models.keyedvectors.Vocab at 0x7f3e4ab6f550>,\n",
              " 'unfortun': <gensim.models.keyedvectors.Vocab at 0x7f3e4ab6f588>,\n",
              " 'initi': <gensim.models.keyedvectors.Vocab at 0x7f3e4ab6f5c0>,\n",
              " 'allow': <gensim.models.keyedvectors.Vocab at 0x7f3e4ab6f5f8>,\n",
              " 'shame': <gensim.models.keyedvectors.Vocab at 0x7f3e4ab6f630>,\n",
              " 'reunit': <gensim.models.keyedvectors.Vocab at 0x7f3e4ab6f668>,\n",
              " 'age': <gensim.models.keyedvectors.Vocab at 0x7f3e4ab6f6a0>,\n",
              " 'cheer': <gensim.models.keyedvectors.Vocab at 0x7f3e4ab6f6d8>,\n",
              " 'extra': <gensim.models.keyedvectors.Vocab at 0x7f3e4ab6f710>,\n",
              " 'sad': <gensim.models.keyedvectors.Vocab at 0x7f3e4ab6f748>,\n",
              " 'coupon': <gensim.models.keyedvectors.Vocab at 0x7f3e4ab6f780>,\n",
              " 'anyon': <gensim.models.keyedvectors.Vocab at 0x7f3e4ab6f7b8>,\n",
              " 'disast': <gensim.models.keyedvectors.Vocab at 0x7f3e4ab6f7f0>,\n",
              " 'alot': <gensim.models.keyedvectors.Vocab at 0x7f3e4ab6f828>,\n",
              " 'shock': <gensim.models.keyedvectors.Vocab at 0x7f3e4ab6f860>,\n",
              " 'joker': <gensim.models.keyedvectors.Vocab at 0x7f3e4ab6f898>,\n",
              " 'reput': <gensim.models.keyedvectors.Vocab at 0x7f3e4ab6f8d0>,\n",
              " 'rerout': <gensim.models.keyedvectors.Vocab at 0x7f3e4ab6f908>,\n",
              " 'sfo': <gensim.models.keyedvectors.Vocab at 0x7f3e4ab6f940>,\n",
              " 'geographi': <gensim.models.keyedvectors.Vocab at 0x7f3e4ab6f978>,\n",
              " 'btv': <gensim.models.keyedvectors.Vocab at 0x7f3e4ab6f9b0>,\n",
              " 'sunday': <gensim.models.keyedvectors.Vocab at 0x7f3e4ab6f9e8>,\n",
              " 'sf': <gensim.models.keyedvectors.Vocab at 0x7f3e4ab6fa20>,\n",
              " 'rd': <gensim.models.keyedvectors.Vocab at 0x7f3e4ab6fa58>,\n",
              " 'cannot': <gensim.models.keyedvectors.Vocab at 0x7f3e4ab6fa90>,\n",
              " 'unabl': <gensim.models.keyedvectors.Vocab at 0x7f3e4ab6fac8>,\n",
              " 'real': <gensim.models.keyedvectors.Vocab at 0x7f3e4ab6fb00>,\n",
              " 'notifi': <gensim.models.keyedvectors.Vocab at 0x7f3e4ab6fb38>,\n",
              " 'minu': <gensim.models.keyedvectors.Vocab at 0x7f3e4ab6fb70>,\n",
              " 'elev': <gensim.models.keyedvectors.Vocab at 0x7f3e4ab6fba8>,\n",
              " 'silver': <gensim.models.keyedvectors.Vocab at 0x7f3e4ab6fbe0>,\n",
              " 'window': <gensim.models.keyedvectors.Vocab at 0x7f3e4ab6fc18>,\n",
              " 'freeneversuck': <gensim.models.keyedvectors.Vocab at 0x7f3e4ab6fc50>,\n",
              " 'print': <gensim.models.keyedvectors.Vocab at 0x7f3e4ab6fc88>,\n",
              " 'rent': <gensim.models.keyedvectors.Vocab at 0x7f3e4ab6fcc0>,\n",
              " 'drive': <gensim.models.keyedvectors.Vocab at 0x7f3e4ab6fcf8>,\n",
              " 'belong': <gensim.models.keyedvectors.Vocab at 0x7f3e4ab6fd30>,\n",
              " 'em': <gensim.models.keyedvectors.Vocab at 0x7f3e4ab6fd68>,\n",
              " 'ind': <gensim.models.keyedvectors.Vocab at 0x7f3e4ab6fda0>,\n",
              " 'sort': <gensim.models.keyedvectors.Vocab at 0x7f3e4ab6fdd8>,\n",
              " 'caus': <gensim.models.keyedvectors.Vocab at 0x7f3e4ab6fe10>,\n",
              " 'total': <gensim.models.keyedvectors.Vocab at 0x7f3e4ab6fe48>,\n",
              " 'wake': <gensim.models.keyedvectors.Vocab at 0x7f3e4ab6fe80>,\n",
              " 'fort': <gensim.models.keyedvectors.Vocab at 0x7f3e4ab6feb8>,\n",
              " 'faith': <gensim.models.keyedvectors.Vocab at 0x7f3e4ab6fef0>,\n",
              " 'interupt': <gensim.models.keyedvectors.Vocab at 0x7f3e4ab6ff28>,\n",
              " 'staduim': <gensim.models.keyedvectors.Vocab at 0x7f3e4ab6ff60>,\n",
              " 'seri': <gensim.models.keyedvectors.Vocab at 0x7f3e4ab6ff98>,\n",
              " 'commerci': <gensim.models.keyedvectors.Vocab at 0x7f3e4ab6ffd0>,\n",
              " 'emerg': <gensim.models.keyedvectors.Vocab at 0x7f3e4ab38048>,\n",
              " 'special': <gensim.models.keyedvectors.Vocab at 0x7f3e4ab38080>,\n",
              " 'gonna': <gensim.models.keyedvectors.Vocab at 0x7f3e4ab380b8>,\n",
              " 'die': <gensim.models.keyedvectors.Vocab at 0x7f3e4ab380f0>,\n",
              " 'lame': <gensim.models.keyedvectors.Vocab at 0x7f3e4ab38128>,\n",
              " 'childish': <gensim.models.keyedvectors.Vocab at 0x7f3e4ab38160>,\n",
              " 'deserv': <gensim.models.keyedvectors.Vocab at 0x7f3e4ab38198>,\n",
              " 'remain': <gensim.models.keyedvectors.Vocab at 0x7f3e4ab381d0>,\n",
              " 'rndtrp': <gensim.models.keyedvectors.Vocab at 0x7f3e4ab38208>,\n",
              " 'aircraft': <gensim.models.keyedvectors.Vocab at 0x7f3e4ab38240>,\n",
              " 'guarante': <gensim.models.keyedvectors.Vocab at 0x7f3e4ab38278>,\n",
              " 'parent': <gensim.models.keyedvectors.Vocab at 0x7f3e4ab382b0>,\n",
              " 'children': <gensim.models.keyedvectors.Vocab at 0x7f3e4ab382e8>,\n",
              " 'sell': <gensim.models.keyedvectors.Vocab at 0x7f3e4ab38320>,\n",
              " 'promis': <gensim.models.keyedvectors.Vocab at 0x7f3e4ab38358>,\n",
              " 'horriblecustomerservic': <gensim.models.keyedvectors.Vocab at 0x7f3e4ab38390>,\n",
              " 'rudestaff': <gensim.models.keyedvectors.Vocab at 0x7f3e4ab383c8>,\n",
              " 'incompetentmanag': <gensim.models.keyedvectors.Vocab at 0x7f3e4ab38400>,\n",
              " 'shv': <gensim.models.keyedvectors.Vocab at 0x7f3e4ab38438>,\n",
              " ...}"
            ]
          },
          "metadata": {
            "tags": []
          },
          "execution_count": 110
        }
      ]
    },
    {
      "cell_type": "markdown",
      "metadata": {
        "id": "U1D4iu_9Mrda"
      },
      "source": [
        "# Conclusion\n",
        "\n",
        "* overall LogisticRegression gives better results than multinomial Naïves Bayes\n",
        "* the best results are obtained with both ```CountVectorizer``` and ```LogisticRegression```"
      ]
    }
  ]
}