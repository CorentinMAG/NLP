{
  "nbformat": 4,
  "nbformat_minor": 0,
  "metadata": {
    "colab": {
      "name": "Assignment_4.ipynb",
      "provenance": [],
      "collapsed_sections": [],
      "toc_visible": true,
      "include_colab_link": true
    },
    "kernelspec": {
      "name": "python3",
      "display_name": "Python 3"
    },
    "accelerator": "GPU"
  },
  "cells": [
    {
      "cell_type": "markdown",
      "metadata": {
        "id": "view-in-github",
        "colab_type": "text"
      },
      "source": [
        "<a href=\"https://colab.research.google.com/github/CorentinMAG/NLP/blob/main/Assignment_4.ipynb\" target=\"_parent\"><img src=\"https://colab.research.google.com/assets/colab-badge.svg\" alt=\"Open In Colab\"/></a>"
      ]
    },
    {
      "cell_type": "markdown",
      "metadata": {
        "id": "3GM9DBN-Qz3k"
      },
      "source": [
        "# Assignment 4\n",
        "\n",
        "**Due to**: TBD\n",
        "\n",
        "**Credits**: Andrea Galassi, Federico Ruggeri, Paolo Torroni\n",
        "\n",
        "**Summary**: Fact checking, Neural Languange Inference (**NLI**)"
      ]
    },
    {
      "cell_type": "markdown",
      "metadata": {
        "id": "tO_-4CZeRCO7"
      },
      "source": [
        "# Intro\n",
        "\n",
        "This assignment is centred on a particular and emerging NLP task, formally known as **fact checking** (or fake checking). As AI techniques become more and more powerful, reaching amazing results, such as image and text generation, it is more than ever necessary to build tools able to distinguish what is real from what is fake.\n",
        "\n",
        "Here we focus on a small portion of the whole fact checking problem, which aims to determine whether a given statement (fact) conveys a trustworthy information or not. \n",
        "\n",
        "More precisely, given a set of evidences and a fact to verify, we would like our model to correctly predict whether the fact is true or fake.\n",
        "\n",
        "In particular, we will see:\n",
        "\n",
        "*   Dataset preparation (analysis and pre-processing)\n",
        "*   Problem formulation: multi-input binary classification\n",
        "*   Defining an evaluation method\n",
        "*   Simple sentence embedding\n",
        "*   Neural building blocks\n",
        "*   Neural architecture extension"
      ]
    },
    {
      "cell_type": "markdown",
      "metadata": {
        "id": "hGDwg78PS_uy"
      },
      "source": [
        "# The FEVER dataset\n",
        "\n",
        "First of all, we need to choose a dataset. In this assignment we will rely on the [FEVER dataset](https://fever.ai).\n",
        "\n",
        "The dataset is about facts taken from Wikipedia documents that have to be verified. In particular, facts could face manual modifications in order to define fake information or to give different formulations of the same concept.\n",
        "\n",
        "The dataset consists of 185,445 claims manually verified against the introductory sections of Wikipedia pages and classified as ```Supported```, ```Refuted``` or ```NotEnoughInfo```. For the first two classes, systems and annotators need to also return the combination of sentences forming the necessary evidence supporting or refuting the claim."
      ]
    },
    {
      "cell_type": "markdown",
      "metadata": {
        "id": "4Oa5FpVpT7p4"
      },
      "source": [
        "## Dataset structure\n",
        "\n",
        "Relevant data is divided into two file types. Information concerning the fact to verify, its verdict and associated supporting/opposing statements are stored in **.jsonl** format. In particular, each JSON element is a python dictionary with the following relevant fields:\n",
        "\n",
        "*    **ID**: ID associated to the fact to verify.\n",
        "\n",
        "*    **Verifiable**: whether the fact has been verified or not: ```VERIFIABLE``` or ```NOT VERIFIABLE```.\n",
        "    \n",
        "*    **Label**: the final verdict on the fact to verify: ```SUPPORTS```, ```REFUTES``` or ```NOT ENOUGH INFO```.\n",
        "    \n",
        "*    **Claim**: the fact to verify.\n",
        "    \n",
        "*    **Evidence**: a nested list of document IDs along with the sentence ID that is associated to the fact to verify. In particular, each list element is a tuple of four elements: the first two are internal annotator IDs that can be safely ignored; the third term is the document ID (called URL) and the last one is the sentence number (ID) in the pointed document to consider.\n",
        "\n",
        "**Some Examples**\n",
        "\n",
        "---\n",
        "\n",
        "**Verifiable**\n",
        "\n",
        "{\"id\": 202314, \"verifiable\": \"VERIFIABLE\", \"label\": \"REFUTES\", \"claim\": \"The New Jersey Turnpike has zero shoulders.\", \"evidence\": [[[238335, 240393, \"New_Jersey_Turnpike\", 15]]]}\n",
        "\n",
        "---\n",
        "\n",
        "**Not Verifiable**\n",
        "\n",
        "{\"id\": 113501, \"verifiable\": \"NOT VERIFIABLE\", \"label\": \"NOT ENOUGH INFO\", \"claim\": \"Grease had bad reviews.\", \"evidence\": [[[133128, null, null, null]]]}\n",
        "\n",
        "---"
      ]
    },
    {
      "cell_type": "markdown",
      "metadata": {
        "id": "nex_8UM4VWuY"
      },
      "source": [
        "## Some simplifications and pre-processing\n",
        "\n",
        "We are only interested in verifiable facts. Thus, we can filter out all non-verifiable claims.\n",
        "\n",
        "Additionally, the current dataset format does not contain all necessary information for our classification purposes. In particular, we need to download Wikipedia documents and replace reported evidence IDs with the corresponding text.\n",
        "\n",
        "Don't worry about that! We are providing you the already pre-processed dataset so that you can concentrate on the classification pipeline (pre-processing, model definition, evaluation and training).\n",
        "\n",
        "You can download the zip file containing all set splits (train, validation and test) of the FEVER dataset by clicking on this [link](https://drive.google.com/file/d/1wArZhF9_SHW17WKNGeLmX-QTYw9Zscl1/view?usp=sharing). Alternatively, run the below code cell to automatically download it on this notebook.\n",
        "\n",
        "**Note**: each dataset split is in .csv format. Feel free to inspect the whole dataset!"
      ]
    },
    {
      "cell_type": "code",
      "metadata": {
        "id": "BspxZcRjW0NG",
        "colab": {
          "base_uri": "https://localhost:8080/"
        },
        "outputId": "8b2ab368-c806-4a57-f0c2-8d05664c26e9"
      },
      "source": [
        "import os\n",
        "import requests\n",
        "import zipfile\n",
        "\n",
        "def save_response_content(response, destination):\n",
        "    CHUNK_SIZE = 32768\n",
        "\n",
        "    with open(destination, \"wb\") as f:\n",
        "        for chunk in response.iter_content(CHUNK_SIZE):\n",
        "            if chunk: # filter out keep-alive new chunks\n",
        "                f.write(chunk)\n",
        "\n",
        "def download_data(data_path):\n",
        "    toy_data_path = os.path.join(data_path, 'fever_data.zip')\n",
        "    toy_data_url_id = \"1wArZhF9_SHW17WKNGeLmX-QTYw9Zscl1\"\n",
        "    toy_url = \"https://docs.google.com/uc?export=download\"\n",
        "\n",
        "    if not os.path.exists(data_path):\n",
        "        os.makedirs(data_path)\n",
        "\n",
        "    if not os.path.exists(toy_data_path):\n",
        "        print(\"Downloading FEVER data splits...\")\n",
        "        with requests.Session() as current_session:\n",
        "            response = current_session.get(toy_url,\n",
        "                                   params={'id': toy_data_url_id},\n",
        "                                   stream=True)\n",
        "        save_response_content(response, toy_data_path)\n",
        "        print(\"Download completed!\")\n",
        "\n",
        "        print(\"Extracting dataset...\")\n",
        "        with zipfile.ZipFile(toy_data_path) as loaded_zip:\n",
        "            loaded_zip.extractall(data_path)\n",
        "        print(\"Extraction completed!\")\n",
        "\n",
        "download_data('dataset')"
      ],
      "execution_count": 1,
      "outputs": [
        {
          "output_type": "stream",
          "text": [
            "Downloading FEVER data splits...\n",
            "Download completed!\n",
            "Extracting dataset...\n",
            "Extraction completed!\n"
          ],
          "name": "stdout"
        }
      ]
    },
    {
      "cell_type": "code",
      "metadata": {
        "colab": {
          "base_uri": "https://localhost:8080/"
        },
        "id": "ctcNa-ZbUnxq",
        "outputId": "cdc6d693-76f1-414d-e46a-8da67b58b420"
      },
      "source": [
        "# usefuls import\n",
        "import pandas as pd\n",
        "import re\n",
        "from nltk.stem.porter import PorterStemmer\n",
        "from sklearn.feature_extraction.text import CountVectorizer\n",
        "import nltk\n",
        "import collections\n",
        "import matplotlib.pyplot as plt\n",
        "from nltk.stem import PorterStemmer\n",
        "import numpy as np\n",
        "from string import ascii_letters, digits, whitespace,punctuation\n",
        "nltk.download('stopwords')\n",
        "from nltk.corpus import stopwords\n",
        "import tensorflow as tf\n",
        "from tensorflow.keras.layers.experimental.preprocessing import TextVectorization\n",
        "from collections import namedtuple\n",
        "from copy import deepcopy\n",
        "import gensim\n",
        "import gensim.downloader as gloader\n",
        "from keras.models import Sequential,Model\n",
        "from keras.layers import Dense, Embedding, LSTM, Bidirectional, Dropout,Flatten,Input,Average,Add,Concatenate\n",
        "from sklearn.metrics import classification_report, confusion_matrix, plot_confusion_matrix,f1_score\n",
        "import seaborn as sns\n",
        "from google.colab import drive\n",
        "drive.mount('/content/drive')"
      ],
      "execution_count": 2,
      "outputs": [
        {
          "output_type": "stream",
          "text": [
            "[nltk_data] Downloading package stopwords to /root/nltk_data...\n",
            "[nltk_data]   Unzipping corpora/stopwords.zip.\n",
            "Mounted at /content/drive\n"
          ],
          "name": "stdout"
        }
      ]
    },
    {
      "cell_type": "code",
      "metadata": {
        "colab": {
          "base_uri": "https://localhost:8080/",
          "height": 202
        },
        "id": "eqpAKXiN4waa",
        "outputId": "b570101b-65b3-4f8a-c71d-12682e217d8f"
      },
      "source": [
        "tr_df = pd.read_csv('./dataset/train_pairs.csv',usecols=['Claim','Evidence','ID','Label'])\n",
        "vl_df = pd.read_csv('./dataset/val_pairs.csv',usecols=['Claim','Evidence','ID','Label'])\n",
        "ts_df = pd.read_csv('./dataset/test_pairs.csv',usecols=['Claim','Evidence','ID','Label'])\n",
        "tr_df.head()"
      ],
      "execution_count": 3,
      "outputs": [
        {
          "output_type": "execute_result",
          "data": {
            "text/html": [
              "<div>\n",
              "<style scoped>\n",
              "    .dataframe tbody tr th:only-of-type {\n",
              "        vertical-align: middle;\n",
              "    }\n",
              "\n",
              "    .dataframe tbody tr th {\n",
              "        vertical-align: top;\n",
              "    }\n",
              "\n",
              "    .dataframe thead th {\n",
              "        text-align: right;\n",
              "    }\n",
              "</style>\n",
              "<table border=\"1\" class=\"dataframe\">\n",
              "  <thead>\n",
              "    <tr style=\"text-align: right;\">\n",
              "      <th></th>\n",
              "      <th>Claim</th>\n",
              "      <th>Evidence</th>\n",
              "      <th>ID</th>\n",
              "      <th>Label</th>\n",
              "    </tr>\n",
              "  </thead>\n",
              "  <tbody>\n",
              "    <tr>\n",
              "      <th>0</th>\n",
              "      <td>Chris Hemsworth appeared in A Perfect Getaway.</td>\n",
              "      <td>2\\tHemsworth has also appeared in the science ...</td>\n",
              "      <td>3</td>\n",
              "      <td>SUPPORTS</td>\n",
              "    </tr>\n",
              "    <tr>\n",
              "      <th>1</th>\n",
              "      <td>Roald Dahl is a writer.</td>\n",
              "      <td>0\\tRoald Dahl -LRB- -LSB- langpronˈroʊ.əld _ ˈ...</td>\n",
              "      <td>7</td>\n",
              "      <td>SUPPORTS</td>\n",
              "    </tr>\n",
              "    <tr>\n",
              "      <th>2</th>\n",
              "      <td>Roald Dahl is a governor.</td>\n",
              "      <td>0\\tRoald Dahl -LRB- -LSB- langpronˈroʊ.əld _ ˈ...</td>\n",
              "      <td>8</td>\n",
              "      <td>REFUTES</td>\n",
              "    </tr>\n",
              "    <tr>\n",
              "      <th>3</th>\n",
              "      <td>Ireland has relatively low-lying mountains.</td>\n",
              "      <td>10\\tThe island 's geography comprises relative...</td>\n",
              "      <td>9</td>\n",
              "      <td>SUPPORTS</td>\n",
              "    </tr>\n",
              "    <tr>\n",
              "      <th>4</th>\n",
              "      <td>Ireland does not have relatively low-lying mou...</td>\n",
              "      <td>10\\tThe island 's geography comprises relative...</td>\n",
              "      <td>10</td>\n",
              "      <td>REFUTES</td>\n",
              "    </tr>\n",
              "  </tbody>\n",
              "</table>\n",
              "</div>"
            ],
            "text/plain": [
              "                                               Claim  ...     Label\n",
              "0     Chris Hemsworth appeared in A Perfect Getaway.  ...  SUPPORTS\n",
              "1                            Roald Dahl is a writer.  ...  SUPPORTS\n",
              "2                          Roald Dahl is a governor.  ...   REFUTES\n",
              "3        Ireland has relatively low-lying mountains.  ...  SUPPORTS\n",
              "4  Ireland does not have relatively low-lying mou...  ...   REFUTES\n",
              "\n",
              "[5 rows x 4 columns]"
            ]
          },
          "metadata": {
            "tags": []
          },
          "execution_count": 3
        }
      ]
    },
    {
      "cell_type": "markdown",
      "metadata": {
        "id": "wDE1E_gORqOw"
      },
      "source": [
        "Obviously, the dataset needs some preprocessing.  \n",
        "We will:\n",
        "* lower case each sentence\n",
        "* get rid of specials and non alphanumeric tokens in the Evidence sequence\n",
        "* get rid of the number at the beginning of each evidence\n",
        "* stem each sentence\n",
        "\n",
        "But first, let's look at the dataset"
      ]
    },
    {
      "cell_type": "code",
      "metadata": {
        "colab": {
          "base_uri": "https://localhost:8080/",
          "height": 339
        },
        "id": "2G9OgkVu9ZsX",
        "outputId": "204b71a4-57b0-4029-8799-e7ff3a635ad8"
      },
      "source": [
        "tr_df.drop(labels=['Claim','Evidence'],axis=1).groupby(['Label']).count().plot.bar()\n",
        "print(f\" samples : {tr_df.shape[0]}\")"
      ],
      "execution_count": 4,
      "outputs": [
        {
          "output_type": "stream",
          "text": [
            " samples : 121740\n"
          ],
          "name": "stdout"
        },
        {
          "output_type": "display_data",
          "data": {
            "image/png": "[encoded data removed]",
            "text/plain": [
              "<Figure size 432x288 with 1 Axes>"
            ]
          },
          "metadata": {
            "tags": [],
            "needs_background": "light"
          }
        }
      ]
    },
    {
      "cell_type": "markdown",
      "metadata": {
        "id": "YD3k4T9sSljy"
      },
      "source": [
        "**The SUPPORTS class is more represented than the REFUTES class in the training dataset.**   \n",
        "Classes are imbalanced. That could be a problem when we will train and analyse our model."
      ]
    },
    {
      "cell_type": "code",
      "metadata": {
        "colab": {
          "base_uri": "https://localhost:8080/",
          "height": 339
        },
        "id": "wbtOVUFATRub",
        "outputId": "379f10b0-6e2c-416e-e9cc-001708dc08bb"
      },
      "source": [
        "vl_df.drop(labels=['Claim','Evidence'],axis=1).groupby(['Label']).count().plot.bar()\n",
        "print(f\" samples : {vl_df.shape[0]}\")"
      ],
      "execution_count": 5,
      "outputs": [
        {
          "output_type": "stream",
          "text": [
            " samples : 7165\n"
          ],
          "name": "stdout"
        },
        {
          "output_type": "display_data",
          "data": {
            "image/png": "[encoded data removed]",
            "text/plain": [
              "<Figure size 432x288 with 1 Axes>"
            ]
          },
          "metadata": {
            "tags": [],
            "needs_background": "light"
          }
        }
      ]
    },
    {
      "cell_type": "markdown",
      "metadata": {
        "id": "-v3OMcTTTeCA"
      },
      "source": [
        "The validation dataset is more balanced. "
      ]
    },
    {
      "cell_type": "code",
      "metadata": {
        "colab": {
          "base_uri": "https://localhost:8080/",
          "height": 70
        },
        "id": "p9ecs5oN--W4",
        "outputId": "f532d92b-294e-4d17-acb2-2a4cbf5e4ae3"
      },
      "source": [
        "tr_df.iloc[1]['Evidence']"
      ],
      "execution_count": 6,
      "outputs": [
        {
          "output_type": "execute_result",
          "data": {
            "application/vnd.google.colaboratory.intrinsic+json": {
              "type": "string"
            },
            "text/plain": [
              "'0\\tRoald Dahl -LRB- -LSB- langpronˈroʊ.əld _ ˈdɑːl -RSB- , -LSB- ˈɾuːɑl dɑl -RSB- ; 13 September 1916 -- 23 November 1990 -RRB- was a British novelist , short story writer , poet , screenwriter , and fighter pilot .\\tfighter pilot\\tfighter pilot'"
            ]
          },
          "metadata": {
            "tags": []
          },
          "execution_count": 6
        }
      ]
    },
    {
      "cell_type": "markdown",
      "metadata": {
        "id": "woTrmygj_pVi"
      },
      "source": [
        "The text obviously needs some preprocessing "
      ]
    },
    {
      "cell_type": "code",
      "metadata": {
        "id": "Lw8cpY1GAqUT"
      },
      "source": [
        "def count_word(df):\n",
        "  counts = []\n",
        "  for col in ['Evidence','Claim']:\n",
        "    count = df[col].str.split().str.len()\n",
        "    count.index = count.index.astype(str) + ' words:'\n",
        "    count.sort_index(inplace=True)\n",
        "    counts.append(count)\n",
        "  return counts"
      ],
      "execution_count": 7,
      "outputs": []
    },
    {
      "cell_type": "code",
      "metadata": {
        "id": "M7UxWyVXBt2T"
      },
      "source": [
        "tr_counts = count_word(tr_df)\n",
        "vl_counts = count_word(vl_df)"
      ],
      "execution_count": 8,
      "outputs": []
    },
    {
      "cell_type": "code",
      "metadata": {
        "colab": {
          "base_uri": "https://localhost:8080/",
          "height": 421
        },
        "id": "0rCVGblHB6tt",
        "outputId": "b90189bc-2a4e-40a7-db1e-9e88378764a4"
      },
      "source": [
        "# Evidence\n",
        "tr_counts[0].hist()\n",
        "tr_counts[0].describe()"
      ],
      "execution_count": 9,
      "outputs": [
        {
          "output_type": "execute_result",
          "data": {
            "text/plain": [
              "count    121740.000000\n",
              "mean         48.197585\n",
              "std          25.980218\n",
              "min           2.000000\n",
              "25%          30.000000\n",
              "50%          43.000000\n",
              "75%          59.000000\n",
              "max         237.000000\n",
              "Name: Evidence, dtype: float64"
            ]
          },
          "metadata": {
            "tags": []
          },
          "execution_count": 9
        },
        {
          "output_type": "display_data",
          "data": {
            "image/png": "[encoded data removed]",
            "text/plain": [
              "<Figure size 432x288 with 1 Axes>"
            ]
          },
          "metadata": {
            "tags": [],
            "needs_background": "light"
          }
        }
      ]
    },
    {
      "cell_type": "markdown",
      "metadata": {
        "id": "ay6wTtdHEJco"
      },
      "source": [
        "As we can see, the longest evidence in the training set contains 237 words "
      ]
    },
    {
      "cell_type": "code",
      "metadata": {
        "colab": {
          "base_uri": "https://localhost:8080/",
          "height": 421
        },
        "id": "imnP1Z-RDpNT",
        "outputId": "99af923d-89f3-4b64-b3f9-73655235379a"
      },
      "source": [
        "tr_counts[1].hist()\n",
        "tr_counts[1].describe()"
      ],
      "execution_count": 10,
      "outputs": [
        {
          "output_type": "execute_result",
          "data": {
            "text/plain": [
              "count    121740.000000\n",
              "mean          8.220174\n",
              "std           3.317578\n",
              "min           2.000000\n",
              "25%           6.000000\n",
              "50%           8.000000\n",
              "75%          10.000000\n",
              "max          65.000000\n",
              "Name: Claim, dtype: float64"
            ]
          },
          "metadata": {
            "tags": []
          },
          "execution_count": 10
        },
        {
          "output_type": "display_data",
          "data": {
            "image/png": "[encoded data removed]",
            "text/plain": [
              "<Figure size 432x288 with 1 Axes>"
            ]
          },
          "metadata": {
            "tags": [],
            "needs_background": "light"
          }
        }
      ]
    },
    {
      "cell_type": "markdown",
      "metadata": {
        "id": "t51WB1HwEhSM"
      },
      "source": [
        "The longest claim contains 64 words"
      ]
    },
    {
      "cell_type": "code",
      "metadata": {
        "colab": {
          "base_uri": "https://localhost:8080/"
        },
        "id": "i64EzoxlaGxg",
        "outputId": "5dc1f132-bf56-42ee-ecd3-4d56b5332141"
      },
      "source": [
        "print(f\"the whole training set contains {tr_counts[0].sum()+tr_counts[1].sum()} words\")"
      ],
      "execution_count": 11,
      "outputs": [
        {
          "output_type": "stream",
          "text": [
            "the whole training set contains 6868298 words\n"
          ],
          "name": "stdout"
        }
      ]
    },
    {
      "cell_type": "code",
      "metadata": {
        "colab": {
          "base_uri": "https://localhost:8080/",
          "height": 421
        },
        "id": "bHVlrZRxDfM-",
        "outputId": "50239be4-d6c4-4796-b88e-bebdcdd96bc3"
      },
      "source": [
        "vl_counts[0].hist()\n",
        "vl_counts[0].describe()"
      ],
      "execution_count": 12,
      "outputs": [
        {
          "output_type": "execute_result",
          "data": {
            "text/plain": [
              "count    7165.000000\n",
              "mean       42.116539\n",
              "std        20.759429\n",
              "min         8.000000\n",
              "25%        27.000000\n",
              "50%        37.000000\n",
              "75%        52.000000\n",
              "max       208.000000\n",
              "Name: Evidence, dtype: float64"
            ]
          },
          "metadata": {
            "tags": []
          },
          "execution_count": 12
        },
        {
          "output_type": "display_data",
          "data": {
            "image/png": "[encoded data removed]",
            "text/plain": [
              "<Figure size 432x288 with 1 Axes>"
            ]
          },
          "metadata": {
            "tags": [],
            "needs_background": "light"
          }
        }
      ]
    },
    {
      "cell_type": "code",
      "metadata": {
        "colab": {
          "base_uri": "https://localhost:8080/",
          "height": 423
        },
        "id": "tJm_BFqkD7Ba",
        "outputId": "654e72f6-e82a-49cd-ab18-342652197580"
      },
      "source": [
        "vl_counts[1].hist()\n",
        "vl_counts[1].describe()"
      ],
      "execution_count": 13,
      "outputs": [
        {
          "output_type": "execute_result",
          "data": {
            "text/plain": [
              "count    7165.000000\n",
              "mean        8.230286\n",
              "std         2.973830\n",
              "min         2.000000\n",
              "25%         6.000000\n",
              "50%         8.000000\n",
              "75%        10.000000\n",
              "max        31.000000\n",
              "Name: Claim, dtype: float64"
            ]
          },
          "metadata": {
            "tags": []
          },
          "execution_count": 13
        },
        {
          "output_type": "display_data",
          "data": {
            "image/png": "[encoded data removed]",
            "text/plain": [
              "<Figure size 432x288 with 1 Axes>"
            ]
          },
          "metadata": {
            "tags": [],
            "needs_background": "light"
          }
        }
      ]
    },
    {
      "cell_type": "code",
      "metadata": {
        "colab": {
          "base_uri": "https://localhost:8080/"
        },
        "id": "N54MisYFaZjW",
        "outputId": "f5238b59-af39-4483-8757-881c45a2d9f6"
      },
      "source": [
        "print(f\"the whole validation set contains {vl_counts[0].sum()+vl_counts[1].sum()} words\")"
      ],
      "execution_count": 14,
      "outputs": [
        {
          "output_type": "stream",
          "text": [
            "the whole validation set contains 360735 words\n"
          ],
          "name": "stdout"
        }
      ]
    },
    {
      "cell_type": "markdown",
      "metadata": {
        "id": "HCVK1ZTyEnwh"
      },
      "source": [
        "OK in this part we have seen that sentences in our datasets aren't very long.  \n",
        "We have a sentence in the training set which has only 2 words.  \n",
        "We need to take care of that when we will preprocess the text."
      ]
    },
    {
      "cell_type": "markdown",
      "metadata": {
        "id": "VdZ6rIsPT14x"
      },
      "source": [
        "Ok now we know that maybe the training set isn't great, we can preprocess the text."
      ]
    },
    {
      "cell_type": "markdown",
      "metadata": {
        "id": "RbH_8errW5MH"
      },
      "source": [
        "# Classification dataset\n",
        "\n",
        "At this point, you should have a reay-to-go dataset! Note that the dataset format changed as well! In particular, we split the evidence set associated to each claim, in order to build (claim, evidence) pairs. The classification label is propagated as well.\n",
        "\n",
        "We'll motivate this decision in the next section!\n",
        "\n",
        "Just for clarity, here's an example of the pre-processed dataset:\n",
        "\n",
        "---\n",
        "\n",
        "**Claim**: \"Wentworth Miller is yet to make his screenwriting debut.\"\n",
        "\n",
        "**Evidence**: \"2\tHe made his screenwriting debut with the 2013 thriller film Stoker .\tStoker\tStoker (film)\"\n",
        "\n",
        "**Label**: Refutes\n",
        "\n",
        "---\n",
        "\n",
        "**Note**: The dataset requires some text cleaning as you may notice!\n"
      ]
    },
    {
      "cell_type": "code",
      "metadata": {
        "id": "mZManGZXpqKN"
      },
      "source": [
        "def allowed_char(text):\n",
        "  allowed_char = ascii_letters + digits + whitespace + punctuation\n",
        "  return \"\".join([c for c in text if c in allowed_char])\n",
        "\n",
        "def remove_tokens(text):\n",
        "  regex = '(-[a-zA-Z]+-)'\n",
        "  return re.sub(regex,'',text)\n",
        "\n",
        "def remove_last_sentence(text):\n",
        "  return text.split('\\t')[1]\n",
        "\n",
        "def to_lower(text):\n",
        "  return text.lower()\n",
        "\n",
        "def remove_stopwords(text):\n",
        "    stopwords_list = stopwords.words('english')\n",
        "    whitelist = [\"n't\",'no','not','none','nobody','nothing','neither','nowhere','never',\n",
        "                 \"doesn't\",\"isn't\",\"wasn't\",\"shouldn't\",\"wouldn't\",\"couldn't\",\"won't\",\"can't\",\"don't\"]\n",
        "    words = text.split() \n",
        "    clean_words = [word for word in words if (word not in stopwords_list or word in whitelist) and len(word) > 1] \n",
        "    return \" \".join(clean_words) \n",
        "\n",
        "def stem(text):\n",
        "  porter = PorterStemmer()\n",
        "  words = text.split() \n",
        "  stemmed_words = [porter.stem(word) for word in words]\n",
        "  return \" \".join(stemmed_words)\n",
        "\n",
        "def remove_punctuation(text):\n",
        "  # Make translation table\n",
        "  trantab = str.maketrans(punctuation, len(punctuation)*' ')  # Every punctuation symbol will be replaced by a space\n",
        "  return text.translate(trantab)\n",
        "\n",
        "def preprocess_pipeline(text,remove=False):\n",
        "  if remove:\n",
        "    text = remove_last_sentence(text)\n",
        "  text = allowed_char(text)\n",
        "  text = remove_tokens(text)\n",
        "  text = to_lower(text)\n",
        "  text = remove_punctuation(text)\n",
        "  text = remove_stopwords(text)\n",
        "  #text = stem(text)\n",
        "  return text.strip()\n",
        "\n",
        "def clean_df(df):\n",
        "  df = df\n",
        "  cols = [\"Claim\",\"Evidence\"]\n",
        "  c_col = df['Claim'].apply(preprocess_pipeline)\n",
        "  e_col = df['Evidence'].apply(lambda x:preprocess_pipeline(x,True))\n",
        "  df['Claim'] = c_col\n",
        "  df['Evidence'] = e_col\n",
        "  return df"
      ],
      "execution_count": 15,
      "outputs": []
    },
    {
      "cell_type": "code",
      "metadata": {
        "id": "t58GdpIutj07"
      },
      "source": [
        "tr_df = clean_df(tr_df)\n",
        "ts_df_ = clean_df(ts_df)\n",
        "vl_df = clean_df(vl_df)"
      ],
      "execution_count": 16,
      "outputs": []
    },
    {
      "cell_type": "code",
      "metadata": {
        "colab": {
          "base_uri": "https://localhost:8080/",
          "height": 202
        },
        "id": "0I4AEX3ytuy6",
        "outputId": "5b072f94-b66e-424b-cb75-9a8f736664d7"
      },
      "source": [
        "tr_df.head()"
      ],
      "execution_count": 17,
      "outputs": [
        {
          "output_type": "execute_result",
          "data": {
            "text/html": [
              "<div>\n",
              "<style scoped>\n",
              "    .dataframe tbody tr th:only-of-type {\n",
              "        vertical-align: middle;\n",
              "    }\n",
              "\n",
              "    .dataframe tbody tr th {\n",
              "        vertical-align: top;\n",
              "    }\n",
              "\n",
              "    .dataframe thead th {\n",
              "        text-align: right;\n",
              "    }\n",
              "</style>\n",
              "<table border=\"1\" class=\"dataframe\">\n",
              "  <thead>\n",
              "    <tr style=\"text-align: right;\">\n",
              "      <th></th>\n",
              "      <th>Claim</th>\n",
              "      <th>Evidence</th>\n",
              "      <th>ID</th>\n",
              "      <th>Label</th>\n",
              "    </tr>\n",
              "  </thead>\n",
              "  <tbody>\n",
              "    <tr>\n",
              "      <th>0</th>\n",
              "      <td>chris hemsworth appeared perfect getaway</td>\n",
              "      <td>hemsworth also appeared science fiction action...</td>\n",
              "      <td>3</td>\n",
              "      <td>SUPPORTS</td>\n",
              "    </tr>\n",
              "    <tr>\n",
              "      <th>1</th>\n",
              "      <td>roald dahl writer</td>\n",
              "      <td>roald dahl langpronro ld dl ul dl 13 september...</td>\n",
              "      <td>7</td>\n",
              "      <td>SUPPORTS</td>\n",
              "    </tr>\n",
              "    <tr>\n",
              "      <th>2</th>\n",
              "      <td>roald dahl governor</td>\n",
              "      <td>roald dahl langpronro ld dl ul dl 13 september...</td>\n",
              "      <td>8</td>\n",
              "      <td>REFUTES</td>\n",
              "    </tr>\n",
              "    <tr>\n",
              "      <th>3</th>\n",
              "      <td>ireland relatively low lying mountains</td>\n",
              "      <td>island geography comprises relatively low lyin...</td>\n",
              "      <td>9</td>\n",
              "      <td>SUPPORTS</td>\n",
              "    </tr>\n",
              "    <tr>\n",
              "      <th>4</th>\n",
              "      <td>ireland not relatively low lying mountains</td>\n",
              "      <td>island geography comprises relatively low lyin...</td>\n",
              "      <td>10</td>\n",
              "      <td>REFUTES</td>\n",
              "    </tr>\n",
              "  </tbody>\n",
              "</table>\n",
              "</div>"
            ],
            "text/plain": [
              "                                        Claim  ...     Label\n",
              "0    chris hemsworth appeared perfect getaway  ...  SUPPORTS\n",
              "1                           roald dahl writer  ...  SUPPORTS\n",
              "2                         roald dahl governor  ...   REFUTES\n",
              "3      ireland relatively low lying mountains  ...  SUPPORTS\n",
              "4  ireland not relatively low lying mountains  ...   REFUTES\n",
              "\n",
              "[5 rows x 4 columns]"
            ]
          },
          "metadata": {
            "tags": []
          },
          "execution_count": 17
        }
      ]
    },
    {
      "cell_type": "code",
      "metadata": {
        "colab": {
          "base_uri": "https://localhost:8080/",
          "height": 202
        },
        "id": "06Mrw4HOumRd",
        "outputId": "eb71aa37-17b8-41bc-9449-c97fedd229f7"
      },
      "source": [
        "vl_df.head()"
      ],
      "execution_count": 18,
      "outputs": [
        {
          "output_type": "execute_result",
          "data": {
            "text/html": [
              "<div>\n",
              "<style scoped>\n",
              "    .dataframe tbody tr th:only-of-type {\n",
              "        vertical-align: middle;\n",
              "    }\n",
              "\n",
              "    .dataframe tbody tr th {\n",
              "        vertical-align: top;\n",
              "    }\n",
              "\n",
              "    .dataframe thead th {\n",
              "        text-align: right;\n",
              "    }\n",
              "</style>\n",
              "<table border=\"1\" class=\"dataframe\">\n",
              "  <thead>\n",
              "    <tr style=\"text-align: right;\">\n",
              "      <th></th>\n",
              "      <th>Claim</th>\n",
              "      <th>Evidence</th>\n",
              "      <th>ID</th>\n",
              "      <th>Label</th>\n",
              "    </tr>\n",
              "  </thead>\n",
              "  <tbody>\n",
              "    <tr>\n",
              "      <th>0</th>\n",
              "      <td>indian army comprises part country active defe...</td>\n",
              "      <td>volunteer force comprises 80 country active de...</td>\n",
              "      <td>98304</td>\n",
              "      <td>SUPPORTS</td>\n",
              "    </tr>\n",
              "    <tr>\n",
              "      <th>1</th>\n",
              "      <td>recovery features rihanna</td>\n",
              "      <td>eminem also collaborated artists pink lil wayn...</td>\n",
              "      <td>98305</td>\n",
              "      <td>SUPPORTS</td>\n",
              "    </tr>\n",
              "    <tr>\n",
              "      <th>2</th>\n",
              "      <td>rihanna recovery</td>\n",
              "      <td>eminem also collaborated artists pink lil wayn...</td>\n",
              "      <td>98306</td>\n",
              "      <td>SUPPORTS</td>\n",
              "    </tr>\n",
              "    <tr>\n",
              "      <th>3</th>\n",
              "      <td>philomena nominated</td>\n",
              "      <td>film nominated four categories 86th academy aw...</td>\n",
              "      <td>27307</td>\n",
              "      <td>SUPPORTS</td>\n",
              "    </tr>\n",
              "    <tr>\n",
              "      <th>4</th>\n",
              "      <td>vietnam mascot</td>\n",
              "      <td>vietnam vt nm officially socialist republic vi...</td>\n",
              "      <td>98312</td>\n",
              "      <td>REFUTES</td>\n",
              "    </tr>\n",
              "  </tbody>\n",
              "</table>\n",
              "</div>"
            ],
            "text/plain": [
              "                                               Claim  ...     Label\n",
              "0  indian army comprises part country active defe...  ...  SUPPORTS\n",
              "1                          recovery features rihanna  ...  SUPPORTS\n",
              "2                                   rihanna recovery  ...  SUPPORTS\n",
              "3                                philomena nominated  ...  SUPPORTS\n",
              "4                                     vietnam mascot  ...   REFUTES\n",
              "\n",
              "[5 rows x 4 columns]"
            ]
          },
          "metadata": {
            "tags": []
          },
          "execution_count": 18
        }
      ]
    },
    {
      "cell_type": "markdown",
      "metadata": {
        "id": "xDbR-CpJFJBb"
      },
      "source": [
        "We can recheck our distribution of words,  \n",
        "but before, as we said, there are maybe samples with no claim at all and we need to handle that."
      ]
    },
    {
      "cell_type": "code",
      "metadata": {
        "colab": {
          "base_uri": "https://localhost:8080/"
        },
        "id": "iZc_s1VlLflK",
        "outputId": "d974f7c6-eb55-4b60-bb20-4cf6c3f0004a"
      },
      "source": [
        "np.where(tr_df.applymap(lambda x: x == ''))"
      ],
      "execution_count": 19,
      "outputs": [
        {
          "output_type": "execute_result",
          "data": {
            "text/plain": [
              "(array([], dtype=int64), array([], dtype=int64))"
            ]
          },
          "metadata": {
            "tags": []
          },
          "execution_count": 19
        }
      ]
    },
    {
      "cell_type": "code",
      "metadata": {
        "colab": {
          "base_uri": "https://localhost:8080/"
        },
        "id": "2b91gRoNLg23",
        "outputId": "f9ce0ad8-067c-4c1a-b69c-2a20a6e18a0b"
      },
      "source": [
        "np.where(ts_df.applymap(lambda x: x == ''))"
      ],
      "execution_count": 20,
      "outputs": [
        {
          "output_type": "execute_result",
          "data": {
            "text/plain": [
              "(array([], dtype=int64), array([], dtype=int64))"
            ]
          },
          "metadata": {
            "tags": []
          },
          "execution_count": 20
        }
      ]
    },
    {
      "cell_type": "code",
      "metadata": {
        "colab": {
          "base_uri": "https://localhost:8080/"
        },
        "id": "nbwbgXbELiLW",
        "outputId": "4db1f401-14cc-4403-ec78-22271a54480d"
      },
      "source": [
        "np.where(vl_df.applymap(lambda x: x == ''))"
      ],
      "execution_count": 21,
      "outputs": [
        {
          "output_type": "execute_result",
          "data": {
            "text/plain": [
              "(array([], dtype=int64), array([], dtype=int64))"
            ]
          },
          "metadata": {
            "tags": []
          },
          "execution_count": 21
        }
      ]
    },
    {
      "cell_type": "markdown",
      "metadata": {
        "id": "JjVEG5L0LkJr"
      },
      "source": [
        "It's fine, all samples have still a claim"
      ]
    },
    {
      "cell_type": "code",
      "metadata": {
        "id": "kAZENgnNFPnu"
      },
      "source": [
        "tr_counts = count_word(tr_df)\n",
        "vl_counts = count_word(vl_df)\n",
        "ts_counts = count_word(ts_df)"
      ],
      "execution_count": 22,
      "outputs": []
    },
    {
      "cell_type": "code",
      "metadata": {
        "colab": {
          "base_uri": "https://localhost:8080/",
          "height": 421
        },
        "id": "lfAJVnTQFSUk",
        "outputId": "66438ddd-dd50-440c-a55a-f3331a3533d7"
      },
      "source": [
        "tr_counts[0].hist()\n",
        "tr_counts[0].describe()"
      ],
      "execution_count": 23,
      "outputs": [
        {
          "output_type": "execute_result",
          "data": {
            "text/plain": [
              "count    121740.000000\n",
              "mean         17.245655\n",
              "std           7.883754\n",
              "min           1.000000\n",
              "25%          12.000000\n",
              "50%          16.000000\n",
              "75%          21.000000\n",
              "max          90.000000\n",
              "Name: Evidence, dtype: float64"
            ]
          },
          "metadata": {
            "tags": []
          },
          "execution_count": 23
        },
        {
          "output_type": "display_data",
          "data": {
            "image/png": "[encoded data removed]",
            "text/plain": [
              "<Figure size 432x288 with 1 Axes>"
            ]
          },
          "metadata": {
            "tags": [],
            "needs_background": "light"
          }
        }
      ]
    },
    {
      "cell_type": "markdown",
      "metadata": {
        "id": "Moy0HcGkHvo7"
      },
      "source": [
        "We can see that our sentences are shorter because we removed the last one (because for lots of evidences it was just a redundant sentence )"
      ]
    },
    {
      "cell_type": "code",
      "metadata": {
        "colab": {
          "base_uri": "https://localhost:8080/",
          "height": 421
        },
        "id": "PZOiBlpnIEsU",
        "outputId": "54ce2a0d-f566-48f4-fb20-872cf679a3ba"
      },
      "source": [
        "tr_counts[1].hist()\n",
        "tr_counts[1].describe()"
      ],
      "execution_count": 24,
      "outputs": [
        {
          "output_type": "execute_result",
          "data": {
            "text/plain": [
              "count    121740.000000\n",
              "mean          5.391359\n",
              "std           2.243954\n",
              "min           1.000000\n",
              "25%           4.000000\n",
              "50%           5.000000\n",
              "75%           6.000000\n",
              "max          56.000000\n",
              "Name: Claim, dtype: float64"
            ]
          },
          "metadata": {
            "tags": []
          },
          "execution_count": 24
        },
        {
          "output_type": "display_data",
          "data": {
            "image/png": "[encoded data removed]",
            "text/plain": [
              "<Figure size 432x288 with 1 Axes>"
            ]
          },
          "metadata": {
            "tags": [],
            "needs_background": "light"
          }
        }
      ]
    },
    {
      "cell_type": "code",
      "metadata": {
        "colab": {
          "base_uri": "https://localhost:8080/"
        },
        "id": "9CdWe8oScf8u",
        "outputId": "63e8ff3e-5a02-43ef-e13a-54320d4fdb4c"
      },
      "source": [
        "print(f\"the whole training set contains {tr_counts[0].sum()+tr_counts[1].sum()} words\")"
      ],
      "execution_count": 25,
      "outputs": [
        {
          "output_type": "stream",
          "text": [
            "the whole training set contains 2755830 words\n"
          ],
          "name": "stdout"
        }
      ]
    },
    {
      "cell_type": "code",
      "metadata": {
        "colab": {
          "base_uri": "https://localhost:8080/",
          "height": 421
        },
        "id": "6Vwd-wcPQhOf",
        "outputId": "a66c2627-7e39-4c3a-d42f-883c146d6d9e"
      },
      "source": [
        "vl_counts[0].hist()\n",
        "vl_counts[0].describe()"
      ],
      "execution_count": 26,
      "outputs": [
        {
          "output_type": "execute_result",
          "data": {
            "text/plain": [
              "count    7165.000000\n",
              "mean       15.666574\n",
              "std         7.057023\n",
              "min         2.000000\n",
              "25%        11.000000\n",
              "50%        14.000000\n",
              "75%        19.000000\n",
              "max        77.000000\n",
              "Name: Evidence, dtype: float64"
            ]
          },
          "metadata": {
            "tags": []
          },
          "execution_count": 26
        },
        {
          "output_type": "display_data",
          "data": {
            "image/png": "[encoded data removed]",
            "text/plain": [
              "<Figure size 432x288 with 1 Axes>"
            ]
          },
          "metadata": {
            "tags": [],
            "needs_background": "light"
          }
        }
      ]
    },
    {
      "cell_type": "code",
      "metadata": {
        "colab": {
          "base_uri": "https://localhost:8080/",
          "height": 421
        },
        "id": "H1oFuU4BQVmp",
        "outputId": "93d31f24-1ebf-4cb8-8eef-977567750c35"
      },
      "source": [
        "vl_counts[1].hist()\n",
        "vl_counts[1].describe()"
      ],
      "execution_count": 27,
      "outputs": [
        {
          "output_type": "execute_result",
          "data": {
            "text/plain": [
              "count    7165.000000\n",
              "mean        5.316399\n",
              "std         1.947157\n",
              "min         2.000000\n",
              "25%         4.000000\n",
              "50%         5.000000\n",
              "75%         6.000000\n",
              "max        21.000000\n",
              "Name: Claim, dtype: float64"
            ]
          },
          "metadata": {
            "tags": []
          },
          "execution_count": 27
        },
        {
          "output_type": "display_data",
          "data": {
            "image/png": "[encoded data removed]",
            "text/plain": [
              "<Figure size 432x288 with 1 Axes>"
            ]
          },
          "metadata": {
            "tags": [],
            "needs_background": "light"
          }
        }
      ]
    },
    {
      "cell_type": "code",
      "metadata": {
        "colab": {
          "base_uri": "https://localhost:8080/"
        },
        "id": "VgxHOV3ndDbs",
        "outputId": "7b7ecf55-3659-49fd-b44c-2613c5d3d1fc"
      },
      "source": [
        "print(f\"the whole validation set contains {vl_counts[0].sum()+vl_counts[1].sum()} words\")"
      ],
      "execution_count": 28,
      "outputs": [
        {
          "output_type": "stream",
          "text": [
            "the whole validation set contains 150343 words\n"
          ],
          "name": "stdout"
        }
      ]
    },
    {
      "cell_type": "markdown",
      "metadata": {
        "id": "Oy9pTuNqSI3E"
      },
      "source": [
        "## Summary\n",
        "\n",
        "|           |        | before preprocessing | after preprocessing |\n",
        "|-----------|--------|----------------------|---------------------|\n",
        "|**training**   | samples|      121 740       |     121 740       |\n",
        "|           | tot. nb. words|     6 868 298 |     2 755 830    |\n",
        "|           | avg. words per claim|    8    |        5|\n",
        "|           | **max. words per claim**|    65    |       **56**|\n",
        "|           | avg. words per evidence|  48   |       17              |\n",
        "|           | **max. words per evidence**|    237    |       **90**|\n",
        "|           | avg. nb. sentences per claim| 1 |     1                |\n",
        "|           | avg. nb. sentences per evidence | 2  |  1                |\n",
        "|           |  REFUTES<br>SUPPORTS |  32 351 <br/> 89 389  | 32 351 <br> 89 389 |\n",
        "|-----------|---------------------------------------|----------------------|---------------------|\n",
        "|**validation**   | samples|      7 165       |     7 165       |\n",
        "|           | tot. nb. words|     367 742 |     150 343    |\n",
        "|           | avg. words per claim|    9    |        5|\n",
        "|           | **max. words per claim**|    31    |       **21**|\n",
        "|           | avg. words per evidence|  43   |       16              |\n",
        "|           | **max. words per evidence**|    208    |       **77**|\n",
        "|           | avg. nb. sentences per claim| 1 |     1                |\n",
        "|           | avg. nb. sentences per evidence | 2  |  1                |\n",
        "|           |  REFUTES<br>SUPPORTS |  3 554 <br/> 3 611  | 3 554 <br/> 3 611 |\n",
        "\n"
      ]
    },
    {
      "cell_type": "markdown",
      "metadata": {
        "id": "gH8hIK21Xrl0"
      },
      "source": [
        "# Problem formulation\n",
        "\n",
        "As mentioned at the beginning of the assignment, we are going to formulate the fact checking problem as a binary classification task.\n",
        "\n",
        "In particular, each dataset sample is comprised of:\n",
        "\n",
        "*     A claim to verify\n",
        "*     A set of semantically related statements (evidence set)\n",
        "*     Fact checking label: either evidences support or refute the claim.\n",
        "\n",
        "Handling the evidence set from the point of view of neural models may imply some additional complexity: if the evidence set is comprised of several sentences we might incur in memory problems.\n",
        "\n",
        "To this end, we further simplify the problem by building (claim, evidence) pairs. The fact checking label is propagated as well.\n",
        "\n",
        "Example:\n",
        "\n",
        "     Claim: c1 \n",
        "     Evidence set: [e1, e2, e3]\n",
        "     Label: S (support)\n",
        "\n",
        "--->\n",
        "\n",
        "    (c1, e1, S),\n",
        "    (c1, e2, S),\n",
        "    (c1, e3, S)"
      ]
    },
    {
      "cell_type": "markdown",
      "metadata": {
        "id": "E46flIz_zQy-"
      },
      "source": [
        "## Schema\n",
        "\n",
        "The overall binary classification problem is summed up by the following (simplified) schema\n",
        "\n",
        "![](https://drive.google.com/uc?export=view&id=1Wm_YBnFwgJtxcWEBpPbTBEVkpKaL08Jp)\n",
        "\n",
        "Don't worry too much about the **Encoding** block for now. We'll give you some simple guidelines about its definition. For the moment, stick to the binary classification task definition where, in this case, we have 2 inputs: the claim to verify and one of its associated evidences."
      ]
    },
    {
      "cell_type": "markdown",
      "metadata": {
        "id": "LsiTV-NVdgsF"
      },
      "source": [
        "# Architecture Guidelines\n",
        "\n",
        "There are many neural architectures that follow the above schema. To avoid phenomena like the writer's block, in this section we are going to give you some implementation guidelines.\n",
        "\n",
        "In particular, we would like you to test some implementations so that you explore basic approaches (neural baselines) and use them as building blocks for possible extensions."
      ]
    },
    {
      "cell_type": "markdown",
      "metadata": {
        "id": "ZJBQm47fe7iE"
      },
      "source": [
        "## Handling multiple inputs\n",
        "\n",
        "The first thing to notice is that we are in a multi-input scenario. In particular, each sample is comprised of a fact and its asssociated evidence statement.\n",
        "\n",
        "Each of these input is encoded as a sequence of tokens. In particular, we will have the following input matrices:\n",
        "\n",
        "*    Claim: [batch_size, max_tokens]\n",
        "*    Evidence: [batch_size, max_tokens]\n",
        "\n",
        "Moreover, after the embedding layer, we'll have:\n",
        "\n",
        "*    Claim: [batch_size, max_tokens, embedding_dim]\n",
        "*    Evidence: [batch_size, max_tokens, embedding_dim]\n",
        "\n",
        "But, we would like to have a 2D input to our classifier, since we have to give an answer at pair level. Therefore, for each sample, we would expect the following input shape to our classification block:\n",
        "\n",
        "*   Classification input shape: [batch_size, dim]\n",
        "\n",
        "**How to do that?**\n",
        "\n",
        "We inherently need to reduce the token sequence to a single representation. This operation is formally known as **sentence embedding**. Indeed, we are trying to compress the information of a whole sequence into a single embedding vector.\n",
        "\n",
        "Here are some simple solutions that we ask you to try out:\n",
        "\n",
        "*   Encode token sequences via a RNN and take the last state as the sentence embedding.\n",
        "\n",
        "*   Encode token sequences via a RNN and average all the output states.\n",
        "\n",
        "*   Encode token sequences via a simple MLP layer. In particular, if your input is a [batch_size, max_tokens, embedding_dim] tensor, the matrix multiplication works on the **max_tokens** dimension, resulting in a [batch_size, embedding_dim] 2D matrix.\n",
        "\n",
        "*   Compute the sentence embedding as the mean of its token embeddings (**bag of vectors**)."
      ]
    },
    {
      "cell_type": "markdown",
      "metadata": {
        "id": "-do7G7AJopq9"
      },
      "source": [
        "# Vocabulary and tokenization\n",
        "\n",
        "The Glove embedding will be our bare vocabulary, we will add sequentially words from the training, validation and test set, as done in the previous assignment.  \n",
        "\n",
        "**NOTE :** In a real case scenario, we surely wouldn't do that. Indeed, the real steps are:\n",
        "1. Starting vocabulary V1 (in this assignment, GloVe vocabulary)\n",
        "2. Compute embeddings for terms out of vocabulary V1 (OOV1) of the training split \n",
        "3. Add embeddings to the vocabulary, so to obtain vocabulary V2\n",
        "4. Training of the model(s)\n",
        "5. Compute embeddings for terms OOV2 of the validation split \n",
        "6. Add embeddings to the vocabulary, so to obtain vocabulary V3\n",
        "7. Validation of the model(s)\n",
        "8. Compute embeddings for terms OOV3 of the test split \n",
        "9. Add embeddings to the vocabulary, so to obtain vocabulary V4\n",
        "10. Testing of the final model \n"
      ]
    },
    {
      "cell_type": "code",
      "metadata": {
        "id": "PmeGCYEFnOCL"
      },
      "source": [
        "EMBEDDING_SIZE = 300\n",
        "MAX_LEN = 100"
      ],
      "execution_count": 29,
      "outputs": []
    },
    {
      "cell_type": "code",
      "metadata": {
        "id": "-dt9oRDVpBWY"
      },
      "source": [
        "def download_glove_embedding(embedding_dimension=50):\n",
        "  download_path = \"glove-wiki-gigaword-{}\".format(embedding_dimension)\n",
        "  try:\n",
        "    emb_model = gloader.load(download_path)\n",
        "  except ValueError as e:\n",
        "      print(\"Glove: 50, 100, 200, 300\")\n",
        "      raise e\n",
        "  return emb_model"
      ],
      "execution_count": 30,
      "outputs": []
    },
    {
      "cell_type": "code",
      "metadata": {
        "id": "R99DAaV4pFD3",
        "colab": {
          "base_uri": "https://localhost:8080/"
        },
        "outputId": "6be8213d-a0b1-4dfd-c98e-2cc8c0abff36"
      },
      "source": [
        "glove_model = download_glove_embedding(EMBEDDING_SIZE)"
      ],
      "execution_count": 31,
      "outputs": [
        {
          "output_type": "stream",
          "text": [
            "[==================================================] 100.0% 376.1/376.1MB downloaded\n"
          ],
          "name": "stdout"
        }
      ]
    },
    {
      "cell_type": "code",
      "metadata": {
        "id": "qJU_eAC8pWCK"
      },
      "source": [
        "vocab = deepcopy(glove_model.vocab)"
      ],
      "execution_count": 32,
      "outputs": []
    },
    {
      "cell_type": "code",
      "metadata": {
        "colab": {
          "base_uri": "https://localhost:8080/"
        },
        "id": "j7a1sHm36FiN",
        "outputId": "97908304-4628-4fea-c5c5-54b5584287be"
      },
      "source": [
        "print(f\" vocab length : {len(vocab)} words\")"
      ],
      "execution_count": 33,
      "outputs": [
        {
          "output_type": "stream",
          "text": [
            " vocab length : 400000 words\n"
          ],
          "name": "stdout"
        }
      ]
    },
    {
      "cell_type": "code",
      "metadata": {
        "id": "WR_uo5xJpYUV"
      },
      "source": [
        "def update_vocab(vocab,new_vocab):\n",
        "  vocab.update(new_vocab)"
      ],
      "execution_count": 34,
      "outputs": []
    },
    {
      "cell_type": "code",
      "metadata": {
        "id": "jOHXQB5QpYzZ"
      },
      "source": [
        "def compute_oov_embedding(vocabulary,df):\n",
        "  oov = {}\n",
        "  vocab_evidence = set(pd.Series([x for _list in df['Evidence'].apply(lambda x:x.split()) for x in _list]))\n",
        "  vocab_claim = set(pd.Series([x for _list in df['Claim'].apply(lambda x:x.split()) for x in _list]))\n",
        "  vocab = vocab_evidence.union(vocab_claim)\n",
        "  for w in vocab:\n",
        "    if w not in vocabulary:\n",
        "      oov[w] = np.random.randn(1,EMBEDDING_SIZE) # we handle oov words by computing a random embedding\n",
        "  return oov"
      ],
      "execution_count": 35,
      "outputs": []
    },
    {
      "cell_type": "code",
      "metadata": {
        "id": "lNbX3spYpcZ9"
      },
      "source": [
        "training_oov = compute_oov_embedding(vocab,tr_df) # we compute embedding for oov in the training dataset\n",
        "update_vocab(vocab,training_oov) # we update the vocabulary with new embeddings\n",
        "validation_oov = compute_oov_embedding(vocab,vl_df)\n",
        "update_vocab(vocab,validation_oov)\n",
        "testing_oov = compute_oov_embedding(vocab,ts_df)\n",
        "update_vocab(vocab,testing_oov)"
      ],
      "execution_count": 36,
      "outputs": []
    },
    {
      "cell_type": "code",
      "metadata": {
        "colab": {
          "base_uri": "https://localhost:8080/"
        },
        "id": "FyA6TiTLpeW_",
        "outputId": "862154ff-ddcd-443a-90df-4999f1111946"
      },
      "source": [
        "print(f\" size of the final vocabulary : {len(vocab)}\")"
      ],
      "execution_count": 37,
      "outputs": [
        {
          "output_type": "stream",
          "text": [
            " size of the final vocabulary : 403859\n"
          ],
          "name": "stdout"
        }
      ]
    },
    {
      "cell_type": "code",
      "metadata": {
        "id": "feNK1D1JphPY"
      },
      "source": [
        "def adapt_vocab(vocab):\n",
        "  word_list = [\"PAD\"] # we add the PAD token\n",
        "  for w in vocab:\n",
        "    word_list.append(w)\n",
        "  idx_to_word = pd.Series(word_list,index = [i for i in range(len(word_list))])\n",
        "  idx_to_word = idx_to_word.to_dict()\n",
        "  word_to_idx = pd.Series(data = [x for x in range(len(idx_to_word))],index=word_list).to_dict()\n",
        "  return word_list,idx_to_word,word_to_idx"
      ],
      "execution_count": 38,
      "outputs": []
    },
    {
      "cell_type": "code",
      "metadata": {
        "id": "rDO2o0UEpi0A"
      },
      "source": [
        "word_list,idx_to_word,word_to_idx = adapt_vocab(vocab)"
      ],
      "execution_count": 39,
      "outputs": []
    },
    {
      "cell_type": "code",
      "metadata": {
        "id": "OqKUi9Q2Wi32"
      },
      "source": [
        "VOCAB_SIZE = len(word_list)"
      ],
      "execution_count": 40,
      "outputs": []
    },
    {
      "cell_type": "code",
      "metadata": {
        "id": "rkJArJw7BsBS"
      },
      "source": [
        "def create_embedding_matrix(model,vocab,word_list,idx_to_word,word_to_idx):\n",
        "  v = len(word_list)\n",
        "  embedding_matrix = np.zeros((v,EMBEDDING_SIZE))\n",
        "  for w,i in word_to_idx.items():\n",
        "    if w == 'PAD': \n",
        "      embedding_matrix[i] = np.zeros((1,EMBEDDING_SIZE))\n",
        "    elif w in model.vocab:\n",
        "      embedding_matrix[i] = model.get_vector(w)\n",
        "    else:\n",
        "      embedding_matrix[i] = vocab[w]\n",
        "  return embedding_matrix"
      ],
      "execution_count": 41,
      "outputs": []
    },
    {
      "cell_type": "code",
      "metadata": {
        "id": "3rdQxegXB0uR"
      },
      "source": [
        "embedding_matrix = create_embedding_matrix(glove_model,vocab,word_list,idx_to_word,word_to_idx)"
      ],
      "execution_count": 42,
      "outputs": []
    },
    {
      "cell_type": "code",
      "metadata": {
        "colab": {
          "base_uri": "https://localhost:8080/"
        },
        "id": "8TglAIOfB33p",
        "outputId": "eb9ef477-bb7c-47be-9798-db9ffdc01843"
      },
      "source": [
        "embedding_matrix.shape"
      ],
      "execution_count": 43,
      "outputs": [
        {
          "output_type": "execute_result",
          "data": {
            "text/plain": [
              "(403860, 300)"
            ]
          },
          "metadata": {
            "tags": []
          },
          "execution_count": 43
        }
      ]
    },
    {
      "cell_type": "code",
      "metadata": {
        "id": "hwBZuwF2DB_1"
      },
      "source": [
        "def tokenization(seq,word_to_idx):\n",
        "    return np.array([word_to_idx[x] for x in seq])"
      ],
      "execution_count": 44,
      "outputs": []
    },
    {
      "cell_type": "code",
      "metadata": {
        "id": "1TKQvaamDJ65"
      },
      "source": [
        "tr_df['evidence_encoded'] = tr_df['Evidence'].apply(lambda x:x.split()).apply(lambda x:tokenization(x,word_to_idx))\n",
        "tr_df['claim_encoded'] = tr_df['Claim'].apply(lambda x:x.split()).apply(lambda x:tokenization(x,word_to_idx))\n",
        "\n",
        "# and we do the same for the validation set\n",
        "vl_df['evidence_encoded'] = vl_df['Evidence'].apply(lambda x:x.split()).apply(lambda x:tokenization(x,word_to_idx))\n",
        "vl_df['claim_encoded'] = vl_df['Claim'].apply(lambda x:x.split()).apply(lambda x:tokenization(x,word_to_idx))\n",
        "\n",
        "# and for the test dataset\n",
        "ts_df['evidence_encoded'] = ts_df['Evidence'].apply(lambda x:x.split()).apply(lambda x:tokenization(x,word_to_idx))\n",
        "ts_df['claim_encoded'] = ts_df['Claim'].apply(lambda x:x.split()).apply(lambda x:tokenization(x,word_to_idx))"
      ],
      "execution_count": 45,
      "outputs": []
    },
    {
      "cell_type": "code",
      "metadata": {
        "id": "BrEzZ0nbEMOm"
      },
      "source": [
        "tr_df['label_encoded'] = tr_df['Label'].map({'SUPPORTS':1, 'REFUTES':0})\r\n",
        "vl_df['label_encoded'] = vl_df['Label'].map({'SUPPORTS':1, 'REFUTES':0})\r\n",
        "ts_df['label_encoded'] = ts_df['Label'].map({'SUPPORTS':1, 'REFUTES':0})"
      ],
      "execution_count": 46,
      "outputs": []
    },
    {
      "cell_type": "code",
      "metadata": {
        "colab": {
          "base_uri": "https://localhost:8080/",
          "height": 375
        },
        "id": "OVDgfwedFUNH",
        "outputId": "784f6e3b-69c8-4600-9690-2cbab7d1e5d9"
      },
      "source": [
        "tr_df.head()"
      ],
      "execution_count": 47,
      "outputs": [
        {
          "output_type": "execute_result",
          "data": {
            "text/html": [
              "<div>\n",
              "<style scoped>\n",
              "    .dataframe tbody tr th:only-of-type {\n",
              "        vertical-align: middle;\n",
              "    }\n",
              "\n",
              "    .dataframe tbody tr th {\n",
              "        vertical-align: top;\n",
              "    }\n",
              "\n",
              "    .dataframe thead th {\n",
              "        text-align: right;\n",
              "    }\n",
              "</style>\n",
              "<table border=\"1\" class=\"dataframe\">\n",
              "  <thead>\n",
              "    <tr style=\"text-align: right;\">\n",
              "      <th></th>\n",
              "      <th>Claim</th>\n",
              "      <th>Evidence</th>\n",
              "      <th>ID</th>\n",
              "      <th>Label</th>\n",
              "      <th>evidence_encoded</th>\n",
              "      <th>claim_encoded</th>\n",
              "      <th>label_encoded</th>\n",
              "    </tr>\n",
              "  </thead>\n",
              "  <tbody>\n",
              "    <tr>\n",
              "      <th>0</th>\n",
              "      <td>chris hemsworth appeared perfect getaway</td>\n",
              "      <td>hemsworth also appeared science fiction action...</td>\n",
              "      <td>3</td>\n",
              "      <td>SUPPORTS</td>\n",
              "      <td>[107954, 53, 790, 1122, 3955, 609, 320, 754, 9...</td>\n",
              "      <td>[2103, 107954, 790, 2616, 20647]</td>\n",
              "      <td>1</td>\n",
              "    </tr>\n",
              "    <tr>\n",
              "      <th>1</th>\n",
              "      <td>roald dahl writer</td>\n",
              "      <td>roald dahl langpronro ld dl ul dl 13 september...</td>\n",
              "      <td>7</td>\n",
              "      <td>SUPPORTS</td>\n",
              "      <td>[53403, 21758, 402700, 6696, 20835, 13322, 208...</td>\n",
              "      <td>[53403, 21758, 1542]</td>\n",
              "      <td>1</td>\n",
              "    </tr>\n",
              "    <tr>\n",
              "      <th>2</th>\n",
              "      <td>roald dahl governor</td>\n",
              "      <td>roald dahl langpronro ld dl ul dl 13 september...</td>\n",
              "      <td>8</td>\n",
              "      <td>REFUTES</td>\n",
              "      <td>[53403, 21758, 402700, 6696, 20835, 13322, 208...</td>\n",
              "      <td>[53403, 21758, 1005]</td>\n",
              "      <td>0</td>\n",
              "    </tr>\n",
              "    <tr>\n",
              "      <th>3</th>\n",
              "      <td>ireland relatively low lying mountains</td>\n",
              "      <td>island geography comprises relatively low lyin...</td>\n",
              "      <td>9</td>\n",
              "      <td>SUPPORTS</td>\n",
              "      <td>[584, 4214, 7817, 2224, 654, 4740, 2755, 2724,...</td>\n",
              "      <td>[1323, 2224, 654, 4740, 2755]</td>\n",
              "      <td>1</td>\n",
              "    </tr>\n",
              "    <tr>\n",
              "      <th>4</th>\n",
              "      <td>ireland not relatively low lying mountains</td>\n",
              "      <td>island geography comprises relatively low lyin...</td>\n",
              "      <td>10</td>\n",
              "      <td>REFUTES</td>\n",
              "      <td>[584, 4214, 7817, 2224, 654, 4740, 2755, 2724,...</td>\n",
              "      <td>[1323, 37, 2224, 654, 4740, 2755]</td>\n",
              "      <td>0</td>\n",
              "    </tr>\n",
              "  </tbody>\n",
              "</table>\n",
              "</div>"
            ],
            "text/plain": [
              "                                        Claim  ... label_encoded\n",
              "0    chris hemsworth appeared perfect getaway  ...             1\n",
              "1                           roald dahl writer  ...             1\n",
              "2                         roald dahl governor  ...             0\n",
              "3      ireland relatively low lying mountains  ...             1\n",
              "4  ireland not relatively low lying mountains  ...             0\n",
              "\n",
              "[5 rows x 7 columns]"
            ]
          },
          "metadata": {
            "tags": []
          },
          "execution_count": 47
        }
      ]
    },
    {
      "cell_type": "code",
      "metadata": {
        "id": "pCiQrmobMlEN"
      },
      "source": [
        "def add_padding(seq,pad_token,pad_length):\n",
        "    if seq.shape[0] < pad_length:\n",
        "        while seq.shape[0] < pad_length:\n",
        "            seq = np.append(seq,pad_token)\n",
        "        return np.expand_dims(seq,axis=0) \n",
        "    elif seq.shape[0] > pad_length:\n",
        "        while seq.shape[0] > pad_length:\n",
        "            seq = np.delete(seq,-1)\n",
        "        return np.expand_dims(seq,axis=0) \n",
        "    else:\n",
        "        return np.expand_dims(seq,axis=0)\n",
        "\n",
        "def concatenate(x):\n",
        "  return np.concatenate(x.values)"
      ],
      "execution_count": 48,
      "outputs": []
    },
    {
      "cell_type": "code",
      "metadata": {
        "id": "mRQo3-zzMvFH"
      },
      "source": [
        "tr_df['evidence_encoded_pad'] = tr_df['evidence_encoded'].apply(lambda x:add_padding(x,0,MAX_LEN))\n",
        "tr_df['claim_encoded_pad'] = tr_df['claim_encoded'].apply(lambda x:add_padding(x,0,MAX_LEN))\n",
        "\n",
        "vl_df['evidence_encoded_pad'] = vl_df['evidence_encoded'].apply(lambda x:add_padding(x,0,MAX_LEN))\n",
        "vl_df['claim_encoded_pad'] = vl_df['claim_encoded'].apply(lambda x:add_padding(x,0,MAX_LEN))\n",
        "\n",
        "ts_df['evidence_encoded_pad'] = ts_df['evidence_encoded'].apply(lambda x:add_padding(x,0,MAX_LEN))\n",
        "ts_df['claim_encoded_pad'] = ts_df['claim_encoded'].apply(lambda x:add_padding(x,0,MAX_LEN))"
      ],
      "execution_count": 49,
      "outputs": []
    },
    {
      "cell_type": "code",
      "metadata": {
        "colab": {
          "base_uri": "https://localhost:8080/",
          "height": 551
        },
        "id": "i0W0oCqnQ0rI",
        "outputId": "84d1d956-7e9a-4f84-f28b-820f86833753"
      },
      "source": [
        "tr_df.head()"
      ],
      "execution_count": 50,
      "outputs": [
        {
          "output_type": "execute_result",
          "data": {
            "text/html": [
              "<div>\n",
              "<style scoped>\n",
              "    .dataframe tbody tr th:only-of-type {\n",
              "        vertical-align: middle;\n",
              "    }\n",
              "\n",
              "    .dataframe tbody tr th {\n",
              "        vertical-align: top;\n",
              "    }\n",
              "\n",
              "    .dataframe thead th {\n",
              "        text-align: right;\n",
              "    }\n",
              "</style>\n",
              "<table border=\"1\" class=\"dataframe\">\n",
              "  <thead>\n",
              "    <tr style=\"text-align: right;\">\n",
              "      <th></th>\n",
              "      <th>Claim</th>\n",
              "      <th>Evidence</th>\n",
              "      <th>ID</th>\n",
              "      <th>Label</th>\n",
              "      <th>evidence_encoded</th>\n",
              "      <th>claim_encoded</th>\n",
              "      <th>label_encoded</th>\n",
              "      <th>evidence_encoded_pad</th>\n",
              "      <th>claim_encoded_pad</th>\n",
              "    </tr>\n",
              "  </thead>\n",
              "  <tbody>\n",
              "    <tr>\n",
              "      <th>0</th>\n",
              "      <td>chris hemsworth appeared perfect getaway</td>\n",
              "      <td>hemsworth also appeared science fiction action...</td>\n",
              "      <td>3</td>\n",
              "      <td>SUPPORTS</td>\n",
              "      <td>[107954, 53, 790, 1122, 3955, 609, 320, 754, 9...</td>\n",
              "      <td>[2103, 107954, 790, 2616, 20647]</td>\n",
              "      <td>1</td>\n",
              "      <td>[[107954, 53, 790, 1122, 3955, 609, 320, 754, ...</td>\n",
              "      <td>[[2103, 107954, 790, 2616, 20647, 0, 0, 0, 0, ...</td>\n",
              "    </tr>\n",
              "    <tr>\n",
              "      <th>1</th>\n",
              "      <td>roald dahl writer</td>\n",
              "      <td>roald dahl langpronro ld dl ul dl 13 september...</td>\n",
              "      <td>7</td>\n",
              "      <td>SUPPORTS</td>\n",
              "      <td>[53403, 21758, 402700, 6696, 20835, 13322, 208...</td>\n",
              "      <td>[53403, 21758, 1542]</td>\n",
              "      <td>1</td>\n",
              "      <td>[[53403, 21758, 402700, 6696, 20835, 13322, 20...</td>\n",
              "      <td>[[53403, 21758, 1542, 0, 0, 0, 0, 0, 0, 0, 0, ...</td>\n",
              "    </tr>\n",
              "    <tr>\n",
              "      <th>2</th>\n",
              "      <td>roald dahl governor</td>\n",
              "      <td>roald dahl langpronro ld dl ul dl 13 september...</td>\n",
              "      <td>8</td>\n",
              "      <td>REFUTES</td>\n",
              "      <td>[53403, 21758, 402700, 6696, 20835, 13322, 208...</td>\n",
              "      <td>[53403, 21758, 1005]</td>\n",
              "      <td>0</td>\n",
              "      <td>[[53403, 21758, 402700, 6696, 20835, 13322, 20...</td>\n",
              "      <td>[[53403, 21758, 1005, 0, 0, 0, 0, 0, 0, 0, 0, ...</td>\n",
              "    </tr>\n",
              "    <tr>\n",
              "      <th>3</th>\n",
              "      <td>ireland relatively low lying mountains</td>\n",
              "      <td>island geography comprises relatively low lyin...</td>\n",
              "      <td>9</td>\n",
              "      <td>SUPPORTS</td>\n",
              "      <td>[584, 4214, 7817, 2224, 654, 4740, 2755, 2724,...</td>\n",
              "      <td>[1323, 2224, 654, 4740, 2755]</td>\n",
              "      <td>1</td>\n",
              "      <td>[[584, 4214, 7817, 2224, 654, 4740, 2755, 2724...</td>\n",
              "      <td>[[1323, 2224, 654, 4740, 2755, 0, 0, 0, 0, 0, ...</td>\n",
              "    </tr>\n",
              "    <tr>\n",
              "      <th>4</th>\n",
              "      <td>ireland not relatively low lying mountains</td>\n",
              "      <td>island geography comprises relatively low lyin...</td>\n",
              "      <td>10</td>\n",
              "      <td>REFUTES</td>\n",
              "      <td>[584, 4214, 7817, 2224, 654, 4740, 2755, 2724,...</td>\n",
              "      <td>[1323, 37, 2224, 654, 4740, 2755]</td>\n",
              "      <td>0</td>\n",
              "      <td>[[584, 4214, 7817, 2224, 654, 4740, 2755, 2724...</td>\n",
              "      <td>[[1323, 37, 2224, 654, 4740, 2755, 0, 0, 0, 0,...</td>\n",
              "    </tr>\n",
              "  </tbody>\n",
              "</table>\n",
              "</div>"
            ],
            "text/plain": [
              "                                        Claim  ...                                  claim_encoded_pad\n",
              "0    chris hemsworth appeared perfect getaway  ...  [[2103, 107954, 790, 2616, 20647, 0, 0, 0, 0, ...\n",
              "1                           roald dahl writer  ...  [[53403, 21758, 1542, 0, 0, 0, 0, 0, 0, 0, 0, ...\n",
              "2                         roald dahl governor  ...  [[53403, 21758, 1005, 0, 0, 0, 0, 0, 0, 0, 0, ...\n",
              "3      ireland relatively low lying mountains  ...  [[1323, 2224, 654, 4740, 2755, 0, 0, 0, 0, 0, ...\n",
              "4  ireland not relatively low lying mountains  ...  [[1323, 37, 2224, 654, 4740, 2755, 0, 0, 0, 0,...\n",
              "\n",
              "[5 rows x 9 columns]"
            ]
          },
          "metadata": {
            "tags": []
          },
          "execution_count": 50
        }
      ]
    },
    {
      "cell_type": "markdown",
      "metadata": {
        "id": "Gypl5z5ElJo1"
      },
      "source": [
        "## Merging multi-inputs\n",
        "\n",
        "At this point, we have to think about **how** we should merge evidence and claim sentence embeddings.\n",
        "\n",
        "For simplicity, we stick to simple merging strategies:\n",
        "\n",
        "*     **Concatenation**: define the classification input as the concatenation of evidence and claim sentence embeddings\n",
        "\n",
        "*     **Sum**: define the classification input as the sum of evidence and claim sentence embeddings\n",
        "\n",
        "*     **Mean**: define the classification input as the mean of evidence and claim sentence embeddings\n",
        "\n",
        "For clarity, if we the sentence embedding of a single input has shape [batch_size, embedding_dim], then the classification input has shape:\n",
        "\n",
        "*     **Concatenation**: [batch_size, 2 * embedding_dim]\n",
        "\n",
        "*     **Sum**: [batch_size, embedding_dim]\n",
        "\n",
        "*     **Mean**: [batch_size, embedding_dim]"
      ]
    },
    {
      "cell_type": "markdown",
      "metadata": {
        "id": "IhVg9ZLymOUc"
      },
      "source": [
        "# A simple extension\n",
        "\n",
        "Lastly, we ask you to modify previously defined neural architectures by adding an additional feature to the classification input.\n",
        "\n",
        "We would like to see if some similarity information between the claim to verify and one of its associated evidence might be useful to the classification.\n",
        "\n",
        "Compute the cosine similarity metric between the two sentence embeddings and concatenate the result to the classification input.\n",
        "\n",
        "For clarity, since the cosine similarity of two vectors outputs a scalar value, the classification input shape is modified as follows:\n",
        "\n",
        "*     **Concatenation**: [batch_size, 2 * embedding_dim + 1]\n",
        "\n",
        "*     **Sum**: [batch_size, embedding_dim + 1]\n",
        "\n",
        "*     **Mean**: [batch_size, embedding_dim + 1]\n",
        "\n"
      ]
    },
    {
      "cell_type": "code",
      "metadata": {
        "id": "keKcSuCbmTIg"
      },
      "source": [
        "# model\r\n",
        "def classifier( embedding_matrix, encode_mode = 'bag_of_vectors', hidden_units = [128], merge_mode = 'concat',\r\n",
        "               dropout = False, dropout_prob = 0.5, return_sequences = False,cosine = False,label_smoothing=0):\r\n",
        "  \r\n",
        "  \"\"\"\r\n",
        "  encode_mode: string - LSTM, MLP or bag_of_vectors\r\n",
        "  embedding_matrix: np.ndarray (vocab_size,EMBEDDING_SIZE)\r\n",
        "  hidden_units: list of int - nb. of dense layer with hidden_units\r\n",
        "  merge_mode: concat or avg\r\n",
        "  dropout: wether to add a dropout layer\r\n",
        "  dropout_prob: int\r\n",
        "  return_sequence: boolean - wether return all hidden state of the LSTM or not-\r\n",
        "  cosine: boolean -wether to feed cosine similarity between claim and evidence to the classifier or not-\r\n",
        "  \"\"\"\r\n",
        "  \r\n",
        "  # inputs\r\n",
        "  input_sequence_evidence = Input(shape = (MAX_LEN,))\r\n",
        "  input_sequence_claim = Input(shape = (MAX_LEN,))\r\n",
        "  input_sequences = [input_sequence_evidence, input_sequence_claim]\r\n",
        "\r\n",
        "  embedding_layer = Embedding(\r\n",
        "                              input_dim = VOCAB_SIZE,\r\n",
        "                              output_dim = EMBEDDING_SIZE,\r\n",
        "                              input_length = MAX_LEN,\r\n",
        "                              weights = [embedding_matrix],\r\n",
        "                              mask_zero = True,\r\n",
        "                              trainable = False\r\n",
        "                              )\r\n",
        "  \r\n",
        "  encoded_sequences = []\r\n",
        "  for input_sequence in input_sequences:\r\n",
        "  \r\n",
        "    # embeddings\r\n",
        "    embedded_sequence = embedding_layer(input_sequence)\r\n",
        "\r\n",
        "    # encoding sequences\r\n",
        "    if encode_mode != 'bag_of_vectors': # LSTM / MLP cases\r\n",
        "\r\n",
        "      if encode_mode == 'LSTM':\r\n",
        "        encode_layer = Bidirectional(LSTM(units = EMBEDDING_SIZE, return_sequences = return_sequences,\r\n",
        "                                return_state = False), merge_mode = 'concat') (embedded_sequence)\r\n",
        "\r\n",
        "      elif encode_mode == 'MLP':\r\n",
        "        flat = Flatten() (embedded_sequence) # each sentence will have (max_length*embedding_size) shape\r\n",
        "        encode_layer = Dense(units = EMBEDDING_SIZE)(flat)\r\n",
        "\r\n",
        "      encoded_sequence = encode_layer\r\n",
        "\r\n",
        "      if return_sequences: # average of hidden states\r\n",
        "        encoded_sequence = tf.math.reduce_mean(encoded_sequence,axis=1)\r\n",
        "    \r\n",
        "    else: # bag of vectors case\r\n",
        "      encoded_sequence = tf.math.reduce_mean(embedded_sequence,axis=1)\r\n",
        "    \r\n",
        "    encoded_sequences.append(encoded_sequence)\r\n",
        "\r\n",
        "  \r\n",
        "  # merging\r\n",
        "  if merge_mode == 'avg':\r\n",
        "    dense_input = Average()([encoded_sequences[0], encoded_sequences[1]])\r\n",
        "\r\n",
        "  elif merge_mode == 'concat':\r\n",
        "    dense_input = Concatenate(axis=1)([encoded_sequences[0],encoded_sequences[1]])\r\n",
        "\r\n",
        "  elif merge_mode == 'add':\r\n",
        "    dense_input = Add()([encoded_sequences[0],encoded_sequences[1]])\r\n",
        "\r\n",
        "  if cosine:\r\n",
        "\r\n",
        "    cosine = tf.keras.losses.cosine_similarity(encoded_sequences[0],encoded_sequences[1],axis=1)\r\n",
        "    cosine = tf.expand_dims(cosine,axis=1)\r\n",
        "\r\n",
        "    dense_input = Concatenate(axis=1)([dense_input,cosine])\r\n",
        "\r\n",
        "  # classifier\r\n",
        "  for units in hidden_units:\r\n",
        "    dense_input = Dense(units = units, activation = 'relu')(dense_input)\r\n",
        "\r\n",
        "    if dropout:\r\n",
        "      dense_input = Dropout(dropout_prob)(dense_input)\r\n",
        "\r\n",
        "  output = Dense(1, activation = 'sigmoid')(dense_input)\r\n",
        "  model = Model(inputs = [input_sequence_evidence, input_sequence_claim], outputs = output)\r\n",
        "  loss = tf.keras.losses.BinaryCrossentropy(label_smoothing=label_smoothing)\r\n",
        "  model.compile(optimizer='adam', metrics = ['accuracy'], loss=loss)\r\n",
        "  return model"
      ],
      "execution_count": 66,
      "outputs": []
    },
    {
      "cell_type": "code",
      "metadata": {
        "id": "JZqag6Be7p_F"
      },
      "source": [
        "#training\r\n",
        "X1_tr = concatenate(tr_df['evidence_encoded_pad'])\r\n",
        "X2_tr = concatenate(tr_df['claim_encoded_pad'])\r\n",
        "Y_tr = concatenate(tr_df['label_encoded'].apply(lambda x: np.expand_dims(x,axis=0)))\r\n",
        "\r\n",
        "#validation\r\n",
        "X1_vl = concatenate(vl_df['evidence_encoded_pad'])\r\n",
        "X2_vl = concatenate(vl_df['claim_encoded_pad'])\r\n",
        "Y_vl = concatenate(vl_df['label_encoded'].apply(lambda x: np.expand_dims(x,axis=0)))\r\n",
        "\r\n",
        "#testing\r\n",
        "X1_ts = concatenate(ts_df['evidence_encoded_pad'])\r\n",
        "X2_ts = concatenate(ts_df['claim_encoded_pad'])\r\n",
        "Y_ts = concatenate(ts_df['label_encoded'].apply(lambda x: np.expand_dims(x,axis=0)))"
      ],
      "execution_count": 52,
      "outputs": []
    },
    {
      "cell_type": "code",
      "metadata": {
        "id": "jaKPWgjhQVnG"
      },
      "source": [
        "def train_model(classifier,x,y,epochs=15,batch_size=32,validation_data=None,name=None):\r\n",
        "  filepath = 'drive/MyDrive/weights_backups/{}/{}'.format(name,name)\r\n",
        "  callback = tf.keras.callbacks.ModelCheckpoint(\r\n",
        "      filepath= filepath,\r\n",
        "      monitor='val_accuracy',\r\n",
        "      save_weights_only=True,\r\n",
        "      save_best_only=True\r\n",
        "  )\r\n",
        "  if validation_data != None:\r\n",
        "    history = classifier.fit(x=x,\r\n",
        "                             y=y,\r\n",
        "                             epochs=epochs,\r\n",
        "                             batch_size=batch_size,\r\n",
        "                             validation_data=validation_data,\r\n",
        "                             callbacks=[callback]\r\n",
        "                             )\r\n",
        "  else:\r\n",
        "    history = classifier.fit(x=x,y=y,epochs=epochs,batch_size=batch_size,callbacks=[callback])\r\n",
        "  history = history.history\r\n",
        "  plt.plot(history['accuracy'])\r\n",
        "  if validation_data != None:\r\n",
        "    plt.plot(history['val_accuracy'])\r\n",
        "    if name != None:\r\n",
        "      plt.title('model accuracy {}'.format(name))\r\n",
        "    else:\r\n",
        "      plt.title('model accuracy')\r\n",
        "    plt.ylabel('accuracy')\r\n",
        "    plt.xlabel('epoch')\r\n",
        "    plt.legend(['train', 'validation'], loc=\"lower right\")\r\n",
        "  else:\r\n",
        "    if name != None:\r\n",
        "      plt.title('model accuracy {}'.format(name))\r\n",
        "    else:\r\n",
        "      plt.title('model accuracy')\r\n",
        "    plt.ylabel('accuracy')\r\n",
        "    plt.xlabel('epoch')\r\n",
        "    plt.legend(['train'], loc=\"lower right\")\r\n",
        "  plt.show()\r\n",
        "\r\n",
        "def load_weight(model,name):\r\n",
        "  is_saved = False\r\n",
        "\r\n",
        "  # we save weights on drive\r\n",
        "  folder = 'drive/MyDrive/weights_backups/{}'.format(name)\r\n",
        "  path_folder = os.path.join(os.getcwd(),folder)\r\n",
        "  try:\r\n",
        "    model.load_weights(os.path.join(path_folder,name))\r\n",
        "    is_saved = True\r\n",
        "  except:\r\n",
        "    pass\r\n",
        "  return is_saved"
      ],
      "execution_count": 53,
      "outputs": []
    },
    {
      "cell_type": "code",
      "metadata": {
        "id": "ZnHuWmkU8B5X"
      },
      "source": [
        "lstm_last_state_concat = classifier(embedding_matrix,encode_mode='LSTM',dropout=True)\r\n",
        "lstm_avg_state_concat = classifier(embedding_matrix,encode_mode='LSTM',dropout=True,return_sequences=True)\r\n",
        "bag_of_vector_concat = classifier(embedding_matrix,dropout=True)\r\n",
        "mlp_concat = classifier(embedding_matrix,dropout=True,encode_mode='MLP')\r\n",
        "\r\n",
        "classifiers = [\r\n",
        "               (lstm_last_state_concat,'lstm_last_state_concat'),\r\n",
        "               (lstm_avg_state_concat,'lstm_avg_state_concat'),\r\n",
        "               (bag_of_vector_concat,'bag_of_vector_concat'),\r\n",
        "               (mlp_concat,'mlp_concat')]\r\n",
        "               \r\n",
        "for classifier in classifiers:\r\n",
        "  cls,name = classifier\r\n",
        "  if load_weight(cls,name) == False:\r\n",
        "    train_model(cls,\r\n",
        "                [X1_tr,X2_tr],\r\n",
        "                Y_tr,\r\n",
        "                epochs=15,\r\n",
        "                batch_size=32,\r\n",
        "                validation_data=([X1_vl,X2_vl],Y_vl),\r\n",
        "                name=name\r\n",
        "                )\r\n",
        "    load_weight(cls,name)"
      ],
      "execution_count": 54,
      "outputs": []
    },
    {
      "cell_type": "code",
      "metadata": {
        "id": "5Lvuu6Ml08ub"
      },
      "source": [
        "def print_result(classifier,x,y,name=None):\r\n",
        "  prediction = classifier.predict(x)\r\n",
        "  prediction = tf.round(prediction)\r\n",
        "  prediction = tf.cast(prediction,dtype=tf.int32)\r\n",
        "  print(f\" result for {name} : \")\r\n",
        "  print(f\"F1-score : \",f1_score(y,prediction))\r\n",
        "  print(classification_report(y,prediction))\r\n",
        "  conf = confusion_matrix(y,prediction,labels=[0,1])\r\n",
        "  print(conf)"
      ],
      "execution_count": 55,
      "outputs": []
    },
    {
      "cell_type": "code",
      "metadata": {
        "id": "RVCmDQiv73Dy",
        "colab": {
          "base_uri": "https://localhost:8080/"
        },
        "outputId": "8879feec-899b-421c-8711-d8c87e89a1cc"
      },
      "source": [
        "for classifier in classifiers:\r\n",
        "  cls,name = classifier\r\n",
        "  name+=' on the validation set'\r\n",
        "  print_result(cls,[X1_vl,X2_vl],Y_vl,name=name)"
      ],
      "execution_count": 56,
      "outputs": [
        {
          "output_type": "stream",
          "text": [
            " result for lstm_last_state_concat on the validation set : \n",
            "F1-score :  0.7570782774208898\n",
            "              precision    recall  f1-score   support\n",
            "\n",
            "           0       0.82      0.55      0.66      3554\n",
            "           1       0.66      0.88      0.76      3611\n",
            "\n",
            "    accuracy                           0.72      7165\n",
            "   macro avg       0.74      0.71      0.71      7165\n",
            "weighted avg       0.74      0.72      0.71      7165\n",
            "\n",
            "[[1941 1613]\n",
            " [ 429 3182]]\n",
            " result for lstm_avg_state_concat on the validation set : \n",
            "F1-score :  0.7571647599952824\n",
            "              precision    recall  f1-score   support\n",
            "\n",
            "           0       0.83      0.53      0.65      3554\n",
            "           1       0.66      0.89      0.76      3611\n",
            "\n",
            "    accuracy                           0.71      7165\n",
            "   macro avg       0.74      0.71      0.70      7165\n",
            "weighted avg       0.74      0.71      0.70      7165\n",
            "\n",
            "[[1896 1658]\n",
            " [ 401 3210]]\n",
            " result for bag_of_vector_concat on the validation set : \n",
            "F1-score :  0.7167930210821477\n",
            "              precision    recall  f1-score   support\n",
            "\n",
            "           0       0.86      0.28      0.42      3554\n",
            "           1       0.57      0.96      0.72      3611\n",
            "\n",
            "    accuracy                           0.62      7165\n",
            "   macro avg       0.72      0.62      0.57      7165\n",
            "weighted avg       0.72      0.62      0.57      7165\n",
            "\n",
            "[[ 987 2567]\n",
            " [ 160 3451]]\n",
            " result for mlp_concat on the validation set : \n",
            "F1-score :  0.7123742350378591\n",
            "              precision    recall  f1-score   support\n",
            "\n",
            "           0       0.84      0.27      0.41      3554\n",
            "           1       0.57      0.95      0.71      3611\n",
            "\n",
            "    accuracy                           0.61      7165\n",
            "   macro avg       0.71      0.61      0.56      7165\n",
            "weighted avg       0.71      0.61      0.56      7165\n",
            "\n",
            "[[ 958 2596]\n",
            " [ 177 3434]]\n"
          ],
          "name": "stdout"
        }
      ]
    },
    {
      "cell_type": "code",
      "metadata": {
        "id": "I-63LulN2VvJ",
        "colab": {
          "base_uri": "https://localhost:8080/"
        },
        "outputId": "6c881b86-0f1d-4cb6-ada5-b79cb9139881"
      },
      "source": [
        "print_result(lstm_avg_state_concat,[X1_ts,X2_ts],Y_ts,name='lstm_avg_state_concat on the test set')"
      ],
      "execution_count": 57,
      "outputs": [
        {
          "output_type": "stream",
          "text": [
            " result for lstm_avg_state_concat on the test set : \n",
            "F1-score :  0.7423246923903954\n",
            "              precision    recall  f1-score   support\n",
            "\n",
            "           0       0.79      0.54      0.64      3583\n",
            "           1       0.65      0.86      0.74      3606\n",
            "\n",
            "    accuracy                           0.70      7189\n",
            "   macro avg       0.72      0.70      0.69      7189\n",
            "weighted avg       0.72      0.70      0.69      7189\n",
            "\n",
            "[[1925 1658]\n",
            " [ 499 3107]]\n"
          ],
          "name": "stdout"
        }
      ]
    },
    {
      "cell_type": "code",
      "metadata": {
        "id": "jiYIKGMi2grS",
        "colab": {
          "base_uri": "https://localhost:8080/"
        },
        "outputId": "3b8a2005-b223-4614-823d-203167c5f781"
      },
      "source": [
        "lstm_avg_state_concat.evaluate(x=[X1_ts,X2_ts],y=Y_ts)"
      ],
      "execution_count": 58,
      "outputs": [
        {
          "output_type": "stream",
          "text": [
            "225/225 [==============================] - 155s 646ms/step - loss: 1.0812 - accuracy: 0.6971\n"
          ],
          "name": "stdout"
        },
        {
          "output_type": "execute_result",
          "data": {
            "text/plain": [
              "[1.0653890371322632, 0.6999582648277283]"
            ]
          },
          "metadata": {
            "tags": []
          },
          "execution_count": 58
        }
      ]
    },
    {
      "cell_type": "markdown",
      "metadata": {
        "id": "Zv3ZJaEx-UjX"
      },
      "source": [
        "All models above have the same merging strategy, each time claim embedding is concatenated with the evidence embedding\r\n",
        "\r\n",
        "<ins>Best model according to the f1-score on the validation set</ins> : **lstm_last_state_concat**\r\n",
        "\r\n",
        "\r\n",
        "> merging strategy : **concatenation**\r\n",
        "\r\n",
        "\r\n",
        "\r\n",
        "||F1-score validation set| F1-score test set\r\n",
        "|--|-----------------------|------------------|\r\n",
        "|**lstm_last_state_concat**|         75.71%             |-|\r\n",
        "|**lstm_avg_state_concat**|       75.72%             |74.23%|\r\n",
        "|**mlp_concat**|     71.24%                 |-|\r\n",
        "|**bag_of_vectors_concat**|      71.68%            |-|\r\n"
      ]
    },
    {
      "cell_type": "markdown",
      "metadata": {
        "id": "2F_ADw5CAbtl"
      },
      "source": [
        "The best model so far is **lstm_avg_state_concat** so we will try others merging techniques on this model to see if we can get higher f1-score "
      ]
    },
    {
      "cell_type": "code",
      "metadata": {
        "id": "ATtHxzPIAt0h"
      },
      "source": [
        "lstm_avg_state_add = classifier(embedding_matrix,encode_mode='LSTM',dropout=True,merge_mode='add',return_sequences=True)\r\n",
        "lstm_avg_state_avg = classifier(embedding_matrix,encode_mode='LSTM',merge_mode='avg',dropout=True,return_sequences=True)\r\n",
        "\r\n",
        "classifiers2 = [\r\n",
        "                (lstm_avg_state_add,'lstm_avg_state_add'),\r\n",
        "                (lstm_avg_state_avg,'lstm_avg_state_avg')\r\n",
        "]\r\n",
        "for classifier in classifiers2:\r\n",
        "  cls,name = classifier\r\n",
        "  if load_weight(cls,name) == False:\r\n",
        "    train_model(cls,[X1_tr,X2_tr],Y_tr,validation_data=([X1_vl,X2_vl],Y_vl),name=name)\r\n",
        "    load_weight(cls,name)"
      ],
      "execution_count": 61,
      "outputs": []
    },
    {
      "cell_type": "code",
      "metadata": {
        "id": "h77EGoG9GRNX",
        "colab": {
          "base_uri": "https://localhost:8080/"
        },
        "outputId": "8d71d9a8-8072-408b-f8c1-9c00e6dd5598"
      },
      "source": [
        "for classifier in classifiers2:\r\n",
        "  cls,name = classifier\r\n",
        "  name+=' on the validation set'\r\n",
        "  print_result(cls,[X1_vl,X2_vl],Y_vl,name=name)"
      ],
      "execution_count": 62,
      "outputs": [
        {
          "output_type": "stream",
          "text": [
            " result for lstm_avg_state_add on the validation set : \n",
            "F1-score :  0.7531011450381679\n",
            "              precision    recall  f1-score   support\n",
            "\n",
            "           0       0.81      0.55      0.65      3554\n",
            "           1       0.66      0.87      0.75      3611\n",
            "\n",
            "    accuracy                           0.71      7165\n",
            "   macro avg       0.74      0.71      0.70      7165\n",
            "weighted avg       0.74      0.71      0.70      7165\n",
            "\n",
            "[[1938 1616]\n",
            " [ 454 3157]]\n",
            " result for lstm_avg_state_avg on the validation set : \n",
            "F1-score :  0.7523821309243905\n",
            "              precision    recall  f1-score   support\n",
            "\n",
            "           0       0.79      0.60      0.68      3554\n",
            "           1       0.68      0.84      0.75      3611\n",
            "\n",
            "    accuracy                           0.72      7165\n",
            "   macro avg       0.73      0.72      0.72      7165\n",
            "weighted avg       0.73      0.72      0.72      7165\n",
            "\n",
            "[[2124 1430]\n",
            " [ 571 3040]]\n"
          ],
          "name": "stdout"
        }
      ]
    },
    {
      "cell_type": "code",
      "metadata": {
        "id": "rsGkT2YWzikr",
        "colab": {
          "base_uri": "https://localhost:8080/"
        },
        "outputId": "e3b7125c-8019-49f3-c2ec-5e6d26a223d1"
      },
      "source": [
        "print_result(lstm_avg_state_add,[X1_ts,X2_ts],Y_ts,name='lstm_avg_state_add on the test set')"
      ],
      "execution_count": 63,
      "outputs": [
        {
          "output_type": "stream",
          "text": [
            " result for lstm_avg_state_add on the test set : \n",
            "F1-score :  0.7378757035085618\n",
            "              precision    recall  f1-score   support\n",
            "\n",
            "           0       0.79      0.54      0.64      3583\n",
            "           1       0.65      0.85      0.74      3606\n",
            "\n",
            "    accuracy                           0.70      7189\n",
            "   macro avg       0.72      0.69      0.69      7189\n",
            "weighted avg       0.72      0.70      0.69      7189\n",
            "\n",
            "[[1919 1664]\n",
            " [ 525 3081]]\n"
          ],
          "name": "stdout"
        }
      ]
    },
    {
      "cell_type": "code",
      "metadata": {
        "id": "cNgVA9UezrVJ",
        "colab": {
          "base_uri": "https://localhost:8080/"
        },
        "outputId": "0085fac8-b4e7-408f-e8e5-f35160d12691"
      },
      "source": [
        "lstm_avg_state_add.evaluate(x=[X1_ts,X2_ts],y=Y_ts)"
      ],
      "execution_count": 64,
      "outputs": [
        {
          "output_type": "stream",
          "text": [
            "225/225 [==============================] - 212s 898ms/step - loss: 1.4236 - accuracy: 0.6962\n"
          ],
          "name": "stdout"
        },
        {
          "output_type": "execute_result",
          "data": {
            "text/plain": [
              "[1.4250569343566895, 0.6955070495605469]"
            ]
          },
          "metadata": {
            "tags": []
          },
          "execution_count": 64
        }
      ]
    },
    {
      "cell_type": "markdown",
      "metadata": {
        "id": "HcjT_8P9Gof4"
      },
      "source": [
        "All merging strategies for the lstm_avg_state model\r\n",
        "\r\n",
        "<ins>Best model according to the f1-score on the validation set</ins> : **lstm_last_state_avg**\r\n",
        "\r\n",
        "\r\n",
        "||F1-score validation set| F1-score test set\r\n",
        "|--|-----------------------|------------------|\r\n",
        "|**lstm_avg_state_concat**|       75.72%             |74.23%|\r\n",
        "|**lstm_avg_state_add**|       75.31%             |73.79%|\r\n",
        "|**lstm_avg_state_avg**|     75.24%                 |-|\r\n"
      ]
    },
    {
      "cell_type": "markdown",
      "metadata": {
        "id": "-LMOwzTEIbLx"
      },
      "source": [
        "Now our best model so far is still **lstm_avg_state_concat**, we would like to know if the same model with cosine similarity could perform better.  \r\n",
        "We will also try the lstm_last_state_concat with cosine similarity"
      ]
    },
    {
      "cell_type": "code",
      "metadata": {
        "id": "WyXjKo2BIaxf"
      },
      "source": [
        "lstm_last_state_concat_cosine = classifier(embedding_matrix,encode_mode='LSTM',merge_mode='concat',dropout=True,cosine=True)\r\n",
        "lstm_avg_state_concat_cosine = classifier(embedding_matrix,encode_mode='LSTM',return_sequences=True,dropout=True,cosine=True)\r\n",
        "\r\n",
        "classifiers3 = [\r\n",
        "                (lstm_last_state_concat_cosine,'lstm_last_state_concat_cosine'),\r\n",
        "                (lstm_avg_state_concat_cosine,'lstm_avg_state_concat_cosine')\r\n",
        "]\r\n",
        "for classifier in classifiers3:\r\n",
        "  cls,name = classifier\r\n",
        "  if load_weight(cls,name) == False:\r\n",
        "    train_model(cls,[X1_tr,X2_tr],Y_tr,validation_data=([X1_vl,X2_vl],Y_vl),name=name)\r\n",
        "    load_weight(cls,name)"
      ],
      "execution_count": 67,
      "outputs": []
    },
    {
      "cell_type": "code",
      "metadata": {
        "id": "yr6JOVRMy2M8",
        "colab": {
          "base_uri": "https://localhost:8080/"
        },
        "outputId": "2fda70bb-e87b-4bfb-8318-eb63916a88c7"
      },
      "source": [
        "for classifier in classifiers3:\r\n",
        "  cls,name = classifier\r\n",
        "  name+=' on the validation set'\r\n",
        "  print_result(cls,[X1_vl,X2_vl],Y_vl,name=name)"
      ],
      "execution_count": 68,
      "outputs": [
        {
          "output_type": "stream",
          "text": [
            " result for lstm_last_state_concat_cosine on the validation set : \n",
            "F1-score :  0.7549860993593618\n",
            "              precision    recall  f1-score   support\n",
            "\n",
            "           0       0.81      0.57      0.67      3554\n",
            "           1       0.67      0.86      0.75      3611\n",
            "\n",
            "    accuracy                           0.72      7165\n",
            "   macro avg       0.74      0.72      0.71      7165\n",
            "weighted avg       0.74      0.72      0.71      7165\n",
            "\n",
            "[[2015 1539]\n",
            " [ 488 3123]]\n",
            " result for lstm_avg_state_concat_cosine on the validation set : \n",
            "F1-score :  0.7690247169122124\n",
            "              precision    recall  f1-score   support\n",
            "\n",
            "           0       0.82      0.59      0.69      3554\n",
            "           1       0.69      0.87      0.77      3611\n",
            "\n",
            "    accuracy                           0.74      7165\n",
            "   macro avg       0.75      0.73      0.73      7165\n",
            "weighted avg       0.75      0.74      0.73      7165\n",
            "\n",
            "[[2110 1444]\n",
            " [ 453 3158]]\n"
          ],
          "name": "stdout"
        }
      ]
    },
    {
      "cell_type": "code",
      "metadata": {
        "id": "KxRTDGS_0TXc",
        "colab": {
          "base_uri": "https://localhost:8080/"
        },
        "outputId": "4b240b0e-f171-4205-da26-d07fef55ca3f"
      },
      "source": [
        "print_result(lstm_avg_state_concat_cosine,[X1_ts,X2_ts],Y_ts,name='lstm_avg_state_concat_cosine on the test set')"
      ],
      "execution_count": 69,
      "outputs": [
        {
          "output_type": "stream",
          "text": [
            " result for lstm_avg_state_concat_cosine on the test set : \n",
            "F1-score :  0.7596236099230111\n",
            "              precision    recall  f1-score   support\n",
            "\n",
            "           0       0.81      0.59      0.68      3583\n",
            "           1       0.68      0.86      0.76      3606\n",
            "\n",
            "    accuracy                           0.73      7189\n",
            "   macro avg       0.74      0.73      0.72      7189\n",
            "weighted avg       0.74      0.73      0.72      7189\n",
            "\n",
            "[[2114 1469]\n",
            " [ 498 3108]]\n"
          ],
          "name": "stdout"
        }
      ]
    },
    {
      "cell_type": "markdown",
      "metadata": {
        "id": "x6jnPafkz2LD"
      },
      "source": [
        "<ins>Best model according to the f1-score on the validation set</ins> : **lstm_last_state_avg_concat_cosine**\r\n",
        "\r\n",
        "\r\n",
        "||F1-score validation set| F1-score test set\r\n",
        "|--|-----------------------|------------------|\r\n",
        "|**lstm_last_state_concat_cosine**|         75.50%             |-|\r\n",
        "|**lstm_avg_state_concat_cosine**|       76.90%             |75.96%|\r\n"
      ]
    },
    {
      "cell_type": "markdown",
      "metadata": {
        "id": "cQaPaWlH0xVk"
      },
      "source": [
        "## Summary\r\n",
        "\r\n",
        "||F1-score validation set| F1-score test set\r\n",
        "|--|-----------------------|------------------|\r\n",
        "|**lstm_last_state_concat**|         75.71%             |-|\r\n",
        "|**mlp_concat**|     71.24%                 |-|\r\n",
        "|**bag_of_vectors_concat**|      71.68%            |-|\r\n",
        "|**lstm_avg_state_concat**|       75.72%             |74.23%|\r\n",
        "|**lstm_avg_state_add**|       75.31%             |73.79%|\r\n",
        "|**lstm_avg_state_avg**|     75.24%                 |-|\r\n",
        "|**lstm_last_state_concat_cosine**|         75.50%             |-|\r\n",
        "|**lstm_avg_state_concat_cosine**|       76.90%             |75.96%|"
      ]
    },
    {
      "cell_type": "code",
      "metadata": {
        "id": "xxwCshxQecNW"
      },
      "source": [
        "def group_pair(df,name):\r\n",
        "  return df.groupby('Claim')[name].apply(list) # each claim has 1 or multiple labels\r\n",
        "\r\n",
        "def claim_verification(df,labels):\r\n",
        "  group = group_pair(df,'label_encoded')\r\n",
        "  y = group.apply(count)\r\n",
        "  y = y.to_numpy()\r\n",
        "  print(f\" result for {name} : \")\r\n",
        "  print(f\"F1-score : \",f1_score(y,labels))\r\n",
        "  print(classification_report(y,labels))\r\n",
        "  conf = confusion_matrix(y,labels,labels=[0,1])\r\n",
        "  print(conf)\r\n",
        "\r\n",
        "def assign_final_label(model,name,df,vl=True,ts=False):\r\n",
        "  if vl:\r\n",
        "    prediction = model.predict([X1_vl,X2_vl])\r\n",
        "    name = 'label_infered' + name + '_VL'\r\n",
        "  elif ts:\r\n",
        "    prediction = model.predict([X1_ts,X2_ts])\r\n",
        "    name = 'label_infered' + name + '_TS'\r\n",
        "  prediction = tf.round(prediction)\r\n",
        "  prediction = tf.cast(prediction,dtype=tf.int32)\r\n",
        "  prediction = prediction.numpy().ravel()\r\n",
        "  df[name] = pd.Series(prediction)\r\n",
        "  result = group_pair(df,name)\r\n",
        "  result = result.apply(count)  # we do majority voting for each claim\r\n",
        "  result = result.to_numpy()\r\n",
        "  claim_verification(df,result)\r\n",
        "\r\n",
        "def count(labels):\r\n",
        "  count_0 = labels.count(0)\r\n",
        "  count_1 = labels.count(1)\r\n",
        "  if count_0 > count_1:\r\n",
        "    return 0\r\n",
        "  else:\r\n",
        "    return 1"
      ],
      "execution_count": 73,
      "outputs": []
    },
    {
      "cell_type": "code",
      "metadata": {
        "colab": {
          "base_uri": "https://localhost:8080/"
        },
        "id": "RqH2lf0sceff",
        "outputId": "23e2397c-cfb4-4165-d75b-4f67ec510a2b"
      },
      "source": [
        "classifiers = classifiers + classifiers2 + classifiers3\r\n",
        "\r\n",
        "for classifier in classifiers:\r\n",
        "  cls,name = classifier\r\n",
        "  assign_final_label(cls,name,vl_df)"
      ],
      "execution_count": 74,
      "outputs": [
        {
          "output_type": "stream",
          "text": [
            " result for lstm_last_state_concat : \n",
            "F1-score :  0.7558992134382083\n",
            "              precision    recall  f1-score   support\n",
            "\n",
            "           0       0.82      0.55      0.66      3206\n",
            "           1       0.66      0.88      0.76      3215\n",
            "\n",
            "    accuracy                           0.71      6421\n",
            "   macro avg       0.74      0.71      0.71      6421\n",
            "weighted avg       0.74      0.71      0.71      6421\n",
            "\n",
            "[[1755 1451]\n",
            " [ 380 2835]]\n",
            " result for lstm_avg_state_concat : \n",
            "F1-score :  0.7557262015093341\n",
            "              precision    recall  f1-score   support\n",
            "\n",
            "           0       0.83      0.54      0.65      3206\n",
            "           1       0.66      0.89      0.76      3215\n",
            "\n",
            "    accuracy                           0.71      6421\n",
            "   macro avg       0.74      0.71      0.70      6421\n",
            "weighted avg       0.74      0.71      0.70      6421\n",
            "\n",
            "[[1722 1484]\n",
            " [ 361 2854]]\n",
            " result for bag_of_vector_concat : \n",
            "F1-score :  0.7138875986994891\n",
            "              precision    recall  f1-score   support\n",
            "\n",
            "           0       0.86      0.28      0.42      3206\n",
            "           1       0.57      0.96      0.71      3215\n",
            "\n",
            "    accuracy                           0.62      6421\n",
            "   macro avg       0.72      0.62      0.57      6421\n",
            "weighted avg       0.72      0.62      0.57      6421\n",
            "\n",
            "[[ 883 2323]\n",
            " [ 141 3074]]\n",
            " result for mlp_concat : \n",
            "F1-score :  0.7098421541318477\n",
            "              precision    recall  f1-score   support\n",
            "\n",
            "           0       0.85      0.27      0.41      3206\n",
            "           1       0.57      0.95      0.71      3215\n",
            "\n",
            "    accuracy                           0.61      6421\n",
            "   macro avg       0.71      0.61      0.56      6421\n",
            "weighted avg       0.71      0.61      0.56      6421\n",
            "\n",
            "[[ 863 2343]\n",
            " [ 157 3058]]\n",
            " result for lstm_avg_state_add : \n",
            "F1-score :  0.7492649024325048\n",
            "              precision    recall  f1-score   support\n",
            "\n",
            "           0       0.81      0.54      0.65      3206\n",
            "           1       0.66      0.87      0.75      3215\n",
            "\n",
            "    accuracy                           0.71      6421\n",
            "   macro avg       0.73      0.71      0.70      6421\n",
            "weighted avg       0.73      0.71      0.70      6421\n",
            "\n",
            "[[1742 1464]\n",
            " [ 412 2803]]\n",
            " result for lstm_avg_state_avg : \n",
            "F1-score :  0.7496526813003612\n",
            "              precision    recall  f1-score   support\n",
            "\n",
            "           0       0.79      0.60      0.68      3206\n",
            "           1       0.68      0.84      0.75      3215\n",
            "\n",
            "    accuracy                           0.72      6421\n",
            "   macro avg       0.73      0.72      0.72      6421\n",
            "weighted avg       0.73      0.72      0.72      6421\n",
            "\n",
            "[[1921 1285]\n",
            " [ 517 2698]]\n",
            " result for lstm_last_state_concat_cosine : \n",
            "F1-score :  0.7532819055352551\n",
            "              precision    recall  f1-score   support\n",
            "\n",
            "           0       0.81      0.57      0.67      3206\n",
            "           1       0.67      0.87      0.75      3215\n",
            "\n",
            "    accuracy                           0.72      6421\n",
            "   macro avg       0.74      0.72      0.71      6421\n",
            "weighted avg       0.74      0.72      0.71      6421\n",
            "\n",
            "[[1815 1391]\n",
            " [ 432 2783]]\n",
            " result for lstm_avg_state_concat_cosine : \n",
            "F1-score :  0.7672425520337368\n",
            "              precision    recall  f1-score   support\n",
            "\n",
            "           0       0.83      0.59      0.69      3206\n",
            "           1       0.68      0.88      0.77      3215\n",
            "\n",
            "    accuracy                           0.73      6421\n",
            "   macro avg       0.75      0.73      0.73      6421\n",
            "weighted avg       0.75      0.73      0.73      6421\n",
            "\n",
            "[[1890 1316]\n",
            " [ 395 2820]]\n",
            " result for lstm_avg_state_add : \n",
            "F1-score :  0.7492649024325048\n",
            "              precision    recall  f1-score   support\n",
            "\n",
            "           0       0.81      0.54      0.65      3206\n",
            "           1       0.66      0.87      0.75      3215\n",
            "\n",
            "    accuracy                           0.71      6421\n",
            "   macro avg       0.73      0.71      0.70      6421\n",
            "weighted avg       0.73      0.71      0.70      6421\n",
            "\n",
            "[[1742 1464]\n",
            " [ 412 2803]]\n",
            " result for lstm_avg_state_avg : \n",
            "F1-score :  0.7496526813003612\n",
            "              precision    recall  f1-score   support\n",
            "\n",
            "           0       0.79      0.60      0.68      3206\n",
            "           1       0.68      0.84      0.75      3215\n",
            "\n",
            "    accuracy                           0.72      6421\n",
            "   macro avg       0.73      0.72      0.72      6421\n",
            "weighted avg       0.73      0.72      0.72      6421\n",
            "\n",
            "[[1921 1285]\n",
            " [ 517 2698]]\n",
            " result for lstm_last_state_concat_cosine : \n",
            "F1-score :  0.7532819055352551\n",
            "              precision    recall  f1-score   support\n",
            "\n",
            "           0       0.81      0.57      0.67      3206\n",
            "           1       0.67      0.87      0.75      3215\n",
            "\n",
            "    accuracy                           0.72      6421\n",
            "   macro avg       0.74      0.72      0.71      6421\n",
            "weighted avg       0.74      0.72      0.71      6421\n",
            "\n",
            "[[1815 1391]\n",
            " [ 432 2783]]\n",
            " result for lstm_avg_state_concat_cosine : \n",
            "F1-score :  0.7672425520337368\n",
            "              precision    recall  f1-score   support\n",
            "\n",
            "           0       0.83      0.59      0.69      3206\n",
            "           1       0.68      0.88      0.77      3215\n",
            "\n",
            "    accuracy                           0.73      6421\n",
            "   macro avg       0.75      0.73      0.73      6421\n",
            "weighted avg       0.75      0.73      0.73      6421\n",
            "\n",
            "[[1890 1316]\n",
            " [ 395 2820]]\n"
          ],
          "name": "stdout"
        }
      ]
    },
    {
      "cell_type": "code",
      "metadata": {
        "colab": {
          "base_uri": "https://localhost:8080/"
        },
        "id": "_ZaCdePUmpEG",
        "outputId": "88c20b51-2284-42f3-e626-5a316b7e1058"
      },
      "source": [
        "assign_final_label(lstm_avg_state_concat_cosine,'lstm_avg_state_concat_cosine',ts_df)"
      ],
      "execution_count": 75,
      "outputs": [
        {
          "output_type": "stream",
          "text": [
            " result for lstm_avg_state_concat_cosine : \n",
            "F1-score :  0.5704458261674825\n",
            "              precision    recall  f1-score   support\n",
            "\n",
            "           0       0.49      0.33      0.40      3218\n",
            "           1       0.50      0.66      0.57      3262\n",
            "\n",
            "    accuracy                           0.50      6480\n",
            "   macro avg       0.50      0.50      0.48      6480\n",
            "weighted avg       0.50      0.50      0.49      6480\n",
            "\n",
            "[[1077 2141]\n",
            " [1106 2156]]\n"
          ],
          "name": "stdout"
        }
      ]
    },
    {
      "cell_type": "markdown",
      "metadata": {
        "id": "Ns7MaqYzlLWZ"
      },
      "source": [
        "*Claim verification evaluation:*\r\n",
        "* The best model is **lstm_avg_state_concat_cosine**\r\n",
        "\r\n",
        "||F1-score validation set| F1-score test set\r\n",
        "|--|-----------------------|------------------|\r\n",
        "|**lstm_avg_state_add**|       74.93%             |-|\r\n",
        "|**lstm_avg_state_avg**|     74.97%                 |-|\r\n",
        "|**lstm_last_state_concat**|         75.59%             |-|\r\n",
        "|**lstm_avg_state_concat**|       75.58%             |-|\r\n",
        "|**mlp_concat**|     70.98%                 |-|\r\n",
        "|**bag_of_vectors_concat**|      71.39%            |-|\r\n",
        "|**lstm_last_state_concat_cosine**|         75.33%             |-|\r\n",
        "|**lstm_avg_state_concat_cosine**|       76.72%             |57.04%|"
      ]
    },
    {
      "cell_type": "markdown",
      "metadata": {
        "id": "Nd74ULgpnJrc"
      },
      "source": [
        "# Performance evaluation\n",
        "\n",
        "Due to our simplifications, obtained results are not directly compatible with a traditional fact checking method that considers the evidence set as a whole.\n",
        "\n",
        "Thus, we need to consider two types of evaluations.\n",
        "\n",
        "**Multi-input classification evaluation**\n",
        "\n",
        "This type of evaluation is the easiest and concerns computing evaluation metrics, such as accuracy, f1-score, recall and precision, of our pre-processed dataset.\n",
        "\n",
        "In other words, we assess the performance of chosen classifiers.\n",
        "\n",
        "**Claim verification evaluation**\n",
        "\n",
        "However, if we want to give an answer concerning the claim itself, we need to consider the whole evidence set. \n",
        "\n",
        "Intuitively, for a given claim, we consider all its corresponding (claim, evidence) pairs and their corresponding classification outputs. \n",
        "\n",
        "At this point, all we need to do is to compute the final predicted claim label via majority voting.\n",
        "\n",
        "Example:\n",
        "\n",
        "    Claim: c1\n",
        "    Evidence set: e1, e2, e3\n",
        "    True label: S\n",
        "\n",
        "    Pair outputs:\n",
        "    (c1, e1) -> S (supports)\n",
        "    (c1, e2) -> S (supports)\n",
        "    (c1, e3) -> R (refutes)\n",
        "\n",
        "    Majority voting:\n",
        "    S -> 2 votes\n",
        "    R -> 1 vote\n",
        "\n",
        "    Final label:\n",
        "    c1 -> S\n",
        "\n",
        "Lastly, we have to compute classification metrics just like before."
      ]
    },
    {
      "cell_type": "markdown",
      "metadata": {
        "id": "W4LJ2yPxsUOV"
      },
      "source": [
        "# Tips and Extras"
      ]
    },
    {
      "cell_type": "markdown",
      "metadata": {
        "id": "Uf80UVRNrXve"
      },
      "source": [
        "## Extensions are welcome!\n",
        "\n",
        "Is this task too easy for you? Are you curious to try out things you have seen during lectures (e.g. attention)? Feel free to try everything you want!\n",
        "\n",
        "Don't forget to try neural baselines first!"
      ]
    },
    {
      "cell_type": "markdown",
      "metadata": {
        "id": "COXeCXdYsBEf"
      },
      "source": [
        "## Comments and documentation\n",
        "\n",
        "Remember to properly comment your code (it is not necessary to comment each single line) and don't forget to describe your work!"
      ]
    },
    {
      "cell_type": "markdown",
      "metadata": {
        "id": "Ejv6SDE8xc4_"
      },
      "source": [
        "## Organization\n",
        "\n",
        "We suggest you to divide your work into sections. This allows you to build clean and modular code, as well as easy to read and to debug.\n",
        "\n",
        "A possible schema:\n",
        "\n",
        "*   Dataset pre-processing\n",
        "*   Dataset conversion\n",
        "*   Model definition\n",
        "*   Training\n",
        "*   Evaluation\n",
        "*   Comments/Summary"
      ]
    },
    {
      "cell_type": "markdown",
      "metadata": {
        "id": "9DR70uh7pabo"
      },
      "source": [
        "# Contact\n",
        "\n",
        "For any doubt, question, issue or help, you can always contact us at the following email addresses:\n",
        "\n",
        "Teaching Assistants:\n",
        "\n",
        "* Andrea Galassi -> a.galassi@unibo.it\n",
        "* Federico Ruggeri -> federico.ruggeri6@unibo.it\n",
        "\n",
        "Professor:\n",
        "\n",
        "* Paolo Torroni -> p.torroni@unibo.it\n",
        "\n",
        "Don't forget that your feedback is very important! Your suggestions help us improving course material."
      ]
    },
    {
      "cell_type": "markdown",
      "metadata": {
        "id": "Jc0gNWU2pgKQ"
      },
      "source": [
        "# FAQ\n",
        "\n",
        "---\n",
        "\n",
        "**Q: Can I do something text pre-processing?**\n",
        "\n",
        "**A:** You have to! If you check text data, the majority of sentences need some cleaning.\n",
        "\n",
        "---\n",
        "\n",
        "**Q: I'm struggling with the implementation. Can you help me?**\n",
        "\n",
        "**A:** Yes sure! Write us an email about your issue. If you are looking for a particular type of operation, you can easily check the documentation of the deep learning framework you are using (google is your friend).\n",
        "\n",
        "---\n",
        "\n",
        "**Q: Can I try other encoding strategies or neural architectures?**\n",
        "\n",
        "**A:** Absolutely! Remember to try out recommended neural baselines first and only then proceed with your extensions.\n",
        "\n",
        "---"
      ]
    }
  ]
}